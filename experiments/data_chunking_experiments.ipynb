{
 "cells": [
  {
   "cell_type": "code",
   "execution_count": 2,
   "id": "17827c32-758b-4ddf-88c0-f9101f467381",
   "metadata": {},
   "outputs": [],
   "source": [
    "import sys\n",
    "sys.path.append(\"../\")"
   ]
  },
  {
   "cell_type": "code",
   "execution_count": 3,
   "id": "84108c24-b698-4a91-8f52-4c335498224c",
   "metadata": {},
   "outputs": [
    {
     "name": "stdout",
     "output_type": "stream",
     "text": [
      "\u001b[1;35mNote: NumExpr detected 16 cores but \"NUMEXPR_MAX_THREADS\" not set, so enforcing safe limit of 8.\u001b[0m\n",
      "\u001b[1;35mNumExpr defaulting to 8 threads.\u001b[0m\n"
     ]
    }
   ],
   "source": [
    "from utils.text_splitter import TextSplitter\n",
    "from utils.chroma_store import ChromaStore\n",
    "from chromadb.utils import embedding_functions\n",
    "from transformers import pipeline\n",
    "import pandas as pd\n",
    "import time\n",
    "import uuid\n",
    "import matplotlib.pyplot as plt\n",
    "from IPython.display import display\n",
    "\n",
    "pd.set_option('max_colwidth', 800)"
   ]
  },
  {
   "cell_type": "code",
   "execution_count": 4,
   "id": "10e8f885-2e9b-4257-bd0d-042c727ae453",
   "metadata": {},
   "outputs": [
    {
     "name": "stdout",
     "output_type": "stream",
     "text": [
      "\u001b[1;35mAnonymized telemetry enabled. See https://docs.trychroma.com/telemetry for more information.\u001b[0m\n"
     ]
    }
   ],
   "source": [
    "### Parameters\n",
    "data_version = \"data/first_version\"\n",
    "USE_FULL_DATASET = False\n",
    "DEFAULT_EMBED_INSTRUCTION = \"Represent the document for retrieval: \"\n",
    "DEFAULT_QUERY_INSTRUCTION = (\n",
    "    \"Represent the question for retrieving supporting documents: \"\n",
    ")\n",
    "\n",
    "chroma_client = ChromaStore(chroma_server_hostname=\"localhost\", chroma_server_port=8000)\n",
    "\n",
    "EMBED_MODEL = \"hkunlp/instructor-base\"\n",
    "LLM_MODEL = \"google/flan-t5-base\"\n",
    "N_RESULTS = 4\n",
    "\n",
    "QUESTIONS = [\n",
    "\"Can you tell me about depression?\",\n",
    "\"What lifestyle changes are suggested for depression?\",\n",
    "\"Are there different types of depressions?\"\n",
    "]\n",
    "\n",
    "TEMPLATE = \"Question: {question}\\n\\nContext: {context}\\n\\n\"\n",
    "\n",
    "MAX_OUTPUT_LENGTH = 200\n",
    "TEMPERATURE = 0.1"
   ]
  },
  {
   "cell_type": "code",
   "execution_count": 5,
   "id": "bc16acf4",
   "metadata": {},
   "outputs": [],
   "source": [
    "nhs_fixed_context = \"\"\"Overview - Depression in adults Depression is more than simply feeling unhappy or fed up for a few days. Most people go through periods of feeling down, but when you're depressed you feel persistently sad for weeks or months, rather than just a few days. Some people think depression is trivial and not a genuine health condition. They're wrong – it is a real illness with real symptoms. Depression is not a sign of weakness or something you can \"snap out of\" by \"pulling yourself together\". The good news is that with the right treatment and support, most people with depression can make a full recovery. These pages are about depression in adults. Read about depression in children and young people .\n",
    "\n",
    "How to tell if you have depression Depression affects people in different ways and can cause a wide variety of symptoms. They range from lasting feelings of unhappiness and hopelessness, to losing interest in the things you used to enjoy and feeling very tearful. Many people with depression also have symptoms of anxiety . There can be physical symptoms too, such as feeling constantly tired, sleeping badly, having no appetite or sex drive, and various aches and pains. The symptoms of depression range from mild to severe. At its mildest, you may simply feel persistently low in spirit, while severe depression can make you feel suicidal, that life is no longer worth living. Most people experience feelings of stress, anxiety or low mood during difficult times. A low mood may improve after a short period of time, rather than being a sign of depression.\n",
    "\n",
    "When to see a doctor It's important to seek help from a GP if you think you may be depressed. Many people wait a long time before seeking help for depression, but it's best not to delay. The sooner you see a doctor, the sooner you can be on the way to recovery.\n",
    "\n",
    "What causes depression? Sometimes there's a trigger for depression. Life-changing events, such as bereavement, losing your job or giving birth, can bring it on. People with a family history of depression are more likely to experience it themselves. But you can also become depressed for no obvious reason.\n",
    "\n",
    "Treating depression Treatment for depression can involve a combination of lifestyle changes, talking therapies and medicine. Your recommended treatment will be based on how severe your depression is. If you have mild depression, your doctor may suggest waiting to see whether it improves on its own, while monitoring your progress. This is known as \"watchful waiting\". They may also suggest lifestyle measures such as exercise and guided self-help. Talking therapies, such as cognitive behavioural therapy (CBT) , may also be used for mild depression. For moderate to severe depression, a combination of talking therapy and antidepressants is often recommended. If you have severe depression, you may be referred to a specialist mental health team for intensive specialist talking treatments and prescribed medicine.\n",
    "\n",
    "Living with depression Many people with depression benefit by making lifestyle changes, such as getting more exercise , cutting down on alcohol , giving up smoking and eating healthily . Reading a self-help book or joining a support group are also worthwhile. They can help you gain a better understanding about what causes you to feel depressed. Sharing your experiences with others in a similar situation can also be very supportive.\n",
    "\n",
    "Information: Social care and support guide If you:\n",
    "need help with day-to-day living because of illness or\n",
    "disability care for someone regularly because they're ill or disabled, or because of their age – including family members\n",
    "Our social care and support guide explains your options and where you can get support.\n",
    "\n",
    "Symptoms - Depression in adults The symptoms of depression can be complex and vary widely between people. If you're depressed, you may feel sad, hopeless and lose interest in things you used to enjoy. The symptoms persist for weeks or months and are bad enough to interfere with your work, social life and family life. There are many other symptoms of depression and you're unlikely to have all of those listed on this page.\n",
    "\n",
    "Psychological symptoms The psychological symptoms of depression include: continuous low mood or sadness feeling hopeless and helpless having low self-esteem feeling tearful feeling guilt-ridden feeling irritable and intolerant of others having no motivation or interest in things finding it difficult to make decisions not getting any enjoyment out of life feeling anxious or worried having suicidal thoughts or thoughts of harming yourself\n",
    "\n",
    "Physical symptoms The physical symptoms of depression include: moving or speaking more slowly than usual changes in appetite or weight (usually decreased, but sometimes increased) constipation unexplained aches and pains lack of energy low sex drive ( loss of libido ) disturbed sleep – for example, finding it difficult to fall asleep at night or waking up very early in the morning\n",
    "\n",
    "Social symptoms The social symptoms of depression include: avoiding contact with friends and taking part in fewer social activities neglecting your hobbies and interests having difficulties in your home, work or family life\n",
    "\n",
    "Severities of depression Depression can often come on gradually, so it can be difficult to notice something is wrong. Many people try to cope with their symptoms without realising they're unwell. It can sometimes take a friend or family member to suggest something is wrong. Doctors describe depression in adults as either less severe (mild) or more severe (moderate or severe), based on: the symptoms, including how often you get symptoms and how bad they are how long depression lasts the impact on your daily life A few people with severe depression may have symptoms of psychosis . You'll usually be asked to answer a set of questions to help doctors assess how severe your condition is.\n",
    "\n",
    "Grief and depression It can be difficult to distinguish between grief and depression. They share many of the same characteristics, but there are important differences between them. Grief is an entirely natural response to a loss, while depression is an illness. People who are grieving may have symptoms of depression, but they usually improve with time. For some people, bereavement can lead to depression. If you're grieving it's normal to have feelings of sadness. Some other symptoms of depression are rare with grief and bereavement, such as having suicidal thoughts, symptoms of psychosis and feeling hopeless or guilt-ridden.\n",
    "\n",
    "Other types of depression There are different types of depression, and some conditions where depression may be one of the symptoms. These include: postnatal depression – sometimes new mothers, fathers or partners develop depression after they have a baby; this is known as postnatal depression and it's treated in a similar way to other types of depression, with talking therapies and antidepressant medicines bipolar disorder – also known as \"manic depression\", in bipolar disorder there are spells of both depression and excessively high mood (mania); the depression symptoms are similar to depression, but the bouts of mania can include harmful behaviour, such as gambling, going on spending sprees and having unsafe sex seasonal affective disorder (SAD) – also known as \"winter depression\", SAD is a type of depression with a seasonal pattern usually related to winter premenstrual dysphoric disorder (PMDD) – a severe type of premenstrual syndrome (PMS) where you have symptoms including feelings of depression and anxiety in the weeks before your period\n",
    "\n",
    "When to seek help See a GP if you experience symptoms of depression for most of the day, every day, for more than 2 weeks. A low mood may improve after a short time.\n",
    "\"\"\"\n",
    "\n",
    "mind_fixed_context = \"\"\"Depression\n",
    "Learn about depression, its symptoms and possible causes, and how you can access treatment and support. Find tips on caring for yourself, and guidance for friends and family.\n",
    "\n",
    "What is depression?\n",
    "Depression is a mental health problem that involves having a low mood or losing interest and enjoyment in things. It can also cause a range of other changes to how you feel or behave.\n",
    "\n",
    "The symptoms you experience may vary. How intense they are, how long they last, and how much they affect your daily life can also vary.\n",
    "\n",
    "If you experience milder depression, you might have low mood but still be able to carry on with your daily life. But things may feel harder and less worthwhile.\n",
    "\n",
    "If you have more severe depression, you might find day-to-day life much more difficult. You may also experience suicidal feelings.\n",
    "\n",
    "It starts as sadness then I feel myself shutting down, becoming less capable of coping. Eventually, I just feel numb and empty.\n",
    "\n",
    "When does low mood become depression?\n",
    "We all have times when our mood is low, and we feel sad or fed up. Often these feelings happen for a reason and pass on their own.\n",
    "\n",
    "But it might be depression if the feelings become so bad that they interfere with our daily life. Or if they last for several weeks or months.\n",
    "\n",
    "Are there different types of depression?\n",
    "If you're diagnosed with depression, you might also be told that it is ‘less severe’ or ‘more severe’. This describes how your symptoms are affecting you, and what treatment you're likely to be offered. You may find that the severity of your depression changes over time.\n",
    "\n",
    "Sometimes you might hear depression being called ‘major depressive disorder’. There are some other types of depression too:\n",
    "\n",
    "Persistent depressive disorder (PDD). PDD is continuous depression that lasts for two years or more. You may also hear it called dysthymia or chronic depression.\n",
    "Seasonal affective disorder (SAD). SAD is depression that occurs at a particular time of year, or during a particular season. See our page on SAD for more information.\n",
    "Antenatal depression. This is depression that occurs while you are pregnant. It is sometimes called prenatal depression.\n",
    "Postnatal depression (PND). This is depression that occurs in the first year after having a baby. This can include affecting dads and partners.\n",
    "Premenstrual dysphoric disorder (PMDD). This is a hormone-related disorder that affects your body but also how you feel. This can involve experiencing depression. So your doctor may describe this as a mental health problem.\n",
    "\n",
    "\n",
    "Common signs and symptoms of depression\n",
    "These are some common signs of depression that you may experience:\n",
    "\n",
    "How you might feel\n",
    "Down, upset or tearful\n",
    "Restless, agitated or irritable\n",
    "Guilty, worthless and down on yourself\n",
    "Empty and numb\n",
    "Isolated and unable to relate to other people\n",
    "Finding no pleasure in life or things you usually enjoy\n",
    "Angry or frustrated over minor things\n",
    "A sense of unreality\n",
    "No self-confidence or self-esteem\n",
    "Hopeless and despairing\n",
    "Feeling tired all the time\n",
    "How you might act\n",
    "Avoiding social events and activities you usually enjoy\n",
    "Self-harming or suicidal behaviour\n",
    "Difficulty speaking, thinking clearly or making decisions\n",
    "Losing interest in sex\n",
    "Difficulty remembering or concentrating on things\n",
    "Using more tobacco, alcohol or other drugs than usual\n",
    "Difficulty sleeping, or sleeping too much\n",
    "No appetite and losing weight, or eating more than usual and gaining weight\n",
    "Physical aches and pains with no obvious physical cause\n",
    "Moving very slowly, or being restless and agitated\n",
    "It felt like I was really tired, all the time. I had no energy or emotion about anything.\n",
    "\n",
    "Anxiety\n",
    "It's very common to experience depression and anxiety together. Some symptoms of depression can also be symptoms of anxiety, for example:\n",
    "\n",
    "Feeling restless\n",
    "Finding it difficult to concentrate\n",
    "Struggling to sleep\n",
    "\n",
    "I flit between states of anxiety and depression. At times, each seems to fuel the other.\n",
    "\n",
    "Self-harm and suicidal feelings\n",
    "If you're feeling low, you might self-harm to cope with difficult feelings. Although this might make you feel better in the short term, self-harm can be very dangerous.\n",
    "\n",
    "When you're feeling really low and hopeless, you may also find yourself thinking about suicide. This could be thinking about the idea of suicide, or considering a plan to end your life. These thoughts can feel difficult to control, and can be very frightening.\n",
    "\n",
    "Psychotic symptoms\n",
    "If you experience depression, you might also experience some psychotic symptoms. These may include delusions, such as paranoia. Or they may be hallucinations, such as hearing voices.\n",
    "\n",
    "If you experience psychotic symptoms as part of depression, they're likely to be linked to your depressed thoughts and feelings. This may include experiencing delusions relating to feelings of guilt. For example, you might become convinced that you've committed a crime.\n",
    "\n",
    "These kinds of experiences can feel very real at the time. This might make it hard to understand that these experiences are also symptoms of your depression. And they can be frightening or upsetting, so it's important to seek treatment and support.\n",
    "\n",
    "You might worry that experiencing psychotic symptoms could mean you’re given a diagnosis that doesn’t feel right for you. But discussing all of your symptoms with your doctor can help you get the right support and treatment.\n",
    "\n",
    "How might depression affect my day-to-day life?\n",
    "If you have depression, you might find that it interferes with different aspects of your life. For example, it might affect your ability to work, your relationships, or managing your finances. This can add extra stress to an already difficult experience.\n",
    "\n",
    "It may also feel hard to explain your thoughts and feelings to others. You might want to cut yourself off from other people instead. This could lead to you feeling isolated and lonely.\n",
    "\n",
    "It feels like I'm stuck under a huge grey-black cloud. It's dark and isolating, smothering me at every opportunity.\n",
    "\n",
    "Can depression be a symptom of other mental health problems?\n",
    "Symptoms of depression can also be part of other mental health problems, such as:\n",
    "\n",
    "Bipolar disorder\n",
    "Borderline personality disorder (BPD) and other personality disorders\n",
    "Schizoaffective disorder\n",
    "\n",
    "If you experience low mood or suicidal thoughts, this might be the reason you first speak to your doctor about your mental health. And your doctor might offer you treatment for depression without realising that you also experience other symptoms.\n",
    "\n",
    "If you think you're experiencing other symptoms, you can talk to your doctor about this to make sure you're getting the right treatment.\n",
    "\"\"\"\n",
    "\n",
    "\n",
    "nhs_row = [\n",
    "['2576149a-d0a0-48bb-a7b4-03da36697912', \"\"\"Overview - Depression in adults Depression is more than simply feeling unhappy or fed up for a few days. Most people go through periods of feeling down, but when you're depressed you feel persistently sad for weeks or months, rather than just a few days. Some people think depression is trivial and not a genuine health condition. They're wrong – it is a real illness with real symptoms. Depression is not a sign of weakness or something you can \"snap out of\" by \"pulling yourself together\". The good news is that with the right treatment and support, most people with depression can make a full recovery. These pages are about depression in adults. Read about depression in children and young people. How to tell if you have depression Depression affects people in different ways and can cause a wide variety of symptoms. They range from lasting feelings of unhappiness and hopelessness, to losing interest in the things you used to enjoy and feeling very tearful. Many people with depression also have symptoms of anxiety . There can be physical symptoms too, such as feeling constantly tired, sleeping badly, having no appetite or sex drive, and various aches and pains. The symptoms of depression range from mild to severe. At its mildest, you may simply feel persistently low in spirit, while severe depression can make you feel suicidal, that life is no longer worth living. Most people experience feelings of stress, anxiety or low mood during difficult times. A low mood may improve after a short period of time, rather than being a sign of depression. When to see a doctor It's important to seek help from a GP if you think you may be depressed. Many people wait a long time before seeking help for depression, but it's best not to delay. The sooner you see a doctor, the sooner you can be on the way to recovery. What causes depression? Sometimes there's a trigger for depression. Life-changing events, such as bereavement, losing your job or giving birth, can bring it on. People with a family history of depression are more likely to experience it themselves. But you can also become depressed for no obvious reason. Treating depression Treatment for depression can involve a combination of lifestyle changes, talking therapies and medicine. Your recommended treatment will be based on how severe your depression is. If you have mild depression, your doctor may suggest waiting to see whether it improves on its own, while monitoring your progress. This is known as \"watchful waiting\". They may also suggest lifestyle measures such as exercise and guided self-help. Talking therapies, such as cognitive behavioural therapy (CBT) , may also be used for mild depression. For moderate to severe depression, a combination of talking therapy and antidepressants is often recommended. If you have severe depression, you may be referred to a specialist mental health team for intensive specialist talking treatments and prescribed medicine. Living with depression Many people with depression benefit by making lifestyle changes, such as getting more exercise , cutting down on alcohol , giving up smoking and eating healthily . Reading a self-help book or joining a support group are also worthwhile. They can help you gain a better understanding about what causes you to feel depressed. Sharing your experiences with others in a similar situation can also be very supportive. Information: Social care and support guide If you: need help with day-to-day living because of illness or disability care for someone regularly because they're ill or disabled, or because of their age – including family members Our social care and support guide explains your options and where you can get support.\"\"\", '2023-07-20 14:42:38.491223', 'https://www.nhs.uk/mental-health/conditions/depression-in-adults/causes/'],\n",
    "['2576149a-d0a0-48bb-a7b4-03da36697931', \"\"\"Symptoms - Depression in adults The symptoms of depression can be complex and vary widely between people. If you're depressed, you may feel sad, hopeless and lose interest in things you used to enjoy. The symptoms persist for weeks or months and are bad enough to interfere with your work, social life and family life. There are many other symptoms of depression and you're unlikely to have all of those listed on this page. Psychological symptoms The psychological symptoms of depression include: continuous low mood or sadness feeling hopeless and helpless having low self-esteem feeling tearful feeling guilt-ridden feeling irritable and intolerant of others having no motivation or interest in things finding it difficult to make decisions not getting any enjoyment out of life feeling anxious or worried having suicidal thoughts or thoughts of harming yourself. Physical symptoms The physical symptoms of depression include: moving or speaking more slowly than usual changes in appetite or weight (usually decreased, but sometimes increased) constipation unexplained aches and pains lack of energy low sex drive ( loss of libido ) disturbed sleep – for example, finding it difficult to fall asleep at night or waking up very early in the morning. Social symptoms The social symptoms of depression include: avoiding contact with friends and taking part in fewer social activities neglecting your hobbies and interests having difficulties in your home, work or family life. Severities of depression Depression can often come on gradually, so it can be difficult to notice something is wrong. Many people try to cope with their symptoms without realising they're unwell. It can sometimes take a friend or family member to suggest something is wrong. Doctors describe depression in adults as either less severe (mild) or more severe (moderate or severe), based on: the symptoms, including how often you get symptoms and how bad they are how long depression lasts the impact on your daily life A few people with severe depression may have symptoms of psychosis . You'll usually be asked to answer a set of questions to help doctors assess how severe your condition is. Grief and depression It can be difficult to distinguish between grief and depression. They share many of the same characteristics, but there are important differences between them. Grief is an entirely natural response to a loss, while depression is an illness. People who are grieving may have symptoms of depression, but they usually improve with time. For some people, bereavement can lead to depression. If you're grieving it's normal to have feelings of sadness. Some other symptoms of depression are rare with grief and bereavement, such as having suicidal thoughts, symptoms of psychosis and feeling hopeless or guilt-ridden. Other types of depression There are different types of depression, and some conditions where depression may be one of the symptoms. These include: postnatal depression – sometimes new mothers, fathers or partners develop depression after they have a baby; this is known as postnatal depression and it's treated in a similar way to other types of depression, with talking therapies and antidepressant medicines bipolar disorder – also known as \"manic depression\", in bipolar disorder there are spells of both depression and excessively high mood (mania); the depression symptoms are similar to depression, but the bouts of mania can include harmful behaviour, such as gambling, going on spending sprees and having unsafe sex seasonal affective disorder (SAD) – also known as \"winter depression\", SAD is a type of depression with a seasonal pattern usually related to winter premenstrual dysphoric disorder (PMDD) – a severe type of premenstrual syndrome (PMS) where you have symptoms including feelings of depression and anxiety in the weeks before your period. When to seek help See a GP if you experience symptoms of depression for most of the day, every day, for more than 2 weeks. A low mood may improve after a short time.\"\"\", '2023-07-20 14:42:38.491223','https://www.nhs.uk/mental-health/conditions/depression-in-adults/overview/']\n",
    "]\n",
    "\n",
    "\n",
    "mind_row = [\n",
    "['2576149a-d0a0-48bb-a7b4-03da36697900', \"\"\"Depression Learn about depression, its symptoms and possible causes, and how you can access treatment and support. Find tips on caring for yourself, and guidance for friends and family.  What is depression? Depression is a mental health problem that involves having a low mood or losing interest and enjoyment in things. It can also cause a range of other changes to how you feel or behave.  The symptoms you experience may vary. How intense they are, how long they last, and how much they affect your daily life can also vary.  If you experience milder depression, you might have low mood but still be able to carry on with your daily life. But things may feel harder and less worthwhile.  If you have more severe depression, you might find day-to-day life much more difficult. You may also experience suicidal feelings.  It starts as sadness then I feel myself shutting down, becoming less capable of coping. Eventually, I just feel numb and empty.  When does low mood become depression? We all have times when our mood is low, and we feel sad or fed up. Often these feelings happen for a reason and pass on their own.  But it might be depression if the feelings become so bad that they interfere with our daily life. Or if they last for several weeks or months.  Are there different types of depression? If you're diagnosed with depression, you might also be told that it is ‘less severe’ or ‘more severe’. This describes how your symptoms are affecting you, and what treatment you're likely to be offered. You may find that the severity of your depression changes over time.  Sometimes you might hear depression being called ‘major depressive disorder’. There are some other types of depression too:  Persistent depressive disorder (PDD). PDD is continuous depression that lasts for two years or more. You may also hear it called dysthymia or chronic depression. Seasonal affective disorder (SAD). SAD is depression that occurs at a particular time of year, or during a particular season. See our page on SAD for more information. Antenatal depression. This is depression that occurs while you are pregnant. It is sometimes called prenatal depression. Postnatal depression (PND). This is depression that occurs in the first year after having a baby. This can include affecting dads and partners. Premenstrual dysphoric disorder (PMDD). This is a hormone-related disorder that affects your body but also how you feel. This can involve experiencing depression. So your doctor may describe this as a mental health problem.\"\"\", '2023-07-21 14:42:38.491223', 'https://www.mind.org.uk/information-support/types-of-mental-health-problems/depression/about-depression/'],\n",
    "['2576149a-d0a0-48bb-a7b4-03da36697901', \"\"\"Common signs and symptoms of depression These are some common signs of depression that you may experience:  How you might feel Down, upset or tearful Restless, agitated or irritable Guilty, worthless and down on yourself Empty and numb Isolated and unable to relate to other people Finding no pleasure in life or things you usually enjoy Angry or frustrated over minor things A sense of unreality No self-confidence or self-esteem Hopeless and despairing Feeling tired all the time How you might act Avoiding social events and activities you usually enjoy Self-harming or suicidal behaviour Difficulty speaking, thinking clearly or making decisions Losing interest in sex Difficulty remembering or concentrating on things Using more tobacco, alcohol or other drugs than usual Difficulty sleeping, or sleeping too much No appetite and losing weight, or eating more than usual and gaining weight Physical aches and pains with no obvious physical cause Moving very slowly, or being restless and agitated It felt like I was really tired, all the time. I had no energy or emotion about anything. Anxiety It's very common to experience depression and anxiety together. Some symptoms of depression can also be symptoms of anxiety, for example: Feeling restless, Finding it difficult to concentrate, Struggling to sleep I flit between states of anxiety and depression. At times, each seems to fuel the other. Self-harm and suicidal feelings If you're feeling low, you might self-harm to cope with difficult feelings. Although this might make you feel better in the short term, self-harm can be very dangerous. When you're feeling really low and hopeless, you may also find yourself thinking about suicide. This could be thinking about the idea of suicide, or considering a plan to end your life. These thoughts can feel difficult to control, and can be very frightening. Psychotic symptoms If you experience depression, you might also experience some psychotic symptoms. These may include delusions, such as paranoia. Or they may be hallucinations, such as hearing voices. If you experience psychotic symptoms as part of depression, they're likely to be linked to your depressed thoughts and feelings. This may include experiencing delusions relating to feelings of guilt. For example, you might become convinced that you've committed a crime. These kinds of experiences can feel very real at the time. This might make it hard to understand that these experiences are also symptoms of your depression. And they can be frightening or upsetting, so it's important to seek treatment and support. You might worry that experiencing psychotic symptoms could mean you’re given a diagnosis that doesn’t feel right for you. But discussing all of your symptoms with your doctor can help you get the right support and treatment. How might depression affect my day-to-day life? If you have depression, you might find that it interferes with different aspects of your life. For example, it might affect your ability to work, your relationships, or managing your finances. This can add extra stress to an already difficult experience. It may also feel hard to explain your thoughts and feelings to others. You might want to cut yourself off from other people instead. This could lead to you feeling isolated and lonely. It feels like I'm stuck under a huge grey-black cloud. It's dark and isolating, smothering me at every opportunity. Can depression be a symptom of other mental health problems? Symptoms of depression can also be part of other mental health problems, such as: Bipolar disorder, Borderline personality disorder (BPD) and other personality disorders, Schizoaffective disorder. If you experience low mood or suicidal thoughts, this might be the reason you first speak to your doctor about your mental health. And your doctor might offer you treatment for depression without realising that you also experience other symptoms. If you think you're experiencing other symptoms, you can talk to your doctor about this to make sure you're getting the right treatment.\"\"\", '2023-07-20 14:42:38.491223' ,'https://www.mind.org.uk/information-support/types-of-mental-health-problems/depression/symptoms/']\n",
    "]\n"
   ]
  },
  {
   "cell_type": "code",
   "execution_count": 6,
   "id": "055730af-4c82-4c7e-881c-111a493848c4",
   "metadata": {},
   "outputs": [
    {
     "name": "stdout",
     "output_type": "stream",
     "text": [
      "Length of NHS dataset: 2\n",
      "Length of Mind dataset: 2\n"
     ]
    }
   ],
   "source": [
    "if USE_FULL_DATASET:\n",
    "    nhs_data = pd.read_csv('../data/nhs_data_validated.csv')\n",
    "    mind_data = pd.read_csv('../data/mind_data_validated.csv')\n",
    "else:\n",
    "    nhs_data =  pd.DataFrame(nhs_row, columns=['uuid', 'text_scraped', 'timestamp', 'url'])\n",
    "    mind_data =  pd.DataFrame(mind_row, columns=['uuid', 'text_scraped', 'timestamp', 'url'])\n",
    "    \n",
    "print(f\"Length of NHS dataset: {len(nhs_data)}\")\n",
    "print(f\"Length of Mind dataset: {len(mind_data)}\")"
   ]
  },
  {
   "cell_type": "code",
   "execution_count": 30,
   "id": "1f41656c-0cb6-4c49-885e-17be8fbfea70",
   "metadata": {},
   "outputs": [],
   "source": [
    "def split_using_chunking(df, chunk_size, chunk_overlap):\n",
    "    texts = df[\"text_scraped\"].values.tolist()\n",
    "    src_urls = df[\"url\"].values.tolist()\n",
    "\n",
    "    print(f\"Using chunk_size={chunk_size} and chunk_overlap={chunk_overlap}\")\n",
    "    text_splitter = TextSplitter(chunk_size=chunk_size, chunk_overlap=chunk_overlap)\n",
    "\n",
    "    chunks, metadatas = [], []\n",
    "    for text, url in zip(texts, src_urls):\n",
    "        split_chunks = text_splitter.split_text(text)\n",
    "        chunks.extend(split_chunks)\n",
    "        metadatas.extend(\n",
    "            [\n",
    "                {\"source\": url, \"data_version\": data_version}\n",
    "                for _ in range(len(split_chunks))\n",
    "            ]\n",
    "        )\n",
    "\n",
    "    uuids = [str(uuid.uuid4()) for _ in range(len(chunks))]\n",
    "    return uuids, chunks, metadatas\n",
    "\n",
    "def add_chroma(chunk_size, chunk_overlap, enable_chunking):\n",
    "    ef_embed = embedding_functions.InstructorEmbeddingFunction(model_name=EMBED_MODEL, instruction=DEFAULT_EMBED_INSTRUCTION)\n",
    "\n",
    "    start = time.perf_counter()\n",
    "    for df, collection_name in zip([nhs_data, mind_data], ['nhs_collection', 'mind_collection']):\n",
    "        print(f\"Inserting data into collection {collection_name}\")\n",
    "        print(f\"Chunking enabled = {enable_chunking}\")\n",
    "        \n",
    "        if enable_chunking:\n",
    "            uuids, chunks, metadatas = split_using_chunking(df, chunk_size, chunk_overlap)\n",
    "        \n",
    "        else:\n",
    "            uuids = df[\"uuid\"].values.tolist()\n",
    "            chunks = df[\"text_scraped\"].values.tolist()\n",
    "            src_urls = df[\"url\"].values.tolist()\n",
    "            metadatas = [{\"source\": url, \"data_version\": data_version} for url in src_urls]\n",
    "            \n",
    "        chroma_client.add_texts(\n",
    "            collection_name=collection_name,\n",
    "            texts=chunks,\n",
    "            ids=uuids,\n",
    "            metadatas=metadatas,\n",
    "            embedding_function=ef_embed,\n",
    "        )    \n",
    "    print(f\"Time taken to insert data in chroma store {time.perf_counter()-start} sec\")\n",
    "\n",
    "\n",
    "def query_chroma(collection_name, query_text):\n",
    "    ef_query = embedding_functions.InstructorEmbeddingFunction(model_name=EMBED_MODEL, instruction=DEFAULT_QUERY_INSTRUCTION)\n",
    "\n",
    "    result_dict = chroma_client.query_collection(\n",
    "        collection_name=collection_name,\n",
    "        query_texts=query_text,\n",
    "        n_results=N_RESULTS,\n",
    "        embedding_function=ef_query,\n",
    "    )\n",
    "    documents = \" \".join(result_dict[\"documents\"][0])\n",
    "    return documents\n",
    "\n",
    "\n",
    "def get_llm_prompt_response(questions, enable_chunking, is_new_experiment, fixed_context=False, chunk_size = 1000, chunk_overlap = 200):\n",
    "    \n",
    "    collection_names = chroma_client.list_collection_names()\n",
    "    # Delete any existing data from chroma store\n",
    "    if is_new_experiment:\n",
    "        print(f\"Found {len(collection_names)} collections\")\n",
    "        for collection_name in collection_names:\n",
    "            chroma_client.delete_collection(collection_name)\n",
    "        \n",
    "        add_chroma(chunk_size, chunk_overlap, enable_chunking)\n",
    "\n",
    "    collection_names = sorted(chroma_client.list_collection_names())\n",
    "\n",
    "    results = []\n",
    "    for query_text in questions:\n",
    "        responses = []\n",
    "        for collection_name in collection_names:\n",
    "            print(f\"Collection name: {collection_name}\")\n",
    "    \n",
    "            if fixed_context:\n",
    "                context = mind_fixed_context if 'mind' in collection_name else nhs_fixed_context\n",
    "                print(\"Using fixed context for LLM prompt\")\n",
    "            else:\n",
    "                context = query_chroma(collection_name, query_text)\n",
    "        \n",
    "            prompt = TEMPLATE.format(question=query_text, context=context)\n",
    "        \n",
    "            print(\"=\"*100)\n",
    "            print(\"LLM prompt\")\n",
    "            print(prompt)\n",
    "        \n",
    "            llm = pipeline(model=LLM_MODEL, task=\"text2text-generation\")\n",
    "            data = llm(prompt, max_length=MAX_OUTPUT_LENGTH, temperature=TEMPERATURE)\n",
    "            response = data[0][\"generated_text\"]\n",
    "        \n",
    "            print(\"=\"*100)\n",
    "            print(\"LLM Response\")\n",
    "            print(response)\n",
    "            print(\"=\"*100)\n",
    "\n",
    "            responses.append(response)\n",
    "        results.append(responses)\n",
    "\n",
    "    results_df = pd.DataFrame(results, columns=['mind_response', 'nhs_response'])\n",
    "    results_df['question'] = questions\n",
    "    return results_df"
   ]
  },
  {
   "cell_type": "markdown",
   "id": "45250dfd-4315-46dd-b19e-37b70967c8c2",
   "metadata": {
    "jp-MarkdownHeadingCollapsed": true
   },
   "source": [
    "## Distribution for lengths\n",
    "\n",
    "Run the following cells only if `USE_FULL_DATASET` is set to `True`."
   ]
  },
  {
   "cell_type": "markdown",
   "id": "c16ddb7b-ec29-4290-bc67-dd9c7bad3b83",
   "metadata": {
    "jp-MarkdownHeadingCollapsed": true
   },
   "source": [
    "### NHS dataset\n",
    "\n",
    "Average length of text in NHS dataset is 3751 words. Considering all texts are of the same length, we add these texts in vector store and get 4 nearest neighbours for query question. This puts length of context = 15004 words (3751 x 4)."
   ]
  },
  {
   "cell_type": "code",
   "execution_count": null,
   "id": "78287143-9da5-44f9-9a8d-f97955b41a0b",
   "metadata": {},
   "outputs": [],
   "source": [
    "nhs_data['text_scraped'].apply(len).hist(grid=False)\n",
    "plt.suptitle(\"Histogram for length distribution NHS data\")"
   ]
  },
  {
   "cell_type": "code",
   "execution_count": null,
   "id": "61c35131-f913-4a27-b24a-f66d43b9eaf8",
   "metadata": {},
   "outputs": [],
   "source": [
    "nhs_data['text_scraped'].str.len().describe()"
   ]
  },
  {
   "cell_type": "markdown",
   "id": "cb1194d9-1a9a-4f66-add1-a4b9ab000607",
   "metadata": {
    "jp-MarkdownHeadingCollapsed": true
   },
   "source": [
    "### Mind dataset\n",
    "\n",
    "Average length of text in Mind dataset is 4965 words. Considering all texts are of the same length, we add these texts in vector store and get 4 nearest neighbours for query question. This puts length of context = 19860 words (4965 x 4)."
   ]
  },
  {
   "cell_type": "code",
   "execution_count": null,
   "id": "d8628a3e-821f-4d02-bc82-bad2e559ae80",
   "metadata": {},
   "outputs": [],
   "source": [
    "mind_data['text_scraped'].apply(len).hist(grid=False)\n",
    "plt.suptitle(\"Histogram for length distribution Mind data\")"
   ]
  },
  {
   "cell_type": "code",
   "execution_count": null,
   "id": "32e6416a-4cca-4192-b791-11e8311fb2c2",
   "metadata": {},
   "outputs": [],
   "source": [
    "mind_data['text_scraped'].str.len().describe()"
   ]
  },
  {
   "cell_type": "code",
   "execution_count": null,
   "id": "08183a67-a5c0-4a0e-aef8-d6e281d47e0c",
   "metadata": {},
   "outputs": [],
   "source": []
  },
  {
   "cell_type": "markdown",
   "id": "4ef02cd5-ad59-4491-9e54-d907bc21110b",
   "metadata": {},
   "source": [
    "## Experiments\n",
    "\n",
    "> Note: This requires a local chroma store running in the background. To run a chroma store server, run the following steps\n",
    "\n",
    "```bash\n",
    "docker pull ghcr.io/chroma-core/chroma:0.4.3\n",
    "docker run -it -p 8000:8000 ghcr.io/chroma-core/chroma:0.4.3\n",
    "```\n",
    "\n",
    "This will start chroma server on localhost at port 8000."
   ]
  },
  {
   "cell_type": "markdown",
   "id": "7a082d54-2634-4ed3-a838-b34444070c61",
   "metadata": {},
   "source": [
    "### No chunking using fixed context (Baseline)\n",
    "\n",
    "Baseline results using fixed handcrafted context."
   ]
  },
  {
   "cell_type": "code",
   "execution_count": 38,
   "id": "74c43e07-0f63-434e-bd77-f1a47180aa02",
   "metadata": {},
   "outputs": [
    {
     "name": "stdout",
     "output_type": "stream",
     "text": [
      "Found 2 collections\n",
      "\u001b[1;35mLoad pretrained SentenceTransformer: hkunlp/instructor-base\u001b[0m\n",
      "load INSTRUCTOR_Transformer\n",
      "max_seq_length  512\n",
      "Inserting data into collection nhs_collection\n",
      "Chunking enabled = False\n",
      "Inserting data into collection mind_collection\n",
      "Chunking enabled = False\n",
      "Time taken to insert data in chroma store 1.7204358110029716 sec\n",
      "Collection name: mind_collection\n",
      "Using fixed context for LLM prompt\n",
      "====================================================================================================\n",
      "LLM prompt\n",
      "Question: Can you tell me about depression?\n",
      "\n",
      "Context: Depression\n",
      "Learn about depression, its symptoms and possible causes, and how you can access treatment and support. Find tips on caring for yourself, and guidance for friends and family.\n",
      "\n",
      "What is depression?\n",
      "Depression is a mental health problem that involves having a low mood or losing interest and enjoyment in things. It can also cause a range of other changes to how you feel or behave.\n",
      "\n",
      "The symptoms you experience may vary. How intense they are, how long they last, and how much they affect your daily life can also vary.\n",
      "\n",
      "If you experience milder depression, you might have low mood but still be able to carry on with your daily life. But things may feel harder and less worthwhile.\n",
      "\n",
      "If you have more severe depression, you might find day-to-day life much more difficult. You may also experience suicidal feelings.\n",
      "\n",
      "It starts as sadness then I feel myself shutting down, becoming less capable of coping. Eventually, I just feel numb and empty.\n",
      "\n",
      "When does low mood become depression?\n",
      "We all have times when our mood is low, and we feel sad or fed up. Often these feelings happen for a reason and pass on their own.\n",
      "\n",
      "But it might be depression if the feelings become so bad that they interfere with our daily life. Or if they last for several weeks or months.\n",
      "\n",
      "Are there different types of depression?\n",
      "If you're diagnosed with depression, you might also be told that it is ‘less severe’ or ‘more severe’. This describes how your symptoms are affecting you, and what treatment you're likely to be offered. You may find that the severity of your depression changes over time.\n",
      "\n",
      "Sometimes you might hear depression being called ‘major depressive disorder’. There are some other types of depression too:\n",
      "\n",
      "Persistent depressive disorder (PDD). PDD is continuous depression that lasts for two years or more. You may also hear it called dysthymia or chronic depression.\n",
      "Seasonal affective disorder (SAD). SAD is depression that occurs at a particular time of year, or during a particular season. See our page on SAD for more information.\n",
      "Antenatal depression. This is depression that occurs while you are pregnant. It is sometimes called prenatal depression.\n",
      "Postnatal depression (PND). This is depression that occurs in the first year after having a baby. This can include affecting dads and partners.\n",
      "Premenstrual dysphoric disorder (PMDD). This is a hormone-related disorder that affects your body but also how you feel. This can involve experiencing depression. So your doctor may describe this as a mental health problem.\n",
      "\n",
      "\n",
      "Common signs and symptoms of depression\n",
      "These are some common signs of depression that you may experience:\n",
      "\n",
      "How you might feel\n",
      "Down, upset or tearful\n",
      "Restless, agitated or irritable\n",
      "Guilty, worthless and down on yourself\n",
      "Empty and numb\n",
      "Isolated and unable to relate to other people\n",
      "Finding no pleasure in life or things you usually enjoy\n",
      "Angry or frustrated over minor things\n",
      "A sense of unreality\n",
      "No self-confidence or self-esteem\n",
      "Hopeless and despairing\n",
      "Feeling tired all the time\n",
      "How you might act\n",
      "Avoiding social events and activities you usually enjoy\n",
      "Self-harming or suicidal behaviour\n",
      "Difficulty speaking, thinking clearly or making decisions\n",
      "Losing interest in sex\n",
      "Difficulty remembering or concentrating on things\n",
      "Using more tobacco, alcohol or other drugs than usual\n",
      "Difficulty sleeping, or sleeping too much\n",
      "No appetite and losing weight, or eating more than usual and gaining weight\n",
      "Physical aches and pains with no obvious physical cause\n",
      "Moving very slowly, or being restless and agitated\n",
      "It felt like I was really tired, all the time. I had no energy or emotion about anything.\n",
      "\n",
      "Anxiety\n",
      "It's very common to experience depression and anxiety together. Some symptoms of depression can also be symptoms of anxiety, for example:\n",
      "\n",
      "Feeling restless\n",
      "Finding it difficult to concentrate\n",
      "Struggling to sleep\n",
      "\n",
      "I flit between states of anxiety and depression. At times, each seems to fuel the other.\n",
      "\n",
      "Self-harm and suicidal feelings\n",
      "If you're feeling low, you might self-harm to cope with difficult feelings. Although this might make you feel better in the short term, self-harm can be very dangerous.\n",
      "\n",
      "When you're feeling really low and hopeless, you may also find yourself thinking about suicide. This could be thinking about the idea of suicide, or considering a plan to end your life. These thoughts can feel difficult to control, and can be very frightening.\n",
      "\n",
      "Psychotic symptoms\n",
      "If you experience depression, you might also experience some psychotic symptoms. These may include delusions, such as paranoia. Or they may be hallucinations, such as hearing voices.\n",
      "\n",
      "If you experience psychotic symptoms as part of depression, they're likely to be linked to your depressed thoughts and feelings. This may include experiencing delusions relating to feelings of guilt. For example, you might become convinced that you've committed a crime.\n",
      "\n",
      "These kinds of experiences can feel very real at the time. This might make it hard to understand that these experiences are also symptoms of your depression. And they can be frightening or upsetting, so it's important to seek treatment and support.\n",
      "\n",
      "You might worry that experiencing psychotic symptoms could mean you’re given a diagnosis that doesn’t feel right for you. But discussing all of your symptoms with your doctor can help you get the right support and treatment.\n",
      "\n",
      "How might depression affect my day-to-day life?\n",
      "If you have depression, you might find that it interferes with different aspects of your life. For example, it might affect your ability to work, your relationships, or managing your finances. This can add extra stress to an already difficult experience.\n",
      "\n",
      "It may also feel hard to explain your thoughts and feelings to others. You might want to cut yourself off from other people instead. This could lead to you feeling isolated and lonely.\n",
      "\n",
      "It feels like I'm stuck under a huge grey-black cloud. It's dark and isolating, smothering me at every opportunity.\n",
      "\n",
      "Can depression be a symptom of other mental health problems?\n",
      "Symptoms of depression can also be part of other mental health problems, such as:\n",
      "\n",
      "Bipolar disorder\n",
      "Borderline personality disorder (BPD) and other personality disorders\n",
      "Schizoaffective disorder\n",
      "\n",
      "If you experience low mood or suicidal thoughts, this might be the reason you first speak to your doctor about your mental health. And your doctor might offer you treatment for depression without realising that you also experience other symptoms.\n",
      "\n",
      "If you think you're experiencing other symptoms, you can talk to your doctor about this to make sure you're getting the right treatment.\n",
      "\n",
      "\n",
      "\n"
     ]
    },
    {
     "name": "stderr",
     "output_type": "stream",
     "text": [
      "Token indices sequence length is longer than the specified maximum sequence length for this model (1427 > 512). Running this sequence through the model will result in indexing errors\n"
     ]
    },
    {
     "name": "stdout",
     "output_type": "stream",
     "text": [
      "====================================================================================================\n",
      "LLM Response\n",
      "It's a mental health problem that involves having a low mood or losing interest and enjoyment in things.\n",
      "====================================================================================================\n",
      "Collection name: nhs_collection\n",
      "Using fixed context for LLM prompt\n",
      "====================================================================================================\n",
      "LLM prompt\n",
      "Question: Can you tell me about depression?\n",
      "\n",
      "Context: Overview - Depression in adults Depression is more than simply feeling unhappy or fed up for a few days. Most people go through periods of feeling down, but when you're depressed you feel persistently sad for weeks or months, rather than just a few days. Some people think depression is trivial and not a genuine health condition. They're wrong – it is a real illness with real symptoms. Depression is not a sign of weakness or something you can \"snap out of\" by \"pulling yourself together\". The good news is that with the right treatment and support, most people with depression can make a full recovery. These pages are about depression in adults. Read about depression in children and young people .\n",
      "\n",
      "How to tell if you have depression Depression affects people in different ways and can cause a wide variety of symptoms. They range from lasting feelings of unhappiness and hopelessness, to losing interest in the things you used to enjoy and feeling very tearful. Many people with depression also have symptoms of anxiety . There can be physical symptoms too, such as feeling constantly tired, sleeping badly, having no appetite or sex drive, and various aches and pains. The symptoms of depression range from mild to severe. At its mildest, you may simply feel persistently low in spirit, while severe depression can make you feel suicidal, that life is no longer worth living. Most people experience feelings of stress, anxiety or low mood during difficult times. A low mood may improve after a short period of time, rather than being a sign of depression.\n",
      "\n",
      "When to see a doctor It's important to seek help from a GP if you think you may be depressed. Many people wait a long time before seeking help for depression, but it's best not to delay. The sooner you see a doctor, the sooner you can be on the way to recovery.\n",
      "\n",
      "What causes depression? Sometimes there's a trigger for depression. Life-changing events, such as bereavement, losing your job or giving birth, can bring it on. People with a family history of depression are more likely to experience it themselves. But you can also become depressed for no obvious reason.\n",
      "\n",
      "Treating depression Treatment for depression can involve a combination of lifestyle changes, talking therapies and medicine. Your recommended treatment will be based on how severe your depression is. If you have mild depression, your doctor may suggest waiting to see whether it improves on its own, while monitoring your progress. This is known as \"watchful waiting\". They may also suggest lifestyle measures such as exercise and guided self-help. Talking therapies, such as cognitive behavioural therapy (CBT) , may also be used for mild depression. For moderate to severe depression, a combination of talking therapy and antidepressants is often recommended. If you have severe depression, you may be referred to a specialist mental health team for intensive specialist talking treatments and prescribed medicine.\n",
      "\n",
      "Living with depression Many people with depression benefit by making lifestyle changes, such as getting more exercise , cutting down on alcohol , giving up smoking and eating healthily . Reading a self-help book or joining a support group are also worthwhile. They can help you gain a better understanding about what causes you to feel depressed. Sharing your experiences with others in a similar situation can also be very supportive.\n",
      "\n",
      "Information: Social care and support guide If you:\n",
      "need help with day-to-day living because of illness or\n",
      "disability care for someone regularly because they're ill or disabled, or because of their age – including family members\n",
      "Our social care and support guide explains your options and where you can get support.\n",
      "\n",
      "Symptoms - Depression in adults The symptoms of depression can be complex and vary widely between people. If you're depressed, you may feel sad, hopeless and lose interest in things you used to enjoy. The symptoms persist for weeks or months and are bad enough to interfere with your work, social life and family life. There are many other symptoms of depression and you're unlikely to have all of those listed on this page.\n",
      "\n",
      "Psychological symptoms The psychological symptoms of depression include: continuous low mood or sadness feeling hopeless and helpless having low self-esteem feeling tearful feeling guilt-ridden feeling irritable and intolerant of others having no motivation or interest in things finding it difficult to make decisions not getting any enjoyment out of life feeling anxious or worried having suicidal thoughts or thoughts of harming yourself\n",
      "\n",
      "Physical symptoms The physical symptoms of depression include: moving or speaking more slowly than usual changes in appetite or weight (usually decreased, but sometimes increased) constipation unexplained aches and pains lack of energy low sex drive ( loss of libido ) disturbed sleep – for example, finding it difficult to fall asleep at night or waking up very early in the morning\n",
      "\n",
      "Social symptoms The social symptoms of depression include: avoiding contact with friends and taking part in fewer social activities neglecting your hobbies and interests having difficulties in your home, work or family life\n",
      "\n",
      "Severities of depression Depression can often come on gradually, so it can be difficult to notice something is wrong. Many people try to cope with their symptoms without realising they're unwell. It can sometimes take a friend or family member to suggest something is wrong. Doctors describe depression in adults as either less severe (mild) or more severe (moderate or severe), based on: the symptoms, including how often you get symptoms and how bad they are how long depression lasts the impact on your daily life A few people with severe depression may have symptoms of psychosis . You'll usually be asked to answer a set of questions to help doctors assess how severe your condition is.\n",
      "\n",
      "Grief and depression It can be difficult to distinguish between grief and depression. They share many of the same characteristics, but there are important differences between them. Grief is an entirely natural response to a loss, while depression is an illness. People who are grieving may have symptoms of depression, but they usually improve with time. For some people, bereavement can lead to depression. If you're grieving it's normal to have feelings of sadness. Some other symptoms of depression are rare with grief and bereavement, such as having suicidal thoughts, symptoms of psychosis and feeling hopeless or guilt-ridden.\n",
      "\n",
      "Other types of depression There are different types of depression, and some conditions where depression may be one of the symptoms. These include: postnatal depression – sometimes new mothers, fathers or partners develop depression after they have a baby; this is known as postnatal depression and it's treated in a similar way to other types of depression, with talking therapies and antidepressant medicines bipolar disorder – also known as \"manic depression\", in bipolar disorder there are spells of both depression and excessively high mood (mania); the depression symptoms are similar to depression, but the bouts of mania can include harmful behaviour, such as gambling, going on spending sprees and having unsafe sex seasonal affective disorder (SAD) – also known as \"winter depression\", SAD is a type of depression with a seasonal pattern usually related to winter premenstrual dysphoric disorder (PMDD) – a severe type of premenstrual syndrome (PMS) where you have symptoms including feelings of depression and anxiety in the weeks before your period\n",
      "\n",
      "When to seek help See a GP if you experience symptoms of depression for most of the day, every day, for more than 2 weeks. A low mood may improve after a short time.\n",
      "\n",
      "\n",
      "\n"
     ]
    },
    {
     "name": "stderr",
     "output_type": "stream",
     "text": [
      "Token indices sequence length is longer than the specified maximum sequence length for this model (1631 > 512). Running this sequence through the model will result in indexing errors\n"
     ]
    },
    {
     "name": "stdout",
     "output_type": "stream",
     "text": [
      "====================================================================================================\n",
      "LLM Response\n",
      "Depression is more than simply feeling unhappy or fed up for a few days. Most people go through periods of feeling down, but when you're depressed you feel persistently sad for weeks or months, rather than just a few days.\n",
      "====================================================================================================\n",
      "Collection name: mind_collection\n",
      "Using fixed context for LLM prompt\n",
      "====================================================================================================\n",
      "LLM prompt\n",
      "Question: What lifestyle changes are suggested for depression?\n",
      "\n",
      "Context: Depression\n",
      "Learn about depression, its symptoms and possible causes, and how you can access treatment and support. Find tips on caring for yourself, and guidance for friends and family.\n",
      "\n",
      "What is depression?\n",
      "Depression is a mental health problem that involves having a low mood or losing interest and enjoyment in things. It can also cause a range of other changes to how you feel or behave.\n",
      "\n",
      "The symptoms you experience may vary. How intense they are, how long they last, and how much they affect your daily life can also vary.\n",
      "\n",
      "If you experience milder depression, you might have low mood but still be able to carry on with your daily life. But things may feel harder and less worthwhile.\n",
      "\n",
      "If you have more severe depression, you might find day-to-day life much more difficult. You may also experience suicidal feelings.\n",
      "\n",
      "It starts as sadness then I feel myself shutting down, becoming less capable of coping. Eventually, I just feel numb and empty.\n",
      "\n",
      "When does low mood become depression?\n",
      "We all have times when our mood is low, and we feel sad or fed up. Often these feelings happen for a reason and pass on their own.\n",
      "\n",
      "But it might be depression if the feelings become so bad that they interfere with our daily life. Or if they last for several weeks or months.\n",
      "\n",
      "Are there different types of depression?\n",
      "If you're diagnosed with depression, you might also be told that it is ‘less severe’ or ‘more severe’. This describes how your symptoms are affecting you, and what treatment you're likely to be offered. You may find that the severity of your depression changes over time.\n",
      "\n",
      "Sometimes you might hear depression being called ‘major depressive disorder’. There are some other types of depression too:\n",
      "\n",
      "Persistent depressive disorder (PDD). PDD is continuous depression that lasts for two years or more. You may also hear it called dysthymia or chronic depression.\n",
      "Seasonal affective disorder (SAD). SAD is depression that occurs at a particular time of year, or during a particular season. See our page on SAD for more information.\n",
      "Antenatal depression. This is depression that occurs while you are pregnant. It is sometimes called prenatal depression.\n",
      "Postnatal depression (PND). This is depression that occurs in the first year after having a baby. This can include affecting dads and partners.\n",
      "Premenstrual dysphoric disorder (PMDD). This is a hormone-related disorder that affects your body but also how you feel. This can involve experiencing depression. So your doctor may describe this as a mental health problem.\n",
      "\n",
      "\n",
      "Common signs and symptoms of depression\n",
      "These are some common signs of depression that you may experience:\n",
      "\n",
      "How you might feel\n",
      "Down, upset or tearful\n",
      "Restless, agitated or irritable\n",
      "Guilty, worthless and down on yourself\n",
      "Empty and numb\n",
      "Isolated and unable to relate to other people\n",
      "Finding no pleasure in life or things you usually enjoy\n",
      "Angry or frustrated over minor things\n",
      "A sense of unreality\n",
      "No self-confidence or self-esteem\n",
      "Hopeless and despairing\n",
      "Feeling tired all the time\n",
      "How you might act\n",
      "Avoiding social events and activities you usually enjoy\n",
      "Self-harming or suicidal behaviour\n",
      "Difficulty speaking, thinking clearly or making decisions\n",
      "Losing interest in sex\n",
      "Difficulty remembering or concentrating on things\n",
      "Using more tobacco, alcohol or other drugs than usual\n",
      "Difficulty sleeping, or sleeping too much\n",
      "No appetite and losing weight, or eating more than usual and gaining weight\n",
      "Physical aches and pains with no obvious physical cause\n",
      "Moving very slowly, or being restless and agitated\n",
      "It felt like I was really tired, all the time. I had no energy or emotion about anything.\n",
      "\n",
      "Anxiety\n",
      "It's very common to experience depression and anxiety together. Some symptoms of depression can also be symptoms of anxiety, for example:\n",
      "\n",
      "Feeling restless\n",
      "Finding it difficult to concentrate\n",
      "Struggling to sleep\n",
      "\n",
      "I flit between states of anxiety and depression. At times, each seems to fuel the other.\n",
      "\n",
      "Self-harm and suicidal feelings\n",
      "If you're feeling low, you might self-harm to cope with difficult feelings. Although this might make you feel better in the short term, self-harm can be very dangerous.\n",
      "\n",
      "When you're feeling really low and hopeless, you may also find yourself thinking about suicide. This could be thinking about the idea of suicide, or considering a plan to end your life. These thoughts can feel difficult to control, and can be very frightening.\n",
      "\n",
      "Psychotic symptoms\n",
      "If you experience depression, you might also experience some psychotic symptoms. These may include delusions, such as paranoia. Or they may be hallucinations, such as hearing voices.\n",
      "\n",
      "If you experience psychotic symptoms as part of depression, they're likely to be linked to your depressed thoughts and feelings. This may include experiencing delusions relating to feelings of guilt. For example, you might become convinced that you've committed a crime.\n",
      "\n",
      "These kinds of experiences can feel very real at the time. This might make it hard to understand that these experiences are also symptoms of your depression. And they can be frightening or upsetting, so it's important to seek treatment and support.\n",
      "\n",
      "You might worry that experiencing psychotic symptoms could mean you’re given a diagnosis that doesn’t feel right for you. But discussing all of your symptoms with your doctor can help you get the right support and treatment.\n",
      "\n",
      "How might depression affect my day-to-day life?\n",
      "If you have depression, you might find that it interferes with different aspects of your life. For example, it might affect your ability to work, your relationships, or managing your finances. This can add extra stress to an already difficult experience.\n",
      "\n",
      "It may also feel hard to explain your thoughts and feelings to others. You might want to cut yourself off from other people instead. This could lead to you feeling isolated and lonely.\n",
      "\n",
      "It feels like I'm stuck under a huge grey-black cloud. It's dark and isolating, smothering me at every opportunity.\n",
      "\n",
      "Can depression be a symptom of other mental health problems?\n",
      "Symptoms of depression can also be part of other mental health problems, such as:\n",
      "\n",
      "Bipolar disorder\n",
      "Borderline personality disorder (BPD) and other personality disorders\n",
      "Schizoaffective disorder\n",
      "\n",
      "If you experience low mood or suicidal thoughts, this might be the reason you first speak to your doctor about your mental health. And your doctor might offer you treatment for depression without realising that you also experience other symptoms.\n",
      "\n",
      "If you think you're experiencing other symptoms, you can talk to your doctor about this to make sure you're getting the right treatment.\n",
      "\n",
      "\n",
      "\n"
     ]
    },
    {
     "name": "stderr",
     "output_type": "stream",
     "text": [
      "Token indices sequence length is longer than the specified maximum sequence length for this model (1428 > 512). Running this sequence through the model will result in indexing errors\n"
     ]
    },
    {
     "name": "stdout",
     "output_type": "stream",
     "text": [
      "====================================================================================================\n",
      "LLM Response\n",
      "Reduce your tobacco use and alcohol intake\n",
      "====================================================================================================\n",
      "Collection name: nhs_collection\n",
      "Using fixed context for LLM prompt\n",
      "====================================================================================================\n",
      "LLM prompt\n",
      "Question: What lifestyle changes are suggested for depression?\n",
      "\n",
      "Context: Overview - Depression in adults Depression is more than simply feeling unhappy or fed up for a few days. Most people go through periods of feeling down, but when you're depressed you feel persistently sad for weeks or months, rather than just a few days. Some people think depression is trivial and not a genuine health condition. They're wrong – it is a real illness with real symptoms. Depression is not a sign of weakness or something you can \"snap out of\" by \"pulling yourself together\". The good news is that with the right treatment and support, most people with depression can make a full recovery. These pages are about depression in adults. Read about depression in children and young people .\n",
      "\n",
      "How to tell if you have depression Depression affects people in different ways and can cause a wide variety of symptoms. They range from lasting feelings of unhappiness and hopelessness, to losing interest in the things you used to enjoy and feeling very tearful. Many people with depression also have symptoms of anxiety . There can be physical symptoms too, such as feeling constantly tired, sleeping badly, having no appetite or sex drive, and various aches and pains. The symptoms of depression range from mild to severe. At its mildest, you may simply feel persistently low in spirit, while severe depression can make you feel suicidal, that life is no longer worth living. Most people experience feelings of stress, anxiety or low mood during difficult times. A low mood may improve after a short period of time, rather than being a sign of depression.\n",
      "\n",
      "When to see a doctor It's important to seek help from a GP if you think you may be depressed. Many people wait a long time before seeking help for depression, but it's best not to delay. The sooner you see a doctor, the sooner you can be on the way to recovery.\n",
      "\n",
      "What causes depression? Sometimes there's a trigger for depression. Life-changing events, such as bereavement, losing your job or giving birth, can bring it on. People with a family history of depression are more likely to experience it themselves. But you can also become depressed for no obvious reason.\n",
      "\n",
      "Treating depression Treatment for depression can involve a combination of lifestyle changes, talking therapies and medicine. Your recommended treatment will be based on how severe your depression is. If you have mild depression, your doctor may suggest waiting to see whether it improves on its own, while monitoring your progress. This is known as \"watchful waiting\". They may also suggest lifestyle measures such as exercise and guided self-help. Talking therapies, such as cognitive behavioural therapy (CBT) , may also be used for mild depression. For moderate to severe depression, a combination of talking therapy and antidepressants is often recommended. If you have severe depression, you may be referred to a specialist mental health team for intensive specialist talking treatments and prescribed medicine.\n",
      "\n",
      "Living with depression Many people with depression benefit by making lifestyle changes, such as getting more exercise , cutting down on alcohol , giving up smoking and eating healthily . Reading a self-help book or joining a support group are also worthwhile. They can help you gain a better understanding about what causes you to feel depressed. Sharing your experiences with others in a similar situation can also be very supportive.\n",
      "\n",
      "Information: Social care and support guide If you:\n",
      "need help with day-to-day living because of illness or\n",
      "disability care for someone regularly because they're ill or disabled, or because of their age – including family members\n",
      "Our social care and support guide explains your options and where you can get support.\n",
      "\n",
      "Symptoms - Depression in adults The symptoms of depression can be complex and vary widely between people. If you're depressed, you may feel sad, hopeless and lose interest in things you used to enjoy. The symptoms persist for weeks or months and are bad enough to interfere with your work, social life and family life. There are many other symptoms of depression and you're unlikely to have all of those listed on this page.\n",
      "\n",
      "Psychological symptoms The psychological symptoms of depression include: continuous low mood or sadness feeling hopeless and helpless having low self-esteem feeling tearful feeling guilt-ridden feeling irritable and intolerant of others having no motivation or interest in things finding it difficult to make decisions not getting any enjoyment out of life feeling anxious or worried having suicidal thoughts or thoughts of harming yourself\n",
      "\n",
      "Physical symptoms The physical symptoms of depression include: moving or speaking more slowly than usual changes in appetite or weight (usually decreased, but sometimes increased) constipation unexplained aches and pains lack of energy low sex drive ( loss of libido ) disturbed sleep – for example, finding it difficult to fall asleep at night or waking up very early in the morning\n",
      "\n",
      "Social symptoms The social symptoms of depression include: avoiding contact with friends and taking part in fewer social activities neglecting your hobbies and interests having difficulties in your home, work or family life\n",
      "\n",
      "Severities of depression Depression can often come on gradually, so it can be difficult to notice something is wrong. Many people try to cope with their symptoms without realising they're unwell. It can sometimes take a friend or family member to suggest something is wrong. Doctors describe depression in adults as either less severe (mild) or more severe (moderate or severe), based on: the symptoms, including how often you get symptoms and how bad they are how long depression lasts the impact on your daily life A few people with severe depression may have symptoms of psychosis . You'll usually be asked to answer a set of questions to help doctors assess how severe your condition is.\n",
      "\n",
      "Grief and depression It can be difficult to distinguish between grief and depression. They share many of the same characteristics, but there are important differences between them. Grief is an entirely natural response to a loss, while depression is an illness. People who are grieving may have symptoms of depression, but they usually improve with time. For some people, bereavement can lead to depression. If you're grieving it's normal to have feelings of sadness. Some other symptoms of depression are rare with grief and bereavement, such as having suicidal thoughts, symptoms of psychosis and feeling hopeless or guilt-ridden.\n",
      "\n",
      "Other types of depression There are different types of depression, and some conditions where depression may be one of the symptoms. These include: postnatal depression – sometimes new mothers, fathers or partners develop depression after they have a baby; this is known as postnatal depression and it's treated in a similar way to other types of depression, with talking therapies and antidepressant medicines bipolar disorder – also known as \"manic depression\", in bipolar disorder there are spells of both depression and excessively high mood (mania); the depression symptoms are similar to depression, but the bouts of mania can include harmful behaviour, such as gambling, going on spending sprees and having unsafe sex seasonal affective disorder (SAD) – also known as \"winter depression\", SAD is a type of depression with a seasonal pattern usually related to winter premenstrual dysphoric disorder (PMDD) – a severe type of premenstrual syndrome (PMS) where you have symptoms including feelings of depression and anxiety in the weeks before your period\n",
      "\n",
      "When to seek help See a GP if you experience symptoms of depression for most of the day, every day, for more than 2 weeks. A low mood may improve after a short time.\n",
      "\n",
      "\n",
      "\n"
     ]
    },
    {
     "name": "stderr",
     "output_type": "stream",
     "text": [
      "Token indices sequence length is longer than the specified maximum sequence length for this model (1632 > 512). Running this sequence through the model will result in indexing errors\n"
     ]
    },
    {
     "name": "stdout",
     "output_type": "stream",
     "text": [
      "====================================================================================================\n",
      "LLM Response\n",
      "getting more exercise and cutting down on alcohol\n",
      "====================================================================================================\n",
      "Collection name: mind_collection\n",
      "Using fixed context for LLM prompt\n",
      "====================================================================================================\n",
      "LLM prompt\n",
      "Question: Are there different types of depressions?\n",
      "\n",
      "Context: Depression\n",
      "Learn about depression, its symptoms and possible causes, and how you can access treatment and support. Find tips on caring for yourself, and guidance for friends and family.\n",
      "\n",
      "What is depression?\n",
      "Depression is a mental health problem that involves having a low mood or losing interest and enjoyment in things. It can also cause a range of other changes to how you feel or behave.\n",
      "\n",
      "The symptoms you experience may vary. How intense they are, how long they last, and how much they affect your daily life can also vary.\n",
      "\n",
      "If you experience milder depression, you might have low mood but still be able to carry on with your daily life. But things may feel harder and less worthwhile.\n",
      "\n",
      "If you have more severe depression, you might find day-to-day life much more difficult. You may also experience suicidal feelings.\n",
      "\n",
      "It starts as sadness then I feel myself shutting down, becoming less capable of coping. Eventually, I just feel numb and empty.\n",
      "\n",
      "When does low mood become depression?\n",
      "We all have times when our mood is low, and we feel sad or fed up. Often these feelings happen for a reason and pass on their own.\n",
      "\n",
      "But it might be depression if the feelings become so bad that they interfere with our daily life. Or if they last for several weeks or months.\n",
      "\n",
      "Are there different types of depression?\n",
      "If you're diagnosed with depression, you might also be told that it is ‘less severe’ or ‘more severe’. This describes how your symptoms are affecting you, and what treatment you're likely to be offered. You may find that the severity of your depression changes over time.\n",
      "\n",
      "Sometimes you might hear depression being called ‘major depressive disorder’. There are some other types of depression too:\n",
      "\n",
      "Persistent depressive disorder (PDD). PDD is continuous depression that lasts for two years or more. You may also hear it called dysthymia or chronic depression.\n",
      "Seasonal affective disorder (SAD). SAD is depression that occurs at a particular time of year, or during a particular season. See our page on SAD for more information.\n",
      "Antenatal depression. This is depression that occurs while you are pregnant. It is sometimes called prenatal depression.\n",
      "Postnatal depression (PND). This is depression that occurs in the first year after having a baby. This can include affecting dads and partners.\n",
      "Premenstrual dysphoric disorder (PMDD). This is a hormone-related disorder that affects your body but also how you feel. This can involve experiencing depression. So your doctor may describe this as a mental health problem.\n",
      "\n",
      "\n",
      "Common signs and symptoms of depression\n",
      "These are some common signs of depression that you may experience:\n",
      "\n",
      "How you might feel\n",
      "Down, upset or tearful\n",
      "Restless, agitated or irritable\n",
      "Guilty, worthless and down on yourself\n",
      "Empty and numb\n",
      "Isolated and unable to relate to other people\n",
      "Finding no pleasure in life or things you usually enjoy\n",
      "Angry or frustrated over minor things\n",
      "A sense of unreality\n",
      "No self-confidence or self-esteem\n",
      "Hopeless and despairing\n",
      "Feeling tired all the time\n",
      "How you might act\n",
      "Avoiding social events and activities you usually enjoy\n",
      "Self-harming or suicidal behaviour\n",
      "Difficulty speaking, thinking clearly or making decisions\n",
      "Losing interest in sex\n",
      "Difficulty remembering or concentrating on things\n",
      "Using more tobacco, alcohol or other drugs than usual\n",
      "Difficulty sleeping, or sleeping too much\n",
      "No appetite and losing weight, or eating more than usual and gaining weight\n",
      "Physical aches and pains with no obvious physical cause\n",
      "Moving very slowly, or being restless and agitated\n",
      "It felt like I was really tired, all the time. I had no energy or emotion about anything.\n",
      "\n",
      "Anxiety\n",
      "It's very common to experience depression and anxiety together. Some symptoms of depression can also be symptoms of anxiety, for example:\n",
      "\n",
      "Feeling restless\n",
      "Finding it difficult to concentrate\n",
      "Struggling to sleep\n",
      "\n",
      "I flit between states of anxiety and depression. At times, each seems to fuel the other.\n",
      "\n",
      "Self-harm and suicidal feelings\n",
      "If you're feeling low, you might self-harm to cope with difficult feelings. Although this might make you feel better in the short term, self-harm can be very dangerous.\n",
      "\n",
      "When you're feeling really low and hopeless, you may also find yourself thinking about suicide. This could be thinking about the idea of suicide, or considering a plan to end your life. These thoughts can feel difficult to control, and can be very frightening.\n",
      "\n",
      "Psychotic symptoms\n",
      "If you experience depression, you might also experience some psychotic symptoms. These may include delusions, such as paranoia. Or they may be hallucinations, such as hearing voices.\n",
      "\n",
      "If you experience psychotic symptoms as part of depression, they're likely to be linked to your depressed thoughts and feelings. This may include experiencing delusions relating to feelings of guilt. For example, you might become convinced that you've committed a crime.\n",
      "\n",
      "These kinds of experiences can feel very real at the time. This might make it hard to understand that these experiences are also symptoms of your depression. And they can be frightening or upsetting, so it's important to seek treatment and support.\n",
      "\n",
      "You might worry that experiencing psychotic symptoms could mean you’re given a diagnosis that doesn’t feel right for you. But discussing all of your symptoms with your doctor can help you get the right support and treatment.\n",
      "\n",
      "How might depression affect my day-to-day life?\n",
      "If you have depression, you might find that it interferes with different aspects of your life. For example, it might affect your ability to work, your relationships, or managing your finances. This can add extra stress to an already difficult experience.\n",
      "\n",
      "It may also feel hard to explain your thoughts and feelings to others. You might want to cut yourself off from other people instead. This could lead to you feeling isolated and lonely.\n",
      "\n",
      "It feels like I'm stuck under a huge grey-black cloud. It's dark and isolating, smothering me at every opportunity.\n",
      "\n",
      "Can depression be a symptom of other mental health problems?\n",
      "Symptoms of depression can also be part of other mental health problems, such as:\n",
      "\n",
      "Bipolar disorder\n",
      "Borderline personality disorder (BPD) and other personality disorders\n",
      "Schizoaffective disorder\n",
      "\n",
      "If you experience low mood or suicidal thoughts, this might be the reason you first speak to your doctor about your mental health. And your doctor might offer you treatment for depression without realising that you also experience other symptoms.\n",
      "\n",
      "If you think you're experiencing other symptoms, you can talk to your doctor about this to make sure you're getting the right treatment.\n",
      "\n",
      "\n",
      "\n"
     ]
    },
    {
     "name": "stderr",
     "output_type": "stream",
     "text": [
      "Token indices sequence length is longer than the specified maximum sequence length for this model (1428 > 512). Running this sequence through the model will result in indexing errors\n"
     ]
    },
    {
     "name": "stdout",
     "output_type": "stream",
     "text": [
      "====================================================================================================\n",
      "LLM Response\n",
      "There are some other types of depression too.\n",
      "====================================================================================================\n",
      "Collection name: nhs_collection\n",
      "Using fixed context for LLM prompt\n",
      "====================================================================================================\n",
      "LLM prompt\n",
      "Question: Are there different types of depressions?\n",
      "\n",
      "Context: Overview - Depression in adults Depression is more than simply feeling unhappy or fed up for a few days. Most people go through periods of feeling down, but when you're depressed you feel persistently sad for weeks or months, rather than just a few days. Some people think depression is trivial and not a genuine health condition. They're wrong – it is a real illness with real symptoms. Depression is not a sign of weakness or something you can \"snap out of\" by \"pulling yourself together\". The good news is that with the right treatment and support, most people with depression can make a full recovery. These pages are about depression in adults. Read about depression in children and young people .\n",
      "\n",
      "How to tell if you have depression Depression affects people in different ways and can cause a wide variety of symptoms. They range from lasting feelings of unhappiness and hopelessness, to losing interest in the things you used to enjoy and feeling very tearful. Many people with depression also have symptoms of anxiety . There can be physical symptoms too, such as feeling constantly tired, sleeping badly, having no appetite or sex drive, and various aches and pains. The symptoms of depression range from mild to severe. At its mildest, you may simply feel persistently low in spirit, while severe depression can make you feel suicidal, that life is no longer worth living. Most people experience feelings of stress, anxiety or low mood during difficult times. A low mood may improve after a short period of time, rather than being a sign of depression.\n",
      "\n",
      "When to see a doctor It's important to seek help from a GP if you think you may be depressed. Many people wait a long time before seeking help for depression, but it's best not to delay. The sooner you see a doctor, the sooner you can be on the way to recovery.\n",
      "\n",
      "What causes depression? Sometimes there's a trigger for depression. Life-changing events, such as bereavement, losing your job or giving birth, can bring it on. People with a family history of depression are more likely to experience it themselves. But you can also become depressed for no obvious reason.\n",
      "\n",
      "Treating depression Treatment for depression can involve a combination of lifestyle changes, talking therapies and medicine. Your recommended treatment will be based on how severe your depression is. If you have mild depression, your doctor may suggest waiting to see whether it improves on its own, while monitoring your progress. This is known as \"watchful waiting\". They may also suggest lifestyle measures such as exercise and guided self-help. Talking therapies, such as cognitive behavioural therapy (CBT) , may also be used for mild depression. For moderate to severe depression, a combination of talking therapy and antidepressants is often recommended. If you have severe depression, you may be referred to a specialist mental health team for intensive specialist talking treatments and prescribed medicine.\n",
      "\n",
      "Living with depression Many people with depression benefit by making lifestyle changes, such as getting more exercise , cutting down on alcohol , giving up smoking and eating healthily . Reading a self-help book or joining a support group are also worthwhile. They can help you gain a better understanding about what causes you to feel depressed. Sharing your experiences with others in a similar situation can also be very supportive.\n",
      "\n",
      "Information: Social care and support guide If you:\n",
      "need help with day-to-day living because of illness or\n",
      "disability care for someone regularly because they're ill or disabled, or because of their age – including family members\n",
      "Our social care and support guide explains your options and where you can get support.\n",
      "\n",
      "Symptoms - Depression in adults The symptoms of depression can be complex and vary widely between people. If you're depressed, you may feel sad, hopeless and lose interest in things you used to enjoy. The symptoms persist for weeks or months and are bad enough to interfere with your work, social life and family life. There are many other symptoms of depression and you're unlikely to have all of those listed on this page.\n",
      "\n",
      "Psychological symptoms The psychological symptoms of depression include: continuous low mood or sadness feeling hopeless and helpless having low self-esteem feeling tearful feeling guilt-ridden feeling irritable and intolerant of others having no motivation or interest in things finding it difficult to make decisions not getting any enjoyment out of life feeling anxious or worried having suicidal thoughts or thoughts of harming yourself\n",
      "\n",
      "Physical symptoms The physical symptoms of depression include: moving or speaking more slowly than usual changes in appetite or weight (usually decreased, but sometimes increased) constipation unexplained aches and pains lack of energy low sex drive ( loss of libido ) disturbed sleep – for example, finding it difficult to fall asleep at night or waking up very early in the morning\n",
      "\n",
      "Social symptoms The social symptoms of depression include: avoiding contact with friends and taking part in fewer social activities neglecting your hobbies and interests having difficulties in your home, work or family life\n",
      "\n",
      "Severities of depression Depression can often come on gradually, so it can be difficult to notice something is wrong. Many people try to cope with their symptoms without realising they're unwell. It can sometimes take a friend or family member to suggest something is wrong. Doctors describe depression in adults as either less severe (mild) or more severe (moderate or severe), based on: the symptoms, including how often you get symptoms and how bad they are how long depression lasts the impact on your daily life A few people with severe depression may have symptoms of psychosis . You'll usually be asked to answer a set of questions to help doctors assess how severe your condition is.\n",
      "\n",
      "Grief and depression It can be difficult to distinguish between grief and depression. They share many of the same characteristics, but there are important differences between them. Grief is an entirely natural response to a loss, while depression is an illness. People who are grieving may have symptoms of depression, but they usually improve with time. For some people, bereavement can lead to depression. If you're grieving it's normal to have feelings of sadness. Some other symptoms of depression are rare with grief and bereavement, such as having suicidal thoughts, symptoms of psychosis and feeling hopeless or guilt-ridden.\n",
      "\n",
      "Other types of depression There are different types of depression, and some conditions where depression may be one of the symptoms. These include: postnatal depression – sometimes new mothers, fathers or partners develop depression after they have a baby; this is known as postnatal depression and it's treated in a similar way to other types of depression, with talking therapies and antidepressant medicines bipolar disorder – also known as \"manic depression\", in bipolar disorder there are spells of both depression and excessively high mood (mania); the depression symptoms are similar to depression, but the bouts of mania can include harmful behaviour, such as gambling, going on spending sprees and having unsafe sex seasonal affective disorder (SAD) – also known as \"winter depression\", SAD is a type of depression with a seasonal pattern usually related to winter premenstrual dysphoric disorder (PMDD) – a severe type of premenstrual syndrome (PMS) where you have symptoms including feelings of depression and anxiety in the weeks before your period\n",
      "\n",
      "When to seek help See a GP if you experience symptoms of depression for most of the day, every day, for more than 2 weeks. A low mood may improve after a short time.\n",
      "\n",
      "\n",
      "\n"
     ]
    },
    {
     "name": "stderr",
     "output_type": "stream",
     "text": [
      "Token indices sequence length is longer than the specified maximum sequence length for this model (1632 > 512). Running this sequence through the model will result in indexing errors\n"
     ]
    },
    {
     "name": "stdout",
     "output_type": "stream",
     "text": [
      "====================================================================================================\n",
      "LLM Response\n",
      "There are different types of depression, and some conditions where depression may be one of the symptoms. These include: postnatal depression – sometimes new mothers, fathers or partners develop depression after they have a baby; this is known as postnatal depression and it's treated in a similar way to other types of depression, with talking therapies and antidepressant medicines\n",
      "====================================================================================================\n"
     ]
    }
   ],
   "source": [
    "results_df = get_llm_prompt_response(QUESTIONS, enable_chunking = False, is_new_experiment = True, fixed_context = True)"
   ]
  },
  {
   "cell_type": "code",
   "execution_count": 41,
   "id": "fddeb2bd-f89d-4581-bdd4-a0d548d5b4df",
   "metadata": {},
   "outputs": [
    {
     "data": {
      "text/html": [
       "<div>\n",
       "<style scoped>\n",
       "    .dataframe tbody tr th:only-of-type {\n",
       "        vertical-align: middle;\n",
       "    }\n",
       "\n",
       "    .dataframe tbody tr th {\n",
       "        vertical-align: top;\n",
       "    }\n",
       "\n",
       "    .dataframe thead th {\n",
       "        text-align: right;\n",
       "    }\n",
       "</style>\n",
       "<table border=\"1\" class=\"dataframe\">\n",
       "  <thead>\n",
       "    <tr style=\"text-align: right;\">\n",
       "      <th></th>\n",
       "      <th>mind_response</th>\n",
       "      <th>nhs_response</th>\n",
       "      <th>question</th>\n",
       "    </tr>\n",
       "  </thead>\n",
       "  <tbody>\n",
       "    <tr>\n",
       "      <th>0</th>\n",
       "      <td>It's a mental health problem that involves having a low mood or losing interest and enjoyment in things.</td>\n",
       "      <td>Depression is more than simply feeling unhappy or fed up for a few days. Most people go through periods of feeling down, but when you're depressed you feel persistently sad for weeks or months, rather than just a few days.</td>\n",
       "      <td>Can you tell me about depression?</td>\n",
       "    </tr>\n",
       "    <tr>\n",
       "      <th>1</th>\n",
       "      <td>Reduce your tobacco use and alcohol intake</td>\n",
       "      <td>getting more exercise and cutting down on alcohol</td>\n",
       "      <td>What lifestyle changes are suggested for depression?</td>\n",
       "    </tr>\n",
       "    <tr>\n",
       "      <th>2</th>\n",
       "      <td>There are some other types of depression too.</td>\n",
       "      <td>There are different types of depression, and some conditions where depression may be one of the symptoms. These include: postnatal depression – sometimes new mothers, fathers or partners develop depression after they have a baby; this is known as postnatal depression and it's treated in a similar way to other types of depression, with talking therapies and antidepressant medicines</td>\n",
       "      <td>Are there different types of depressions?</td>\n",
       "    </tr>\n",
       "  </tbody>\n",
       "</table>\n",
       "</div>"
      ],
      "text/plain": [
       "                                                                                              mind_response  \\\n",
       "0  It's a mental health problem that involves having a low mood or losing interest and enjoyment in things.   \n",
       "1                                                                Reduce your tobacco use and alcohol intake   \n",
       "2                                                             There are some other types of depression too.   \n",
       "\n",
       "                                                                                                                                                                                                                                                                                                                                                                                      nhs_response  \\\n",
       "0                                                                                                                                                                   Depression is more than simply feeling unhappy or fed up for a few days. Most people go through periods of feeling down, but when you're depressed you feel persistently sad for weeks or months, rather than just a few days.   \n",
       "1                                                                                                                                                                                                                                                                                                                                                getting more exercise and cutting down on alcohol   \n",
       "2  There are different types of depression, and some conditions where depression may be one of the symptoms. These include: postnatal depression – sometimes new mothers, fathers or partners develop depression after they have a baby; this is known as postnatal depression and it's treated in a similar way to other types of depression, with talking therapies and antidepressant medicines   \n",
       "\n",
       "                                               question  \n",
       "0                     Can you tell me about depression?  \n",
       "1  What lifestyle changes are suggested for depression?  \n",
       "2             Are there different types of depressions?  "
      ]
     },
     "execution_count": 41,
     "metadata": {},
     "output_type": "execute_result"
    }
   ],
   "source": [
    "results_df"
   ]
  },
  {
   "cell_type": "markdown",
   "id": "18fa6e67-65ed-42d5-82eb-b579c931af90",
   "metadata": {},
   "source": [
    "### Chunking\n",
    "\n",
    "Question: Does chunking improve results?"
   ]
  },
  {
   "cell_type": "markdown",
   "id": "70160058-c237-4cbb-a8ea-51fb96188e9d",
   "metadata": {},
   "source": [
    "### chunk_size = 2000 and chunk_overlap = 50"
   ]
  },
  {
   "cell_type": "code",
   "execution_count": 42,
   "id": "6ccfdc11-55ec-4d46-a9f2-e93c3bf7ca59",
   "metadata": {
    "scrolled": true
   },
   "outputs": [
    {
     "name": "stdout",
     "output_type": "stream",
     "text": [
      "Found 2 collections\n",
      "\u001b[1;35mLoad pretrained SentenceTransformer: hkunlp/instructor-base\u001b[0m\n",
      "load INSTRUCTOR_Transformer\n",
      "max_seq_length  512\n",
      "Inserting data into collection nhs_collection\n",
      "Chunking enabled = True\n",
      "Using chunk_size=2000 and chunk_overlap=50\n",
      "Inserting data into collection mind_collection\n",
      "Chunking enabled = True\n",
      "Using chunk_size=2000 and chunk_overlap=50\n",
      "Time taken to insert data in chroma store 3.578440422999847 sec\n",
      "Collection name: mind_collection\n",
      "\u001b[1;35mLoad pretrained SentenceTransformer: hkunlp/instructor-base\u001b[0m\n",
      "load INSTRUCTOR_Transformer\n",
      "max_seq_length  512\n",
      "====================================================================================================\n",
      "LLM prompt\n",
      "Question: Can you tell me about depression?\n",
      "\n",
      "Context: Depression Learn about depression, its symptoms and possible causes, and how you can access treatment and support. Find tips on caring for yourself, and guidance for friends and family.  What is depression? Depression is a mental health problem that involves having a low mood or losing interest and enjoyment in things. It can also cause a range of other changes to how you feel or behave.  The symptoms you experience may vary. How intense they are, how long they last, and how much they affect your daily life can also vary.  If you experience milder depression, you might have low mood but still be able to carry on with your daily life. But things may feel harder and less worthwhile.  If you have more severe depression, you might find day-to-day life much more difficult. You may also experience suicidal feelings.  It starts as sadness then I feel myself shutting down, becoming less capable of coping. Eventually, I just feel numb and empty.  When does low mood become depression? We all have times when our mood is low, and we feel sad or fed up. Often these feelings happen for a reason and pass on their own.  But it might be depression if the feelings become so bad that they interfere with our daily life. Or if they last for several weeks or months.  Are there different types of depression? If you're diagnosed with depression, you might also be told that it is ‘less severe’ or ‘more severe’. This describes how your symptoms are affecting you, and what treatment you're likely to be offered. You may find that the severity of your depression changes over time.  Sometimes you might hear depression being called ‘major depressive disorder’. There are some other types of depression too:  Persistent depressive disorder (PDD). PDD is continuous depression that lasts for two years or more. You may also hear it called dysthymia or chronic depression. Seasonal affective disorder (SAD). SAD is depression that occurs at a particular time of year, or during a particular season. See our Common signs and symptoms of depression These are some common signs of depression that you may experience:  How you might feel Down, upset or tearful Restless, agitated or irritable Guilty, worthless and down on yourself Empty and numb Isolated and unable to relate to other people Finding no pleasure in life or things you usually enjoy Angry or frustrated over minor things A sense of unreality No self-confidence or self-esteem Hopeless and despairing Feeling tired all the time How you might act Avoiding social events and activities you usually enjoy Self-harming or suicidal behaviour Difficulty speaking, thinking clearly or making decisions Losing interest in sex Difficulty remembering or concentrating on things Using more tobacco, alcohol or other drugs than usual Difficulty sleeping, or sleeping too much No appetite and losing weight, or eating more than usual and gaining weight Physical aches and pains with no obvious physical cause Moving very slowly, or being restless and agitated It felt like I was really tired, all the time. I had no energy or emotion about anything. Anxiety It's very common to experience depression and anxiety together. Some symptoms of depression can also be symptoms of anxiety, for example: Feeling restless, Finding it difficult to concentrate, Struggling to sleep I flit between states of anxiety and depression. At times, each seems to fuel the other. Self-harm and suicidal feelings If you're feeling low, you might self-harm to cope with difficult feelings. Although this might make you feel better in the short term, self-harm can be very dangerous. When you're feeling really low and hopeless, you may also find yourself thinking about suicide. This could be thinking about the idea of suicide, or considering a plan to end your life. These thoughts can feel difficult to control, and can be very frightening. Psychotic symptoms If you experience depression, you might also experience some psychotic symptoms. These may include delusions, such as symptoms. These may include delusions, such as paranoia. Or they may be hallucinations, such as hearing voices. If you experience psychotic symptoms as part of depression, they're likely to be linked to your depressed thoughts and feelings. This may include experiencing delusions relating to feelings of guilt. For example, you might become convinced that you've committed a crime. These kinds of experiences can feel very real at the time. This might make it hard to understand that these experiences are also symptoms of your depression. And they can be frightening or upsetting, so it's important to seek treatment and support. You might worry that experiencing psychotic symptoms could mean you’re given a diagnosis that doesn’t feel right for you. But discussing all of your symptoms with your doctor can help you get the right support and treatment. How might depression affect my day-to-day life? If you have depression, you might find that it interferes with different aspects of your life. For example, it might affect your ability to work, your relationships, or managing your finances. This can add extra stress to an already difficult experience. It may also feel hard to explain your thoughts and feelings to others. You might want to cut yourself off from other people instead. This could lead to you feeling isolated and lonely. It feels like I'm stuck under a huge grey-black cloud. It's dark and isolating, smothering me at every opportunity. Can depression be a symptom of other mental health problems? Symptoms of depression can also be part of other mental health problems, such as: Bipolar disorder, Borderline personality disorder (BPD) and other personality disorders, Schizoaffective disorder. If you experience low mood or suicidal thoughts, this might be the reason you first speak to your doctor about your mental health. And your doctor might offer you treatment for depression without realising that you also experience other symptoms. If you think you're experiencing of year, or during a particular season. See our page on SAD for more information. Antenatal depression. This is depression that occurs while you are pregnant. It is sometimes called prenatal depression. Postnatal depression (PND). This is depression that occurs in the first year after having a baby. This can include affecting dads and partners. Premenstrual dysphoric disorder (PMDD). This is a hormone-related disorder that affects your body but also how you feel. This can involve experiencing depression. So your doctor may describe this as a mental health problem.\n",
      "\n",
      "\n"
     ]
    },
    {
     "name": "stderr",
     "output_type": "stream",
     "text": [
      "Token indices sequence length is longer than the specified maximum sequence length for this model (1433 > 512). Running this sequence through the model will result in indexing errors\n"
     ]
    },
    {
     "name": "stdout",
     "output_type": "stream",
     "text": [
      "====================================================================================================\n",
      "LLM Response\n",
      "It can affect your daily life.\n",
      "====================================================================================================\n",
      "Collection name: nhs_collection\n",
      "\u001b[1;35mLoad pretrained SentenceTransformer: hkunlp/instructor-base\u001b[0m\n",
      "load INSTRUCTOR_Transformer\n",
      "max_seq_length  512\n",
      "====================================================================================================\n",
      "LLM prompt\n",
      "Question: Can you tell me about depression?\n",
      "\n",
      "Context: Overview - Depression in adults Depression is more than simply feeling unhappy or fed up for a few days. Most people go through periods of feeling down, but when you're depressed you feel persistently sad for weeks or months, rather than just a few days. Some people think depression is trivial and not a genuine health condition. They're wrong – it is a real illness with real symptoms. Depression is not a sign of weakness or something you can \"snap out of\" by \"pulling yourself together\". The good news is that with the right treatment and support, most people with depression can make a full recovery. These pages are about depression in adults. Read about depression in children and young people. How to tell if you have depression Depression affects people in different ways and can cause a wide variety of symptoms. They range from lasting feelings of unhappiness and hopelessness, to losing interest in the things you used to enjoy and feeling very tearful. Many people with depression also have symptoms of anxiety . There can be physical symptoms too, such as feeling constantly tired, sleeping badly, having no appetite or sex drive, and various aches and pains. The symptoms of depression range from mild to severe. At its mildest, you may simply feel persistently low in spirit, while severe depression can make you feel suicidal, that life is no longer worth living. Most people experience feelings of stress, anxiety or low mood during difficult times. A low mood may improve after a short period of time, rather than being a sign of depression. When to see a doctor It's important to seek help from a GP if you think you may be depressed. Many people wait a long time before seeking help for depression, but it's best not to delay. The sooner you see a doctor, the sooner you can be on the way to recovery. What causes depression? Sometimes there's a trigger for depression. Life-changing events, such as bereavement, losing your job or giving birth, can bring it on. People with a Symptoms - Depression in adults The symptoms of depression can be complex and vary widely between people. If you're depressed, you may feel sad, hopeless and lose interest in things you used to enjoy. The symptoms persist for weeks or months and are bad enough to interfere with your work, social life and family life. There are many other symptoms of depression and you're unlikely to have all of those listed on this page. Psychological symptoms The psychological symptoms of depression include: continuous low mood or sadness feeling hopeless and helpless having low self-esteem feeling tearful feeling guilt-ridden feeling irritable and intolerant of others having no motivation or interest in things finding it difficult to make decisions not getting any enjoyment out of life feeling anxious or worried having suicidal thoughts or thoughts of harming yourself. Physical symptoms The physical symptoms of depression include: moving or speaking more slowly than usual changes in appetite or weight (usually decreased, but sometimes increased) constipation unexplained aches and pains lack of energy low sex drive ( loss of libido ) disturbed sleep – for example, finding it difficult to fall asleep at night or waking up very early in the morning. Social symptoms The social symptoms of depression include: avoiding contact with friends and taking part in fewer social activities neglecting your hobbies and interests having difficulties in your home, work or family life. Severities of depression Depression can often come on gradually, so it can be difficult to notice something is wrong. Many people try to cope with their symptoms without realising they're unwell. It can sometimes take a friend or family member to suggest something is wrong. Doctors describe depression in adults as either less severe (mild) or more severe (moderate or severe), based on: the symptoms, including how often you get symptoms and how bad they are how long depression lasts the impact on your daily life A few lasts the impact on your daily life A few people with severe depression may have symptoms of psychosis . You'll usually be asked to answer a set of questions to help doctors assess how severe your condition is. Grief and depression It can be difficult to distinguish between grief and depression. They share many of the same characteristics, but there are important differences between them. Grief is an entirely natural response to a loss, while depression is an illness. People who are grieving may have symptoms of depression, but they usually improve with time. For some people, bereavement can lead to depression. If you're grieving it's normal to have feelings of sadness. Some other symptoms of depression are rare with grief and bereavement, such as having suicidal thoughts, symptoms of psychosis and feeling hopeless or guilt-ridden. Other types of depression There are different types of depression, and some conditions where depression may be one of the symptoms. These include: postnatal depression – sometimes new mothers, fathers or partners develop depression after they have a baby; this is known as postnatal depression and it's treated in a similar way to other types of depression, with talking therapies and antidepressant medicines bipolar disorder – also known as \"manic depression\", in bipolar disorder there are spells of both depression and excessively high mood (mania); the depression symptoms are similar to depression, but the bouts of mania can include harmful behaviour, such as gambling, going on spending sprees and having unsafe sex seasonal affective disorder (SAD) – also known as \"winter depression\", SAD is a type of depression with a seasonal pattern usually related to winter premenstrual dysphoric disorder (PMDD) – a severe type of premenstrual syndrome (PMS) where you have symptoms including feelings of depression and anxiety in the weeks before your period. When to seek help See a GP if you experience symptoms of depression for most of the day, every symptoms of depression for most of the day, every day, for more than 2 weeks. A low mood may improve after a short time.\n",
      "\n",
      "\n"
     ]
    },
    {
     "name": "stderr",
     "output_type": "stream",
     "text": [
      "Token indices sequence length is longer than the specified maximum sequence length for this model (1324 > 512). Running this sequence through the model will result in indexing errors\n"
     ]
    },
    {
     "name": "stdout",
     "output_type": "stream",
     "text": [
      "====================================================================================================\n",
      "LLM Response\n",
      "Depression is more than simply feeling unhappy or fed up for a few days. Most people go through periods of feeling down, but when you're depressed you feel persistently sad for weeks or months, rather than just a few days.\n",
      "====================================================================================================\n",
      "Collection name: mind_collection\n",
      "\u001b[1;35mLoad pretrained SentenceTransformer: hkunlp/instructor-base\u001b[0m\n",
      "load INSTRUCTOR_Transformer\n",
      "max_seq_length  512\n",
      "====================================================================================================\n",
      "LLM prompt\n",
      "Question: What lifestyle changes are suggested for depression?\n",
      "\n",
      "Context: Depression Learn about depression, its symptoms and possible causes, and how you can access treatment and support. Find tips on caring for yourself, and guidance for friends and family.  What is depression? Depression is a mental health problem that involves having a low mood or losing interest and enjoyment in things. It can also cause a range of other changes to how you feel or behave.  The symptoms you experience may vary. How intense they are, how long they last, and how much they affect your daily life can also vary.  If you experience milder depression, you might have low mood but still be able to carry on with your daily life. But things may feel harder and less worthwhile.  If you have more severe depression, you might find day-to-day life much more difficult. You may also experience suicidal feelings.  It starts as sadness then I feel myself shutting down, becoming less capable of coping. Eventually, I just feel numb and empty.  When does low mood become depression? We all have times when our mood is low, and we feel sad or fed up. Often these feelings happen for a reason and pass on their own.  But it might be depression if the feelings become so bad that they interfere with our daily life. Or if they last for several weeks or months.  Are there different types of depression? If you're diagnosed with depression, you might also be told that it is ‘less severe’ or ‘more severe’. This describes how your symptoms are affecting you, and what treatment you're likely to be offered. You may find that the severity of your depression changes over time.  Sometimes you might hear depression being called ‘major depressive disorder’. There are some other types of depression too:  Persistent depressive disorder (PDD). PDD is continuous depression that lasts for two years or more. You may also hear it called dysthymia or chronic depression. Seasonal affective disorder (SAD). SAD is depression that occurs at a particular time of year, or during a particular season. See our Common signs and symptoms of depression These are some common signs of depression that you may experience:  How you might feel Down, upset or tearful Restless, agitated or irritable Guilty, worthless and down on yourself Empty and numb Isolated and unable to relate to other people Finding no pleasure in life or things you usually enjoy Angry or frustrated over minor things A sense of unreality No self-confidence or self-esteem Hopeless and despairing Feeling tired all the time How you might act Avoiding social events and activities you usually enjoy Self-harming or suicidal behaviour Difficulty speaking, thinking clearly or making decisions Losing interest in sex Difficulty remembering or concentrating on things Using more tobacco, alcohol or other drugs than usual Difficulty sleeping, or sleeping too much No appetite and losing weight, or eating more than usual and gaining weight Physical aches and pains with no obvious physical cause Moving very slowly, or being restless and agitated It felt like I was really tired, all the time. I had no energy or emotion about anything. Anxiety It's very common to experience depression and anxiety together. Some symptoms of depression can also be symptoms of anxiety, for example: Feeling restless, Finding it difficult to concentrate, Struggling to sleep I flit between states of anxiety and depression. At times, each seems to fuel the other. Self-harm and suicidal feelings If you're feeling low, you might self-harm to cope with difficult feelings. Although this might make you feel better in the short term, self-harm can be very dangerous. When you're feeling really low and hopeless, you may also find yourself thinking about suicide. This could be thinking about the idea of suicide, or considering a plan to end your life. These thoughts can feel difficult to control, and can be very frightening. Psychotic symptoms If you experience depression, you might also experience some psychotic symptoms. These may include delusions, such as symptoms. These may include delusions, such as paranoia. Or they may be hallucinations, such as hearing voices. If you experience psychotic symptoms as part of depression, they're likely to be linked to your depressed thoughts and feelings. This may include experiencing delusions relating to feelings of guilt. For example, you might become convinced that you've committed a crime. These kinds of experiences can feel very real at the time. This might make it hard to understand that these experiences are also symptoms of your depression. And they can be frightening or upsetting, so it's important to seek treatment and support. You might worry that experiencing psychotic symptoms could mean you’re given a diagnosis that doesn’t feel right for you. But discussing all of your symptoms with your doctor can help you get the right support and treatment. How might depression affect my day-to-day life? If you have depression, you might find that it interferes with different aspects of your life. For example, it might affect your ability to work, your relationships, or managing your finances. This can add extra stress to an already difficult experience. It may also feel hard to explain your thoughts and feelings to others. You might want to cut yourself off from other people instead. This could lead to you feeling isolated and lonely. It feels like I'm stuck under a huge grey-black cloud. It's dark and isolating, smothering me at every opportunity. Can depression be a symptom of other mental health problems? Symptoms of depression can also be part of other mental health problems, such as: Bipolar disorder, Borderline personality disorder (BPD) and other personality disorders, Schizoaffective disorder. If you experience low mood or suicidal thoughts, this might be the reason you first speak to your doctor about your mental health. And your doctor might offer you treatment for depression without realising that you also experience other symptoms. If you think you're experiencing of year, or during a particular season. See our page on SAD for more information. Antenatal depression. This is depression that occurs while you are pregnant. It is sometimes called prenatal depression. Postnatal depression (PND). This is depression that occurs in the first year after having a baby. This can include affecting dads and partners. Premenstrual dysphoric disorder (PMDD). This is a hormone-related disorder that affects your body but also how you feel. This can involve experiencing depression. So your doctor may describe this as a mental health problem.\n",
      "\n",
      "\n"
     ]
    },
    {
     "name": "stderr",
     "output_type": "stream",
     "text": [
      "Token indices sequence length is longer than the specified maximum sequence length for this model (1434 > 512). Running this sequence through the model will result in indexing errors\n"
     ]
    },
    {
     "name": "stdout",
     "output_type": "stream",
     "text": [
      "====================================================================================================\n",
      "LLM Response\n",
      "Reduce your tobacco use\n",
      "====================================================================================================\n",
      "Collection name: nhs_collection\n",
      "\u001b[1;35mLoad pretrained SentenceTransformer: hkunlp/instructor-base\u001b[0m\n",
      "load INSTRUCTOR_Transformer\n",
      "max_seq_length  512\n",
      "====================================================================================================\n",
      "LLM prompt\n",
      "Question: What lifestyle changes are suggested for depression?\n",
      "\n",
      "Context: or giving birth, can bring it on. People with a family history of depression are more likely to experience it themselves. But you can also become depressed for no obvious reason. Treating depression Treatment for depression can involve a combination of lifestyle changes, talking therapies and medicine. Your recommended treatment will be based on how severe your depression is. If you have mild depression, your doctor may suggest waiting to see whether it improves on its own, while monitoring your progress. This is known as \"watchful waiting\". They may also suggest lifestyle measures such as exercise and guided self-help. Talking therapies, such as cognitive behavioural therapy (CBT) , may also be used for mild depression. For moderate to severe depression, a combination of talking therapy and antidepressants is often recommended. If you have severe depression, you may be referred to a specialist mental health team for intensive specialist talking treatments and prescribed medicine. Living with depression Many people with depression benefit by making lifestyle changes, such as getting more exercise , cutting down on alcohol , giving up smoking and eating healthily . Reading a self-help book or joining a support group are also worthwhile. They can help you gain a better understanding about what causes you to feel depressed. Sharing your experiences with others in a similar situation can also be very supportive. Information: Social care and support guide If you: need help with day-to-day living because of illness or disability care for someone regularly because they're ill or disabled, or because of their age – including family members Our social care and support guide explains your options and where you can get support. Symptoms - Depression in adults The symptoms of depression can be complex and vary widely between people. If you're depressed, you may feel sad, hopeless and lose interest in things you used to enjoy. The symptoms persist for weeks or months and are bad enough to interfere with your work, social life and family life. There are many other symptoms of depression and you're unlikely to have all of those listed on this page. Psychological symptoms The psychological symptoms of depression include: continuous low mood or sadness feeling hopeless and helpless having low self-esteem feeling tearful feeling guilt-ridden feeling irritable and intolerant of others having no motivation or interest in things finding it difficult to make decisions not getting any enjoyment out of life feeling anxious or worried having suicidal thoughts or thoughts of harming yourself. Physical symptoms The physical symptoms of depression include: moving or speaking more slowly than usual changes in appetite or weight (usually decreased, but sometimes increased) constipation unexplained aches and pains lack of energy low sex drive ( loss of libido ) disturbed sleep – for example, finding it difficult to fall asleep at night or waking up very early in the morning. Social symptoms The social symptoms of depression include: avoiding contact with friends and taking part in fewer social activities neglecting your hobbies and interests having difficulties in your home, work or family life. Severities of depression Depression can often come on gradually, so it can be difficult to notice something is wrong. Many people try to cope with their symptoms without realising they're unwell. It can sometimes take a friend or family member to suggest something is wrong. Doctors describe depression in adults as either less severe (mild) or more severe (moderate or severe), based on: the symptoms, including how often you get symptoms and how bad they are how long depression lasts the impact on your daily life A few Overview - Depression in adults Depression is more than simply feeling unhappy or fed up for a few days. Most people go through periods of feeling down, but when you're depressed you feel persistently sad for weeks or months, rather than just a few days. Some people think depression is trivial and not a genuine health condition. They're wrong – it is a real illness with real symptoms. Depression is not a sign of weakness or something you can \"snap out of\" by \"pulling yourself together\". The good news is that with the right treatment and support, most people with depression can make a full recovery. These pages are about depression in adults. Read about depression in children and young people. How to tell if you have depression Depression affects people in different ways and can cause a wide variety of symptoms. They range from lasting feelings of unhappiness and hopelessness, to losing interest in the things you used to enjoy and feeling very tearful. Many people with depression also have symptoms of anxiety . There can be physical symptoms too, such as feeling constantly tired, sleeping badly, having no appetite or sex drive, and various aches and pains. The symptoms of depression range from mild to severe. At its mildest, you may simply feel persistently low in spirit, while severe depression can make you feel suicidal, that life is no longer worth living. Most people experience feelings of stress, anxiety or low mood during difficult times. A low mood may improve after a short period of time, rather than being a sign of depression. When to see a doctor It's important to seek help from a GP if you think you may be depressed. Many people wait a long time before seeking help for depression, but it's best not to delay. The sooner you see a doctor, the sooner you can be on the way to recovery. What causes depression? Sometimes there's a trigger for depression. Life-changing events, such as bereavement, losing your job or giving birth, can bring it on. People with a symptoms of depression for most of the day, every day, for more than 2 weeks. A low mood may improve after a short time.\n",
      "\n",
      "\n"
     ]
    },
    {
     "name": "stderr",
     "output_type": "stream",
     "text": [
      "Token indices sequence length is longer than the specified maximum sequence length for this model (1237 > 512). Running this sequence through the model will result in indexing errors\n"
     ]
    },
    {
     "name": "stdout",
     "output_type": "stream",
     "text": [
      "====================================================================================================\n",
      "LLM Response\n",
      "getting more exercise and cutting down on alcohol\n",
      "====================================================================================================\n",
      "Collection name: mind_collection\n",
      "\u001b[1;35mLoad pretrained SentenceTransformer: hkunlp/instructor-base\u001b[0m\n",
      "load INSTRUCTOR_Transformer\n",
      "max_seq_length  512\n",
      "====================================================================================================\n",
      "LLM prompt\n",
      "Question: Are there different types of depressions?\n",
      "\n",
      "Context: Depression Learn about depression, its symptoms and possible causes, and how you can access treatment and support. Find tips on caring for yourself, and guidance for friends and family.  What is depression? Depression is a mental health problem that involves having a low mood or losing interest and enjoyment in things. It can also cause a range of other changes to how you feel or behave.  The symptoms you experience may vary. How intense they are, how long they last, and how much they affect your daily life can also vary.  If you experience milder depression, you might have low mood but still be able to carry on with your daily life. But things may feel harder and less worthwhile.  If you have more severe depression, you might find day-to-day life much more difficult. You may also experience suicidal feelings.  It starts as sadness then I feel myself shutting down, becoming less capable of coping. Eventually, I just feel numb and empty.  When does low mood become depression? We all have times when our mood is low, and we feel sad or fed up. Often these feelings happen for a reason and pass on their own.  But it might be depression if the feelings become so bad that they interfere with our daily life. Or if they last for several weeks or months.  Are there different types of depression? If you're diagnosed with depression, you might also be told that it is ‘less severe’ or ‘more severe’. This describes how your symptoms are affecting you, and what treatment you're likely to be offered. You may find that the severity of your depression changes over time.  Sometimes you might hear depression being called ‘major depressive disorder’. There are some other types of depression too:  Persistent depressive disorder (PDD). PDD is continuous depression that lasts for two years or more. You may also hear it called dysthymia or chronic depression. Seasonal affective disorder (SAD). SAD is depression that occurs at a particular time of year, or during a particular season. See our of year, or during a particular season. See our page on SAD for more information. Antenatal depression. This is depression that occurs while you are pregnant. It is sometimes called prenatal depression. Postnatal depression (PND). This is depression that occurs in the first year after having a baby. This can include affecting dads and partners. Premenstrual dysphoric disorder (PMDD). This is a hormone-related disorder that affects your body but also how you feel. This can involve experiencing depression. So your doctor may describe this as a mental health problem. symptoms. These may include delusions, such as paranoia. Or they may be hallucinations, such as hearing voices. If you experience psychotic symptoms as part of depression, they're likely to be linked to your depressed thoughts and feelings. This may include experiencing delusions relating to feelings of guilt. For example, you might become convinced that you've committed a crime. These kinds of experiences can feel very real at the time. This might make it hard to understand that these experiences are also symptoms of your depression. And they can be frightening or upsetting, so it's important to seek treatment and support. You might worry that experiencing psychotic symptoms could mean you’re given a diagnosis that doesn’t feel right for you. But discussing all of your symptoms with your doctor can help you get the right support and treatment. How might depression affect my day-to-day life? If you have depression, you might find that it interferes with different aspects of your life. For example, it might affect your ability to work, your relationships, or managing your finances. This can add extra stress to an already difficult experience. It may also feel hard to explain your thoughts and feelings to others. You might want to cut yourself off from other people instead. This could lead to you feeling isolated and lonely. It feels like I'm stuck under a huge grey-black cloud. It's dark and isolating, smothering me at every opportunity. Can depression be a symptom of other mental health problems? Symptoms of depression can also be part of other mental health problems, such as: Bipolar disorder, Borderline personality disorder (BPD) and other personality disorders, Schizoaffective disorder. If you experience low mood or suicidal thoughts, this might be the reason you first speak to your doctor about your mental health. And your doctor might offer you treatment for depression without realising that you also experience other symptoms. If you think you're experiencing Common signs and symptoms of depression These are some common signs of depression that you may experience:  How you might feel Down, upset or tearful Restless, agitated or irritable Guilty, worthless and down on yourself Empty and numb Isolated and unable to relate to other people Finding no pleasure in life or things you usually enjoy Angry or frustrated over minor things A sense of unreality No self-confidence or self-esteem Hopeless and despairing Feeling tired all the time How you might act Avoiding social events and activities you usually enjoy Self-harming or suicidal behaviour Difficulty speaking, thinking clearly or making decisions Losing interest in sex Difficulty remembering or concentrating on things Using more tobacco, alcohol or other drugs than usual Difficulty sleeping, or sleeping too much No appetite and losing weight, or eating more than usual and gaining weight Physical aches and pains with no obvious physical cause Moving very slowly, or being restless and agitated It felt like I was really tired, all the time. I had no energy or emotion about anything. Anxiety It's very common to experience depression and anxiety together. Some symptoms of depression can also be symptoms of anxiety, for example: Feeling restless, Finding it difficult to concentrate, Struggling to sleep I flit between states of anxiety and depression. At times, each seems to fuel the other. Self-harm and suicidal feelings If you're feeling low, you might self-harm to cope with difficult feelings. Although this might make you feel better in the short term, self-harm can be very dangerous. When you're feeling really low and hopeless, you may also find yourself thinking about suicide. This could be thinking about the idea of suicide, or considering a plan to end your life. These thoughts can feel difficult to control, and can be very frightening. Psychotic symptoms If you experience depression, you might also experience some psychotic symptoms. These may include delusions, such as\n",
      "\n",
      "\n"
     ]
    },
    {
     "name": "stderr",
     "output_type": "stream",
     "text": [
      "Token indices sequence length is longer than the specified maximum sequence length for this model (1434 > 512). Running this sequence through the model will result in indexing errors\n"
     ]
    },
    {
     "name": "stdout",
     "output_type": "stream",
     "text": [
      "====================================================================================================\n",
      "LLM Response\n",
      "Persistent depressive disorder (PDD).\n",
      "====================================================================================================\n",
      "Collection name: nhs_collection\n",
      "\u001b[1;35mLoad pretrained SentenceTransformer: hkunlp/instructor-base\u001b[0m\n",
      "load INSTRUCTOR_Transformer\n",
      "max_seq_length  512\n",
      "====================================================================================================\n",
      "LLM prompt\n",
      "Question: Are there different types of depressions?\n",
      "\n",
      "Context: lasts the impact on your daily life A few people with severe depression may have symptoms of psychosis . You'll usually be asked to answer a set of questions to help doctors assess how severe your condition is. Grief and depression It can be difficult to distinguish between grief and depression. They share many of the same characteristics, but there are important differences between them. Grief is an entirely natural response to a loss, while depression is an illness. People who are grieving may have symptoms of depression, but they usually improve with time. For some people, bereavement can lead to depression. If you're grieving it's normal to have feelings of sadness. Some other symptoms of depression are rare with grief and bereavement, such as having suicidal thoughts, symptoms of psychosis and feeling hopeless or guilt-ridden. Other types of depression There are different types of depression, and some conditions where depression may be one of the symptoms. These include: postnatal depression – sometimes new mothers, fathers or partners develop depression after they have a baby; this is known as postnatal depression and it's treated in a similar way to other types of depression, with talking therapies and antidepressant medicines bipolar disorder – also known as \"manic depression\", in bipolar disorder there are spells of both depression and excessively high mood (mania); the depression symptoms are similar to depression, but the bouts of mania can include harmful behaviour, such as gambling, going on spending sprees and having unsafe sex seasonal affective disorder (SAD) – also known as \"winter depression\", SAD is a type of depression with a seasonal pattern usually related to winter premenstrual dysphoric disorder (PMDD) – a severe type of premenstrual syndrome (PMS) where you have symptoms including feelings of depression and anxiety in the weeks before your period. When to seek help See a GP if you experience symptoms of depression for most of the day, every Overview - Depression in adults Depression is more than simply feeling unhappy or fed up for a few days. Most people go through periods of feeling down, but when you're depressed you feel persistently sad for weeks or months, rather than just a few days. Some people think depression is trivial and not a genuine health condition. They're wrong – it is a real illness with real symptoms. Depression is not a sign of weakness or something you can \"snap out of\" by \"pulling yourself together\". The good news is that with the right treatment and support, most people with depression can make a full recovery. These pages are about depression in adults. Read about depression in children and young people. How to tell if you have depression Depression affects people in different ways and can cause a wide variety of symptoms. They range from lasting feelings of unhappiness and hopelessness, to losing interest in the things you used to enjoy and feeling very tearful. Many people with depression also have symptoms of anxiety . There can be physical symptoms too, such as feeling constantly tired, sleeping badly, having no appetite or sex drive, and various aches and pains. The symptoms of depression range from mild to severe. At its mildest, you may simply feel persistently low in spirit, while severe depression can make you feel suicidal, that life is no longer worth living. Most people experience feelings of stress, anxiety or low mood during difficult times. A low mood may improve after a short period of time, rather than being a sign of depression. When to see a doctor It's important to seek help from a GP if you think you may be depressed. Many people wait a long time before seeking help for depression, but it's best not to delay. The sooner you see a doctor, the sooner you can be on the way to recovery. What causes depression? Sometimes there's a trigger for depression. Life-changing events, such as bereavement, losing your job or giving birth, can bring it on. People with a symptoms of depression for most of the day, every day, for more than 2 weeks. A low mood may improve after a short time. Symptoms - Depression in adults The symptoms of depression can be complex and vary widely between people. If you're depressed, you may feel sad, hopeless and lose interest in things you used to enjoy. The symptoms persist for weeks or months and are bad enough to interfere with your work, social life and family life. There are many other symptoms of depression and you're unlikely to have all of those listed on this page. Psychological symptoms The psychological symptoms of depression include: continuous low mood or sadness feeling hopeless and helpless having low self-esteem feeling tearful feeling guilt-ridden feeling irritable and intolerant of others having no motivation or interest in things finding it difficult to make decisions not getting any enjoyment out of life feeling anxious or worried having suicidal thoughts or thoughts of harming yourself. Physical symptoms The physical symptoms of depression include: moving or speaking more slowly than usual changes in appetite or weight (usually decreased, but sometimes increased) constipation unexplained aches and pains lack of energy low sex drive ( loss of libido ) disturbed sleep – for example, finding it difficult to fall asleep at night or waking up very early in the morning. Social symptoms The social symptoms of depression include: avoiding contact with friends and taking part in fewer social activities neglecting your hobbies and interests having difficulties in your home, work or family life. Severities of depression Depression can often come on gradually, so it can be difficult to notice something is wrong. Many people try to cope with their symptoms without realising they're unwell. It can sometimes take a friend or family member to suggest something is wrong. Doctors describe depression in adults as either less severe (mild) or more severe (moderate or severe), based on: the symptoms, including how often you get symptoms and how bad they are how long depression lasts the impact on your daily life A few\n",
      "\n",
      "\n"
     ]
    },
    {
     "name": "stderr",
     "output_type": "stream",
     "text": [
      "Token indices sequence length is longer than the specified maximum sequence length for this model (1325 > 512). Running this sequence through the model will result in indexing errors\n"
     ]
    },
    {
     "name": "stdout",
     "output_type": "stream",
     "text": [
      "====================================================================================================\n",
      "LLM Response\n",
      "There are different types of depression, and some conditions where depression may be one of the symptoms. These include: postnatal depression – sometimes new mothers, fathers or partners develop depression after they have a baby; this is known as postnatal depression and it's treated in a similar way to other types of depression, with talking therapies and antidepressant medicines bipolar disorder – also known as \"manic depression\", in bipolar disorder there are spells of both depression and excessively high mood (mania); the depression symptoms are similar to depression, but the bouts of mania can include harmful behaviour, such as gambling, going on spending sprees and having unsafe sex seasonal affective disorder (SAD) – also known as \"winter depression\", SAD is a severe type of premenstrual syndrome (PMS) where you have symptoms including feelings of stress, anxiety or low mood during difficult times.\n",
      "====================================================================================================\n"
     ]
    }
   ],
   "source": [
    "results_df = get_llm_prompt_response(QUESTIONS, enable_chunking = True, is_new_experiment = True, chunk_size = 2000, chunk_overlap = 50)"
   ]
  },
  {
   "cell_type": "code",
   "execution_count": 43,
   "id": "00479ca6-44b2-42ac-837a-d969c5f7cb18",
   "metadata": {},
   "outputs": [
    {
     "data": {
      "text/html": [
       "<div>\n",
       "<style scoped>\n",
       "    .dataframe tbody tr th:only-of-type {\n",
       "        vertical-align: middle;\n",
       "    }\n",
       "\n",
       "    .dataframe tbody tr th {\n",
       "        vertical-align: top;\n",
       "    }\n",
       "\n",
       "    .dataframe thead th {\n",
       "        text-align: right;\n",
       "    }\n",
       "</style>\n",
       "<table border=\"1\" class=\"dataframe\">\n",
       "  <thead>\n",
       "    <tr style=\"text-align: right;\">\n",
       "      <th></th>\n",
       "      <th>mind_response</th>\n",
       "      <th>nhs_response</th>\n",
       "      <th>question</th>\n",
       "    </tr>\n",
       "  </thead>\n",
       "  <tbody>\n",
       "    <tr>\n",
       "      <th>0</th>\n",
       "      <td>It can affect your daily life.</td>\n",
       "      <td>Depression is more than simply feeling unhappy or fed up for a few days. Most people go through periods of feeling down, but when you're depressed you feel persistently sad for weeks or months, rather than just a few days.</td>\n",
       "      <td>Can you tell me about depression?</td>\n",
       "    </tr>\n",
       "    <tr>\n",
       "      <th>1</th>\n",
       "      <td>Reduce your tobacco use</td>\n",
       "      <td>getting more exercise and cutting down on alcohol</td>\n",
       "      <td>What lifestyle changes are suggested for depression?</td>\n",
       "    </tr>\n",
       "    <tr>\n",
       "      <th>2</th>\n",
       "      <td>Persistent depressive disorder (PDD).</td>\n",
       "      <td>There are different types of depression, and some conditions where depression may be one of the symptoms. These include: postnatal depression – sometimes new mothers, fathers or partners develop depression after they have a baby; this is known as postnatal depression and it's treated in a similar way to other types of depression, with talking therapies and antidepressant medicines bipolar disorder – also known as \"manic depression\", in bipolar disorder there are spells of both depression and excessively high mood (mania); the depression symptoms are similar to depression, but the bouts of mania can include harmful behaviour, such as gambling, going on spending sprees and having unsafe sex seasonal affective disorder (SAD) – also known as \"winter depression\", SAD is a severe type of pre...</td>\n",
       "      <td>Are there different types of depressions?</td>\n",
       "    </tr>\n",
       "  </tbody>\n",
       "</table>\n",
       "</div>"
      ],
      "text/plain": [
       "                           mind_response  \\\n",
       "0         It can affect your daily life.   \n",
       "1                Reduce your tobacco use   \n",
       "2  Persistent depressive disorder (PDD).   \n",
       "\n",
       "                                                                                                                                                                                                                                                                                                                                                                                                                                                                                                                                                                                                                                                                                                                                                                                                                      nhs_response  \\\n",
       "0                                                                                                                                                                                                                                                                                                                                                                                                                                                                                                                                                                                                   Depression is more than simply feeling unhappy or fed up for a few days. Most people go through periods of feeling down, but when you're depressed you feel persistently sad for weeks or months, rather than just a few days.   \n",
       "1                                                                                                                                                                                                                                                                                                                                                                                                                                                                                                                                                                                                                                                                                                                                                                                getting more exercise and cutting down on alcohol   \n",
       "2  There are different types of depression, and some conditions where depression may be one of the symptoms. These include: postnatal depression – sometimes new mothers, fathers or partners develop depression after they have a baby; this is known as postnatal depression and it's treated in a similar way to other types of depression, with talking therapies and antidepressant medicines bipolar disorder – also known as \"manic depression\", in bipolar disorder there are spells of both depression and excessively high mood (mania); the depression symptoms are similar to depression, but the bouts of mania can include harmful behaviour, such as gambling, going on spending sprees and having unsafe sex seasonal affective disorder (SAD) – also known as \"winter depression\", SAD is a severe type of pre...   \n",
       "\n",
       "                                               question  \n",
       "0                     Can you tell me about depression?  \n",
       "1  What lifestyle changes are suggested for depression?  \n",
       "2             Are there different types of depressions?  "
      ]
     },
     "execution_count": 43,
     "metadata": {},
     "output_type": "execute_result"
    }
   ],
   "source": [
    "results_df"
   ]
  },
  {
   "cell_type": "markdown",
   "id": "530f0b1d-8228-475f-a99e-3387a8958d49",
   "metadata": {},
   "source": [
    "### chunk_size = 1000 and chunk_overlap = 50"
   ]
  },
  {
   "cell_type": "code",
   "execution_count": 44,
   "id": "d8d02858-c711-48f1-9754-90b9c78996b0",
   "metadata": {
    "scrolled": true
   },
   "outputs": [
    {
     "name": "stdout",
     "output_type": "stream",
     "text": [
      "Found 2 collections\n",
      "\u001b[1;35mLoad pretrained SentenceTransformer: hkunlp/instructor-base\u001b[0m\n",
      "load INSTRUCTOR_Transformer\n",
      "max_seq_length  512\n",
      "Inserting data into collection nhs_collection\n",
      "Chunking enabled = True\n",
      "Using chunk_size=1000 and chunk_overlap=50\n",
      "Inserting data into collection mind_collection\n",
      "Chunking enabled = True\n",
      "Using chunk_size=1000 and chunk_overlap=50\n",
      "Time taken to insert data in chroma store 2.9004106339998543 sec\n",
      "Collection name: mind_collection\n",
      "\u001b[1;35mLoad pretrained SentenceTransformer: hkunlp/instructor-base\u001b[0m\n",
      "load INSTRUCTOR_Transformer\n",
      "max_seq_length  512\n",
      "====================================================================================================\n",
      "LLM prompt\n",
      "Question: Can you tell me about depression?\n",
      "\n",
      "Context: Depression Learn about depression, its symptoms and possible causes, and how you can access treatment and support. Find tips on caring for yourself, and guidance for friends and family.  What is depression? Depression is a mental health problem that involves having a low mood or losing interest and enjoyment in things. It can also cause a range of other changes to how you feel or behave.  The symptoms you experience may vary. How intense they are, how long they last, and how much they affect your daily life can also vary.  If you experience milder depression, you might have low mood but still be able to carry on with your daily life. But things may feel harder and less worthwhile.  If you have more severe depression, you might find day-to-day life much more difficult. You may also experience suicidal feelings.  It starts as sadness then I feel myself shutting down, becoming less capable of coping. Eventually, I just feel numb and empty.  When does low mood become depression? We all If you have depression, you might find that it interferes with different aspects of your life. For example, it might affect your ability to work, your relationships, or managing your finances. This can add extra stress to an already difficult experience. It may also feel hard to explain your thoughts and feelings to others. You might want to cut yourself off from other people instead. This could lead to you feeling isolated and lonely. It feels like I'm stuck under a huge grey-black cloud. It's dark and isolating, smothering me at every opportunity. Can depression be a symptom of other mental health problems? Symptoms of depression can also be part of other mental health problems, such as: Bipolar disorder, Borderline personality disorder (BPD) and other personality disorders, Schizoaffective disorder. If you experience low mood or suicidal thoughts, this might be the reason you first speak to your doctor about your mental health. And your doctor might offer you treatment for And your doctor might offer you treatment for depression without realising that you also experience other symptoms. If you think you're experiencing other symptoms, you can talk to your doctor about this to make sure you're getting the right treatment. very slowly, or being restless and agitated It felt like I was really tired, all the time. I had no energy or emotion about anything. Anxiety It's very common to experience depression and anxiety together. Some symptoms of depression can also be symptoms of anxiety, for example: Feeling restless, Finding it difficult to concentrate, Struggling to sleep I flit between states of anxiety and depression. At times, each seems to fuel the other. Self-harm and suicidal feelings If you're feeling low, you might self-harm to cope with difficult feelings. Although this might make you feel better in the short term, self-harm can be very dangerous. When you're feeling really low and hopeless, you may also find yourself thinking about suicide. This could be thinking about the idea of suicide, or considering a plan to end your life. These thoughts can feel difficult to control, and can be very frightening. Psychotic symptoms If you experience depression, you might also experience some psychotic\n",
      "\n",
      "\n"
     ]
    },
    {
     "name": "stderr",
     "output_type": "stream",
     "text": [
      "Token indices sequence length is longer than the specified maximum sequence length for this model (697 > 512). Running this sequence through the model will result in indexing errors\n"
     ]
    },
    {
     "name": "stdout",
     "output_type": "stream",
     "text": [
      "====================================================================================================\n",
      "LLM Response\n",
      "symptoms\n",
      "====================================================================================================\n",
      "Collection name: nhs_collection\n",
      "\u001b[1;35mLoad pretrained SentenceTransformer: hkunlp/instructor-base\u001b[0m\n",
      "load INSTRUCTOR_Transformer\n",
      "max_seq_length  512\n",
      "====================================================================================================\n",
      "LLM prompt\n",
      "Question: Can you tell me about depression?\n",
      "\n",
      "Context: Overview - Depression in adults Depression is more than simply feeling unhappy or fed up for a few days. Most people go through periods of feeling down, but when you're depressed you feel persistently sad for weeks or months, rather than just a few days. Some people think depression is trivial and not a genuine health condition. They're wrong – it is a real illness with real symptoms. Depression is not a sign of weakness or something you can \"snap out of\" by \"pulling yourself together\". The good news is that with the right treatment and support, most people with depression can make a full recovery. These pages are about depression in adults. Read about depression in children and young people. How to tell if you have depression Depression affects people in different ways and can cause a wide variety of symptoms. They range from lasting feelings of unhappiness and hopelessness, to losing interest in the things you used to enjoy and feeling very tearful. Many people with depression also very tearful. Many people with depression also have symptoms of anxiety . There can be physical symptoms too, such as feeling constantly tired, sleeping badly, having no appetite or sex drive, and various aches and pains. The symptoms of depression range from mild to severe. At its mildest, you may simply feel persistently low in spirit, while severe depression can make you feel suicidal, that life is no longer worth living. Most people experience feelings of stress, anxiety or low mood during difficult times. A low mood may improve after a short period of time, rather than being a sign of depression. When to see a doctor It's important to seek help from a GP if you think you may be depressed. Many people wait a long time before seeking help for depression, but it's best not to delay. The sooner you see a doctor, the sooner you can be on the way to recovery. What causes depression? Sometimes there's a trigger for depression. Life-changing events, such as bereavement, losing your job you get symptoms and how bad they are how long depression lasts the impact on your daily life A few people with severe depression may have symptoms of psychosis . You'll usually be asked to answer a set of questions to help doctors assess how severe your condition is. Grief and depression It can be difficult to distinguish between grief and depression. They share many of the same characteristics, but there are important differences between them. Grief is an entirely natural response to a loss, while depression is an illness. People who are grieving may have symptoms of depression, but they usually improve with time. For some people, bereavement can lead to depression. If you're grieving it's normal to have feelings of sadness. Some other symptoms of depression are rare with grief and bereavement, such as having suicidal thoughts, symptoms of psychosis and feeling hopeless or guilt-ridden. Other types of depression There are different types of depression, and some conditions where Symptoms - Depression in adults The symptoms of depression can be complex and vary widely between people. If you're depressed, you may feel sad, hopeless and lose interest in things you used to enjoy. The symptoms persist for weeks or months and are bad enough to interfere with your work, social life and family life. There are many other symptoms of depression and you're unlikely to have all of those listed on this page. Psychological symptoms The psychological symptoms of depression include: continuous low mood or sadness feeling hopeless and helpless having low self-esteem feeling tearful feeling guilt-ridden feeling irritable and intolerant of others having no motivation or interest in things finding it difficult to make decisions not getting any enjoyment out of life feeling anxious or worried having suicidal thoughts or thoughts of harming yourself. Physical symptoms The physical symptoms of depression include: moving or speaking more slowly than usual changes in appetite or\n",
      "\n",
      "\n"
     ]
    },
    {
     "name": "stderr",
     "output_type": "stream",
     "text": [
      "Token indices sequence length is longer than the specified maximum sequence length for this model (851 > 512). Running this sequence through the model will result in indexing errors\n"
     ]
    },
    {
     "name": "stdout",
     "output_type": "stream",
     "text": [
      "====================================================================================================\n",
      "LLM Response\n",
      "depression is more than simply feeling unhappy or fed up for a few days. Most people go through periods of feeling down, but when you're depressed you feel persistently sad for weeks or months, rather than just a few days.\n",
      "====================================================================================================\n",
      "Collection name: mind_collection\n",
      "\u001b[1;35mLoad pretrained SentenceTransformer: hkunlp/instructor-base\u001b[0m\n",
      "load INSTRUCTOR_Transformer\n",
      "max_seq_length  512\n",
      "====================================================================================================\n",
      "LLM prompt\n",
      "Question: What lifestyle changes are suggested for depression?\n",
      "\n",
      "Context: If you have depression, you might find that it interferes with different aspects of your life. For example, it might affect your ability to work, your relationships, or managing your finances. This can add extra stress to an already difficult experience. It may also feel hard to explain your thoughts and feelings to others. You might want to cut yourself off from other people instead. This could lead to you feeling isolated and lonely. It feels like I'm stuck under a huge grey-black cloud. It's dark and isolating, smothering me at every opportunity. Can depression be a symptom of other mental health problems? Symptoms of depression can also be part of other mental health problems, such as: Bipolar disorder, Borderline personality disorder (BPD) and other personality disorders, Schizoaffective disorder. If you experience low mood or suicidal thoughts, this might be the reason you first speak to your doctor about your mental health. And your doctor might offer you treatment for And your doctor might offer you treatment for depression without realising that you also experience other symptoms. If you think you're experiencing other symptoms, you can talk to your doctor about this to make sure you're getting the right treatment. Depression Learn about depression, its symptoms and possible causes, and how you can access treatment and support. Find tips on caring for yourself, and guidance for friends and family.  What is depression? Depression is a mental health problem that involves having a low mood or losing interest and enjoyment in things. It can also cause a range of other changes to how you feel or behave.  The symptoms you experience may vary. How intense they are, how long they last, and how much they affect your daily life can also vary.  If you experience milder depression, you might have low mood but still be able to carry on with your daily life. But things may feel harder and less worthwhile.  If you have more severe depression, you might find day-to-day life much more difficult. You may also experience suicidal feelings.  It starts as sadness then I feel myself shutting down, becoming less capable of coping. Eventually, I just feel numb and empty.  When does low mood become depression? We all Common signs and symptoms of depression These are some common signs of depression that you may experience:  How you might feel Down, upset or tearful Restless, agitated or irritable Guilty, worthless and down on yourself Empty and numb Isolated and unable to relate to other people Finding no pleasure in life or things you usually enjoy Angry or frustrated over minor things A sense of unreality No self-confidence or self-esteem Hopeless and despairing Feeling tired all the time How you might act Avoiding social events and activities you usually enjoy Self-harming or suicidal behaviour Difficulty speaking, thinking clearly or making decisions Losing interest in sex Difficulty remembering or concentrating on things Using more tobacco, alcohol or other drugs than usual Difficulty sleeping, or sleeping too much No appetite and losing weight, or eating more than usual and gaining weight Physical aches and pains with no obvious physical cause Moving very slowly, or being restless and agitated\n",
      "\n",
      "\n"
     ]
    },
    {
     "name": "stderr",
     "output_type": "stream",
     "text": [
      "Token indices sequence length is longer than the specified maximum sequence length for this model (708 > 512). Running this sequence through the model will result in indexing errors\n"
     ]
    },
    {
     "name": "stdout",
     "output_type": "stream",
     "text": [
      "====================================================================================================\n",
      "LLM Response\n",
      "cut yourself off from other people instead\n",
      "====================================================================================================\n",
      "Collection name: nhs_collection\n",
      "\u001b[1;35mLoad pretrained SentenceTransformer: hkunlp/instructor-base\u001b[0m\n",
      "load INSTRUCTOR_Transformer\n",
      "max_seq_length  512\n",
      "====================================================================================================\n",
      "LLM prompt\n",
      "Question: What lifestyle changes are suggested for depression?\n",
      "\n",
      "Context: mental health team for intensive specialist talking treatments and prescribed medicine. Living with depression Many people with depression benefit by making lifestyle changes, such as getting more exercise , cutting down on alcohol , giving up smoking and eating healthily . Reading a self-help book or joining a support group are also worthwhile. They can help you gain a better understanding about what causes you to feel depressed. Sharing your experiences with others in a similar situation can also be very supportive. Information: Social care and support guide If you: need help with day-to-day living because of illness or disability care for someone regularly because they're ill or disabled, or because of their age – including family members Our social care and support guide explains your options and where you can get support. events, such as bereavement, losing your job or giving birth, can bring it on. People with a family history of depression are more likely to experience it themselves. But you can also become depressed for no obvious reason. Treating depression Treatment for depression can involve a combination of lifestyle changes, talking therapies and medicine. Your recommended treatment will be based on how severe your depression is. If you have mild depression, your doctor may suggest waiting to see whether it improves on its own, while monitoring your progress. This is known as \"watchful waiting\". They may also suggest lifestyle measures such as exercise and guided self-help. Talking therapies, such as cognitive behavioural therapy (CBT) , may also be used for mild depression. For moderate to severe depression, a combination of talking therapy and antidepressants is often recommended. If you have severe depression, you may be referred to a specialist mental health team for intensive specialist more slowly than usual changes in appetite or weight (usually decreased, but sometimes increased) constipation unexplained aches and pains lack of energy low sex drive ( loss of libido ) disturbed sleep – for example, finding it difficult to fall asleep at night or waking up very early in the morning. Social symptoms The social symptoms of depression include: avoiding contact with friends and taking part in fewer social activities neglecting your hobbies and interests having difficulties in your home, work or family life. Severities of depression Depression can often come on gradually, so it can be difficult to notice something is wrong. Many people try to cope with their symptoms without realising they're unwell. It can sometimes take a friend or family member to suggest something is wrong. Doctors describe depression in adults as either less severe (mild) or more severe (moderate or severe), based on: the symptoms, including how often you get symptoms and how bad they are how long very tearful. Many people with depression also have symptoms of anxiety . There can be physical symptoms too, such as feeling constantly tired, sleeping badly, having no appetite or sex drive, and various aches and pains. The symptoms of depression range from mild to severe. At its mildest, you may simply feel persistently low in spirit, while severe depression can make you feel suicidal, that life is no longer worth living. Most people experience feelings of stress, anxiety or low mood during difficult times. A low mood may improve after a short period of time, rather than being a sign of depression. When to see a doctor It's important to seek help from a GP if you think you may be depressed. Many people wait a long time before seeking help for depression, but it's best not to delay. The sooner you see a doctor, the sooner you can be on the way to recovery. What causes depression? Sometimes there's a trigger for depression. Life-changing events, such as bereavement, losing your job\n",
      "\n",
      "\n"
     ]
    },
    {
     "name": "stderr",
     "output_type": "stream",
     "text": [
      "Token indices sequence length is longer than the specified maximum sequence length for this model (816 > 512). Running this sequence through the model will result in indexing errors\n"
     ]
    },
    {
     "name": "stdout",
     "output_type": "stream",
     "text": [
      "====================================================================================================\n",
      "LLM Response\n",
      "getting more exercise , cutting down on alcohol , giving up smoking and eating healthily\n",
      "====================================================================================================\n",
      "Collection name: mind_collection\n",
      "\u001b[1;35mLoad pretrained SentenceTransformer: hkunlp/instructor-base\u001b[0m\n",
      "load INSTRUCTOR_Transformer\n",
      "max_seq_length  512\n",
      "====================================================================================================\n",
      "LLM prompt\n",
      "Question: Are there different types of depressions?\n",
      "\n",
      "Context: When does low mood become depression? We all have times when our mood is low, and we feel sad or fed up. Often these feelings happen for a reason and pass on their own.  But it might be depression if the feelings become so bad that they interfere with our daily life. Or if they last for several weeks or months.  Are there different types of depression? If you're diagnosed with depression, you might also be told that it is ‘less severe’ or ‘more severe’. This describes how your symptoms are affecting you, and what treatment you're likely to be offered. You may find that the severity of your depression changes over time.  Sometimes you might hear depression being called ‘major depressive disorder’. There are some other types of depression too:  Persistent depressive disorder (PDD). PDD is continuous depression that lasts for two years or more. You may also hear it called dysthymia or chronic depression. Seasonal affective disorder (SAD). SAD is depression that occurs at a particular SAD is depression that occurs at a particular time of year, or during a particular season. See our page on SAD for more information. Antenatal depression. This is depression that occurs while you are pregnant. It is sometimes called prenatal depression. Postnatal depression (PND). This is depression that occurs in the first year after having a baby. This can include affecting dads and partners. Premenstrual dysphoric disorder (PMDD). This is a hormone-related disorder that affects your body but also how you feel. This can involve experiencing depression. So your doctor may describe this as a mental health problem. And your doctor might offer you treatment for depression without realising that you also experience other symptoms. If you think you're experiencing other symptoms, you can talk to your doctor about this to make sure you're getting the right treatment. If you have depression, you might find that it interferes with different aspects of your life. For example, it might affect your ability to work, your relationships, or managing your finances. This can add extra stress to an already difficult experience. It may also feel hard to explain your thoughts and feelings to others. You might want to cut yourself off from other people instead. This could lead to you feeling isolated and lonely. It feels like I'm stuck under a huge grey-black cloud. It's dark and isolating, smothering me at every opportunity. Can depression be a symptom of other mental health problems? Symptoms of depression can also be part of other mental health problems, such as: Bipolar disorder, Borderline personality disorder (BPD) and other personality disorders, Schizoaffective disorder. If you experience low mood or suicidal thoughts, this might be the reason you first speak to your doctor about your mental health. And your doctor might offer you treatment for\n",
      "\n",
      "\n"
     ]
    },
    {
     "name": "stderr",
     "output_type": "stream",
     "text": [
      "Token indices sequence length is longer than the specified maximum sequence length for this model (632 > 512). Running this sequence through the model will result in indexing errors\n"
     ]
    },
    {
     "name": "stdout",
     "output_type": "stream",
     "text": [
      "====================================================================================================\n",
      "LLM Response\n",
      "Persistent depressive disorder (PDD). Seasonal affective disorder (SAD). Antenatal depression (PND). Postnatal depression (PND). This is depression that occurs at a particular SAD is depression that occurs at a particular time of year, or during a particular season.\n",
      "====================================================================================================\n",
      "Collection name: nhs_collection\n",
      "\u001b[1;35mLoad pretrained SentenceTransformer: hkunlp/instructor-base\u001b[0m\n",
      "load INSTRUCTOR_Transformer\n",
      "max_seq_length  512\n",
      "====================================================================================================\n",
      "LLM prompt\n",
      "Question: Are there different types of depressions?\n",
      "\n",
      "Context: types of depression, and some conditions where depression may be one of the symptoms. These include: postnatal depression – sometimes new mothers, fathers or partners develop depression after they have a baby; this is known as postnatal depression and it's treated in a similar way to other types of depression, with talking therapies and antidepressant medicines bipolar disorder – also known as \"manic depression\", in bipolar disorder there are spells of both depression and excessively high mood (mania); the depression symptoms are similar to depression, but the bouts of mania can include harmful behaviour, such as gambling, going on spending sprees and having unsafe sex seasonal affective disorder (SAD) – also known as \"winter depression\", SAD is a type of depression with a seasonal pattern usually related to winter premenstrual dysphoric disorder (PMDD) – a severe type of premenstrual syndrome (PMS) where you have symptoms including feelings of depression and anxiety in the weeks you get symptoms and how bad they are how long depression lasts the impact on your daily life A few people with severe depression may have symptoms of psychosis . You'll usually be asked to answer a set of questions to help doctors assess how severe your condition is. Grief and depression It can be difficult to distinguish between grief and depression. They share many of the same characteristics, but there are important differences between them. Grief is an entirely natural response to a loss, while depression is an illness. People who are grieving may have symptoms of depression, but they usually improve with time. For some people, bereavement can lead to depression. If you're grieving it's normal to have feelings of sadness. Some other symptoms of depression are rare with grief and bereavement, such as having suicidal thoughts, symptoms of psychosis and feeling hopeless or guilt-ridden. Other types of depression There are different types of depression, and some conditions where very tearful. Many people with depression also have symptoms of anxiety . There can be physical symptoms too, such as feeling constantly tired, sleeping badly, having no appetite or sex drive, and various aches and pains. The symptoms of depression range from mild to severe. At its mildest, you may simply feel persistently low in spirit, while severe depression can make you feel suicidal, that life is no longer worth living. Most people experience feelings of stress, anxiety or low mood during difficult times. A low mood may improve after a short period of time, rather than being a sign of depression. When to see a doctor It's important to seek help from a GP if you think you may be depressed. Many people wait a long time before seeking help for depression, but it's best not to delay. The sooner you see a doctor, the sooner you can be on the way to recovery. What causes depression? Sometimes there's a trigger for depression. Life-changing events, such as bereavement, losing your job Overview - Depression in adults Depression is more than simply feeling unhappy or fed up for a few days. Most people go through periods of feeling down, but when you're depressed you feel persistently sad for weeks or months, rather than just a few days. Some people think depression is trivial and not a genuine health condition. They're wrong – it is a real illness with real symptoms. Depression is not a sign of weakness or something you can \"snap out of\" by \"pulling yourself together\". The good news is that with the right treatment and support, most people with depression can make a full recovery. These pages are about depression in adults. Read about depression in children and young people. How to tell if you have depression Depression affects people in different ways and can cause a wide variety of symptoms. They range from lasting feelings of unhappiness and hopelessness, to losing interest in the things you used to enjoy and feeling very tearful. Many people with depression also\n",
      "\n",
      "\n"
     ]
    },
    {
     "name": "stderr",
     "output_type": "stream",
     "text": [
      "Token indices sequence length is longer than the specified maximum sequence length for this model (880 > 512). Running this sequence through the model will result in indexing errors\n"
     ]
    },
    {
     "name": "stdout",
     "output_type": "stream",
     "text": [
      "====================================================================================================\n",
      "LLM Response\n",
      "There are different types of depression, and some conditions where very tearful. Many people with depression also have symptoms of anxiety\n",
      "====================================================================================================\n"
     ]
    }
   ],
   "source": [
    "results_df = get_llm_prompt_response(QUESTIONS, enable_chunking = True, is_new_experiment = True, chunk_size = 1000, chunk_overlap = 50)"
   ]
  },
  {
   "cell_type": "code",
   "execution_count": 45,
   "id": "feaa5b3e-9c17-4b05-bc1c-fe1adbf37626",
   "metadata": {},
   "outputs": [
    {
     "data": {
      "text/html": [
       "<div>\n",
       "<style scoped>\n",
       "    .dataframe tbody tr th:only-of-type {\n",
       "        vertical-align: middle;\n",
       "    }\n",
       "\n",
       "    .dataframe tbody tr th {\n",
       "        vertical-align: top;\n",
       "    }\n",
       "\n",
       "    .dataframe thead th {\n",
       "        text-align: right;\n",
       "    }\n",
       "</style>\n",
       "<table border=\"1\" class=\"dataframe\">\n",
       "  <thead>\n",
       "    <tr style=\"text-align: right;\">\n",
       "      <th></th>\n",
       "      <th>mind_response</th>\n",
       "      <th>nhs_response</th>\n",
       "      <th>question</th>\n",
       "    </tr>\n",
       "  </thead>\n",
       "  <tbody>\n",
       "    <tr>\n",
       "      <th>0</th>\n",
       "      <td>symptoms</td>\n",
       "      <td>depression is more than simply feeling unhappy or fed up for a few days. Most people go through periods of feeling down, but when you're depressed you feel persistently sad for weeks or months, rather than just a few days.</td>\n",
       "      <td>Can you tell me about depression?</td>\n",
       "    </tr>\n",
       "    <tr>\n",
       "      <th>1</th>\n",
       "      <td>cut yourself off from other people instead</td>\n",
       "      <td>getting more exercise , cutting down on alcohol , giving up smoking and eating healthily</td>\n",
       "      <td>What lifestyle changes are suggested for depression?</td>\n",
       "    </tr>\n",
       "    <tr>\n",
       "      <th>2</th>\n",
       "      <td>Persistent depressive disorder (PDD). Seasonal affective disorder (SAD). Antenatal depression (PND). Postnatal depression (PND). This is depression that occurs at a particular SAD is depression that occurs at a particular time of year, or during a particular season.</td>\n",
       "      <td>There are different types of depression, and some conditions where very tearful. Many people with depression also have symptoms of anxiety</td>\n",
       "      <td>Are there different types of depressions?</td>\n",
       "    </tr>\n",
       "  </tbody>\n",
       "</table>\n",
       "</div>"
      ],
      "text/plain": [
       "                                                                                                                                                                                                                                                                mind_response  \\\n",
       "0                                                                                                                                                                                                                                                                    symptoms   \n",
       "1                                                                                                                                                                                                                                  cut yourself off from other people instead   \n",
       "2  Persistent depressive disorder (PDD). Seasonal affective disorder (SAD). Antenatal depression (PND). Postnatal depression (PND). This is depression that occurs at a particular SAD is depression that occurs at a particular time of year, or during a particular season.   \n",
       "\n",
       "                                                                                                                                                                                                                     nhs_response  \\\n",
       "0  depression is more than simply feeling unhappy or fed up for a few days. Most people go through periods of feeling down, but when you're depressed you feel persistently sad for weeks or months, rather than just a few days.   \n",
       "1                                                                                                                                        getting more exercise , cutting down on alcohol , giving up smoking and eating healthily   \n",
       "2                                                                                      There are different types of depression, and some conditions where very tearful. Many people with depression also have symptoms of anxiety   \n",
       "\n",
       "                                               question  \n",
       "0                     Can you tell me about depression?  \n",
       "1  What lifestyle changes are suggested for depression?  \n",
       "2             Are there different types of depressions?  "
      ]
     },
     "execution_count": 45,
     "metadata": {},
     "output_type": "execute_result"
    }
   ],
   "source": [
    "results_df"
   ]
  },
  {
   "cell_type": "markdown",
   "id": "dc7aa1c4-1511-43f7-8eac-f19b06cbd825",
   "metadata": {},
   "source": [
    "### chunk_size = 1500 and chunk_overlap = 50"
   ]
  },
  {
   "cell_type": "code",
   "execution_count": 36,
   "id": "b2a95b3a-e146-4eb5-b652-09403eb8ddd5",
   "metadata": {
    "scrolled": true
   },
   "outputs": [
    {
     "name": "stdout",
     "output_type": "stream",
     "text": [
      "Found 2 collections\n",
      "\u001b[1;35mLoad pretrained SentenceTransformer: hkunlp/instructor-base\u001b[0m\n",
      "load INSTRUCTOR_Transformer\n",
      "max_seq_length  512\n",
      "Inserting data into collection nhs_collection\n",
      "Chunking enabled = True\n",
      "Using chunk_size=1500 and chunk_overlap=50\n",
      "Inserting data into collection mind_collection\n",
      "Chunking enabled = True\n",
      "Using chunk_size=1500 and chunk_overlap=50\n",
      "Time taken to insert data in chroma store 2.616422502003843 sec\n",
      "Collection name: mind_collection\n",
      "\u001b[1;35mLoad pretrained SentenceTransformer: hkunlp/instructor-base\u001b[0m\n",
      "load INSTRUCTOR_Transformer\n",
      "max_seq_length  512\n",
      "====================================================================================================\n",
      "LLM prompt\n",
      "Question: Can you tell me about depression?\n",
      "\n",
      "Context: Depression Learn about depression, its symptoms and possible causes, and how you can access treatment and support. Find tips on caring for yourself, and guidance for friends and family.  What is depression? Depression is a mental health problem that involves having a low mood or losing interest and enjoyment in things. It can also cause a range of other changes to how you feel or behave.  The symptoms you experience may vary. How intense they are, how long they last, and how much they affect your daily life can also vary.  If you experience milder depression, you might have low mood but still be able to carry on with your daily life. But things may feel harder and less worthwhile.  If you have more severe depression, you might find day-to-day life much more difficult. You may also experience suicidal feelings.  It starts as sadness then I feel myself shutting down, becoming less capable of coping. Eventually, I just feel numb and empty.  When does low mood become depression? We all have times when our mood is low, and we feel sad or fed up. Often these feelings happen for a reason and pass on their own.  But it might be depression if the feelings become so bad that they interfere with our daily life. Or if they last for several weeks or months.  Are there different types of depression? If you're diagnosed with depression, you might also be told that it is ‘less severe’ or ‘more severe’. This describes how your symptoms are affecting you, and what treatment you're likely to be that it interferes with different aspects of your life. For example, it might affect your ability to work, your relationships, or managing your finances. This can add extra stress to an already difficult experience. It may also feel hard to explain your thoughts and feelings to others. You might want to cut yourself off from other people instead. This could lead to you feeling isolated and lonely. It feels like I'm stuck under a huge grey-black cloud. It's dark and isolating, smothering me at every opportunity. Can depression be a symptom of other mental health problems? Symptoms of depression can also be part of other mental health problems, such as: Bipolar disorder, Borderline personality disorder (BPD) and other personality disorders, Schizoaffective disorder. If you experience low mood or suicidal thoughts, this might be the reason you first speak to your doctor about your mental health. And your doctor might offer you treatment for depression without realising that you also experience other symptoms. If you think you're experiencing other symptoms, you can talk to your doctor about this to make sure you're getting the right treatment. Common signs and symptoms of depression These are some common signs of depression that you may experience:  How you might feel Down, upset or tearful Restless, agitated or irritable Guilty, worthless and down on yourself Empty and numb Isolated and unable to relate to other people Finding no pleasure in life or things you usually enjoy Angry or frustrated over minor things A sense of unreality No self-confidence or self-esteem Hopeless and despairing Feeling tired all the time How you might act Avoiding social events and activities you usually enjoy Self-harming or suicidal behaviour Difficulty speaking, thinking clearly or making decisions Losing interest in sex Difficulty remembering or concentrating on things Using more tobacco, alcohol or other drugs than usual Difficulty sleeping, or sleeping too much No appetite and losing weight, or eating more than usual and gaining weight Physical aches and pains with no obvious physical cause Moving very slowly, or being restless and agitated It felt like I was really tired, all the time. I had no energy or emotion about anything. Anxiety It's very common to experience depression and anxiety together. Some symptoms of depression can also be symptoms of anxiety, for example: Feeling restless, Finding it difficult to concentrate, Struggling to sleep I flit between states of anxiety and depression. At times, each seems to fuel the other. Self-harm and suicidal feelings If you're feeling low, you might self-harm to cope with difficult you, and what treatment you're likely to be offered. You may find that the severity of your depression changes over time.  Sometimes you might hear depression being called ‘major depressive disorder’. There are some other types of depression too:  Persistent depressive disorder (PDD). PDD is continuous depression that lasts for two years or more. You may also hear it called dysthymia or chronic depression. Seasonal affective disorder (SAD). SAD is depression that occurs at a particular time of year, or during a particular season. See our page on SAD for more information. Antenatal depression. This is depression that occurs while you are pregnant. It is sometimes called prenatal depression. Postnatal depression (PND). This is depression that occurs in the first year after having a baby. This can include affecting dads and partners. Premenstrual dysphoric disorder (PMDD). This is a hormone-related disorder that affects your body but also how you feel. This can involve experiencing depression. So your doctor may describe this as a mental health problem.\n",
      "\n",
      "\n"
     ]
    },
    {
     "name": "stderr",
     "output_type": "stream",
     "text": [
      "Token indices sequence length is longer than the specified maximum sequence length for this model (1153 > 512). Running this sequence through the model will result in indexing errors\n"
     ]
    },
    {
     "name": "stdout",
     "output_type": "stream",
     "text": [
      "====================================================================================================\n",
      "LLM Response\n",
      "It can affect your daily life.\n",
      "====================================================================================================\n",
      "Collection name: nhs_collection\n",
      "\u001b[1;35mLoad pretrained SentenceTransformer: hkunlp/instructor-base\u001b[0m\n",
      "load INSTRUCTOR_Transformer\n",
      "max_seq_length  512\n",
      "====================================================================================================\n",
      "LLM prompt\n",
      "Question: Can you tell me about depression?\n",
      "\n",
      "Context: Overview - Depression in adults Depression is more than simply feeling unhappy or fed up for a few days. Most people go through periods of feeling down, but when you're depressed you feel persistently sad for weeks or months, rather than just a few days. Some people think depression is trivial and not a genuine health condition. They're wrong – it is a real illness with real symptoms. Depression is not a sign of weakness or something you can \"snap out of\" by \"pulling yourself together\". The good news is that with the right treatment and support, most people with depression can make a full recovery. These pages are about depression in adults. Read about depression in children and young people. How to tell if you have depression Depression affects people in different ways and can cause a wide variety of symptoms. They range from lasting feelings of unhappiness and hopelessness, to losing interest in the things you used to enjoy and feeling very tearful. Many people with depression also have symptoms of anxiety . There can be physical symptoms too, such as feeling constantly tired, sleeping badly, having no appetite or sex drive, and various aches and pains. The symptoms of depression range from mild to severe. At its mildest, you may simply feel persistently low in spirit, while severe depression can make you feel suicidal, that life is no longer worth living. Most people experience feelings of stress, anxiety or low mood during difficult times. A low mood may improve after a Symptoms - Depression in adults The symptoms of depression can be complex and vary widely between people. If you're depressed, you may feel sad, hopeless and lose interest in things you used to enjoy. The symptoms persist for weeks or months and are bad enough to interfere with your work, social life and family life. There are many other symptoms of depression and you're unlikely to have all of those listed on this page. Psychological symptoms The psychological symptoms of depression include: continuous low mood or sadness feeling hopeless and helpless having low self-esteem feeling tearful feeling guilt-ridden feeling irritable and intolerant of others having no motivation or interest in things finding it difficult to make decisions not getting any enjoyment out of life feeling anxious or worried having suicidal thoughts or thoughts of harming yourself. Physical symptoms The physical symptoms of depression include: moving or speaking more slowly than usual changes in appetite or weight (usually decreased, but sometimes increased) constipation unexplained aches and pains lack of energy low sex drive ( loss of libido ) disturbed sleep – for example, finding it difficult to fall asleep at night or waking up very early in the morning. Social symptoms The social symptoms of depression include: avoiding contact with friends and taking part in fewer social activities neglecting your hobbies and interests having difficulties in your home, work or family life. Severities of in your home, work or family life. Severities of depression Depression can often come on gradually, so it can be difficult to notice something is wrong. Many people try to cope with their symptoms without realising they're unwell. It can sometimes take a friend or family member to suggest something is wrong. Doctors describe depression in adults as either less severe (mild) or more severe (moderate or severe), based on: the symptoms, including how often you get symptoms and how bad they are how long depression lasts the impact on your daily life A few people with severe depression may have symptoms of psychosis . You'll usually be asked to answer a set of questions to help doctors assess how severe your condition is. Grief and depression It can be difficult to distinguish between grief and depression. They share many of the same characteristics, but there are important differences between them. Grief is an entirely natural response to a loss, while depression is an illness. People who are grieving may have symptoms of depression, but they usually improve with time. For some people, bereavement can lead to depression. If you're grieving it's normal to have feelings of sadness. Some other symptoms of depression are rare with grief and bereavement, such as having suicidal thoughts, symptoms of psychosis and feeling hopeless or guilt-ridden. Other types of depression There are different types of depression, and some conditions where depression may be one of the symptoms. These difficult times. A low mood may improve after a short period of time, rather than being a sign of depression. When to see a doctor It's important to seek help from a GP if you think you may be depressed. Many people wait a long time before seeking help for depression, but it's best not to delay. The sooner you see a doctor, the sooner you can be on the way to recovery. What causes depression? Sometimes there's a trigger for depression. Life-changing events, such as bereavement, losing your job or giving birth, can bring it on. People with a family history of depression are more likely to experience it themselves. But you can also become depressed for no obvious reason. Treating depression Treatment for depression can involve a combination of lifestyle changes, talking therapies and medicine. Your recommended treatment will be based on how severe your depression is. If you have mild depression, your doctor may suggest waiting to see whether it improves on its own, while monitoring your progress. This is known as \"watchful waiting\". They may also suggest lifestyle measures such as exercise and guided self-help. Talking therapies, such as cognitive behavioural therapy (CBT) , may also be used for mild depression. For moderate to severe depression, a combination of talking therapy and antidepressants is often recommended. If you have severe depression, you may be referred to a specialist mental health team for intensive specialist talking treatments and prescribed medicine.\n",
      "\n",
      "\n"
     ]
    },
    {
     "name": "stderr",
     "output_type": "stream",
     "text": [
      "Token indices sequence length is longer than the specified maximum sequence length for this model (1262 > 512). Running this sequence through the model will result in indexing errors\n"
     ]
    },
    {
     "name": "stdout",
     "output_type": "stream",
     "text": [
      "====================================================================================================\n",
      "LLM Response\n",
      "Depression is more than simply feeling unhappy or fed up for a few days. Most people go through periods of feeling down, but when you're depressed you feel persistently sad for weeks or months, rather than just a few days.\n",
      "====================================================================================================\n",
      "Collection name: mind_collection\n",
      "\u001b[1;35mLoad pretrained SentenceTransformer: hkunlp/instructor-base\u001b[0m\n",
      "load INSTRUCTOR_Transformer\n",
      "max_seq_length  512\n",
      "====================================================================================================\n",
      "LLM prompt\n",
      "Question: What lifestyle changes are suggested for depression?\n",
      "\n",
      "Context: you, and what treatment you're likely to be offered. You may find that the severity of your depression changes over time.  Sometimes you might hear depression being called ‘major depressive disorder’. There are some other types of depression too:  Persistent depressive disorder (PDD). PDD is continuous depression that lasts for two years or more. You may also hear it called dysthymia or chronic depression. Seasonal affective disorder (SAD). SAD is depression that occurs at a particular time of year, or during a particular season. See our page on SAD for more information. Antenatal depression. This is depression that occurs while you are pregnant. It is sometimes called prenatal depression. Postnatal depression (PND). This is depression that occurs in the first year after having a baby. This can include affecting dads and partners. Premenstrual dysphoric disorder (PMDD). This is a hormone-related disorder that affects your body but also how you feel. This can involve experiencing depression. So your doctor may describe this as a mental health problem. that it interferes with different aspects of your life. For example, it might affect your ability to work, your relationships, or managing your finances. This can add extra stress to an already difficult experience. It may also feel hard to explain your thoughts and feelings to others. You might want to cut yourself off from other people instead. This could lead to you feeling isolated and lonely. It feels like I'm stuck under a huge grey-black cloud. It's dark and isolating, smothering me at every opportunity. Can depression be a symptom of other mental health problems? Symptoms of depression can also be part of other mental health problems, such as: Bipolar disorder, Borderline personality disorder (BPD) and other personality disorders, Schizoaffective disorder. If you experience low mood or suicidal thoughts, this might be the reason you first speak to your doctor about your mental health. And your doctor might offer you treatment for depression without realising that you also experience other symptoms. If you think you're experiencing other symptoms, you can talk to your doctor about this to make sure you're getting the right treatment. Depression Learn about depression, its symptoms and possible causes, and how you can access treatment and support. Find tips on caring for yourself, and guidance for friends and family.  What is depression? Depression is a mental health problem that involves having a low mood or losing interest and enjoyment in things. It can also cause a range of other changes to how you feel or behave.  The symptoms you experience may vary. How intense they are, how long they last, and how much they affect your daily life can also vary.  If you experience milder depression, you might have low mood but still be able to carry on with your daily life. But things may feel harder and less worthwhile.  If you have more severe depression, you might find day-to-day life much more difficult. You may also experience suicidal feelings.  It starts as sadness then I feel myself shutting down, becoming less capable of coping. Eventually, I just feel numb and empty.  When does low mood become depression? We all have times when our mood is low, and we feel sad or fed up. Often these feelings happen for a reason and pass on their own.  But it might be depression if the feelings become so bad that they interfere with our daily life. Or if they last for several weeks or months.  Are there different types of depression? If you're diagnosed with depression, you might also be told that it is ‘less severe’ or ‘more severe’. This describes how your symptoms are affecting you, and what treatment you're likely to be Common signs and symptoms of depression These are some common signs of depression that you may experience:  How you might feel Down, upset or tearful Restless, agitated or irritable Guilty, worthless and down on yourself Empty and numb Isolated and unable to relate to other people Finding no pleasure in life or things you usually enjoy Angry or frustrated over minor things A sense of unreality No self-confidence or self-esteem Hopeless and despairing Feeling tired all the time How you might act Avoiding social events and activities you usually enjoy Self-harming or suicidal behaviour Difficulty speaking, thinking clearly or making decisions Losing interest in sex Difficulty remembering or concentrating on things Using more tobacco, alcohol or other drugs than usual Difficulty sleeping, or sleeping too much No appetite and losing weight, or eating more than usual and gaining weight Physical aches and pains with no obvious physical cause Moving very slowly, or being restless and agitated It felt like I was really tired, all the time. I had no energy or emotion about anything. Anxiety It's very common to experience depression and anxiety together. Some symptoms of depression can also be symptoms of anxiety, for example: Feeling restless, Finding it difficult to concentrate, Struggling to sleep I flit between states of anxiety and depression. At times, each seems to fuel the other. Self-harm and suicidal feelings If you're feeling low, you might self-harm to cope with difficult\n",
      "\n",
      "\n"
     ]
    },
    {
     "name": "stderr",
     "output_type": "stream",
     "text": [
      "Token indices sequence length is longer than the specified maximum sequence length for this model (1154 > 512). Running this sequence through the model will result in indexing errors\n"
     ]
    },
    {
     "name": "stdout",
     "output_type": "stream",
     "text": [
      "====================================================================================================\n",
      "LLM Response\n",
      "Cut yourself off from other people\n",
      "====================================================================================================\n",
      "Collection name: nhs_collection\n",
      "\u001b[1;35mLoad pretrained SentenceTransformer: hkunlp/instructor-base\u001b[0m\n",
      "load INSTRUCTOR_Transformer\n",
      "max_seq_length  512\n",
      "====================================================================================================\n",
      "LLM prompt\n",
      "Question: What lifestyle changes are suggested for depression?\n",
      "\n",
      "Context: talking treatments and prescribed medicine. Living with depression Many people with depression benefit by making lifestyle changes, such as getting more exercise , cutting down on alcohol , giving up smoking and eating healthily . Reading a self-help book or joining a support group are also worthwhile. They can help you gain a better understanding about what causes you to feel depressed. Sharing your experiences with others in a similar situation can also be very supportive. Information: Social care and support guide If you: need help with day-to-day living because of illness or disability care for someone regularly because they're ill or disabled, or because of their age – including family members Our social care and support guide explains your options and where you can get support. difficult times. A low mood may improve after a short period of time, rather than being a sign of depression. When to see a doctor It's important to seek help from a GP if you think you may be depressed. Many people wait a long time before seeking help for depression, but it's best not to delay. The sooner you see a doctor, the sooner you can be on the way to recovery. What causes depression? Sometimes there's a trigger for depression. Life-changing events, such as bereavement, losing your job or giving birth, can bring it on. People with a family history of depression are more likely to experience it themselves. But you can also become depressed for no obvious reason. Treating depression Treatment for depression can involve a combination of lifestyle changes, talking therapies and medicine. Your recommended treatment will be based on how severe your depression is. If you have mild depression, your doctor may suggest waiting to see whether it improves on its own, while monitoring your progress. This is known as \"watchful waiting\". They may also suggest lifestyle measures such as exercise and guided self-help. Talking therapies, such as cognitive behavioural therapy (CBT) , may also be used for mild depression. For moderate to severe depression, a combination of talking therapy and antidepressants is often recommended. If you have severe depression, you may be referred to a specialist mental health team for intensive specialist talking treatments and prescribed medicine. Symptoms - Depression in adults The symptoms of depression can be complex and vary widely between people. If you're depressed, you may feel sad, hopeless and lose interest in things you used to enjoy. The symptoms persist for weeks or months and are bad enough to interfere with your work, social life and family life. There are many other symptoms of depression and you're unlikely to have all of those listed on this page. Psychological symptoms The psychological symptoms of depression include: continuous low mood or sadness feeling hopeless and helpless having low self-esteem feeling tearful feeling guilt-ridden feeling irritable and intolerant of others having no motivation or interest in things finding it difficult to make decisions not getting any enjoyment out of life feeling anxious or worried having suicidal thoughts or thoughts of harming yourself. Physical symptoms The physical symptoms of depression include: moving or speaking more slowly than usual changes in appetite or weight (usually decreased, but sometimes increased) constipation unexplained aches and pains lack of energy low sex drive ( loss of libido ) disturbed sleep – for example, finding it difficult to fall asleep at night or waking up very early in the morning. Social symptoms The social symptoms of depression include: avoiding contact with friends and taking part in fewer social activities neglecting your hobbies and interests having difficulties in your home, work or family life. Severities of Overview - Depression in adults Depression is more than simply feeling unhappy or fed up for a few days. Most people go through periods of feeling down, but when you're depressed you feel persistently sad for weeks or months, rather than just a few days. Some people think depression is trivial and not a genuine health condition. They're wrong – it is a real illness with real symptoms. Depression is not a sign of weakness or something you can \"snap out of\" by \"pulling yourself together\". The good news is that with the right treatment and support, most people with depression can make a full recovery. These pages are about depression in adults. Read about depression in children and young people. How to tell if you have depression Depression affects people in different ways and can cause a wide variety of symptoms. They range from lasting feelings of unhappiness and hopelessness, to losing interest in the things you used to enjoy and feeling very tearful. Many people with depression also have symptoms of anxiety . There can be physical symptoms too, such as feeling constantly tired, sleeping badly, having no appetite or sex drive, and various aches and pains. The symptoms of depression range from mild to severe. At its mildest, you may simply feel persistently low in spirit, while severe depression can make you feel suicidal, that life is no longer worth living. Most people experience feelings of stress, anxiety or low mood during difficult times. A low mood may improve after a\n",
      "\n",
      "\n"
     ]
    },
    {
     "name": "stderr",
     "output_type": "stream",
     "text": [
      "Token indices sequence length is longer than the specified maximum sequence length for this model (1105 > 512). Running this sequence through the model will result in indexing errors\n"
     ]
    },
    {
     "name": "stdout",
     "output_type": "stream",
     "text": [
      "====================================================================================================\n",
      "LLM Response\n",
      "getting more exercise , cutting down on alcohol , giving up smoking and eating healthily\n",
      "====================================================================================================\n",
      "Collection name: mind_collection\n",
      "\u001b[1;35mLoad pretrained SentenceTransformer: hkunlp/instructor-base\u001b[0m\n",
      "load INSTRUCTOR_Transformer\n",
      "max_seq_length  512\n",
      "====================================================================================================\n",
      "LLM prompt\n",
      "Question: Are there different types of depressions?\n",
      "\n",
      "Context: you, and what treatment you're likely to be offered. You may find that the severity of your depression changes over time.  Sometimes you might hear depression being called ‘major depressive disorder’. There are some other types of depression too:  Persistent depressive disorder (PDD). PDD is continuous depression that lasts for two years or more. You may also hear it called dysthymia or chronic depression. Seasonal affective disorder (SAD). SAD is depression that occurs at a particular time of year, or during a particular season. See our page on SAD for more information. Antenatal depression. This is depression that occurs while you are pregnant. It is sometimes called prenatal depression. Postnatal depression (PND). This is depression that occurs in the first year after having a baby. This can include affecting dads and partners. Premenstrual dysphoric disorder (PMDD). This is a hormone-related disorder that affects your body but also how you feel. This can involve experiencing depression. So your doctor may describe this as a mental health problem. Depression Learn about depression, its symptoms and possible causes, and how you can access treatment and support. Find tips on caring for yourself, and guidance for friends and family.  What is depression? Depression is a mental health problem that involves having a low mood or losing interest and enjoyment in things. It can also cause a range of other changes to how you feel or behave.  The symptoms you experience may vary. How intense they are, how long they last, and how much they affect your daily life can also vary.  If you experience milder depression, you might have low mood but still be able to carry on with your daily life. But things may feel harder and less worthwhile.  If you have more severe depression, you might find day-to-day life much more difficult. You may also experience suicidal feelings.  It starts as sadness then I feel myself shutting down, becoming less capable of coping. Eventually, I just feel numb and empty.  When does low mood become depression? We all have times when our mood is low, and we feel sad or fed up. Often these feelings happen for a reason and pass on their own.  But it might be depression if the feelings become so bad that they interfere with our daily life. Or if they last for several weeks or months.  Are there different types of depression? If you're diagnosed with depression, you might also be told that it is ‘less severe’ or ‘more severe’. This describes how your symptoms are affecting you, and what treatment you're likely to be that it interferes with different aspects of your life. For example, it might affect your ability to work, your relationships, or managing your finances. This can add extra stress to an already difficult experience. It may also feel hard to explain your thoughts and feelings to others. You might want to cut yourself off from other people instead. This could lead to you feeling isolated and lonely. It feels like I'm stuck under a huge grey-black cloud. It's dark and isolating, smothering me at every opportunity. Can depression be a symptom of other mental health problems? Symptoms of depression can also be part of other mental health problems, such as: Bipolar disorder, Borderline personality disorder (BPD) and other personality disorders, Schizoaffective disorder. If you experience low mood or suicidal thoughts, this might be the reason you first speak to your doctor about your mental health. And your doctor might offer you treatment for depression without realising that you also experience other symptoms. If you think you're experiencing other symptoms, you can talk to your doctor about this to make sure you're getting the right treatment. Common signs and symptoms of depression These are some common signs of depression that you may experience:  How you might feel Down, upset or tearful Restless, agitated or irritable Guilty, worthless and down on yourself Empty and numb Isolated and unable to relate to other people Finding no pleasure in life or things you usually enjoy Angry or frustrated over minor things A sense of unreality No self-confidence or self-esteem Hopeless and despairing Feeling tired all the time How you might act Avoiding social events and activities you usually enjoy Self-harming or suicidal behaviour Difficulty speaking, thinking clearly or making decisions Losing interest in sex Difficulty remembering or concentrating on things Using more tobacco, alcohol or other drugs than usual Difficulty sleeping, or sleeping too much No appetite and losing weight, or eating more than usual and gaining weight Physical aches and pains with no obvious physical cause Moving very slowly, or being restless and agitated It felt like I was really tired, all the time. I had no energy or emotion about anything. Anxiety It's very common to experience depression and anxiety together. Some symptoms of depression can also be symptoms of anxiety, for example: Feeling restless, Finding it difficult to concentrate, Struggling to sleep I flit between states of anxiety and depression. At times, each seems to fuel the other. Self-harm and suicidal feelings If you're feeling low, you might self-harm to cope with difficult\n",
      "\n",
      "\n"
     ]
    },
    {
     "name": "stderr",
     "output_type": "stream",
     "text": [
      "Token indices sequence length is longer than the specified maximum sequence length for this model (1154 > 512). Running this sequence through the model will result in indexing errors\n"
     ]
    },
    {
     "name": "stdout",
     "output_type": "stream",
     "text": [
      "====================================================================================================\n",
      "LLM Response\n",
      "There are some other types of depression too: Persistent depressive disorder (PDD). PDD is continuous depression that lasts for two years or more. You may also hear it called ‘Dysthymia or chronic depression.\n",
      "====================================================================================================\n",
      "Collection name: nhs_collection\n",
      "\u001b[1;35mLoad pretrained SentenceTransformer: hkunlp/instructor-base\u001b[0m\n",
      "load INSTRUCTOR_Transformer\n",
      "max_seq_length  512\n",
      "====================================================================================================\n",
      "LLM prompt\n",
      "Question: Are there different types of depressions?\n",
      "\n",
      "Context: in your home, work or family life. Severities of depression Depression can often come on gradually, so it can be difficult to notice something is wrong. Many people try to cope with their symptoms without realising they're unwell. It can sometimes take a friend or family member to suggest something is wrong. Doctors describe depression in adults as either less severe (mild) or more severe (moderate or severe), based on: the symptoms, including how often you get symptoms and how bad they are how long depression lasts the impact on your daily life A few people with severe depression may have symptoms of psychosis . You'll usually be asked to answer a set of questions to help doctors assess how severe your condition is. Grief and depression It can be difficult to distinguish between grief and depression. They share many of the same characteristics, but there are important differences between them. Grief is an entirely natural response to a loss, while depression is an illness. People who are grieving may have symptoms of depression, but they usually improve with time. For some people, bereavement can lead to depression. If you're grieving it's normal to have feelings of sadness. Some other symptoms of depression are rare with grief and bereavement, such as having suicidal thoughts, symptoms of psychosis and feeling hopeless or guilt-ridden. Other types of depression There are different types of depression, and some conditions where depression may be one of the symptoms. These depression may be one of the symptoms. These include: postnatal depression – sometimes new mothers, fathers or partners develop depression after they have a baby; this is known as postnatal depression and it's treated in a similar way to other types of depression, with talking therapies and antidepressant medicines bipolar disorder – also known as \"manic depression\", in bipolar disorder there are spells of both depression and excessively high mood (mania); the depression symptoms are similar to depression, but the bouts of mania can include harmful behaviour, such as gambling, going on spending sprees and having unsafe sex seasonal affective disorder (SAD) – also known as \"winter depression\", SAD is a type of depression with a seasonal pattern usually related to winter premenstrual dysphoric disorder (PMDD) – a severe type of premenstrual syndrome (PMS) where you have symptoms including feelings of depression and anxiety in the weeks before your period. When to seek help See a GP if you experience symptoms of depression for most of the day, every day, for more than 2 weeks. A low mood may improve after a short time. Overview - Depression in adults Depression is more than simply feeling unhappy or fed up for a few days. Most people go through periods of feeling down, but when you're depressed you feel persistently sad for weeks or months, rather than just a few days. Some people think depression is trivial and not a genuine health condition. They're wrong – it is a real illness with real symptoms. Depression is not a sign of weakness or something you can \"snap out of\" by \"pulling yourself together\". The good news is that with the right treatment and support, most people with depression can make a full recovery. These pages are about depression in adults. Read about depression in children and young people. How to tell if you have depression Depression affects people in different ways and can cause a wide variety of symptoms. They range from lasting feelings of unhappiness and hopelessness, to losing interest in the things you used to enjoy and feeling very tearful. Many people with depression also have symptoms of anxiety . There can be physical symptoms too, such as feeling constantly tired, sleeping badly, having no appetite or sex drive, and various aches and pains. The symptoms of depression range from mild to severe. At its mildest, you may simply feel persistently low in spirit, while severe depression can make you feel suicidal, that life is no longer worth living. Most people experience feelings of stress, anxiety or low mood during difficult times. A low mood may improve after a difficult times. A low mood may improve after a short period of time, rather than being a sign of depression. When to see a doctor It's important to seek help from a GP if you think you may be depressed. Many people wait a long time before seeking help for depression, but it's best not to delay. The sooner you see a doctor, the sooner you can be on the way to recovery. What causes depression? Sometimes there's a trigger for depression. Life-changing events, such as bereavement, losing your job or giving birth, can bring it on. People with a family history of depression are more likely to experience it themselves. But you can also become depressed for no obvious reason. Treating depression Treatment for depression can involve a combination of lifestyle changes, talking therapies and medicine. Your recommended treatment will be based on how severe your depression is. If you have mild depression, your doctor may suggest waiting to see whether it improves on its own, while monitoring your progress. This is known as \"watchful waiting\". They may also suggest lifestyle measures such as exercise and guided self-help. Talking therapies, such as cognitive behavioural therapy (CBT) , may also be used for mild depression. For moderate to severe depression, a combination of talking therapy and antidepressants is often recommended. If you have severe depression, you may be referred to a specialist mental health team for intensive specialist talking treatments and prescribed medicine.\n",
      "\n",
      "\n"
     ]
    },
    {
     "name": "stderr",
     "output_type": "stream",
     "text": [
      "Token indices sequence length is longer than the specified maximum sequence length for this model (1221 > 512). Running this sequence through the model will result in indexing errors\n"
     ]
    },
    {
     "name": "stdout",
     "output_type": "stream",
     "text": [
      "====================================================================================================\n",
      "LLM Response\n",
      "There are different types of depression, and some conditions where depression may be one of the symptoms. These depression may be one of the symptoms. These include: postnatal depression – sometimes new mothers, fathers or partners develop depression after they have a baby; this is known as postnatal depression and it's treated in a similar way to other types of depression, with talking therapies and antidepressant medicines bipolar disorder – also known as \"manic depression\", in bipolar disorder there are spells of both depression and excessively high mood (mania); the depression symptoms are similar to depression, but the bouts of mania can include harmful behaviour, such as gambling, going on spending sprees and having unsafe sex seasonal affective disorder (SAD) – also known as \"winter depression\", SAD is a severe type of premenstrual syndrome (PMS) where you have symptoms including feelings of depression and anxiety in\n",
      "====================================================================================================\n"
     ]
    }
   ],
   "source": [
    "results_df = get_llm_prompt_response(QUESTIONS, enable_chunking = True, is_new_experiment = True, chunk_size = 1500, chunk_overlap = 50)"
   ]
  },
  {
   "cell_type": "code",
   "execution_count": 37,
   "id": "b9e3c144-f675-4c77-a78c-07350786da78",
   "metadata": {},
   "outputs": [
    {
     "data": {
      "text/html": [
       "<div>\n",
       "<style scoped>\n",
       "    .dataframe tbody tr th:only-of-type {\n",
       "        vertical-align: middle;\n",
       "    }\n",
       "\n",
       "    .dataframe tbody tr th {\n",
       "        vertical-align: top;\n",
       "    }\n",
       "\n",
       "    .dataframe thead th {\n",
       "        text-align: right;\n",
       "    }\n",
       "</style>\n",
       "<table border=\"1\" class=\"dataframe\">\n",
       "  <thead>\n",
       "    <tr style=\"text-align: right;\">\n",
       "      <th></th>\n",
       "      <th>mind_response</th>\n",
       "      <th>nhs_response</th>\n",
       "      <th>question</th>\n",
       "    </tr>\n",
       "  </thead>\n",
       "  <tbody>\n",
       "    <tr>\n",
       "      <th>0</th>\n",
       "      <td>It can affect your daily life.</td>\n",
       "      <td>Depression is more than simply feeling unhappy or fed up for a few days. Most people go through periods of feeling down, but when you're depressed you feel persistently sad for weeks or months, rather than just a few days.</td>\n",
       "      <td>Can you tell me about depression?</td>\n",
       "    </tr>\n",
       "    <tr>\n",
       "      <th>1</th>\n",
       "      <td>Cut yourself off from other people</td>\n",
       "      <td>getting more exercise , cutting down on alcohol , giving up smoking and eating healthily</td>\n",
       "      <td>What lifestyle changes are suggested for depression?</td>\n",
       "    </tr>\n",
       "    <tr>\n",
       "      <th>2</th>\n",
       "      <td>There are some other types of depression too: Persistent depressive disorder (PDD). PDD is continuous depression that lasts for two years or more. You may also hear it called ‘Dysthymia or chronic depression.</td>\n",
       "      <td>There are different types of depression, and some conditions where depression may be one of the symptoms. These depression may be one of the symptoms. These include: postnatal depression – sometimes new mothers, fathers or partners develop depression after they have a baby; this is known as postnatal depression and it's treated in a similar way to other types of depression, with talking therapies and antidepressant medicines bipolar disorder – also known as \"manic depression\", in bipolar disorder there are spells of both depression and excessively high mood (mania); the depression symptoms are similar to depression, but the bouts of mania can include harmful behaviour, such as gambling, going on spending sprees and having unsafe sex seasonal affective disorder (SAD) – also known as \"wi...</td>\n",
       "      <td>Are there different types of depressions?</td>\n",
       "    </tr>\n",
       "  </tbody>\n",
       "</table>\n",
       "</div>"
      ],
      "text/plain": [
       "                                                                                                                                                                                                      mind_response  \\\n",
       "0                                                                                                                                                                                    It can affect your daily life.   \n",
       "1                                                                                                                                                                                Cut yourself off from other people   \n",
       "2  There are some other types of depression too: Persistent depressive disorder (PDD). PDD is continuous depression that lasts for two years or more. You may also hear it called ‘Dysthymia or chronic depression.   \n",
       "\n",
       "                                                                                                                                                                                                                                                                                                                                                                                                                                                                                                                                                                                                                                                                                                                                                                                                                      nhs_response  \\\n",
       "0                                                                                                                                                                                                                                                                                                                                                                                                                                                                                                                                                                                                   Depression is more than simply feeling unhappy or fed up for a few days. Most people go through periods of feeling down, but when you're depressed you feel persistently sad for weeks or months, rather than just a few days.   \n",
       "1                                                                                                                                                                                                                                                                                                                                                                                                                                                                                                                                                                                                                                                                                                                                         getting more exercise , cutting down on alcohol , giving up smoking and eating healthily   \n",
       "2  There are different types of depression, and some conditions where depression may be one of the symptoms. These depression may be one of the symptoms. These include: postnatal depression – sometimes new mothers, fathers or partners develop depression after they have a baby; this is known as postnatal depression and it's treated in a similar way to other types of depression, with talking therapies and antidepressant medicines bipolar disorder – also known as \"manic depression\", in bipolar disorder there are spells of both depression and excessively high mood (mania); the depression symptoms are similar to depression, but the bouts of mania can include harmful behaviour, such as gambling, going on spending sprees and having unsafe sex seasonal affective disorder (SAD) – also known as \"wi...   \n",
       "\n",
       "                                               question  \n",
       "0                     Can you tell me about depression?  \n",
       "1  What lifestyle changes are suggested for depression?  \n",
       "2             Are there different types of depressions?  "
      ]
     },
     "execution_count": 37,
     "metadata": {},
     "output_type": "execute_result"
    }
   ],
   "source": [
    "results_df"
   ]
  },
  {
   "cell_type": "markdown",
   "id": "9344ed4e-2266-43ed-829f-0bb9869b416b",
   "metadata": {},
   "source": [
    "### chunk_size = 1000 and chunk_overlap = 300"
   ]
  },
  {
   "cell_type": "code",
   "execution_count": 40,
   "id": "9e55896c-0403-4c35-a3d9-b3c2ecdc5621",
   "metadata": {
    "scrolled": true
   },
   "outputs": [
    {
     "name": "stdout",
     "output_type": "stream",
     "text": [
      "Found 2 collections\n",
      "\u001b[1;35mLoad pretrained SentenceTransformer: hkunlp/instructor-base\u001b[0m\n",
      "load INSTRUCTOR_Transformer\n",
      "max_seq_length  512\n",
      "Inserting data into collection nhs_collection\n",
      "Chunking enabled = True\n",
      "Using chunk_size=1000 and chunk_overlap=300\n",
      "Inserting data into collection mind_collection\n",
      "Chunking enabled = True\n",
      "Using chunk_size=1000 and chunk_overlap=300\n",
      "Time taken to insert data in chroma store 3.0195826810013386 sec\n",
      "Collection name: mind_collection\n",
      "\u001b[1;35mLoad pretrained SentenceTransformer: hkunlp/instructor-base\u001b[0m\n",
      "load INSTRUCTOR_Transformer\n",
      "max_seq_length  512\n",
      "====================================================================================================\n",
      "LLM prompt\n",
      "Question: Can you tell me about depression?\n",
      "\n",
      "Context: Depression Learn about depression, its symptoms and possible causes, and how you can access treatment and support. Find tips on caring for yourself, and guidance for friends and family.  What is depression? Depression is a mental health problem that involves having a low mood or losing interest and enjoyment in things. It can also cause a range of other changes to how you feel or behave.  The symptoms you experience may vary. How intense they are, how long they last, and how much they affect your daily life can also vary.  If you experience milder depression, you might have low mood but still be able to carry on with your daily life. But things may feel harder and less worthwhile.  If you have more severe depression, you might find day-to-day life much more difficult. You may also experience suicidal feelings.  It starts as sadness then I feel myself shutting down, becoming less capable of coping. Eventually, I just feel numb and empty.  When does low mood become depression? We all affect my day-to-day life? If you have depression, you might find that it interferes with different aspects of your life. For example, it might affect your ability to work, your relationships, or managing your finances. This can add extra stress to an already difficult experience. It may also feel hard to explain your thoughts and feelings to others. You might want to cut yourself off from other people instead. This could lead to you feeling isolated and lonely. It feels like I'm stuck under a huge grey-black cloud. It's dark and isolating, smothering me at every opportunity. Can depression be a symptom of other mental health problems? Symptoms of depression can also be part of other mental health problems, such as: Bipolar disorder, Borderline personality disorder (BPD) and other personality disorders, Schizoaffective disorder. If you experience low mood or suicidal thoughts, this might be the reason you first speak to your doctor about your mental health. And your doctor might offer have more severe depression, you might find day-to-day life much more difficult. You may also experience suicidal feelings.  It starts as sadness then I feel myself shutting down, becoming less capable of coping. Eventually, I just feel numb and empty.  When does low mood become depression? We all have times when our mood is low, and we feel sad or fed up. Often these feelings happen for a reason and pass on their own.  But it might be depression if the feelings become so bad that they interfere with our daily life. Or if they last for several weeks or months.  Are there different types of depression? If you're diagnosed with depression, you might also be told that it is ‘less severe’ or ‘more severe’. This describes how your symptoms are affecting you, and what treatment you're likely to be offered. You may find that the severity of your depression changes over time.  Sometimes you might hear depression being called ‘major depressive disorder’. There are some other types of Common signs and symptoms of depression These are some common signs of depression that you may experience:  How you might feel Down, upset or tearful Restless, agitated or irritable Guilty, worthless and down on yourself Empty and numb Isolated and unable to relate to other people Finding no pleasure in life or things you usually enjoy Angry or frustrated over minor things A sense of unreality No self-confidence or self-esteem Hopeless and despairing Feeling tired all the time How you might act Avoiding social events and activities you usually enjoy Self-harming or suicidal behaviour Difficulty speaking, thinking clearly or making decisions Losing interest in sex Difficulty remembering or concentrating on things Using more tobacco, alcohol or other drugs than usual Difficulty sleeping, or sleeping too much No appetite and losing weight, or eating more than usual and gaining weight Physical aches and pains with no obvious physical cause Moving very slowly, or being restless and agitated\n",
      "\n",
      "\n"
     ]
    },
    {
     "name": "stderr",
     "output_type": "stream",
     "text": [
      "Token indices sequence length is longer than the specified maximum sequence length for this model (883 > 512). Running this sequence through the model will result in indexing errors\n"
     ]
    },
    {
     "name": "stdout",
     "output_type": "stream",
     "text": [
      "====================================================================================================\n",
      "LLM Response\n",
      "It starts as sadness then I feel myself shutting down, becoming less capable of coping. Eventually, I just feel numb and empty.\n",
      "====================================================================================================\n",
      "Collection name: nhs_collection\n",
      "\u001b[1;35mLoad pretrained SentenceTransformer: hkunlp/instructor-base\u001b[0m\n",
      "load INSTRUCTOR_Transformer\n",
      "max_seq_length  512\n",
      "====================================================================================================\n",
      "LLM prompt\n",
      "Question: Can you tell me about depression?\n",
      "\n",
      "Context: Overview - Depression in adults Depression is more than simply feeling unhappy or fed up for a few days. Most people go through periods of feeling down, but when you're depressed you feel persistently sad for weeks or months, rather than just a few days. Some people think depression is trivial and not a genuine health condition. They're wrong – it is a real illness with real symptoms. Depression is not a sign of weakness or something you can \"snap out of\" by \"pulling yourself together\". The good news is that with the right treatment and support, most people with depression can make a full recovery. These pages are about depression in adults. Read about depression in children and young people. How to tell if you have depression Depression affects people in different ways and can cause a wide variety of symptoms. They range from lasting feelings of unhappiness and hopelessness, to losing interest in the things you used to enjoy and feeling very tearful. Many people with depression also in things finding it difficult to make decisions not getting any enjoyment out of life feeling anxious or worried having suicidal thoughts or thoughts of harming yourself. Physical symptoms The physical symptoms of depression include: moving or speaking more slowly than usual changes in appetite or weight (usually decreased, but sometimes increased) constipation unexplained aches and pains lack of energy low sex drive ( loss of libido ) disturbed sleep – for example, finding it difficult to fall asleep at night or waking up very early in the morning. Social symptoms The social symptoms of depression include: avoiding contact with friends and taking part in fewer social activities neglecting your hobbies and interests having difficulties in your home, work or family life. Severities of depression Depression can often come on gradually, so it can be difficult to notice something is wrong. Many people try to cope with their symptoms without realising they're unwell. It can sometimes take How to tell if you have depression Depression affects people in different ways and can cause a wide variety of symptoms. They range from lasting feelings of unhappiness and hopelessness, to losing interest in the things you used to enjoy and feeling very tearful. Many people with depression also have symptoms of anxiety . There can be physical symptoms too, such as feeling constantly tired, sleeping badly, having no appetite or sex drive, and various aches and pains. The symptoms of depression range from mild to severe. At its mildest, you may simply feel persistently low in spirit, while severe depression can make you feel suicidal, that life is no longer worth living. Most people experience feelings of stress, anxiety or low mood during difficult times. A low mood may improve after a short period of time, rather than being a sign of depression. When to see a doctor It's important to seek help from a GP if you think you may be depressed. Many people wait a long time before seeking your hobbies and interests having difficulties in your home, work or family life. Severities of depression Depression can often come on gradually, so it can be difficult to notice something is wrong. Many people try to cope with their symptoms without realising they're unwell. It can sometimes take a friend or family member to suggest something is wrong. Doctors describe depression in adults as either less severe (mild) or more severe (moderate or severe), based on: the symptoms, including how often you get symptoms and how bad they are how long depression lasts the impact on your daily life A few people with severe depression may have symptoms of psychosis . You'll usually be asked to answer a set of questions to help doctors assess how severe your condition is. Grief and depression It can be difficult to distinguish between grief and depression. They share many of the same characteristics, but there are important differences between them. Grief is an entirely natural response to a\n",
      "\n",
      "\n"
     ]
    },
    {
     "name": "stderr",
     "output_type": "stream",
     "text": [
      "Token indices sequence length is longer than the specified maximum sequence length for this model (849 > 512). Running this sequence through the model will result in indexing errors\n"
     ]
    },
    {
     "name": "stdout",
     "output_type": "stream",
     "text": [
      "====================================================================================================\n",
      "LLM Response\n",
      "depression\n",
      "====================================================================================================\n",
      "Collection name: mind_collection\n",
      "\u001b[1;35mLoad pretrained SentenceTransformer: hkunlp/instructor-base\u001b[0m\n",
      "load INSTRUCTOR_Transformer\n",
      "max_seq_length  512\n",
      "====================================================================================================\n",
      "LLM prompt\n",
      "Question: What lifestyle changes are suggested for depression?\n",
      "\n",
      "Context: affect my day-to-day life? If you have depression, you might find that it interferes with different aspects of your life. For example, it might affect your ability to work, your relationships, or managing your finances. This can add extra stress to an already difficult experience. It may also feel hard to explain your thoughts and feelings to others. You might want to cut yourself off from other people instead. This could lead to you feeling isolated and lonely. It feels like I'm stuck under a huge grey-black cloud. It's dark and isolating, smothering me at every opportunity. Can depression be a symptom of other mental health problems? Symptoms of depression can also be part of other mental health problems, such as: Bipolar disorder, Borderline personality disorder (BPD) and other personality disorders, Schizoaffective disorder. If you experience low mood or suicidal thoughts, this might be the reason you first speak to your doctor about your mental health. And your doctor might offer on things Using more tobacco, alcohol or other drugs than usual Difficulty sleeping, or sleeping too much No appetite and losing weight, or eating more than usual and gaining weight Physical aches and pains with no obvious physical cause Moving very slowly, or being restless and agitated It felt like I was really tired, all the time. I had no energy or emotion about anything. Anxiety It's very common to experience depression and anxiety together. Some symptoms of depression can also be symptoms of anxiety, for example: Feeling restless, Finding it difficult to concentrate, Struggling to sleep I flit between states of anxiety and depression. At times, each seems to fuel the other. Self-harm and suicidal feelings If you're feeling low, you might self-harm to cope with difficult feelings. Although this might make you feel better in the short term, self-harm can be very dangerous. When you're feeling really low and hopeless, you may also find yourself thinking about suicide. This could be or ‘more severe’. This describes how your symptoms are affecting you, and what treatment you're likely to be offered. You may find that the severity of your depression changes over time.  Sometimes you might hear depression being called ‘major depressive disorder’. There are some other types of depression too:  Persistent depressive disorder (PDD). PDD is continuous depression that lasts for two years or more. You may also hear it called dysthymia or chronic depression. Seasonal affective disorder (SAD). SAD is depression that occurs at a particular time of year, or during a particular season. See our page on SAD for more information. Antenatal depression. This is depression that occurs while you are pregnant. It is sometimes called prenatal depression. Postnatal depression (PND). This is depression that occurs in the first year after having a baby. This can include affecting dads and partners. Premenstrual dysphoric disorder (PMDD). This is a hormone-related disorder that affects Depression Learn about depression, its symptoms and possible causes, and how you can access treatment and support. Find tips on caring for yourself, and guidance for friends and family.  What is depression? Depression is a mental health problem that involves having a low mood or losing interest and enjoyment in things. It can also cause a range of other changes to how you feel or behave.  The symptoms you experience may vary. How intense they are, how long they last, and how much they affect your daily life can also vary.  If you experience milder depression, you might have low mood but still be able to carry on with your daily life. But things may feel harder and less worthwhile.  If you have more severe depression, you might find day-to-day life much more difficult. You may also experience suicidal feelings.  It starts as sadness then I feel myself shutting down, becoming less capable of coping. Eventually, I just feel numb and empty.  When does low mood become depression? We all\n",
      "\n",
      "\n"
     ]
    },
    {
     "name": "stderr",
     "output_type": "stream",
     "text": [
      "Token indices sequence length is longer than the specified maximum sequence length for this model (884 > 512). Running this sequence through the model will result in indexing errors\n"
     ]
    },
    {
     "name": "stdout",
     "output_type": "stream",
     "text": [
      "====================================================================================================\n",
      "LLM Response\n",
      "We all experience depression\n",
      "====================================================================================================\n",
      "Collection name: nhs_collection\n",
      "\u001b[1;35mLoad pretrained SentenceTransformer: hkunlp/instructor-base\u001b[0m\n",
      "load INSTRUCTOR_Transformer\n",
      "max_seq_length  512\n",
      "====================================================================================================\n",
      "LLM prompt\n",
      "Question: What lifestyle changes are suggested for depression?\n",
      "\n",
      "Context: for no obvious reason. Treating depression Treatment for depression can involve a combination of lifestyle changes, talking therapies and medicine. Your recommended treatment will be based on how severe your depression is. If you have mild depression, your doctor may suggest waiting to see whether it improves on its own, while monitoring your progress. This is known as \"watchful waiting\". They may also suggest lifestyle measures such as exercise and guided self-help. Talking therapies, such as cognitive behavioural therapy (CBT) , may also be used for mild depression. For moderate to severe depression, a combination of talking therapy and antidepressants is often recommended. If you have severe depression, you may be referred to a specialist mental health team for intensive specialist talking treatments and prescribed medicine. Living with depression Many people with depression benefit by making lifestyle changes, such as getting more exercise , cutting down on alcohol , giving up severe depression, you may be referred to a specialist mental health team for intensive specialist talking treatments and prescribed medicine. Living with depression Many people with depression benefit by making lifestyle changes, such as getting more exercise , cutting down on alcohol , giving up smoking and eating healthily . Reading a self-help book or joining a support group are also worthwhile. They can help you gain a better understanding about what causes you to feel depressed. Sharing your experiences with others in a similar situation can also be very supportive. Information: Social care and support guide If you: need help with day-to-day living because of illness or disability care for someone regularly because they're ill or disabled, or because of their age – including family members Our social care and support guide explains your options and where you can get support. in things finding it difficult to make decisions not getting any enjoyment out of life feeling anxious or worried having suicidal thoughts or thoughts of harming yourself. Physical symptoms The physical symptoms of depression include: moving or speaking more slowly than usual changes in appetite or weight (usually decreased, but sometimes increased) constipation unexplained aches and pains lack of energy low sex drive ( loss of libido ) disturbed sleep – for example, finding it difficult to fall asleep at night or waking up very early in the morning. Social symptoms The social symptoms of depression include: avoiding contact with friends and taking part in fewer social activities neglecting your hobbies and interests having difficulties in your home, work or family life. Severities of depression Depression can often come on gradually, so it can be difficult to notice something is wrong. Many people try to cope with their symptoms without realising they're unwell. It can sometimes take feelings of stress, anxiety or low mood during difficult times. A low mood may improve after a short period of time, rather than being a sign of depression. When to see a doctor It's important to seek help from a GP if you think you may be depressed. Many people wait a long time before seeking help for depression, but it's best not to delay. The sooner you see a doctor, the sooner you can be on the way to recovery. What causes depression? Sometimes there's a trigger for depression. Life-changing events, such as bereavement, losing your job or giving birth, can bring it on. People with a family history of depression are more likely to experience it themselves. But you can also become depressed for no obvious reason. Treating depression Treatment for depression can involve a combination of lifestyle changes, talking therapies and medicine. Your recommended treatment will be based on how severe your depression is. If you have mild depression, your doctor may suggest waiting to see\n",
      "\n",
      "\n"
     ]
    },
    {
     "name": "stderr",
     "output_type": "stream",
     "text": [
      "Token indices sequence length is longer than the specified maximum sequence length for this model (794 > 512). Running this sequence through the model will result in indexing errors\n"
     ]
    },
    {
     "name": "stdout",
     "output_type": "stream",
     "text": [
      "====================================================================================================\n",
      "LLM Response\n",
      "exercise and guided self-help\n",
      "====================================================================================================\n",
      "Collection name: mind_collection\n",
      "\u001b[1;35mLoad pretrained SentenceTransformer: hkunlp/instructor-base\u001b[0m\n",
      "load INSTRUCTOR_Transformer\n",
      "max_seq_length  512\n",
      "====================================================================================================\n",
      "LLM prompt\n",
      "Question: Are there different types of depressions?\n",
      "\n",
      "Context: have more severe depression, you might find day-to-day life much more difficult. You may also experience suicidal feelings.  It starts as sadness then I feel myself shutting down, becoming less capable of coping. Eventually, I just feel numb and empty.  When does low mood become depression? We all have times when our mood is low, and we feel sad or fed up. Often these feelings happen for a reason and pass on their own.  But it might be depression if the feelings become so bad that they interfere with our daily life. Or if they last for several weeks or months.  Are there different types of depression? If you're diagnosed with depression, you might also be told that it is ‘less severe’ or ‘more severe’. This describes how your symptoms are affecting you, and what treatment you're likely to be offered. You may find that the severity of your depression changes over time.  Sometimes you might hear depression being called ‘major depressive disorder’. There are some other types of or ‘more severe’. This describes how your symptoms are affecting you, and what treatment you're likely to be offered. You may find that the severity of your depression changes over time.  Sometimes you might hear depression being called ‘major depressive disorder’. There are some other types of depression too:  Persistent depressive disorder (PDD). PDD is continuous depression that lasts for two years or more. You may also hear it called dysthymia or chronic depression. Seasonal affective disorder (SAD). SAD is depression that occurs at a particular time of year, or during a particular season. See our page on SAD for more information. Antenatal depression. This is depression that occurs while you are pregnant. It is sometimes called prenatal depression. Postnatal depression (PND). This is depression that occurs in the first year after having a baby. This can include affecting dads and partners. Premenstrual dysphoric disorder (PMDD). This is a hormone-related disorder that affects Depression Learn about depression, its symptoms and possible causes, and how you can access treatment and support. Find tips on caring for yourself, and guidance for friends and family.  What is depression? Depression is a mental health problem that involves having a low mood or losing interest and enjoyment in things. It can also cause a range of other changes to how you feel or behave.  The symptoms you experience may vary. How intense they are, how long they last, and how much they affect your daily life can also vary.  If you experience milder depression, you might have low mood but still be able to carry on with your daily life. But things may feel harder and less worthwhile.  If you have more severe depression, you might find day-to-day life much more difficult. You may also experience suicidal feelings.  It starts as sadness then I feel myself shutting down, becoming less capable of coping. Eventually, I just feel numb and empty.  When does low mood become depression? We all health problems, such as: Bipolar disorder, Borderline personality disorder (BPD) and other personality disorders, Schizoaffective disorder. If you experience low mood or suicidal thoughts, this might be the reason you first speak to your doctor about your mental health. And your doctor might offer you treatment for depression without realising that you also experience other symptoms. If you think you're experiencing other symptoms, you can talk to your doctor about this to make sure you're getting the right treatment.\n",
      "\n",
      "\n"
     ]
    },
    {
     "name": "stderr",
     "output_type": "stream",
     "text": [
      "Token indices sequence length is longer than the specified maximum sequence length for this model (772 > 512). Running this sequence through the model will result in indexing errors\n"
     ]
    },
    {
     "name": "stdout",
     "output_type": "stream",
     "text": [
      "====================================================================================================\n",
      "LLM Response\n",
      "We all have times when our mood is low, and we feel sad or fed up. Often these feelings happen for a reason and pass on their own. But it might be depression if the feelings become so bad that they interfere with our daily life. Or if they last for several weeks or months.\n",
      "====================================================================================================\n",
      "Collection name: nhs_collection\n",
      "\u001b[1;35mLoad pretrained SentenceTransformer: hkunlp/instructor-base\u001b[0m\n",
      "load INSTRUCTOR_Transformer\n",
      "max_seq_length  512\n",
      "====================================================================================================\n",
      "LLM prompt\n",
      "Question: Are there different types of depressions?\n",
      "\n",
      "Context: Other types of depression There are different types of depression, and some conditions where depression may be one of the symptoms. These include: postnatal depression – sometimes new mothers, fathers or partners develop depression after they have a baby; this is known as postnatal depression and it's treated in a similar way to other types of depression, with talking therapies and antidepressant medicines bipolar disorder – also known as \"manic depression\", in bipolar disorder there are spells of both depression and excessively high mood (mania); the depression symptoms are similar to depression, but the bouts of mania can include harmful behaviour, such as gambling, going on spending sprees and having unsafe sex seasonal affective disorder (SAD) – also known as \"winter depression\", SAD is a type of depression with a seasonal pattern usually related to winter premenstrual dysphoric disorder (PMDD) – a severe type of premenstrual syndrome (PMS) where you have symptoms including a set of questions to help doctors assess how severe your condition is. Grief and depression It can be difficult to distinguish between grief and depression. They share many of the same characteristics, but there are important differences between them. Grief is an entirely natural response to a loss, while depression is an illness. People who are grieving may have symptoms of depression, but they usually improve with time. For some people, bereavement can lead to depression. If you're grieving it's normal to have feelings of sadness. Some other symptoms of depression are rare with grief and bereavement, such as having suicidal thoughts, symptoms of psychosis and feeling hopeless or guilt-ridden. Other types of depression There are different types of depression, and some conditions where depression may be one of the symptoms. These include: postnatal depression – sometimes new mothers, fathers or partners develop depression after they have a baby; this is known as postnatal depression your hobbies and interests having difficulties in your home, work or family life. Severities of depression Depression can often come on gradually, so it can be difficult to notice something is wrong. Many people try to cope with their symptoms without realising they're unwell. It can sometimes take a friend or family member to suggest something is wrong. Doctors describe depression in adults as either less severe (mild) or more severe (moderate or severe), based on: the symptoms, including how often you get symptoms and how bad they are how long depression lasts the impact on your daily life A few people with severe depression may have symptoms of psychosis . You'll usually be asked to answer a set of questions to help doctors assess how severe your condition is. Grief and depression It can be difficult to distinguish between grief and depression. They share many of the same characteristics, but there are important differences between them. Grief is an entirely natural response to a How to tell if you have depression Depression affects people in different ways and can cause a wide variety of symptoms. They range from lasting feelings of unhappiness and hopelessness, to losing interest in the things you used to enjoy and feeling very tearful. Many people with depression also have symptoms of anxiety . There can be physical symptoms too, such as feeling constantly tired, sleeping badly, having no appetite or sex drive, and various aches and pains. The symptoms of depression range from mild to severe. At its mildest, you may simply feel persistently low in spirit, while severe depression can make you feel suicidal, that life is no longer worth living. Most people experience feelings of stress, anxiety or low mood during difficult times. A low mood may improve after a short period of time, rather than being a sign of depression. When to see a doctor It's important to seek help from a GP if you think you may be depressed. Many people wait a long time before seeking\n",
      "\n",
      "\n"
     ]
    },
    {
     "name": "stderr",
     "output_type": "stream",
     "text": [
      "Token indices sequence length is longer than the specified maximum sequence length for this model (856 > 512). Running this sequence through the model will result in indexing errors\n"
     ]
    },
    {
     "name": "stdout",
     "output_type": "stream",
     "text": [
      "====================================================================================================\n",
      "LLM Response\n",
      "There are different types of depression, and some conditions where depression may be one of the symptoms. These include: postnatal depression – sometimes new mothers, fathers or partners develop depression after they have a baby; this is known as postnatal depression and it's treated in a similar way to other types of depression, with talking therapies and antidepressant medicines bipolar disorder – also known as \"manic depression\", in bipolar disorder there are spells of both depression and excessively high mood (mania); the depression symptoms are similar to depression, but the bouts of mania can include harmful behaviour, such as gambling, going on spending sprees and having unsafe sex\n",
      "====================================================================================================\n"
     ]
    }
   ],
   "source": [
    "results_df = get_llm_prompt_response(QUESTIONS, enable_chunking = True, is_new_experiment = True, chunk_size = 1000, chunk_overlap = 300)"
   ]
  },
  {
   "cell_type": "code",
   "execution_count": 41,
   "id": "a84746b2-27df-47d7-8e03-3a956c4f7573",
   "metadata": {},
   "outputs": [
    {
     "data": {
      "text/html": [
       "<div>\n",
       "<style scoped>\n",
       "    .dataframe tbody tr th:only-of-type {\n",
       "        vertical-align: middle;\n",
       "    }\n",
       "\n",
       "    .dataframe tbody tr th {\n",
       "        vertical-align: top;\n",
       "    }\n",
       "\n",
       "    .dataframe thead th {\n",
       "        text-align: right;\n",
       "    }\n",
       "</style>\n",
       "<table border=\"1\" class=\"dataframe\">\n",
       "  <thead>\n",
       "    <tr style=\"text-align: right;\">\n",
       "      <th></th>\n",
       "      <th>mind_response</th>\n",
       "      <th>nhs_response</th>\n",
       "      <th>question</th>\n",
       "    </tr>\n",
       "  </thead>\n",
       "  <tbody>\n",
       "    <tr>\n",
       "      <th>0</th>\n",
       "      <td>It starts as sadness then I feel myself shutting down, becoming less capable of coping. Eventually, I just feel numb and empty.</td>\n",
       "      <td>depression</td>\n",
       "      <td>Can you tell me about depression?</td>\n",
       "    </tr>\n",
       "    <tr>\n",
       "      <th>1</th>\n",
       "      <td>We all experience depression</td>\n",
       "      <td>exercise and guided self-help</td>\n",
       "      <td>What lifestyle changes are suggested for depression?</td>\n",
       "    </tr>\n",
       "    <tr>\n",
       "      <th>2</th>\n",
       "      <td>We all have times when our mood is low, and we feel sad or fed up. Often these feelings happen for a reason and pass on their own. But it might be depression if the feelings become so bad that they interfere with our daily life. Or if they last for several weeks or months.</td>\n",
       "      <td>There are different types of depression, and some conditions where depression may be one of the symptoms. These include: postnatal depression – sometimes new mothers, fathers or partners develop depression after they have a baby; this is known as postnatal depression and it's treated in a similar way to other types of depression, with talking therapies and antidepressant medicines bipolar disorder – also known as \"manic depression\", in bipolar disorder there are spells of both depression and excessively high mood (mania); the depression symptoms are similar to depression, but the bouts of mania can include harmful behaviour, such as gambling, going on spending sprees and having unsafe sex</td>\n",
       "      <td>Are there different types of depressions?</td>\n",
       "    </tr>\n",
       "  </tbody>\n",
       "</table>\n",
       "</div>"
      ],
      "text/plain": [
       "                                                                                                                                                                                                                                                                       mind_response  \\\n",
       "0                                                                                                                                                    It starts as sadness then I feel myself shutting down, becoming less capable of coping. Eventually, I just feel numb and empty.   \n",
       "1                                                                                                                                                                                                                                                       We all experience depression   \n",
       "2  We all have times when our mood is low, and we feel sad or fed up. Often these feelings happen for a reason and pass on their own. But it might be depression if the feelings become so bad that they interfere with our daily life. Or if they last for several weeks or months.   \n",
       "\n",
       "                                                                                                                                                                                                                                                                                                                                                                                                                                                                                                                                                                                                                                                                                                                nhs_response  \\\n",
       "0                                                                                                                                                                                                                                                                                                                                                                                                                                                                                                                                                                                                                                                                                                                 depression   \n",
       "1                                                                                                                                                                                                                                                                                                                                                                                                                                                                                                                                                                                                                                                                                              exercise and guided self-help   \n",
       "2  There are different types of depression, and some conditions where depression may be one of the symptoms. These include: postnatal depression – sometimes new mothers, fathers or partners develop depression after they have a baby; this is known as postnatal depression and it's treated in a similar way to other types of depression, with talking therapies and antidepressant medicines bipolar disorder – also known as \"manic depression\", in bipolar disorder there are spells of both depression and excessively high mood (mania); the depression symptoms are similar to depression, but the bouts of mania can include harmful behaviour, such as gambling, going on spending sprees and having unsafe sex   \n",
       "\n",
       "                                               question  \n",
       "0                     Can you tell me about depression?  \n",
       "1  What lifestyle changes are suggested for depression?  \n",
       "2             Are there different types of depressions?  "
      ]
     },
     "execution_count": 41,
     "metadata": {},
     "output_type": "execute_result"
    }
   ],
   "source": [
    "results_df"
   ]
  },
  {
   "cell_type": "markdown",
   "id": "49a6e0b8-1e31-4cb9-afee-138e4e8310a9",
   "metadata": {},
   "source": [
    "### chunk_size = 1500 and chunk_overlap = 300"
   ]
  },
  {
   "cell_type": "code",
   "execution_count": 42,
   "id": "4261f5f4-c870-4d69-b937-db371bfb5a5d",
   "metadata": {
    "scrolled": true
   },
   "outputs": [
    {
     "name": "stdout",
     "output_type": "stream",
     "text": [
      "Found 2 collections\n",
      "\u001b[1;35mLoad pretrained SentenceTransformer: hkunlp/instructor-base\u001b[0m\n",
      "load INSTRUCTOR_Transformer\n",
      "max_seq_length  512\n",
      "Inserting data into collection nhs_collection\n",
      "Chunking enabled = True\n",
      "Using chunk_size=1500 and chunk_overlap=300\n",
      "Inserting data into collection mind_collection\n",
      "Chunking enabled = True\n",
      "Using chunk_size=1500 and chunk_overlap=300\n",
      "Time taken to insert data in chroma store 3.2210005879969685 sec\n",
      "Collection name: mind_collection\n",
      "\u001b[1;35mLoad pretrained SentenceTransformer: hkunlp/instructor-base\u001b[0m\n",
      "load INSTRUCTOR_Transformer\n",
      "max_seq_length  512\n",
      "====================================================================================================\n",
      "LLM prompt\n",
      "Question: Can you tell me about depression?\n",
      "\n",
      "Context: Depression Learn about depression, its symptoms and possible causes, and how you can access treatment and support. Find tips on caring for yourself, and guidance for friends and family.  What is depression? Depression is a mental health problem that involves having a low mood or losing interest and enjoyment in things. It can also cause a range of other changes to how you feel or behave.  The symptoms you experience may vary. How intense they are, how long they last, and how much they affect your daily life can also vary.  If you experience milder depression, you might have low mood but still be able to carry on with your daily life. But things may feel harder and less worthwhile.  If you have more severe depression, you might find day-to-day life much more difficult. You may also experience suicidal feelings.  It starts as sadness then I feel myself shutting down, becoming less capable of coping. Eventually, I just feel numb and empty.  When does low mood become depression? We all have times when our mood is low, and we feel sad or fed up. Often these feelings happen for a reason and pass on their own.  But it might be depression if the feelings become so bad that they interfere with our daily life. Or if they last for several weeks or months.  Are there different types of depression? If you're diagnosed with depression, you might also be told that it is ‘less severe’ or ‘more severe’. This describes how your symptoms are affecting you, and what treatment you're likely to be might make it hard to understand that these experiences are also symptoms of your depression. And they can be frightening or upsetting, so it's important to seek treatment and support. You might worry that experiencing psychotic symptoms could mean you’re given a diagnosis that doesn’t feel right for you. But discussing all of your symptoms with your doctor can help you get the right support and treatment. How might depression affect my day-to-day life? If you have depression, you might find that it interferes with different aspects of your life. For example, it might affect your ability to work, your relationships, or managing your finances. This can add extra stress to an already difficult experience. It may also feel hard to explain your thoughts and feelings to others. You might want to cut yourself off from other people instead. This could lead to you feeling isolated and lonely. It feels like I'm stuck under a huge grey-black cloud. It's dark and isolating, smothering me at every opportunity. Can depression be a symptom of other mental health problems? Symptoms of depression can also be part of other mental health problems, such as: Bipolar disorder, Borderline personality disorder (BPD) and other personality disorders, Schizoaffective disorder. If you experience low mood or suicidal thoughts, this might be the reason you first speak to your doctor about your mental health. And your doctor might offer you treatment for depression without realising that you also Common signs and symptoms of depression These are some common signs of depression that you may experience:  How you might feel Down, upset or tearful Restless, agitated or irritable Guilty, worthless and down on yourself Empty and numb Isolated and unable to relate to other people Finding no pleasure in life or things you usually enjoy Angry or frustrated over minor things A sense of unreality No self-confidence or self-esteem Hopeless and despairing Feeling tired all the time How you might act Avoiding social events and activities you usually enjoy Self-harming or suicidal behaviour Difficulty speaking, thinking clearly or making decisions Losing interest in sex Difficulty remembering or concentrating on things Using more tobacco, alcohol or other drugs than usual Difficulty sleeping, or sleeping too much No appetite and losing weight, or eating more than usual and gaining weight Physical aches and pains with no obvious physical cause Moving very slowly, or being restless and agitated It felt like I was really tired, all the time. I had no energy or emotion about anything. Anxiety It's very common to experience depression and anxiety together. Some symptoms of depression can also be symptoms of anxiety, for example: Feeling restless, Finding it difficult to concentrate, Struggling to sleep I flit between states of anxiety and depression. At times, each seems to fuel the other. Self-harm and suicidal feelings If you're feeling low, you might self-harm to cope with difficult our daily life. Or if they last for several weeks or months.  Are there different types of depression? If you're diagnosed with depression, you might also be told that it is ‘less severe’ or ‘more severe’. This describes how your symptoms are affecting you, and what treatment you're likely to be offered. You may find that the severity of your depression changes over time.  Sometimes you might hear depression being called ‘major depressive disorder’. There are some other types of depression too:  Persistent depressive disorder (PDD). PDD is continuous depression that lasts for two years or more. You may also hear it called dysthymia or chronic depression. Seasonal affective disorder (SAD). SAD is depression that occurs at a particular time of year, or during a particular season. See our page on SAD for more information. Antenatal depression. This is depression that occurs while you are pregnant. It is sometimes called prenatal depression. Postnatal depression (PND). This is depression that occurs in the first year after having a baby. This can include affecting dads and partners. Premenstrual dysphoric disorder (PMDD). This is a hormone-related disorder that affects your body but also how you feel. This can involve experiencing depression. So your doctor may describe this as a mental health problem.\n",
      "\n",
      "\n"
     ]
    },
    {
     "name": "stderr",
     "output_type": "stream",
     "text": [
      "Token indices sequence length is longer than the specified maximum sequence length for this model (1277 > 512). Running this sequence through the model will result in indexing errors\n"
     ]
    },
    {
     "name": "stdout",
     "output_type": "stream",
     "text": [
      "====================================================================================================\n",
      "LLM Response\n",
      "It can be a mental health problem that involves having a low mood or losing interest and enjoyment in things.\n",
      "====================================================================================================\n",
      "Collection name: nhs_collection\n",
      "\u001b[1;35mLoad pretrained SentenceTransformer: hkunlp/instructor-base\u001b[0m\n",
      "load INSTRUCTOR_Transformer\n",
      "max_seq_length  512\n",
      "====================================================================================================\n",
      "LLM prompt\n",
      "Question: Can you tell me about depression?\n",
      "\n",
      "Context: Overview - Depression in adults Depression is more than simply feeling unhappy or fed up for a few days. Most people go through periods of feeling down, but when you're depressed you feel persistently sad for weeks or months, rather than just a few days. Some people think depression is trivial and not a genuine health condition. They're wrong – it is a real illness with real symptoms. Depression is not a sign of weakness or something you can \"snap out of\" by \"pulling yourself together\". The good news is that with the right treatment and support, most people with depression can make a full recovery. These pages are about depression in adults. Read about depression in children and young people. How to tell if you have depression Depression affects people in different ways and can cause a wide variety of symptoms. They range from lasting feelings of unhappiness and hopelessness, to losing interest in the things you used to enjoy and feeling very tearful. Many people with depression also have symptoms of anxiety . There can be physical symptoms too, such as feeling constantly tired, sleeping badly, having no appetite or sex drive, and various aches and pains. The symptoms of depression range from mild to severe. At its mildest, you may simply feel persistently low in spirit, while severe depression can make you feel suicidal, that life is no longer worth living. Most people experience feelings of stress, anxiety or low mood during difficult times. A low mood may improve after a fall asleep at night or waking up very early in the morning. Social symptoms The social symptoms of depression include: avoiding contact with friends and taking part in fewer social activities neglecting your hobbies and interests having difficulties in your home, work or family life. Severities of depression Depression can often come on gradually, so it can be difficult to notice something is wrong. Many people try to cope with their symptoms without realising they're unwell. It can sometimes take a friend or family member to suggest something is wrong. Doctors describe depression in adults as either less severe (mild) or more severe (moderate or severe), based on: the symptoms, including how often you get symptoms and how bad they are how long depression lasts the impact on your daily life A few people with severe depression may have symptoms of psychosis . You'll usually be asked to answer a set of questions to help doctors assess how severe your condition is. Grief and depression It can be difficult to distinguish between grief and depression. They share many of the same characteristics, but there are important differences between them. Grief is an entirely natural response to a loss, while depression is an illness. People who are grieving may have symptoms of depression, but they usually improve with time. For some people, bereavement can lead to depression. If you're grieving it's normal to have feelings of sadness. Some other symptoms of depression are rare with grief Symptoms - Depression in adults The symptoms of depression can be complex and vary widely between people. If you're depressed, you may feel sad, hopeless and lose interest in things you used to enjoy. The symptoms persist for weeks or months and are bad enough to interfere with your work, social life and family life. There are many other symptoms of depression and you're unlikely to have all of those listed on this page. Psychological symptoms The psychological symptoms of depression include: continuous low mood or sadness feeling hopeless and helpless having low self-esteem feeling tearful feeling guilt-ridden feeling irritable and intolerant of others having no motivation or interest in things finding it difficult to make decisions not getting any enjoyment out of life feeling anxious or worried having suicidal thoughts or thoughts of harming yourself. Physical symptoms The physical symptoms of depression include: moving or speaking more slowly than usual changes in appetite or weight (usually decreased, but sometimes increased) constipation unexplained aches and pains lack of energy low sex drive ( loss of libido ) disturbed sleep – for example, finding it difficult to fall asleep at night or waking up very early in the morning. Social symptoms The social symptoms of depression include: avoiding contact with friends and taking part in fewer social activities neglecting your hobbies and interests having difficulties in your home, work or family life. Severities of range from mild to severe. At its mildest, you may simply feel persistently low in spirit, while severe depression can make you feel suicidal, that life is no longer worth living. Most people experience feelings of stress, anxiety or low mood during difficult times. A low mood may improve after a short period of time, rather than being a sign of depression. When to see a doctor It's important to seek help from a GP if you think you may be depressed. Many people wait a long time before seeking help for depression, but it's best not to delay. The sooner you see a doctor, the sooner you can be on the way to recovery. What causes depression? Sometimes there's a trigger for depression. Life-changing events, such as bereavement, losing your job or giving birth, can bring it on. People with a family history of depression are more likely to experience it themselves. But you can also become depressed for no obvious reason. Treating depression Treatment for depression can involve a combination of lifestyle changes, talking therapies and medicine. Your recommended treatment will be based on how severe your depression is. If you have mild depression, your doctor may suggest waiting to see whether it improves on its own, while monitoring your progress. This is known as \"watchful waiting\". They may also suggest lifestyle measures such as exercise and guided self-help. Talking therapies, such as cognitive behavioural therapy (CBT) , may also be used for mild depression. For moderate to\n",
      "\n",
      "\n"
     ]
    },
    {
     "name": "stderr",
     "output_type": "stream",
     "text": [
      "Token indices sequence length is longer than the specified maximum sequence length for this model (1261 > 512). Running this sequence through the model will result in indexing errors\n"
     ]
    },
    {
     "name": "stdout",
     "output_type": "stream",
     "text": [
      "====================================================================================================\n",
      "LLM Response\n",
      "Depression in adults\n",
      "====================================================================================================\n",
      "Collection name: mind_collection\n",
      "\u001b[1;35mLoad pretrained SentenceTransformer: hkunlp/instructor-base\u001b[0m\n",
      "load INSTRUCTOR_Transformer\n",
      "max_seq_length  512\n",
      "====================================================================================================\n",
      "LLM prompt\n",
      "Question: What lifestyle changes are suggested for depression?\n",
      "\n",
      "Context: might make it hard to understand that these experiences are also symptoms of your depression. And they can be frightening or upsetting, so it's important to seek treatment and support. You might worry that experiencing psychotic symptoms could mean you’re given a diagnosis that doesn’t feel right for you. But discussing all of your symptoms with your doctor can help you get the right support and treatment. How might depression affect my day-to-day life? If you have depression, you might find that it interferes with different aspects of your life. For example, it might affect your ability to work, your relationships, or managing your finances. This can add extra stress to an already difficult experience. It may also feel hard to explain your thoughts and feelings to others. You might want to cut yourself off from other people instead. This could lead to you feeling isolated and lonely. It feels like I'm stuck under a huge grey-black cloud. It's dark and isolating, smothering me at every opportunity. Can depression be a symptom of other mental health problems? Symptoms of depression can also be part of other mental health problems, such as: Bipolar disorder, Borderline personality disorder (BPD) and other personality disorders, Schizoaffective disorder. If you experience low mood or suicidal thoughts, this might be the reason you first speak to your doctor about your mental health. And your doctor might offer you treatment for depression without realising that you also Depression Learn about depression, its symptoms and possible causes, and how you can access treatment and support. Find tips on caring for yourself, and guidance for friends and family.  What is depression? Depression is a mental health problem that involves having a low mood or losing interest and enjoyment in things. It can also cause a range of other changes to how you feel or behave.  The symptoms you experience may vary. How intense they are, how long they last, and how much they affect your daily life can also vary.  If you experience milder depression, you might have low mood but still be able to carry on with your daily life. But things may feel harder and less worthwhile.  If you have more severe depression, you might find day-to-day life much more difficult. You may also experience suicidal feelings.  It starts as sadness then I feel myself shutting down, becoming less capable of coping. Eventually, I just feel numb and empty.  When does low mood become depression? We all have times when our mood is low, and we feel sad or fed up. Often these feelings happen for a reason and pass on their own.  But it might be depression if the feelings become so bad that they interfere with our daily life. Or if they last for several weeks or months.  Are there different types of depression? If you're diagnosed with depression, you might also be told that it is ‘less severe’ or ‘more severe’. This describes how your symptoms are affecting you, and what treatment you're likely to be our daily life. Or if they last for several weeks or months.  Are there different types of depression? If you're diagnosed with depression, you might also be told that it is ‘less severe’ or ‘more severe’. This describes how your symptoms are affecting you, and what treatment you're likely to be offered. You may find that the severity of your depression changes over time.  Sometimes you might hear depression being called ‘major depressive disorder’. There are some other types of depression too:  Persistent depressive disorder (PDD). PDD is continuous depression that lasts for two years or more. You may also hear it called dysthymia or chronic depression. Seasonal affective disorder (SAD). SAD is depression that occurs at a particular time of year, or during a particular season. See our page on SAD for more information. Antenatal depression. This is depression that occurs while you are pregnant. It is sometimes called prenatal depression. Postnatal depression (PND). This is depression that occurs in the first year after having a baby. This can include affecting dads and partners. Premenstrual dysphoric disorder (PMDD). This is a hormone-related disorder that affects your body but also how you feel. This can involve experiencing depression. So your doctor may describe this as a mental health problem. Common signs and symptoms of depression These are some common signs of depression that you may experience:  How you might feel Down, upset or tearful Restless, agitated or irritable Guilty, worthless and down on yourself Empty and numb Isolated and unable to relate to other people Finding no pleasure in life or things you usually enjoy Angry or frustrated over minor things A sense of unreality No self-confidence or self-esteem Hopeless and despairing Feeling tired all the time How you might act Avoiding social events and activities you usually enjoy Self-harming or suicidal behaviour Difficulty speaking, thinking clearly or making decisions Losing interest in sex Difficulty remembering or concentrating on things Using more tobacco, alcohol or other drugs than usual Difficulty sleeping, or sleeping too much No appetite and losing weight, or eating more than usual and gaining weight Physical aches and pains with no obvious physical cause Moving very slowly, or being restless and agitated It felt like I was really tired, all the time. I had no energy or emotion about anything. Anxiety It's very common to experience depression and anxiety together. Some symptoms of depression can also be symptoms of anxiety, for example: Feeling restless, Finding it difficult to concentrate, Struggling to sleep I flit between states of anxiety and depression. At times, each seems to fuel the other. Self-harm and suicidal feelings If you're feeling low, you might self-harm to cope with difficult\n",
      "\n",
      "\n"
     ]
    },
    {
     "name": "stderr",
     "output_type": "stream",
     "text": [
      "Token indices sequence length is longer than the specified maximum sequence length for this model (1278 > 512). Running this sequence through the model will result in indexing errors\n"
     ]
    },
    {
     "name": "stdout",
     "output_type": "stream",
     "text": [
      "====================================================================================================\n",
      "LLM Response\n",
      "Cut yourself off from other people\n",
      "====================================================================================================\n",
      "Collection name: nhs_collection\n",
      "\u001b[1;35mLoad pretrained SentenceTransformer: hkunlp/instructor-base\u001b[0m\n",
      "load INSTRUCTOR_Transformer\n",
      "max_seq_length  512\n",
      "====================================================================================================\n",
      "LLM prompt\n",
      "Question: What lifestyle changes are suggested for depression?\n",
      "\n",
      "Context: whether it improves on its own, while monitoring your progress. This is known as \"watchful waiting\". They may also suggest lifestyle measures such as exercise and guided self-help. Talking therapies, such as cognitive behavioural therapy (CBT) , may also be used for mild depression. For moderate to severe depression, a combination of talking therapy and antidepressants is often recommended. If you have severe depression, you may be referred to a specialist mental health team for intensive specialist talking treatments and prescribed medicine. Living with depression Many people with depression benefit by making lifestyle changes, such as getting more exercise , cutting down on alcohol , giving up smoking and eating healthily . Reading a self-help book or joining a support group are also worthwhile. They can help you gain a better understanding about what causes you to feel depressed. Sharing your experiences with others in a similar situation can also be very supportive. Information: Social care and support guide If you: need help with day-to-day living because of illness or disability care for someone regularly because they're ill or disabled, or because of their age – including family members Our social care and support guide explains your options and where you can get support. Symptoms - Depression in adults The symptoms of depression can be complex and vary widely between people. If you're depressed, you may feel sad, hopeless and lose interest in things you used to enjoy. The symptoms persist for weeks or months and are bad enough to interfere with your work, social life and family life. There are many other symptoms of depression and you're unlikely to have all of those listed on this page. Psychological symptoms The psychological symptoms of depression include: continuous low mood or sadness feeling hopeless and helpless having low self-esteem feeling tearful feeling guilt-ridden feeling irritable and intolerant of others having no motivation or interest in things finding it difficult to make decisions not getting any enjoyment out of life feeling anxious or worried having suicidal thoughts or thoughts of harming yourself. Physical symptoms The physical symptoms of depression include: moving or speaking more slowly than usual changes in appetite or weight (usually decreased, but sometimes increased) constipation unexplained aches and pains lack of energy low sex drive ( loss of libido ) disturbed sleep – for example, finding it difficult to fall asleep at night or waking up very early in the morning. Social symptoms The social symptoms of depression include: avoiding contact with friends and taking part in fewer social activities neglecting your hobbies and interests having difficulties in your home, work or family life. Severities of range from mild to severe. At its mildest, you may simply feel persistently low in spirit, while severe depression can make you feel suicidal, that life is no longer worth living. Most people experience feelings of stress, anxiety or low mood during difficult times. A low mood may improve after a short period of time, rather than being a sign of depression. When to see a doctor It's important to seek help from a GP if you think you may be depressed. Many people wait a long time before seeking help for depression, but it's best not to delay. The sooner you see a doctor, the sooner you can be on the way to recovery. What causes depression? Sometimes there's a trigger for depression. Life-changing events, such as bereavement, losing your job or giving birth, can bring it on. People with a family history of depression are more likely to experience it themselves. But you can also become depressed for no obvious reason. Treating depression Treatment for depression can involve a combination of lifestyle changes, talking therapies and medicine. Your recommended treatment will be based on how severe your depression is. If you have mild depression, your doctor may suggest waiting to see whether it improves on its own, while monitoring your progress. This is known as \"watchful waiting\". They may also suggest lifestyle measures such as exercise and guided self-help. Talking therapies, such as cognitive behavioural therapy (CBT) , may also be used for mild depression. For moderate to Overview - Depression in adults Depression is more than simply feeling unhappy or fed up for a few days. Most people go through periods of feeling down, but when you're depressed you feel persistently sad for weeks or months, rather than just a few days. Some people think depression is trivial and not a genuine health condition. They're wrong – it is a real illness with real symptoms. Depression is not a sign of weakness or something you can \"snap out of\" by \"pulling yourself together\". The good news is that with the right treatment and support, most people with depression can make a full recovery. These pages are about depression in adults. Read about depression in children and young people. How to tell if you have depression Depression affects people in different ways and can cause a wide variety of symptoms. They range from lasting feelings of unhappiness and hopelessness, to losing interest in the things you used to enjoy and feeling very tearful. Many people with depression also have symptoms of anxiety . There can be physical symptoms too, such as feeling constantly tired, sleeping badly, having no appetite or sex drive, and various aches and pains. The symptoms of depression range from mild to severe. At its mildest, you may simply feel persistently low in spirit, while severe depression can make you feel suicidal, that life is no longer worth living. Most people experience feelings of stress, anxiety or low mood during difficult times. A low mood may improve after a\n",
      "\n",
      "\n"
     ]
    },
    {
     "name": "stderr",
     "output_type": "stream",
     "text": [
      "Token indices sequence length is longer than the specified maximum sequence length for this model (1216 > 512). Running this sequence through the model will result in indexing errors\n"
     ]
    },
    {
     "name": "stdout",
     "output_type": "stream",
     "text": [
      "====================================================================================================\n",
      "LLM Response\n",
      "exercise and guided self-help. Talking therapies, such as cognitive behavioural therapy (CBT) , may also be used for mild depression. For moderate to severe depression, a combination of talking therapy and antidepressants is often recommended.\n",
      "====================================================================================================\n",
      "Collection name: mind_collection\n",
      "\u001b[1;35mLoad pretrained SentenceTransformer: hkunlp/instructor-base\u001b[0m\n",
      "load INSTRUCTOR_Transformer\n",
      "max_seq_length  512\n",
      "====================================================================================================\n",
      "LLM prompt\n",
      "Question: Are there different types of depressions?\n",
      "\n",
      "Context: our daily life. Or if they last for several weeks or months.  Are there different types of depression? If you're diagnosed with depression, you might also be told that it is ‘less severe’ or ‘more severe’. This describes how your symptoms are affecting you, and what treatment you're likely to be offered. You may find that the severity of your depression changes over time.  Sometimes you might hear depression being called ‘major depressive disorder’. There are some other types of depression too:  Persistent depressive disorder (PDD). PDD is continuous depression that lasts for two years or more. You may also hear it called dysthymia or chronic depression. Seasonal affective disorder (SAD). SAD is depression that occurs at a particular time of year, or during a particular season. See our page on SAD for more information. Antenatal depression. This is depression that occurs while you are pregnant. It is sometimes called prenatal depression. Postnatal depression (PND). This is depression that occurs in the first year after having a baby. This can include affecting dads and partners. Premenstrual dysphoric disorder (PMDD). This is a hormone-related disorder that affects your body but also how you feel. This can involve experiencing depression. So your doctor may describe this as a mental health problem. Depression Learn about depression, its symptoms and possible causes, and how you can access treatment and support. Find tips on caring for yourself, and guidance for friends and family.  What is depression? Depression is a mental health problem that involves having a low mood or losing interest and enjoyment in things. It can also cause a range of other changes to how you feel or behave.  The symptoms you experience may vary. How intense they are, how long they last, and how much they affect your daily life can also vary.  If you experience milder depression, you might have low mood but still be able to carry on with your daily life. But things may feel harder and less worthwhile.  If you have more severe depression, you might find day-to-day life much more difficult. You may also experience suicidal feelings.  It starts as sadness then I feel myself shutting down, becoming less capable of coping. Eventually, I just feel numb and empty.  When does low mood become depression? We all have times when our mood is low, and we feel sad or fed up. Often these feelings happen for a reason and pass on their own.  But it might be depression if the feelings become so bad that they interfere with our daily life. Or if they last for several weeks or months.  Are there different types of depression? If you're diagnosed with depression, you might also be told that it is ‘less severe’ or ‘more severe’. This describes how your symptoms are affecting you, and what treatment you're likely to be might make it hard to understand that these experiences are also symptoms of your depression. And they can be frightening or upsetting, so it's important to seek treatment and support. You might worry that experiencing psychotic symptoms could mean you’re given a diagnosis that doesn’t feel right for you. But discussing all of your symptoms with your doctor can help you get the right support and treatment. How might depression affect my day-to-day life? If you have depression, you might find that it interferes with different aspects of your life. For example, it might affect your ability to work, your relationships, or managing your finances. This can add extra stress to an already difficult experience. It may also feel hard to explain your thoughts and feelings to others. You might want to cut yourself off from other people instead. This could lead to you feeling isolated and lonely. It feels like I'm stuck under a huge grey-black cloud. It's dark and isolating, smothering me at every opportunity. Can depression be a symptom of other mental health problems? Symptoms of depression can also be part of other mental health problems, such as: Bipolar disorder, Borderline personality disorder (BPD) and other personality disorders, Schizoaffective disorder. If you experience low mood or suicidal thoughts, this might be the reason you first speak to your doctor about your mental health. And your doctor might offer you treatment for depression without realising that you also disorder (BPD) and other personality disorders, Schizoaffective disorder. If you experience low mood or suicidal thoughts, this might be the reason you first speak to your doctor about your mental health. And your doctor might offer you treatment for depression without realising that you also experience other symptoms. If you think you're experiencing other symptoms, you can talk to your doctor about this to make sure you're getting the right treatment.\n",
      "\n",
      "\n"
     ]
    },
    {
     "name": "stderr",
     "output_type": "stream",
     "text": [
      "Token indices sequence length is longer than the specified maximum sequence length for this model (1035 > 512). Running this sequence through the model will result in indexing errors\n"
     ]
    },
    {
     "name": "stdout",
     "output_type": "stream",
     "text": [
      "====================================================================================================\n",
      "LLM Response\n",
      "Are there different types of depression?\n",
      "====================================================================================================\n",
      "Collection name: nhs_collection\n",
      "\u001b[1;35mLoad pretrained SentenceTransformer: hkunlp/instructor-base\u001b[0m\n",
      "load INSTRUCTOR_Transformer\n",
      "max_seq_length  512\n",
      "====================================================================================================\n",
      "LLM prompt\n",
      "Question: Are there different types of depressions?\n",
      "\n",
      "Context: a loss, while depression is an illness. People who are grieving may have symptoms of depression, but they usually improve with time. For some people, bereavement can lead to depression. If you're grieving it's normal to have feelings of sadness. Some other symptoms of depression are rare with grief and bereavement, such as having suicidal thoughts, symptoms of psychosis and feeling hopeless or guilt-ridden. Other types of depression There are different types of depression, and some conditions where depression may be one of the symptoms. These include: postnatal depression – sometimes new mothers, fathers or partners develop depression after they have a baby; this is known as postnatal depression and it's treated in a similar way to other types of depression, with talking therapies and antidepressant medicines bipolar disorder – also known as \"manic depression\", in bipolar disorder there are spells of both depression and excessively high mood (mania); the depression symptoms are similar to depression, but the bouts of mania can include harmful behaviour, such as gambling, going on spending sprees and having unsafe sex seasonal affective disorder (SAD) – also known as \"winter depression\", SAD is a type of depression with a seasonal pattern usually related to winter premenstrual dysphoric disorder (PMDD) – a severe type of premenstrual syndrome (PMS) where you have symptoms including feelings of depression and anxiety in the weeks before your period. When to seek help See a GP Overview - Depression in adults Depression is more than simply feeling unhappy or fed up for a few days. Most people go through periods of feeling down, but when you're depressed you feel persistently sad for weeks or months, rather than just a few days. Some people think depression is trivial and not a genuine health condition. They're wrong – it is a real illness with real symptoms. Depression is not a sign of weakness or something you can \"snap out of\" by \"pulling yourself together\". The good news is that with the right treatment and support, most people with depression can make a full recovery. These pages are about depression in adults. Read about depression in children and young people. How to tell if you have depression Depression affects people in different ways and can cause a wide variety of symptoms. They range from lasting feelings of unhappiness and hopelessness, to losing interest in the things you used to enjoy and feeling very tearful. Many people with depression also have symptoms of anxiety . There can be physical symptoms too, such as feeling constantly tired, sleeping badly, having no appetite or sex drive, and various aches and pains. The symptoms of depression range from mild to severe. At its mildest, you may simply feel persistently low in spirit, while severe depression can make you feel suicidal, that life is no longer worth living. Most people experience feelings of stress, anxiety or low mood during difficult times. A low mood may improve after a fall asleep at night or waking up very early in the morning. Social symptoms The social symptoms of depression include: avoiding contact with friends and taking part in fewer social activities neglecting your hobbies and interests having difficulties in your home, work or family life. Severities of depression Depression can often come on gradually, so it can be difficult to notice something is wrong. Many people try to cope with their symptoms without realising they're unwell. It can sometimes take a friend or family member to suggest something is wrong. Doctors describe depression in adults as either less severe (mild) or more severe (moderate or severe), based on: the symptoms, including how often you get symptoms and how bad they are how long depression lasts the impact on your daily life A few people with severe depression may have symptoms of psychosis . You'll usually be asked to answer a set of questions to help doctors assess how severe your condition is. Grief and depression It can be difficult to distinguish between grief and depression. They share many of the same characteristics, but there are important differences between them. Grief is an entirely natural response to a loss, while depression is an illness. People who are grieving may have symptoms of depression, but they usually improve with time. For some people, bereavement can lead to depression. If you're grieving it's normal to have feelings of sadness. Some other symptoms of depression are rare with grief range from mild to severe. At its mildest, you may simply feel persistently low in spirit, while severe depression can make you feel suicidal, that life is no longer worth living. Most people experience feelings of stress, anxiety or low mood during difficult times. A low mood may improve after a short period of time, rather than being a sign of depression. When to see a doctor It's important to seek help from a GP if you think you may be depressed. Many people wait a long time before seeking help for depression, but it's best not to delay. The sooner you see a doctor, the sooner you can be on the way to recovery. What causes depression? Sometimes there's a trigger for depression. Life-changing events, such as bereavement, losing your job or giving birth, can bring it on. People with a family history of depression are more likely to experience it themselves. But you can also become depressed for no obvious reason. Treating depression Treatment for depression can involve a combination of lifestyle changes, talking therapies and medicine. Your recommended treatment will be based on how severe your depression is. If you have mild depression, your doctor may suggest waiting to see whether it improves on its own, while monitoring your progress. This is known as \"watchful waiting\". They may also suggest lifestyle measures such as exercise and guided self-help. Talking therapies, such as cognitive behavioural therapy (CBT) , may also be used for mild depression. For moderate to\n",
      "\n",
      "\n"
     ]
    },
    {
     "name": "stderr",
     "output_type": "stream",
     "text": [
      "Token indices sequence length is longer than the specified maximum sequence length for this model (1297 > 512). Running this sequence through the model will result in indexing errors\n"
     ]
    },
    {
     "name": "stdout",
     "output_type": "stream",
     "text": [
      "====================================================================================================\n",
      "LLM Response\n",
      "There are different types of depression, and some conditions where depression may be one of the symptoms. These include: postnatal depression – sometimes new mothers, fathers or partners develop depression after they have a baby; this is known as postnatal depression and it's treated in a similar way to other types of depression, with talking therapies and antidepressant medicines bipolar disorder – also known as \"manic depression\", in bipolar disorder there are spells of both depression and excessively high mood (mania); the depression symptoms are similar to depression, but the bouts of mania can include harmful behaviour, such as gambling, going on spending sprees and having unsafe sex seasonal affective disorder (SAD) – also known as \"winter depression\", SAD is a severe type of premenstrual syndrome (PMS) where you have symptoms including feelings of stress, anxiety or low mood during difficult times.\n",
      "====================================================================================================\n"
     ]
    }
   ],
   "source": [
    "results_df = get_llm_prompt_response(QUESTIONS, enable_chunking = True, is_new_experiment = True, chunk_size = 1500, chunk_overlap = 300)"
   ]
  },
  {
   "cell_type": "code",
   "execution_count": 43,
   "id": "84d875f2-9e4e-4010-81f0-ebfa727a1c34",
   "metadata": {},
   "outputs": [
    {
     "data": {
      "text/html": [
       "<div>\n",
       "<style scoped>\n",
       "    .dataframe tbody tr th:only-of-type {\n",
       "        vertical-align: middle;\n",
       "    }\n",
       "\n",
       "    .dataframe tbody tr th {\n",
       "        vertical-align: top;\n",
       "    }\n",
       "\n",
       "    .dataframe thead th {\n",
       "        text-align: right;\n",
       "    }\n",
       "</style>\n",
       "<table border=\"1\" class=\"dataframe\">\n",
       "  <thead>\n",
       "    <tr style=\"text-align: right;\">\n",
       "      <th></th>\n",
       "      <th>mind_response</th>\n",
       "      <th>nhs_response</th>\n",
       "      <th>question</th>\n",
       "    </tr>\n",
       "  </thead>\n",
       "  <tbody>\n",
       "    <tr>\n",
       "      <th>0</th>\n",
       "      <td>It can be a mental health problem that involves having a low mood or losing interest and enjoyment in things.</td>\n",
       "      <td>Depression in adults</td>\n",
       "      <td>Can you tell me about depression?</td>\n",
       "    </tr>\n",
       "    <tr>\n",
       "      <th>1</th>\n",
       "      <td>Cut yourself off from other people</td>\n",
       "      <td>exercise and guided self-help. Talking therapies, such as cognitive behavioural therapy (CBT) , may also be used for mild depression. For moderate to severe depression, a combination of talking therapy and antidepressants is often recommended.</td>\n",
       "      <td>What lifestyle changes are suggested for depression?</td>\n",
       "    </tr>\n",
       "    <tr>\n",
       "      <th>2</th>\n",
       "      <td>Are there different types of depression?</td>\n",
       "      <td>There are different types of depression, and some conditions where depression may be one of the symptoms. These include: postnatal depression – sometimes new mothers, fathers or partners develop depression after they have a baby; this is known as postnatal depression and it's treated in a similar way to other types of depression, with talking therapies and antidepressant medicines bipolar disorder – also known as \"manic depression\", in bipolar disorder there are spells of both depression and excessively high mood (mania); the depression symptoms are similar to depression, but the bouts of mania can include harmful behaviour, such as gambling, going on spending sprees and having unsafe sex seasonal affective disorder (SAD) – also known as \"winter depression\", SAD is a severe type of pre...</td>\n",
       "      <td>Are there different types of depressions?</td>\n",
       "    </tr>\n",
       "  </tbody>\n",
       "</table>\n",
       "</div>"
      ],
      "text/plain": [
       "                                                                                                   mind_response  \\\n",
       "0  It can be a mental health problem that involves having a low mood or losing interest and enjoyment in things.   \n",
       "1                                                                             Cut yourself off from other people   \n",
       "2                                                                       Are there different types of depression?   \n",
       "\n",
       "                                                                                                                                                                                                                                                                                                                                                                                                                                                                                                                                                                                                                                                                                                                                                                                                                      nhs_response  \\\n",
       "0                                                                                                                                                                                                                                                                                                                                                                                                                                                                                                                                                                                                                                                                                                                                                                                                             Depression in adults   \n",
       "1                                                                                                                                                                                                                                                                                                                                                                                                                                                                                                                                                                              exercise and guided self-help. Talking therapies, such as cognitive behavioural therapy (CBT) , may also be used for mild depression. For moderate to severe depression, a combination of talking therapy and antidepressants is often recommended.   \n",
       "2  There are different types of depression, and some conditions where depression may be one of the symptoms. These include: postnatal depression – sometimes new mothers, fathers or partners develop depression after they have a baby; this is known as postnatal depression and it's treated in a similar way to other types of depression, with talking therapies and antidepressant medicines bipolar disorder – also known as \"manic depression\", in bipolar disorder there are spells of both depression and excessively high mood (mania); the depression symptoms are similar to depression, but the bouts of mania can include harmful behaviour, such as gambling, going on spending sprees and having unsafe sex seasonal affective disorder (SAD) – also known as \"winter depression\", SAD is a severe type of pre...   \n",
       "\n",
       "                                               question  \n",
       "0                     Can you tell me about depression?  \n",
       "1  What lifestyle changes are suggested for depression?  \n",
       "2             Are there different types of depressions?  "
      ]
     },
     "execution_count": 43,
     "metadata": {},
     "output_type": "execute_result"
    }
   ],
   "source": [
    "results_df"
   ]
  },
  {
   "cell_type": "markdown",
   "id": "6d2569b1-1dc7-4a46-ade3-ad394049b290",
   "metadata": {},
   "source": [
    "### chunk_size = 2000 and chunk_overlap = 300"
   ]
  },
  {
   "cell_type": "code",
   "execution_count": 44,
   "id": "02248c17-f426-4b8d-a580-36165759f52b",
   "metadata": {},
   "outputs": [
    {
     "name": "stdout",
     "output_type": "stream",
     "text": [
      "Found 2 collections\n",
      "\u001b[1;35mLoad pretrained SentenceTransformer: hkunlp/instructor-base\u001b[0m\n",
      "load INSTRUCTOR_Transformer\n",
      "max_seq_length  512\n",
      "Inserting data into collection nhs_collection\n",
      "Chunking enabled = True\n",
      "Using chunk_size=2000 and chunk_overlap=300\n",
      "Inserting data into collection mind_collection\n",
      "Chunking enabled = True\n",
      "Using chunk_size=2000 and chunk_overlap=300\n",
      "Time taken to insert data in chroma store 4.14658222199796 sec\n",
      "Collection name: mind_collection\n",
      "\u001b[1;35mLoad pretrained SentenceTransformer: hkunlp/instructor-base\u001b[0m\n",
      "load INSTRUCTOR_Transformer\n",
      "max_seq_length  512\n",
      "====================================================================================================\n",
      "LLM prompt\n",
      "Question: Can you tell me about depression?\n",
      "\n",
      "Context: Depression Learn about depression, its symptoms and possible causes, and how you can access treatment and support. Find tips on caring for yourself, and guidance for friends and family.  What is depression? Depression is a mental health problem that involves having a low mood or losing interest and enjoyment in things. It can also cause a range of other changes to how you feel or behave.  The symptoms you experience may vary. How intense they are, how long they last, and how much they affect your daily life can also vary.  If you experience milder depression, you might have low mood but still be able to carry on with your daily life. But things may feel harder and less worthwhile.  If you have more severe depression, you might find day-to-day life much more difficult. You may also experience suicidal feelings.  It starts as sadness then I feel myself shutting down, becoming less capable of coping. Eventually, I just feel numb and empty.  When does low mood become depression? We all have times when our mood is low, and we feel sad or fed up. Often these feelings happen for a reason and pass on their own.  But it might be depression if the feelings become so bad that they interfere with our daily life. Or if they last for several weeks or months.  Are there different types of depression? If you're diagnosed with depression, you might also be told that it is ‘less severe’ or ‘more severe’. This describes how your symptoms are affecting you, and what treatment you're likely to be offered. You may find that the severity of your depression changes over time.  Sometimes you might hear depression being called ‘major depressive disorder’. There are some other types of depression too:  Persistent depressive disorder (PDD). PDD is continuous depression that lasts for two years or more. You may also hear it called dysthymia or chronic depression. Seasonal affective disorder (SAD). SAD is depression that occurs at a particular time of year, or during a particular season. See our Common signs and symptoms of depression These are some common signs of depression that you may experience:  How you might feel Down, upset or tearful Restless, agitated or irritable Guilty, worthless and down on yourself Empty and numb Isolated and unable to relate to other people Finding no pleasure in life or things you usually enjoy Angry or frustrated over minor things A sense of unreality No self-confidence or self-esteem Hopeless and despairing Feeling tired all the time How you might act Avoiding social events and activities you usually enjoy Self-harming or suicidal behaviour Difficulty speaking, thinking clearly or making decisions Losing interest in sex Difficulty remembering or concentrating on things Using more tobacco, alcohol or other drugs than usual Difficulty sleeping, or sleeping too much No appetite and losing weight, or eating more than usual and gaining weight Physical aches and pains with no obvious physical cause Moving very slowly, or being restless and agitated It felt like I was really tired, all the time. I had no energy or emotion about anything. Anxiety It's very common to experience depression and anxiety together. Some symptoms of depression can also be symptoms of anxiety, for example: Feeling restless, Finding it difficult to concentrate, Struggling to sleep I flit between states of anxiety and depression. At times, each seems to fuel the other. Self-harm and suicidal feelings If you're feeling low, you might self-harm to cope with difficult feelings. Although this might make you feel better in the short term, self-harm can be very dangerous. When you're feeling really low and hopeless, you may also find yourself thinking about suicide. This could be thinking about the idea of suicide, or considering a plan to end your life. These thoughts can feel difficult to control, and can be very frightening. Psychotic symptoms If you experience depression, you might also experience some psychotic symptoms. These may include delusions, such as could be thinking about the idea of suicide, or considering a plan to end your life. These thoughts can feel difficult to control, and can be very frightening. Psychotic symptoms If you experience depression, you might also experience some psychotic symptoms. These may include delusions, such as paranoia. Or they may be hallucinations, such as hearing voices. If you experience psychotic symptoms as part of depression, they're likely to be linked to your depressed thoughts and feelings. This may include experiencing delusions relating to feelings of guilt. For example, you might become convinced that you've committed a crime. These kinds of experiences can feel very real at the time. This might make it hard to understand that these experiences are also symptoms of your depression. And they can be frightening or upsetting, so it's important to seek treatment and support. You might worry that experiencing psychotic symptoms could mean you’re given a diagnosis that doesn’t feel right for you. But discussing all of your symptoms with your doctor can help you get the right support and treatment. How might depression affect my day-to-day life? If you have depression, you might find that it interferes with different aspects of your life. For example, it might affect your ability to work, your relationships, or managing your finances. This can add extra stress to an already difficult experience. It may also feel hard to explain your thoughts and feelings to others. You might want to cut yourself off from other people instead. This could lead to you feeling isolated and lonely. It feels like I'm stuck under a huge grey-black cloud. It's dark and isolating, smothering me at every opportunity. Can depression be a symptom of other mental health problems? Symptoms of depression can also be part of other mental health problems, such as: Bipolar disorder, Borderline personality disorder (BPD) and other personality disorders, Schizoaffective disorder. If you experience low mood or Persistent depressive disorder (PDD). PDD is continuous depression that lasts for two years or more. You may also hear it called dysthymia or chronic depression. Seasonal affective disorder (SAD). SAD is depression that occurs at a particular time of year, or during a particular season. See our page on SAD for more information. Antenatal depression. This is depression that occurs while you are pregnant. It is sometimes called prenatal depression. Postnatal depression (PND). This is depression that occurs in the first year after having a baby. This can include affecting dads and partners. Premenstrual dysphoric disorder (PMDD). This is a hormone-related disorder that affects your body but also how you feel. This can involve experiencing depression. So your doctor may describe this as a mental health problem.\n",
      "\n",
      "\n"
     ]
    },
    {
     "name": "stderr",
     "output_type": "stream",
     "text": [
      "Token indices sequence length is longer than the specified maximum sequence length for this model (1494 > 512). Running this sequence through the model will result in indexing errors\n"
     ]
    },
    {
     "name": "stdout",
     "output_type": "stream",
     "text": [
      "====================================================================================================\n",
      "LLM Response\n",
      "It can affect your daily life.\n",
      "====================================================================================================\n",
      "Collection name: nhs_collection\n",
      "\u001b[1;35mLoad pretrained SentenceTransformer: hkunlp/instructor-base\u001b[0m\n",
      "load INSTRUCTOR_Transformer\n",
      "max_seq_length  512\n",
      "====================================================================================================\n",
      "LLM prompt\n",
      "Question: Can you tell me about depression?\n",
      "\n",
      "Context: Overview - Depression in adults Depression is more than simply feeling unhappy or fed up for a few days. Most people go through periods of feeling down, but when you're depressed you feel persistently sad for weeks or months, rather than just a few days. Some people think depression is trivial and not a genuine health condition. They're wrong – it is a real illness with real symptoms. Depression is not a sign of weakness or something you can \"snap out of\" by \"pulling yourself together\". The good news is that with the right treatment and support, most people with depression can make a full recovery. These pages are about depression in adults. Read about depression in children and young people. How to tell if you have depression Depression affects people in different ways and can cause a wide variety of symptoms. They range from lasting feelings of unhappiness and hopelessness, to losing interest in the things you used to enjoy and feeling very tearful. Many people with depression also have symptoms of anxiety . There can be physical symptoms too, such as feeling constantly tired, sleeping badly, having no appetite or sex drive, and various aches and pains. The symptoms of depression range from mild to severe. At its mildest, you may simply feel persistently low in spirit, while severe depression can make you feel suicidal, that life is no longer worth living. Most people experience feelings of stress, anxiety or low mood during difficult times. A low mood may improve after a short period of time, rather than being a sign of depression. When to see a doctor It's important to seek help from a GP if you think you may be depressed. Many people wait a long time before seeking help for depression, but it's best not to delay. The sooner you see a doctor, the sooner you can be on the way to recovery. What causes depression? Sometimes there's a trigger for depression. Life-changing events, such as bereavement, losing your job or giving birth, can bring it on. People with a Symptoms - Depression in adults The symptoms of depression can be complex and vary widely between people. If you're depressed, you may feel sad, hopeless and lose interest in things you used to enjoy. The symptoms persist for weeks or months and are bad enough to interfere with your work, social life and family life. There are many other symptoms of depression and you're unlikely to have all of those listed on this page. Psychological symptoms The psychological symptoms of depression include: continuous low mood or sadness feeling hopeless and helpless having low self-esteem feeling tearful feeling guilt-ridden feeling irritable and intolerant of others having no motivation or interest in things finding it difficult to make decisions not getting any enjoyment out of life feeling anxious or worried having suicidal thoughts or thoughts of harming yourself. Physical symptoms The physical symptoms of depression include: moving or speaking more slowly than usual changes in appetite or weight (usually decreased, but sometimes increased) constipation unexplained aches and pains lack of energy low sex drive ( loss of libido ) disturbed sleep – for example, finding it difficult to fall asleep at night or waking up very early in the morning. Social symptoms The social symptoms of depression include: avoiding contact with friends and taking part in fewer social activities neglecting your hobbies and interests having difficulties in your home, work or family life. Severities of depression Depression can often come on gradually, so it can be difficult to notice something is wrong. Many people try to cope with their symptoms without realising they're unwell. It can sometimes take a friend or family member to suggest something is wrong. Doctors describe depression in adults as either less severe (mild) or more severe (moderate or severe), based on: the symptoms, including how often you get symptoms and how bad they are how long depression lasts the impact on your daily life A few or family member to suggest something is wrong. Doctors describe depression in adults as either less severe (mild) or more severe (moderate or severe), based on: the symptoms, including how often you get symptoms and how bad they are how long depression lasts the impact on your daily life A few people with severe depression may have symptoms of psychosis . You'll usually be asked to answer a set of questions to help doctors assess how severe your condition is. Grief and depression It can be difficult to distinguish between grief and depression. They share many of the same characteristics, but there are important differences between them. Grief is an entirely natural response to a loss, while depression is an illness. People who are grieving may have symptoms of depression, but they usually improve with time. For some people, bereavement can lead to depression. If you're grieving it's normal to have feelings of sadness. Some other symptoms of depression are rare with grief and bereavement, such as having suicidal thoughts, symptoms of psychosis and feeling hopeless or guilt-ridden. Other types of depression There are different types of depression, and some conditions where depression may be one of the symptoms. These include: postnatal depression – sometimes new mothers, fathers or partners develop depression after they have a baby; this is known as postnatal depression and it's treated in a similar way to other types of depression, with talking therapies and antidepressant medicines bipolar disorder – also known as \"manic depression\", in bipolar disorder there are spells of both depression and excessively high mood (mania); the depression symptoms are similar to depression, but the bouts of mania can include harmful behaviour, such as gambling, going on spending sprees and having unsafe sex seasonal affective disorder (SAD) – also known as \"winter depression\", SAD is a type of depression with a seasonal pattern usually related to winter premenstrual dysphoric help for depression, but it's best not to delay. The sooner you see a doctor, the sooner you can be on the way to recovery. What causes depression? Sometimes there's a trigger for depression. Life-changing events, such as bereavement, losing your job or giving birth, can bring it on. People with a family history of depression are more likely to experience it themselves. But you can also become depressed for no obvious reason. Treating depression Treatment for depression can involve a combination of lifestyle changes, talking therapies and medicine. Your recommended treatment will be based on how severe your depression is. If you have mild depression, your doctor may suggest waiting to see whether it improves on its own, while monitoring your progress. This is known as \"watchful waiting\". They may also suggest lifestyle measures such as exercise and guided self-help. Talking therapies, such as cognitive behavioural therapy (CBT) , may also be used for mild depression. For moderate to severe depression, a combination of talking therapy and antidepressants is often recommended. If you have severe depression, you may be referred to a specialist mental health team for intensive specialist talking treatments and prescribed medicine. Living with depression Many people with depression benefit by making lifestyle changes, such as getting more exercise , cutting down on alcohol , giving up smoking and eating healthily . Reading a self-help book or joining a support group are also worthwhile. They can help you gain a better understanding about what causes you to feel depressed. Sharing your experiences with others in a similar situation can also be very supportive. Information: Social care and support guide If you: need help with day-to-day living because of illness or disability care for someone regularly because they're ill or disabled, or because of their age – including family members Our social care and support guide explains your options and where you can get support.\n",
      "\n",
      "\n"
     ]
    },
    {
     "name": "stderr",
     "output_type": "stream",
     "text": [
      "Token indices sequence length is longer than the specified maximum sequence length for this model (1692 > 512). Running this sequence through the model will result in indexing errors\n"
     ]
    },
    {
     "name": "stdout",
     "output_type": "stream",
     "text": [
      "====================================================================================================\n",
      "LLM Response\n",
      "Depression is more than simply feeling unhappy or fed up for a few days. Most people go through periods of feeling down, but when you're depressed you feel persistently sad for weeks or months, rather than just a few days. Some people think depression is trivial and not a genuine health condition. They're wrong – it is a real illness with real symptoms. Depression is not a sign of weakness or something you can \"snap out of\" by \"pulling yourself together\". The good news is that with the right treatment and support, most people with depression can make a full recovery.\n",
      "====================================================================================================\n",
      "Collection name: mind_collection\n",
      "\u001b[1;35mLoad pretrained SentenceTransformer: hkunlp/instructor-base\u001b[0m\n",
      "load INSTRUCTOR_Transformer\n",
      "max_seq_length  512\n",
      "====================================================================================================\n",
      "LLM prompt\n",
      "Question: What lifestyle changes are suggested for depression?\n",
      "\n",
      "Context: Depression Learn about depression, its symptoms and possible causes, and how you can access treatment and support. Find tips on caring for yourself, and guidance for friends and family.  What is depression? Depression is a mental health problem that involves having a low mood or losing interest and enjoyment in things. It can also cause a range of other changes to how you feel or behave.  The symptoms you experience may vary. How intense they are, how long they last, and how much they affect your daily life can also vary.  If you experience milder depression, you might have low mood but still be able to carry on with your daily life. But things may feel harder and less worthwhile.  If you have more severe depression, you might find day-to-day life much more difficult. You may also experience suicidal feelings.  It starts as sadness then I feel myself shutting down, becoming less capable of coping. Eventually, I just feel numb and empty.  When does low mood become depression? We all have times when our mood is low, and we feel sad or fed up. Often these feelings happen for a reason and pass on their own.  But it might be depression if the feelings become so bad that they interfere with our daily life. Or if they last for several weeks or months.  Are there different types of depression? If you're diagnosed with depression, you might also be told that it is ‘less severe’ or ‘more severe’. This describes how your symptoms are affecting you, and what treatment you're likely to be offered. You may find that the severity of your depression changes over time.  Sometimes you might hear depression being called ‘major depressive disorder’. There are some other types of depression too:  Persistent depressive disorder (PDD). PDD is continuous depression that lasts for two years or more. You may also hear it called dysthymia or chronic depression. Seasonal affective disorder (SAD). SAD is depression that occurs at a particular time of year, or during a particular season. See our Common signs and symptoms of depression These are some common signs of depression that you may experience:  How you might feel Down, upset or tearful Restless, agitated or irritable Guilty, worthless and down on yourself Empty and numb Isolated and unable to relate to other people Finding no pleasure in life or things you usually enjoy Angry or frustrated over minor things A sense of unreality No self-confidence or self-esteem Hopeless and despairing Feeling tired all the time How you might act Avoiding social events and activities you usually enjoy Self-harming or suicidal behaviour Difficulty speaking, thinking clearly or making decisions Losing interest in sex Difficulty remembering or concentrating on things Using more tobacco, alcohol or other drugs than usual Difficulty sleeping, or sleeping too much No appetite and losing weight, or eating more than usual and gaining weight Physical aches and pains with no obvious physical cause Moving very slowly, or being restless and agitated It felt like I was really tired, all the time. I had no energy or emotion about anything. Anxiety It's very common to experience depression and anxiety together. Some symptoms of depression can also be symptoms of anxiety, for example: Feeling restless, Finding it difficult to concentrate, Struggling to sleep I flit between states of anxiety and depression. At times, each seems to fuel the other. Self-harm and suicidal feelings If you're feeling low, you might self-harm to cope with difficult feelings. Although this might make you feel better in the short term, self-harm can be very dangerous. When you're feeling really low and hopeless, you may also find yourself thinking about suicide. This could be thinking about the idea of suicide, or considering a plan to end your life. These thoughts can feel difficult to control, and can be very frightening. Psychotic symptoms If you experience depression, you might also experience some psychotic symptoms. These may include delusions, such as Persistent depressive disorder (PDD). PDD is continuous depression that lasts for two years or more. You may also hear it called dysthymia or chronic depression. Seasonal affective disorder (SAD). SAD is depression that occurs at a particular time of year, or during a particular season. See our page on SAD for more information. Antenatal depression. This is depression that occurs while you are pregnant. It is sometimes called prenatal depression. Postnatal depression (PND). This is depression that occurs in the first year after having a baby. This can include affecting dads and partners. Premenstrual dysphoric disorder (PMDD). This is a hormone-related disorder that affects your body but also how you feel. This can involve experiencing depression. So your doctor may describe this as a mental health problem. could be thinking about the idea of suicide, or considering a plan to end your life. These thoughts can feel difficult to control, and can be very frightening. Psychotic symptoms If you experience depression, you might also experience some psychotic symptoms. These may include delusions, such as paranoia. Or they may be hallucinations, such as hearing voices. If you experience psychotic symptoms as part of depression, they're likely to be linked to your depressed thoughts and feelings. This may include experiencing delusions relating to feelings of guilt. For example, you might become convinced that you've committed a crime. These kinds of experiences can feel very real at the time. This might make it hard to understand that these experiences are also symptoms of your depression. And they can be frightening or upsetting, so it's important to seek treatment and support. You might worry that experiencing psychotic symptoms could mean you’re given a diagnosis that doesn’t feel right for you. But discussing all of your symptoms with your doctor can help you get the right support and treatment. How might depression affect my day-to-day life? If you have depression, you might find that it interferes with different aspects of your life. For example, it might affect your ability to work, your relationships, or managing your finances. This can add extra stress to an already difficult experience. It may also feel hard to explain your thoughts and feelings to others. You might want to cut yourself off from other people instead. This could lead to you feeling isolated and lonely. It feels like I'm stuck under a huge grey-black cloud. It's dark and isolating, smothering me at every opportunity. Can depression be a symptom of other mental health problems? Symptoms of depression can also be part of other mental health problems, such as: Bipolar disorder, Borderline personality disorder (BPD) and other personality disorders, Schizoaffective disorder. If you experience low mood or\n",
      "\n",
      "\n"
     ]
    },
    {
     "name": "stderr",
     "output_type": "stream",
     "text": [
      "Token indices sequence length is longer than the specified maximum sequence length for this model (1495 > 512). Running this sequence through the model will result in indexing errors\n"
     ]
    },
    {
     "name": "stdout",
     "output_type": "stream",
     "text": [
      "====================================================================================================\n",
      "LLM Response\n",
      "loss of interest and enjoyment in things, you might be suffering from depression.\n",
      "====================================================================================================\n",
      "Collection name: nhs_collection\n",
      "\u001b[1;35mLoad pretrained SentenceTransformer: hkunlp/instructor-base\u001b[0m\n",
      "load INSTRUCTOR_Transformer\n",
      "max_seq_length  512\n",
      "====================================================================================================\n",
      "LLM prompt\n",
      "Question: What lifestyle changes are suggested for depression?\n",
      "\n",
      "Context: help for depression, but it's best not to delay. The sooner you see a doctor, the sooner you can be on the way to recovery. What causes depression? Sometimes there's a trigger for depression. Life-changing events, such as bereavement, losing your job or giving birth, can bring it on. People with a family history of depression are more likely to experience it themselves. But you can also become depressed for no obvious reason. Treating depression Treatment for depression can involve a combination of lifestyle changes, talking therapies and medicine. Your recommended treatment will be based on how severe your depression is. If you have mild depression, your doctor may suggest waiting to see whether it improves on its own, while monitoring your progress. This is known as \"watchful waiting\". They may also suggest lifestyle measures such as exercise and guided self-help. Talking therapies, such as cognitive behavioural therapy (CBT) , may also be used for mild depression. For moderate to severe depression, a combination of talking therapy and antidepressants is often recommended. If you have severe depression, you may be referred to a specialist mental health team for intensive specialist talking treatments and prescribed medicine. Living with depression Many people with depression benefit by making lifestyle changes, such as getting more exercise , cutting down on alcohol , giving up smoking and eating healthily . Reading a self-help book or joining a support group are also worthwhile. They can help you gain a better understanding about what causes you to feel depressed. Sharing your experiences with others in a similar situation can also be very supportive. Information: Social care and support guide If you: need help with day-to-day living because of illness or disability care for someone regularly because they're ill or disabled, or because of their age – including family members Our social care and support guide explains your options and where you can get support. Symptoms - Depression in adults The symptoms of depression can be complex and vary widely between people. If you're depressed, you may feel sad, hopeless and lose interest in things you used to enjoy. The symptoms persist for weeks or months and are bad enough to interfere with your work, social life and family life. There are many other symptoms of depression and you're unlikely to have all of those listed on this page. Psychological symptoms The psychological symptoms of depression include: continuous low mood or sadness feeling hopeless and helpless having low self-esteem feeling tearful feeling guilt-ridden feeling irritable and intolerant of others having no motivation or interest in things finding it difficult to make decisions not getting any enjoyment out of life feeling anxious or worried having suicidal thoughts or thoughts of harming yourself. Physical symptoms The physical symptoms of depression include: moving or speaking more slowly than usual changes in appetite or weight (usually decreased, but sometimes increased) constipation unexplained aches and pains lack of energy low sex drive ( loss of libido ) disturbed sleep – for example, finding it difficult to fall asleep at night or waking up very early in the morning. Social symptoms The social symptoms of depression include: avoiding contact with friends and taking part in fewer social activities neglecting your hobbies and interests having difficulties in your home, work or family life. Severities of depression Depression can often come on gradually, so it can be difficult to notice something is wrong. Many people try to cope with their symptoms without realising they're unwell. It can sometimes take a friend or family member to suggest something is wrong. Doctors describe depression in adults as either less severe (mild) or more severe (moderate or severe), based on: the symptoms, including how often you get symptoms and how bad they are how long depression lasts the impact on your daily life A few Overview - Depression in adults Depression is more than simply feeling unhappy or fed up for a few days. Most people go through periods of feeling down, but when you're depressed you feel persistently sad for weeks or months, rather than just a few days. Some people think depression is trivial and not a genuine health condition. They're wrong – it is a real illness with real symptoms. Depression is not a sign of weakness or something you can \"snap out of\" by \"pulling yourself together\". The good news is that with the right treatment and support, most people with depression can make a full recovery. These pages are about depression in adults. Read about depression in children and young people. How to tell if you have depression Depression affects people in different ways and can cause a wide variety of symptoms. They range from lasting feelings of unhappiness and hopelessness, to losing interest in the things you used to enjoy and feeling very tearful. Many people with depression also have symptoms of anxiety . There can be physical symptoms too, such as feeling constantly tired, sleeping badly, having no appetite or sex drive, and various aches and pains. The symptoms of depression range from mild to severe. At its mildest, you may simply feel persistently low in spirit, while severe depression can make you feel suicidal, that life is no longer worth living. Most people experience feelings of stress, anxiety or low mood during difficult times. A low mood may improve after a short period of time, rather than being a sign of depression. When to see a doctor It's important to seek help from a GP if you think you may be depressed. Many people wait a long time before seeking help for depression, but it's best not to delay. The sooner you see a doctor, the sooner you can be on the way to recovery. What causes depression? Sometimes there's a trigger for depression. Life-changing events, such as bereavement, losing your job or giving birth, can bring it on. People with a or family member to suggest something is wrong. Doctors describe depression in adults as either less severe (mild) or more severe (moderate or severe), based on: the symptoms, including how often you get symptoms and how bad they are how long depression lasts the impact on your daily life A few people with severe depression may have symptoms of psychosis . You'll usually be asked to answer a set of questions to help doctors assess how severe your condition is. Grief and depression It can be difficult to distinguish between grief and depression. They share many of the same characteristics, but there are important differences between them. Grief is an entirely natural response to a loss, while depression is an illness. People who are grieving may have symptoms of depression, but they usually improve with time. For some people, bereavement can lead to depression. If you're grieving it's normal to have feelings of sadness. Some other symptoms of depression are rare with grief and bereavement, such as having suicidal thoughts, symptoms of psychosis and feeling hopeless or guilt-ridden. Other types of depression There are different types of depression, and some conditions where depression may be one of the symptoms. These include: postnatal depression – sometimes new mothers, fathers or partners develop depression after they have a baby; this is known as postnatal depression and it's treated in a similar way to other types of depression, with talking therapies and antidepressant medicines bipolar disorder – also known as \"manic depression\", in bipolar disorder there are spells of both depression and excessively high mood (mania); the depression symptoms are similar to depression, but the bouts of mania can include harmful behaviour, such as gambling, going on spending sprees and having unsafe sex seasonal affective disorder (SAD) – also known as \"winter depression\", SAD is a type of depression with a seasonal pattern usually related to winter premenstrual dysphoric\n",
      "\n",
      "\n"
     ]
    },
    {
     "name": "stderr",
     "output_type": "stream",
     "text": [
      "Token indices sequence length is longer than the specified maximum sequence length for this model (1693 > 512). Running this sequence through the model will result in indexing errors\n"
     ]
    },
    {
     "name": "stdout",
     "output_type": "stream",
     "text": [
      "====================================================================================================\n",
      "LLM Response\n",
      "getting more exercise and cutting down on alcohol\n",
      "====================================================================================================\n",
      "Collection name: mind_collection\n",
      "\u001b[1;35mLoad pretrained SentenceTransformer: hkunlp/instructor-base\u001b[0m\n",
      "load INSTRUCTOR_Transformer\n",
      "max_seq_length  512\n",
      "====================================================================================================\n",
      "LLM prompt\n",
      "Question: Are there different types of depressions?\n",
      "\n",
      "Context: Depression Learn about depression, its symptoms and possible causes, and how you can access treatment and support. Find tips on caring for yourself, and guidance for friends and family.  What is depression? Depression is a mental health problem that involves having a low mood or losing interest and enjoyment in things. It can also cause a range of other changes to how you feel or behave.  The symptoms you experience may vary. How intense they are, how long they last, and how much they affect your daily life can also vary.  If you experience milder depression, you might have low mood but still be able to carry on with your daily life. But things may feel harder and less worthwhile.  If you have more severe depression, you might find day-to-day life much more difficult. You may also experience suicidal feelings.  It starts as sadness then I feel myself shutting down, becoming less capable of coping. Eventually, I just feel numb and empty.  When does low mood become depression? We all have times when our mood is low, and we feel sad or fed up. Often these feelings happen for a reason and pass on their own.  But it might be depression if the feelings become so bad that they interfere with our daily life. Or if they last for several weeks or months.  Are there different types of depression? If you're diagnosed with depression, you might also be told that it is ‘less severe’ or ‘more severe’. This describes how your symptoms are affecting you, and what treatment you're likely to be offered. You may find that the severity of your depression changes over time.  Sometimes you might hear depression being called ‘major depressive disorder’. There are some other types of depression too:  Persistent depressive disorder (PDD). PDD is continuous depression that lasts for two years or more. You may also hear it called dysthymia or chronic depression. Seasonal affective disorder (SAD). SAD is depression that occurs at a particular time of year, or during a particular season. See our Persistent depressive disorder (PDD). PDD is continuous depression that lasts for two years or more. You may also hear it called dysthymia or chronic depression. Seasonal affective disorder (SAD). SAD is depression that occurs at a particular time of year, or during a particular season. See our page on SAD for more information. Antenatal depression. This is depression that occurs while you are pregnant. It is sometimes called prenatal depression. Postnatal depression (PND). This is depression that occurs in the first year after having a baby. This can include affecting dads and partners. Premenstrual dysphoric disorder (PMDD). This is a hormone-related disorder that affects your body but also how you feel. This can involve experiencing depression. So your doctor may describe this as a mental health problem. could be thinking about the idea of suicide, or considering a plan to end your life. These thoughts can feel difficult to control, and can be very frightening. Psychotic symptoms If you experience depression, you might also experience some psychotic symptoms. These may include delusions, such as paranoia. Or they may be hallucinations, such as hearing voices. If you experience psychotic symptoms as part of depression, they're likely to be linked to your depressed thoughts and feelings. This may include experiencing delusions relating to feelings of guilt. For example, you might become convinced that you've committed a crime. These kinds of experiences can feel very real at the time. This might make it hard to understand that these experiences are also symptoms of your depression. And they can be frightening or upsetting, so it's important to seek treatment and support. You might worry that experiencing psychotic symptoms could mean you’re given a diagnosis that doesn’t feel right for you. But discussing all of your symptoms with your doctor can help you get the right support and treatment. How might depression affect my day-to-day life? If you have depression, you might find that it interferes with different aspects of your life. For example, it might affect your ability to work, your relationships, or managing your finances. This can add extra stress to an already difficult experience. It may also feel hard to explain your thoughts and feelings to others. You might want to cut yourself off from other people instead. This could lead to you feeling isolated and lonely. It feels like I'm stuck under a huge grey-black cloud. It's dark and isolating, smothering me at every opportunity. Can depression be a symptom of other mental health problems? Symptoms of depression can also be part of other mental health problems, such as: Bipolar disorder, Borderline personality disorder (BPD) and other personality disorders, Schizoaffective disorder. If you experience low mood or Can depression be a symptom of other mental health problems? Symptoms of depression can also be part of other mental health problems, such as: Bipolar disorder, Borderline personality disorder (BPD) and other personality disorders, Schizoaffective disorder. If you experience low mood or suicidal thoughts, this might be the reason you first speak to your doctor about your mental health. And your doctor might offer you treatment for depression without realising that you also experience other symptoms. If you think you're experiencing other symptoms, you can talk to your doctor about this to make sure you're getting the right treatment.\n",
      "\n",
      "\n"
     ]
    },
    {
     "name": "stderr",
     "output_type": "stream",
     "text": [
      "Token indices sequence length is longer than the specified maximum sequence length for this model (1188 > 512). Running this sequence through the model will result in indexing errors\n"
     ]
    },
    {
     "name": "stdout",
     "output_type": "stream",
     "text": [
      "====================================================================================================\n",
      "LLM Response\n",
      "There are some other types of depression too.\n",
      "====================================================================================================\n",
      "Collection name: nhs_collection\n",
      "\u001b[1;35mLoad pretrained SentenceTransformer: hkunlp/instructor-base\u001b[0m\n",
      "load INSTRUCTOR_Transformer\n",
      "max_seq_length  512\n",
      "====================================================================================================\n",
      "LLM prompt\n",
      "Question: Are there different types of depressions?\n",
      "\n",
      "Context: or family member to suggest something is wrong. Doctors describe depression in adults as either less severe (mild) or more severe (moderate or severe), based on: the symptoms, including how often you get symptoms and how bad they are how long depression lasts the impact on your daily life A few people with severe depression may have symptoms of psychosis . You'll usually be asked to answer a set of questions to help doctors assess how severe your condition is. Grief and depression It can be difficult to distinguish between grief and depression. They share many of the same characteristics, but there are important differences between them. Grief is an entirely natural response to a loss, while depression is an illness. People who are grieving may have symptoms of depression, but they usually improve with time. For some people, bereavement can lead to depression. If you're grieving it's normal to have feelings of sadness. Some other symptoms of depression are rare with grief and bereavement, such as having suicidal thoughts, symptoms of psychosis and feeling hopeless or guilt-ridden. Other types of depression There are different types of depression, and some conditions where depression may be one of the symptoms. These include: postnatal depression – sometimes new mothers, fathers or partners develop depression after they have a baby; this is known as postnatal depression and it's treated in a similar way to other types of depression, with talking therapies and antidepressant medicines bipolar disorder – also known as \"manic depression\", in bipolar disorder there are spells of both depression and excessively high mood (mania); the depression symptoms are similar to depression, but the bouts of mania can include harmful behaviour, such as gambling, going on spending sprees and having unsafe sex seasonal affective disorder (SAD) – also known as \"winter depression\", SAD is a type of depression with a seasonal pattern usually related to winter premenstrual dysphoric Overview - Depression in adults Depression is more than simply feeling unhappy or fed up for a few days. Most people go through periods of feeling down, but when you're depressed you feel persistently sad for weeks or months, rather than just a few days. Some people think depression is trivial and not a genuine health condition. They're wrong – it is a real illness with real symptoms. Depression is not a sign of weakness or something you can \"snap out of\" by \"pulling yourself together\". The good news is that with the right treatment and support, most people with depression can make a full recovery. These pages are about depression in adults. Read about depression in children and young people. How to tell if you have depression Depression affects people in different ways and can cause a wide variety of symptoms. They range from lasting feelings of unhappiness and hopelessness, to losing interest in the things you used to enjoy and feeling very tearful. Many people with depression also have symptoms of anxiety . There can be physical symptoms too, such as feeling constantly tired, sleeping badly, having no appetite or sex drive, and various aches and pains. The symptoms of depression range from mild to severe. At its mildest, you may simply feel persistently low in spirit, while severe depression can make you feel suicidal, that life is no longer worth living. Most people experience feelings of stress, anxiety or low mood during difficult times. A low mood may improve after a short period of time, rather than being a sign of depression. When to see a doctor It's important to seek help from a GP if you think you may be depressed. Many people wait a long time before seeking help for depression, but it's best not to delay. The sooner you see a doctor, the sooner you can be on the way to recovery. What causes depression? Sometimes there's a trigger for depression. Life-changing events, such as bereavement, losing your job or giving birth, can bring it on. People with a help for depression, but it's best not to delay. The sooner you see a doctor, the sooner you can be on the way to recovery. What causes depression? Sometimes there's a trigger for depression. Life-changing events, such as bereavement, losing your job or giving birth, can bring it on. People with a family history of depression are more likely to experience it themselves. But you can also become depressed for no obvious reason. Treating depression Treatment for depression can involve a combination of lifestyle changes, talking therapies and medicine. Your recommended treatment will be based on how severe your depression is. If you have mild depression, your doctor may suggest waiting to see whether it improves on its own, while monitoring your progress. This is known as \"watchful waiting\". They may also suggest lifestyle measures such as exercise and guided self-help. Talking therapies, such as cognitive behavioural therapy (CBT) , may also be used for mild depression. For moderate to severe depression, a combination of talking therapy and antidepressants is often recommended. If you have severe depression, you may be referred to a specialist mental health team for intensive specialist talking treatments and prescribed medicine. Living with depression Many people with depression benefit by making lifestyle changes, such as getting more exercise , cutting down on alcohol , giving up smoking and eating healthily . Reading a self-help book or joining a support group are also worthwhile. They can help you gain a better understanding about what causes you to feel depressed. Sharing your experiences with others in a similar situation can also be very supportive. Information: Social care and support guide If you: need help with day-to-day living because of illness or disability care for someone regularly because they're ill or disabled, or because of their age – including family members Our social care and support guide explains your options and where you can get support. Symptoms - Depression in adults The symptoms of depression can be complex and vary widely between people. If you're depressed, you may feel sad, hopeless and lose interest in things you used to enjoy. The symptoms persist for weeks or months and are bad enough to interfere with your work, social life and family life. There are many other symptoms of depression and you're unlikely to have all of those listed on this page. Psychological symptoms The psychological symptoms of depression include: continuous low mood or sadness feeling hopeless and helpless having low self-esteem feeling tearful feeling guilt-ridden feeling irritable and intolerant of others having no motivation or interest in things finding it difficult to make decisions not getting any enjoyment out of life feeling anxious or worried having suicidal thoughts or thoughts of harming yourself. Physical symptoms The physical symptoms of depression include: moving or speaking more slowly than usual changes in appetite or weight (usually decreased, but sometimes increased) constipation unexplained aches and pains lack of energy low sex drive ( loss of libido ) disturbed sleep – for example, finding it difficult to fall asleep at night or waking up very early in the morning. Social symptoms The social symptoms of depression include: avoiding contact with friends and taking part in fewer social activities neglecting your hobbies and interests having difficulties in your home, work or family life. Severities of depression Depression can often come on gradually, so it can be difficult to notice something is wrong. Many people try to cope with their symptoms without realising they're unwell. It can sometimes take a friend or family member to suggest something is wrong. Doctors describe depression in adults as either less severe (mild) or more severe (moderate or severe), based on: the symptoms, including how often you get symptoms and how bad they are how long depression lasts the impact on your daily life A few\n",
      "\n",
      "\n"
     ]
    },
    {
     "name": "stderr",
     "output_type": "stream",
     "text": [
      "Token indices sequence length is longer than the specified maximum sequence length for this model (1693 > 512). Running this sequence through the model will result in indexing errors\n"
     ]
    },
    {
     "name": "stdout",
     "output_type": "stream",
     "text": [
      "====================================================================================================\n",
      "LLM Response\n",
      "There are different types of depression, and some conditions where depression may be one of the symptoms. These include: postnatal depression – sometimes new mothers, fathers or partners develop depression after they have a baby; this is known as postnatal depression and it's treated in a similar way to other types of depression, with talking therapies and antidepressant medicines bipolar disorder – also known as \"manic depression\", in bipolar disorder there are spells of both depression and excessively high mood (mania); the depression symptoms are similar to depression, but the bouts of mania can include harmful behaviour, such as gambling, going on spending sprees and having unsafe sex seasonal affective disorder (SAD) is also known as \"winter depression\", SAD is a type of depression with a seasonal pattern usually related to winter premenstrual dysphoric\n",
      "====================================================================================================\n"
     ]
    }
   ],
   "source": [
    "results_df = get_llm_prompt_response(QUESTIONS, enable_chunking = True, is_new_experiment = True, chunk_size = 2000, chunk_overlap = 300)"
   ]
  },
  {
   "cell_type": "code",
   "execution_count": 45,
   "id": "9ea44bfe-7dc9-4e83-abd1-6f118bf1a1c1",
   "metadata": {},
   "outputs": [
    {
     "data": {
      "text/html": [
       "<div>\n",
       "<style scoped>\n",
       "    .dataframe tbody tr th:only-of-type {\n",
       "        vertical-align: middle;\n",
       "    }\n",
       "\n",
       "    .dataframe tbody tr th {\n",
       "        vertical-align: top;\n",
       "    }\n",
       "\n",
       "    .dataframe thead th {\n",
       "        text-align: right;\n",
       "    }\n",
       "</style>\n",
       "<table border=\"1\" class=\"dataframe\">\n",
       "  <thead>\n",
       "    <tr style=\"text-align: right;\">\n",
       "      <th></th>\n",
       "      <th>mind_response</th>\n",
       "      <th>nhs_response</th>\n",
       "      <th>question</th>\n",
       "    </tr>\n",
       "  </thead>\n",
       "  <tbody>\n",
       "    <tr>\n",
       "      <th>0</th>\n",
       "      <td>It can affect your daily life.</td>\n",
       "      <td>Depression is more than simply feeling unhappy or fed up for a few days. Most people go through periods of feeling down, but when you're depressed you feel persistently sad for weeks or months, rather than just a few days. Some people think depression is trivial and not a genuine health condition. They're wrong – it is a real illness with real symptoms. Depression is not a sign of weakness or something you can \"snap out of\" by \"pulling yourself together\". The good news is that with the right treatment and support, most people with depression can make a full recovery.</td>\n",
       "      <td>Can you tell me about depression?</td>\n",
       "    </tr>\n",
       "    <tr>\n",
       "      <th>1</th>\n",
       "      <td>loss of interest and enjoyment in things, you might be suffering from depression.</td>\n",
       "      <td>getting more exercise and cutting down on alcohol</td>\n",
       "      <td>What lifestyle changes are suggested for depression?</td>\n",
       "    </tr>\n",
       "    <tr>\n",
       "      <th>2</th>\n",
       "      <td>There are some other types of depression too.</td>\n",
       "      <td>There are different types of depression, and some conditions where depression may be one of the symptoms. These include: postnatal depression – sometimes new mothers, fathers or partners develop depression after they have a baby; this is known as postnatal depression and it's treated in a similar way to other types of depression, with talking therapies and antidepressant medicines bipolar disorder – also known as \"manic depression\", in bipolar disorder there are spells of both depression and excessively high mood (mania); the depression symptoms are similar to depression, but the bouts of mania can include harmful behaviour, such as gambling, going on spending sprees and having unsafe sex seasonal affective disorder (SAD) is also known as \"winter depression\", SAD is a type of depressio...</td>\n",
       "      <td>Are there different types of depressions?</td>\n",
       "    </tr>\n",
       "  </tbody>\n",
       "</table>\n",
       "</div>"
      ],
      "text/plain": [
       "                                                                       mind_response  \\\n",
       "0                                                     It can affect your daily life.   \n",
       "1  loss of interest and enjoyment in things, you might be suffering from depression.   \n",
       "2                                      There are some other types of depression too.   \n",
       "\n",
       "                                                                                                                                                                                                                                                                                                                                                                                                                                                                                                                                                                                                                                                                                                                                                                                                                      nhs_response  \\\n",
       "0                                                                                                                                                                                                                                    Depression is more than simply feeling unhappy or fed up for a few days. Most people go through periods of feeling down, but when you're depressed you feel persistently sad for weeks or months, rather than just a few days. Some people think depression is trivial and not a genuine health condition. They're wrong – it is a real illness with real symptoms. Depression is not a sign of weakness or something you can \"snap out of\" by \"pulling yourself together\". The good news is that with the right treatment and support, most people with depression can make a full recovery.   \n",
       "1                                                                                                                                                                                                                                                                                                                                                                                                                                                                                                                                                                                                                                                                                                                                                                                getting more exercise and cutting down on alcohol   \n",
       "2  There are different types of depression, and some conditions where depression may be one of the symptoms. These include: postnatal depression – sometimes new mothers, fathers or partners develop depression after they have a baby; this is known as postnatal depression and it's treated in a similar way to other types of depression, with talking therapies and antidepressant medicines bipolar disorder – also known as \"manic depression\", in bipolar disorder there are spells of both depression and excessively high mood (mania); the depression symptoms are similar to depression, but the bouts of mania can include harmful behaviour, such as gambling, going on spending sprees and having unsafe sex seasonal affective disorder (SAD) is also known as \"winter depression\", SAD is a type of depressio...   \n",
       "\n",
       "                                               question  \n",
       "0                     Can you tell me about depression?  \n",
       "1  What lifestyle changes are suggested for depression?  \n",
       "2             Are there different types of depressions?  "
      ]
     },
     "execution_count": 45,
     "metadata": {},
     "output_type": "execute_result"
    }
   ],
   "source": [
    "results_df"
   ]
  },
  {
   "cell_type": "markdown",
   "id": "2fdcf263-70d7-4bda-8e77-e0bce86471a3",
   "metadata": {},
   "source": [
    "### chunk_size = 1000 and chunk_overlap = 100"
   ]
  },
  {
   "cell_type": "code",
   "execution_count": 46,
   "id": "4d421d50-b522-4a34-ac59-b92cc515f3eb",
   "metadata": {},
   "outputs": [
    {
     "name": "stdout",
     "output_type": "stream",
     "text": [
      "Found 2 collections\n",
      "\u001b[1;35mLoad pretrained SentenceTransformer: hkunlp/instructor-base\u001b[0m\n",
      "load INSTRUCTOR_Transformer\n",
      "max_seq_length  512\n",
      "Inserting data into collection nhs_collection\n",
      "Chunking enabled = True\n",
      "Using chunk_size=1000 and chunk_overlap=100\n",
      "Inserting data into collection mind_collection\n",
      "Chunking enabled = True\n",
      "Using chunk_size=1000 and chunk_overlap=100\n",
      "Time taken to insert data in chroma store 3.1229671469991445 sec\n",
      "Collection name: mind_collection\n",
      "\u001b[1;35mLoad pretrained SentenceTransformer: hkunlp/instructor-base\u001b[0m\n",
      "load INSTRUCTOR_Transformer\n",
      "max_seq_length  512\n",
      "====================================================================================================\n",
      "LLM prompt\n",
      "Question: Can you tell me about depression?\n",
      "\n",
      "Context: Depression Learn about depression, its symptoms and possible causes, and how you can access treatment and support. Find tips on caring for yourself, and guidance for friends and family.  What is depression? Depression is a mental health problem that involves having a low mood or losing interest and enjoyment in things. It can also cause a range of other changes to how you feel or behave.  The symptoms you experience may vary. How intense they are, how long they last, and how much they affect your daily life can also vary.  If you experience milder depression, you might have low mood but still be able to carry on with your daily life. But things may feel harder and less worthwhile.  If you have more severe depression, you might find day-to-day life much more difficult. You may also experience suicidal feelings.  It starts as sadness then I feel myself shutting down, becoming less capable of coping. Eventually, I just feel numb and empty.  When does low mood become depression? We all you. But discussing all of your symptoms with your doctor can help you get the right support and treatment. How might depression affect my day-to-day life? If you have depression, you might find that it interferes with different aspects of your life. For example, it might affect your ability to work, your relationships, or managing your finances. This can add extra stress to an already difficult experience. It may also feel hard to explain your thoughts and feelings to others. You might want to cut yourself off from other people instead. This could lead to you feeling isolated and lonely. It feels like I'm stuck under a huge grey-black cloud. It's dark and isolating, smothering me at every opportunity. Can depression be a symptom of other mental health problems? Symptoms of depression can also be part of other mental health problems, such as: Bipolar disorder, Borderline personality disorder (BPD) and other personality disorders, Schizoaffective disorder. If you experience low mood or aches and pains with no obvious physical cause Moving very slowly, or being restless and agitated It felt like I was really tired, all the time. I had no energy or emotion about anything. Anxiety It's very common to experience depression and anxiety together. Some symptoms of depression can also be symptoms of anxiety, for example: Feeling restless, Finding it difficult to concentrate, Struggling to sleep I flit between states of anxiety and depression. At times, each seems to fuel the other. Self-harm and suicidal feelings If you're feeling low, you might self-harm to cope with difficult feelings. Although this might make you feel better in the short term, self-harm can be very dangerous. When you're feeling really low and hopeless, you may also find yourself thinking about suicide. This could be thinking about the idea of suicide, or considering a plan to end your life. These thoughts can feel difficult to control, and can be very frightening. Psychotic symptoms If you experience Common signs and symptoms of depression These are some common signs of depression that you may experience:  How you might feel Down, upset or tearful Restless, agitated or irritable Guilty, worthless and down on yourself Empty and numb Isolated and unable to relate to other people Finding no pleasure in life or things you usually enjoy Angry or frustrated over minor things A sense of unreality No self-confidence or self-esteem Hopeless and despairing Feeling tired all the time How you might act Avoiding social events and activities you usually enjoy Self-harming or suicidal behaviour Difficulty speaking, thinking clearly or making decisions Losing interest in sex Difficulty remembering or concentrating on things Using more tobacco, alcohol or other drugs than usual Difficulty sleeping, or sleeping too much No appetite and losing weight, or eating more than usual and gaining weight Physical aches and pains with no obvious physical cause Moving very slowly, or being restless and agitated\n",
      "\n",
      "\n"
     ]
    },
    {
     "name": "stderr",
     "output_type": "stream",
     "text": [
      "Token indices sequence length is longer than the specified maximum sequence length for this model (878 > 512). Running this sequence through the model will result in indexing errors\n"
     ]
    },
    {
     "name": "stdout",
     "output_type": "stream",
     "text": [
      "====================================================================================================\n",
      "LLM Response\n",
      "It starts as sadness then I feel myself shutting down, becoming less capable of coping. Eventually, I just feel numb and empty.\n",
      "====================================================================================================\n",
      "Collection name: nhs_collection\n",
      "\u001b[1;35mLoad pretrained SentenceTransformer: hkunlp/instructor-base\u001b[0m\n",
      "load INSTRUCTOR_Transformer\n",
      "max_seq_length  512\n",
      "====================================================================================================\n",
      "LLM prompt\n",
      "Question: Can you tell me about depression?\n",
      "\n",
      "Context: Overview - Depression in adults Depression is more than simply feeling unhappy or fed up for a few days. Most people go through periods of feeling down, but when you're depressed you feel persistently sad for weeks or months, rather than just a few days. Some people think depression is trivial and not a genuine health condition. They're wrong – it is a real illness with real symptoms. Depression is not a sign of weakness or something you can \"snap out of\" by \"pulling yourself together\". The good news is that with the right treatment and support, most people with depression can make a full recovery. These pages are about depression in adults. Read about depression in children and young people. How to tell if you have depression Depression affects people in different ways and can cause a wide variety of symptoms. They range from lasting feelings of unhappiness and hopelessness, to losing interest in the things you used to enjoy and feeling very tearful. Many people with depression also interest in the things you used to enjoy and feeling very tearful. Many people with depression also have symptoms of anxiety . There can be physical symptoms too, such as feeling constantly tired, sleeping badly, having no appetite or sex drive, and various aches and pains. The symptoms of depression range from mild to severe. At its mildest, you may simply feel persistently low in spirit, while severe depression can make you feel suicidal, that life is no longer worth living. Most people experience feelings of stress, anxiety or low mood during difficult times. A low mood may improve after a short period of time, rather than being a sign of depression. When to see a doctor It's important to seek help from a GP if you think you may be depressed. Many people wait a long time before seeking help for depression, but it's best not to delay. The sooner you see a doctor, the sooner you can be on the way to recovery. What causes depression? Sometimes there's a trigger for depression. symptoms of depression include: moving or speaking more slowly than usual changes in appetite or weight (usually decreased, but sometimes increased) constipation unexplained aches and pains lack of energy low sex drive ( loss of libido ) disturbed sleep – for example, finding it difficult to fall asleep at night or waking up very early in the morning. Social symptoms The social symptoms of depression include: avoiding contact with friends and taking part in fewer social activities neglecting your hobbies and interests having difficulties in your home, work or family life. Severities of depression Depression can often come on gradually, so it can be difficult to notice something is wrong. Many people try to cope with their symptoms without realising they're unwell. It can sometimes take a friend or family member to suggest something is wrong. Doctors describe depression in adults as either less severe (mild) or more severe (moderate or severe), based on: the symptoms, including how Symptoms - Depression in adults The symptoms of depression can be complex and vary widely between people. If you're depressed, you may feel sad, hopeless and lose interest in things you used to enjoy. The symptoms persist for weeks or months and are bad enough to interfere with your work, social life and family life. There are many other symptoms of depression and you're unlikely to have all of those listed on this page. Psychological symptoms The psychological symptoms of depression include: continuous low mood or sadness feeling hopeless and helpless having low self-esteem feeling tearful feeling guilt-ridden feeling irritable and intolerant of others having no motivation or interest in things finding it difficult to make decisions not getting any enjoyment out of life feeling anxious or worried having suicidal thoughts or thoughts of harming yourself. Physical symptoms The physical symptoms of depression include: moving or speaking more slowly than usual changes in appetite or\n",
      "\n",
      "\n"
     ]
    },
    {
     "name": "stderr",
     "output_type": "stream",
     "text": [
      "Token indices sequence length is longer than the specified maximum sequence length for this model (849 > 512). Running this sequence through the model will result in indexing errors\n"
     ]
    },
    {
     "name": "stdout",
     "output_type": "stream",
     "text": [
      "====================================================================================================\n",
      "LLM Response\n",
      "depression is more than simply feeling unhappy or fed up for a few days. Most people go through periods of feeling down, but when you're depressed you feel persistently sad for weeks or months, rather than just a few days.\n",
      "====================================================================================================\n",
      "Collection name: mind_collection\n",
      "\u001b[1;35mLoad pretrained SentenceTransformer: hkunlp/instructor-base\u001b[0m\n",
      "load INSTRUCTOR_Transformer\n",
      "max_seq_length  512\n",
      "====================================================================================================\n",
      "LLM prompt\n",
      "Question: What lifestyle changes are suggested for depression?\n",
      "\n",
      "Context: you. But discussing all of your symptoms with your doctor can help you get the right support and treatment. How might depression affect my day-to-day life? If you have depression, you might find that it interferes with different aspects of your life. For example, it might affect your ability to work, your relationships, or managing your finances. This can add extra stress to an already difficult experience. It may also feel hard to explain your thoughts and feelings to others. You might want to cut yourself off from other people instead. This could lead to you feeling isolated and lonely. It feels like I'm stuck under a huge grey-black cloud. It's dark and isolating, smothering me at every opportunity. Can depression be a symptom of other mental health problems? Symptoms of depression can also be part of other mental health problems, such as: Bipolar disorder, Borderline personality disorder (BPD) and other personality disorders, Schizoaffective disorder. If you experience low mood or or more. You may also hear it called dysthymia or chronic depression. Seasonal affective disorder (SAD). SAD is depression that occurs at a particular time of year, or during a particular season. See our page on SAD for more information. Antenatal depression. This is depression that occurs while you are pregnant. It is sometimes called prenatal depression. Postnatal depression (PND). This is depression that occurs in the first year after having a baby. This can include affecting dads and partners. Premenstrual dysphoric disorder (PMDD). This is a hormone-related disorder that affects your body but also how you feel. This can involve experiencing depression. So your doctor may describe this as a mental health problem. Depression Learn about depression, its symptoms and possible causes, and how you can access treatment and support. Find tips on caring for yourself, and guidance for friends and family.  What is depression? Depression is a mental health problem that involves having a low mood or losing interest and enjoyment in things. It can also cause a range of other changes to how you feel or behave.  The symptoms you experience may vary. How intense they are, how long they last, and how much they affect your daily life can also vary.  If you experience milder depression, you might have low mood but still be able to carry on with your daily life. But things may feel harder and less worthwhile.  If you have more severe depression, you might find day-to-day life much more difficult. You may also experience suicidal feelings.  It starts as sadness then I feel myself shutting down, becoming less capable of coping. Eventually, I just feel numb and empty.  When does low mood become depression? We all Common signs and symptoms of depression These are some common signs of depression that you may experience:  How you might feel Down, upset or tearful Restless, agitated or irritable Guilty, worthless and down on yourself Empty and numb Isolated and unable to relate to other people Finding no pleasure in life or things you usually enjoy Angry or frustrated over minor things A sense of unreality No self-confidence or self-esteem Hopeless and despairing Feeling tired all the time How you might act Avoiding social events and activities you usually enjoy Self-harming or suicidal behaviour Difficulty speaking, thinking clearly or making decisions Losing interest in sex Difficulty remembering or concentrating on things Using more tobacco, alcohol or other drugs than usual Difficulty sleeping, or sleeping too much No appetite and losing weight, or eating more than usual and gaining weight Physical aches and pains with no obvious physical cause Moving very slowly, or being restless and agitated\n",
      "\n",
      "\n"
     ]
    },
    {
     "name": "stderr",
     "output_type": "stream",
     "text": [
      "Token indices sequence length is longer than the specified maximum sequence length for this model (827 > 512). Running this sequence through the model will result in indexing errors\n"
     ]
    },
    {
     "name": "stdout",
     "output_type": "stream",
     "text": [
      "====================================================================================================\n",
      "LLM Response\n",
      "Cut yourself off from other people\n",
      "====================================================================================================\n",
      "Collection name: nhs_collection\n",
      "\u001b[1;35mLoad pretrained SentenceTransformer: hkunlp/instructor-base\u001b[0m\n",
      "load INSTRUCTOR_Transformer\n",
      "max_seq_length  512\n",
      "====================================================================================================\n",
      "LLM prompt\n",
      "Question: What lifestyle changes are suggested for depression?\n",
      "\n",
      "Context: can be on the way to recovery. What causes depression? Sometimes there's a trigger for depression. Life-changing events, such as bereavement, losing your job or giving birth, can bring it on. People with a family history of depression are more likely to experience it themselves. But you can also become depressed for no obvious reason. Treating depression Treatment for depression can involve a combination of lifestyle changes, talking therapies and medicine. Your recommended treatment will be based on how severe your depression is. If you have mild depression, your doctor may suggest waiting to see whether it improves on its own, while monitoring your progress. This is known as \"watchful waiting\". They may also suggest lifestyle measures such as exercise and guided self-help. Talking therapies, such as cognitive behavioural therapy (CBT) , may also be used for mild depression. For moderate to severe depression, a combination of talking therapy and antidepressants is often recommended. to severe depression, a combination of talking therapy and antidepressants is often recommended. If you have severe depression, you may be referred to a specialist mental health team for intensive specialist talking treatments and prescribed medicine. Living with depression Many people with depression benefit by making lifestyle changes, such as getting more exercise , cutting down on alcohol , giving up smoking and eating healthily . Reading a self-help book or joining a support group are also worthwhile. They can help you gain a better understanding about what causes you to feel depressed. Sharing your experiences with others in a similar situation can also be very supportive. Information: Social care and support guide If you: need help with day-to-day living because of illness or disability care for someone regularly because they're ill or disabled, or because of their age – including family members Our social care and support guide explains your options and where you can get symptoms of depression include: moving or speaking more slowly than usual changes in appetite or weight (usually decreased, but sometimes increased) constipation unexplained aches and pains lack of energy low sex drive ( loss of libido ) disturbed sleep – for example, finding it difficult to fall asleep at night or waking up very early in the morning. Social symptoms The social symptoms of depression include: avoiding contact with friends and taking part in fewer social activities neglecting your hobbies and interests having difficulties in your home, work or family life. Severities of depression Depression can often come on gradually, so it can be difficult to notice something is wrong. Many people try to cope with their symptoms without realising they're unwell. It can sometimes take a friend or family member to suggest something is wrong. Doctors describe depression in adults as either less severe (mild) or more severe (moderate or severe), based on: the symptoms, including how interest in the things you used to enjoy and feeling very tearful. Many people with depression also have symptoms of anxiety . There can be physical symptoms too, such as feeling constantly tired, sleeping badly, having no appetite or sex drive, and various aches and pains. The symptoms of depression range from mild to severe. At its mildest, you may simply feel persistently low in spirit, while severe depression can make you feel suicidal, that life is no longer worth living. Most people experience feelings of stress, anxiety or low mood during difficult times. A low mood may improve after a short period of time, rather than being a sign of depression. When to see a doctor It's important to seek help from a GP if you think you may be depressed. Many people wait a long time before seeking help for depression, but it's best not to delay. The sooner you see a doctor, the sooner you can be on the way to recovery. What causes depression? Sometimes there's a trigger for depression.\n",
      "\n",
      "\n"
     ]
    },
    {
     "name": "stderr",
     "output_type": "stream",
     "text": [
      "Token indices sequence length is longer than the specified maximum sequence length for this model (844 > 512). Running this sequence through the model will result in indexing errors\n"
     ]
    },
    {
     "name": "stdout",
     "output_type": "stream",
     "text": [
      "====================================================================================================\n",
      "LLM Response\n",
      "Life-changing events, such as bereavement, losing your job or giving birth, can bring it on. People with a family history of depression are more likely to experience it themselves. But you can also become depressed for no obvious reason.\n",
      "====================================================================================================\n",
      "Collection name: mind_collection\n",
      "\u001b[1;35mLoad pretrained SentenceTransformer: hkunlp/instructor-base\u001b[0m\n",
      "load INSTRUCTOR_Transformer\n",
      "max_seq_length  512\n",
      "====================================================================================================\n",
      "LLM prompt\n",
      "Question: Are there different types of depressions?\n",
      "\n",
      "Context: of coping. Eventually, I just feel numb and empty.  When does low mood become depression? We all have times when our mood is low, and we feel sad or fed up. Often these feelings happen for a reason and pass on their own.  But it might be depression if the feelings become so bad that they interfere with our daily life. Or if they last for several weeks or months.  Are there different types of depression? If you're diagnosed with depression, you might also be told that it is ‘less severe’ or ‘more severe’. This describes how your symptoms are affecting you, and what treatment you're likely to be offered. You may find that the severity of your depression changes over time.  Sometimes you might hear depression being called ‘major depressive disorder’. There are some other types of depression too:  Persistent depressive disorder (PDD). PDD is continuous depression that lasts for two years or more. You may also hear it called dysthymia or chronic depression. Seasonal affective disorder or more. You may also hear it called dysthymia or chronic depression. Seasonal affective disorder (SAD). SAD is depression that occurs at a particular time of year, or during a particular season. See our page on SAD for more information. Antenatal depression. This is depression that occurs while you are pregnant. It is sometimes called prenatal depression. Postnatal depression (PND). This is depression that occurs in the first year after having a baby. This can include affecting dads and partners. Premenstrual dysphoric disorder (PMDD). This is a hormone-related disorder that affects your body but also how you feel. This can involve experiencing depression. So your doctor may describe this as a mental health problem. Depression Learn about depression, its symptoms and possible causes, and how you can access treatment and support. Find tips on caring for yourself, and guidance for friends and family.  What is depression? Depression is a mental health problem that involves having a low mood or losing interest and enjoyment in things. It can also cause a range of other changes to how you feel or behave.  The symptoms you experience may vary. How intense they are, how long they last, and how much they affect your daily life can also vary.  If you experience milder depression, you might have low mood but still be able to carry on with your daily life. But things may feel harder and less worthwhile.  If you have more severe depression, you might find day-to-day life much more difficult. You may also experience suicidal feelings.  It starts as sadness then I feel myself shutting down, becoming less capable of coping. Eventually, I just feel numb and empty.  When does low mood become depression? We all you. But discussing all of your symptoms with your doctor can help you get the right support and treatment. How might depression affect my day-to-day life? If you have depression, you might find that it interferes with different aspects of your life. For example, it might affect your ability to work, your relationships, or managing your finances. This can add extra stress to an already difficult experience. It may also feel hard to explain your thoughts and feelings to others. You might want to cut yourself off from other people instead. This could lead to you feeling isolated and lonely. It feels like I'm stuck under a huge grey-black cloud. It's dark and isolating, smothering me at every opportunity. Can depression be a symptom of other mental health problems? Symptoms of depression can also be part of other mental health problems, such as: Bipolar disorder, Borderline personality disorder (BPD) and other personality disorders, Schizoaffective disorder. If you experience low mood or\n",
      "\n",
      "\n"
     ]
    },
    {
     "name": "stderr",
     "output_type": "stream",
     "text": [
      "Token indices sequence length is longer than the specified maximum sequence length for this model (827 > 512). Running this sequence through the model will result in indexing errors\n"
     ]
    },
    {
     "name": "stdout",
     "output_type": "stream",
     "text": [
      "====================================================================================================\n",
      "LLM Response\n",
      "depression\n",
      "====================================================================================================\n",
      "Collection name: nhs_collection\n",
      "\u001b[1;35mLoad pretrained SentenceTransformer: hkunlp/instructor-base\u001b[0m\n",
      "load INSTRUCTOR_Transformer\n",
      "max_seq_length  512\n",
      "====================================================================================================\n",
      "LLM prompt\n",
      "Question: Are there different types of depressions?\n",
      "\n",
      "Context: and bereavement, such as having suicidal thoughts, symptoms of psychosis and feeling hopeless or guilt-ridden. Other types of depression There are different types of depression, and some conditions where depression may be one of the symptoms. These include: postnatal depression – sometimes new mothers, fathers or partners develop depression after they have a baby; this is known as postnatal depression and it's treated in a similar way to other types of depression, with talking therapies and antidepressant medicines bipolar disorder – also known as \"manic depression\", in bipolar disorder there are spells of both depression and excessively high mood (mania); the depression symptoms are similar to depression, but the bouts of mania can include harmful behaviour, such as gambling, going on spending sprees and having unsafe sex seasonal affective disorder (SAD) – also known as \"winter depression\", SAD is a type of depression with a seasonal pattern usually related to winter premenstrual less severe (mild) or more severe (moderate or severe), based on: the symptoms, including how often you get symptoms and how bad they are how long depression lasts the impact on your daily life A few people with severe depression may have symptoms of psychosis . You'll usually be asked to answer a set of questions to help doctors assess how severe your condition is. Grief and depression It can be difficult to distinguish between grief and depression. They share many of the same characteristics, but there are important differences between them. Grief is an entirely natural response to a loss, while depression is an illness. People who are grieving may have symptoms of depression, but they usually improve with time. For some people, bereavement can lead to depression. If you're grieving it's normal to have feelings of sadness. Some other symptoms of depression are rare with grief and bereavement, such as having suicidal thoughts, symptoms of psychosis and feeling hopeless or Overview - Depression in adults Depression is more than simply feeling unhappy or fed up for a few days. Most people go through periods of feeling down, but when you're depressed you feel persistently sad for weeks or months, rather than just a few days. Some people think depression is trivial and not a genuine health condition. They're wrong – it is a real illness with real symptoms. Depression is not a sign of weakness or something you can \"snap out of\" by \"pulling yourself together\". The good news is that with the right treatment and support, most people with depression can make a full recovery. These pages are about depression in adults. Read about depression in children and young people. How to tell if you have depression Depression affects people in different ways and can cause a wide variety of symptoms. They range from lasting feelings of unhappiness and hopelessness, to losing interest in the things you used to enjoy and feeling very tearful. Many people with depression also interest in the things you used to enjoy and feeling very tearful. Many people with depression also have symptoms of anxiety . There can be physical symptoms too, such as feeling constantly tired, sleeping badly, having no appetite or sex drive, and various aches and pains. The symptoms of depression range from mild to severe. At its mildest, you may simply feel persistently low in spirit, while severe depression can make you feel suicidal, that life is no longer worth living. Most people experience feelings of stress, anxiety or low mood during difficult times. A low mood may improve after a short period of time, rather than being a sign of depression. When to see a doctor It's important to seek help from a GP if you think you may be depressed. Many people wait a long time before seeking help for depression, but it's best not to delay. The sooner you see a doctor, the sooner you can be on the way to recovery. What causes depression? Sometimes there's a trigger for depression.\n",
      "\n",
      "\n"
     ]
    },
    {
     "name": "stderr",
     "output_type": "stream",
     "text": [
      "Token indices sequence length is longer than the specified maximum sequence length for this model (881 > 512). Running this sequence through the model will result in indexing errors\n"
     ]
    },
    {
     "name": "stdout",
     "output_type": "stream",
     "text": [
      "====================================================================================================\n",
      "LLM Response\n",
      "There are different types of depression, and some conditions where depression may be one of the symptoms.\n",
      "====================================================================================================\n"
     ]
    }
   ],
   "source": [
    "results_df = get_llm_prompt_response(QUESTIONS, enable_chunking = True, is_new_experiment = True, chunk_size = 1000, chunk_overlap = 100)"
   ]
  },
  {
   "cell_type": "code",
   "execution_count": 47,
   "id": "623b2eab-ee7c-438c-a6c7-da1455746fa3",
   "metadata": {},
   "outputs": [
    {
     "data": {
      "text/html": [
       "<div>\n",
       "<style scoped>\n",
       "    .dataframe tbody tr th:only-of-type {\n",
       "        vertical-align: middle;\n",
       "    }\n",
       "\n",
       "    .dataframe tbody tr th {\n",
       "        vertical-align: top;\n",
       "    }\n",
       "\n",
       "    .dataframe thead th {\n",
       "        text-align: right;\n",
       "    }\n",
       "</style>\n",
       "<table border=\"1\" class=\"dataframe\">\n",
       "  <thead>\n",
       "    <tr style=\"text-align: right;\">\n",
       "      <th></th>\n",
       "      <th>mind_response</th>\n",
       "      <th>nhs_response</th>\n",
       "      <th>question</th>\n",
       "    </tr>\n",
       "  </thead>\n",
       "  <tbody>\n",
       "    <tr>\n",
       "      <th>0</th>\n",
       "      <td>It starts as sadness then I feel myself shutting down, becoming less capable of coping. Eventually, I just feel numb and empty.</td>\n",
       "      <td>depression is more than simply feeling unhappy or fed up for a few days. Most people go through periods of feeling down, but when you're depressed you feel persistently sad for weeks or months, rather than just a few days.</td>\n",
       "      <td>Can you tell me about depression?</td>\n",
       "    </tr>\n",
       "    <tr>\n",
       "      <th>1</th>\n",
       "      <td>Cut yourself off from other people</td>\n",
       "      <td>Life-changing events, such as bereavement, losing your job or giving birth, can bring it on. People with a family history of depression are more likely to experience it themselves. But you can also become depressed for no obvious reason.</td>\n",
       "      <td>What lifestyle changes are suggested for depression?</td>\n",
       "    </tr>\n",
       "    <tr>\n",
       "      <th>2</th>\n",
       "      <td>depression</td>\n",
       "      <td>There are different types of depression, and some conditions where depression may be one of the symptoms.</td>\n",
       "      <td>Are there different types of depressions?</td>\n",
       "    </tr>\n",
       "  </tbody>\n",
       "</table>\n",
       "</div>"
      ],
      "text/plain": [
       "                                                                                                                     mind_response  \\\n",
       "0  It starts as sadness then I feel myself shutting down, becoming less capable of coping. Eventually, I just feel numb and empty.   \n",
       "1                                                                                               Cut yourself off from other people   \n",
       "2                                                                                                                       depression   \n",
       "\n",
       "                                                                                                                                                                                                                                    nhs_response  \\\n",
       "0                 depression is more than simply feeling unhappy or fed up for a few days. Most people go through periods of feeling down, but when you're depressed you feel persistently sad for weeks or months, rather than just a few days.   \n",
       "1  Life-changing events, such as bereavement, losing your job or giving birth, can bring it on. People with a family history of depression are more likely to experience it themselves. But you can also become depressed for no obvious reason.   \n",
       "2                                                                                                                                      There are different types of depression, and some conditions where depression may be one of the symptoms.   \n",
       "\n",
       "                                               question  \n",
       "0                     Can you tell me about depression?  \n",
       "1  What lifestyle changes are suggested for depression?  \n",
       "2             Are there different types of depressions?  "
      ]
     },
     "execution_count": 47,
     "metadata": {},
     "output_type": "execute_result"
    }
   ],
   "source": [
    "results_df"
   ]
  },
  {
   "cell_type": "markdown",
   "id": "20600b9a-4a8b-4936-b844-6c56fa1fd012",
   "metadata": {},
   "source": [
    "### chunk_size = 1500 and chunk_overlap = 100"
   ]
  },
  {
   "cell_type": "code",
   "execution_count": 48,
   "id": "a087fdac-8039-4607-b8df-3ad8450c314f",
   "metadata": {},
   "outputs": [
    {
     "name": "stdout",
     "output_type": "stream",
     "text": [
      "Found 2 collections\n",
      "\u001b[1;35mLoad pretrained SentenceTransformer: hkunlp/instructor-base\u001b[0m\n",
      "load INSTRUCTOR_Transformer\n",
      "max_seq_length  512\n",
      "Inserting data into collection nhs_collection\n",
      "Chunking enabled = True\n",
      "Using chunk_size=1500 and chunk_overlap=100\n",
      "Inserting data into collection mind_collection\n",
      "Chunking enabled = True\n",
      "Using chunk_size=1500 and chunk_overlap=100\n",
      "Time taken to insert data in chroma store 2.863915079004073 sec\n",
      "Collection name: mind_collection\n",
      "\u001b[1;35mLoad pretrained SentenceTransformer: hkunlp/instructor-base\u001b[0m\n",
      "load INSTRUCTOR_Transformer\n",
      "max_seq_length  512\n",
      "====================================================================================================\n",
      "LLM prompt\n",
      "Question: Can you tell me about depression?\n",
      "\n",
      "Context: Depression Learn about depression, its symptoms and possible causes, and how you can access treatment and support. Find tips on caring for yourself, and guidance for friends and family.  What is depression? Depression is a mental health problem that involves having a low mood or losing interest and enjoyment in things. It can also cause a range of other changes to how you feel or behave.  The symptoms you experience may vary. How intense they are, how long they last, and how much they affect your daily life can also vary.  If you experience milder depression, you might have low mood but still be able to carry on with your daily life. But things may feel harder and less worthwhile.  If you have more severe depression, you might find day-to-day life much more difficult. You may also experience suicidal feelings.  It starts as sadness then I feel myself shutting down, becoming less capable of coping. Eventually, I just feel numb and empty.  When does low mood become depression? We all have times when our mood is low, and we feel sad or fed up. Often these feelings happen for a reason and pass on their own.  But it might be depression if the feelings become so bad that they interfere with our daily life. Or if they last for several weeks or months.  Are there different types of depression? If you're diagnosed with depression, you might also be told that it is ‘less severe’ or ‘more severe’. This describes how your symptoms are affecting you, and what treatment you're likely to be treatment. How might depression affect my day-to-day life? If you have depression, you might find that it interferes with different aspects of your life. For example, it might affect your ability to work, your relationships, or managing your finances. This can add extra stress to an already difficult experience. It may also feel hard to explain your thoughts and feelings to others. You might want to cut yourself off from other people instead. This could lead to you feeling isolated and lonely. It feels like I'm stuck under a huge grey-black cloud. It's dark and isolating, smothering me at every opportunity. Can depression be a symptom of other mental health problems? Symptoms of depression can also be part of other mental health problems, such as: Bipolar disorder, Borderline personality disorder (BPD) and other personality disorders, Schizoaffective disorder. If you experience low mood or suicidal thoughts, this might be the reason you first speak to your doctor about your mental health. And your doctor might offer you treatment for depression without realising that you also experience other symptoms. If you think you're experiencing other symptoms, you can talk to your doctor about this to make sure you're getting the right treatment. Common signs and symptoms of depression These are some common signs of depression that you may experience:  How you might feel Down, upset or tearful Restless, agitated or irritable Guilty, worthless and down on yourself Empty and numb Isolated and unable to relate to other people Finding no pleasure in life or things you usually enjoy Angry or frustrated over minor things A sense of unreality No self-confidence or self-esteem Hopeless and despairing Feeling tired all the time How you might act Avoiding social events and activities you usually enjoy Self-harming or suicidal behaviour Difficulty speaking, thinking clearly or making decisions Losing interest in sex Difficulty remembering or concentrating on things Using more tobacco, alcohol or other drugs than usual Difficulty sleeping, or sleeping too much No appetite and losing weight, or eating more than usual and gaining weight Physical aches and pains with no obvious physical cause Moving very slowly, or being restless and agitated It felt like I was really tired, all the time. I had no energy or emotion about anything. Anxiety It's very common to experience depression and anxiety together. Some symptoms of depression can also be symptoms of anxiety, for example: Feeling restless, Finding it difficult to concentrate, Struggling to sleep I flit between states of anxiety and depression. At times, each seems to fuel the other. Self-harm and suicidal feelings If you're feeling low, you might self-harm to cope with difficult severe’. This describes how your symptoms are affecting you, and what treatment you're likely to be offered. You may find that the severity of your depression changes over time.  Sometimes you might hear depression being called ‘major depressive disorder’. There are some other types of depression too:  Persistent depressive disorder (PDD). PDD is continuous depression that lasts for two years or more. You may also hear it called dysthymia or chronic depression. Seasonal affective disorder (SAD). SAD is depression that occurs at a particular time of year, or during a particular season. See our page on SAD for more information. Antenatal depression. This is depression that occurs while you are pregnant. It is sometimes called prenatal depression. Postnatal depression (PND). This is depression that occurs in the first year after having a baby. This can include affecting dads and partners. Premenstrual dysphoric disorder (PMDD). This is a hormone-related disorder that affects your body but also how you feel. This can involve experiencing depression. So your doctor may describe this as a mental health problem.\n",
      "\n",
      "\n"
     ]
    },
    {
     "name": "stderr",
     "output_type": "stream",
     "text": [
      "Token indices sequence length is longer than the specified maximum sequence length for this model (1186 > 512). Running this sequence through the model will result in indexing errors\n"
     ]
    },
    {
     "name": "stdout",
     "output_type": "stream",
     "text": [
      "====================================================================================================\n",
      "LLM Response\n",
      "It can affect your daily life.\n",
      "====================================================================================================\n",
      "Collection name: nhs_collection\n",
      "\u001b[1;35mLoad pretrained SentenceTransformer: hkunlp/instructor-base\u001b[0m\n",
      "load INSTRUCTOR_Transformer\n",
      "max_seq_length  512\n",
      "====================================================================================================\n",
      "LLM prompt\n",
      "Question: Can you tell me about depression?\n",
      "\n",
      "Context: Overview - Depression in adults Depression is more than simply feeling unhappy or fed up for a few days. Most people go through periods of feeling down, but when you're depressed you feel persistently sad for weeks or months, rather than just a few days. Some people think depression is trivial and not a genuine health condition. They're wrong – it is a real illness with real symptoms. Depression is not a sign of weakness or something you can \"snap out of\" by \"pulling yourself together\". The good news is that with the right treatment and support, most people with depression can make a full recovery. These pages are about depression in adults. Read about depression in children and young people. How to tell if you have depression Depression affects people in different ways and can cause a wide variety of symptoms. They range from lasting feelings of unhappiness and hopelessness, to losing interest in the things you used to enjoy and feeling very tearful. Many people with depression also have symptoms of anxiety . There can be physical symptoms too, such as feeling constantly tired, sleeping badly, having no appetite or sex drive, and various aches and pains. The symptoms of depression range from mild to severe. At its mildest, you may simply feel persistently low in spirit, while severe depression can make you feel suicidal, that life is no longer worth living. Most people experience feelings of stress, anxiety or low mood during difficult times. A low mood may improve after a your hobbies and interests having difficulties in your home, work or family life. Severities of depression Depression can often come on gradually, so it can be difficult to notice something is wrong. Many people try to cope with their symptoms without realising they're unwell. It can sometimes take a friend or family member to suggest something is wrong. Doctors describe depression in adults as either less severe (mild) or more severe (moderate or severe), based on: the symptoms, including how often you get symptoms and how bad they are how long depression lasts the impact on your daily life A few people with severe depression may have symptoms of psychosis . You'll usually be asked to answer a set of questions to help doctors assess how severe your condition is. Grief and depression It can be difficult to distinguish between grief and depression. They share many of the same characteristics, but there are important differences between them. Grief is an entirely natural response to a loss, while depression is an illness. People who are grieving may have symptoms of depression, but they usually improve with time. For some people, bereavement can lead to depression. If you're grieving it's normal to have feelings of sadness. Some other symptoms of depression are rare with grief and bereavement, such as having suicidal thoughts, symptoms of psychosis and feeling hopeless or guilt-ridden. Other types of depression There are different types of depression, and some conditions where Symptoms - Depression in adults The symptoms of depression can be complex and vary widely between people. If you're depressed, you may feel sad, hopeless and lose interest in things you used to enjoy. The symptoms persist for weeks or months and are bad enough to interfere with your work, social life and family life. There are many other symptoms of depression and you're unlikely to have all of those listed on this page. Psychological symptoms The psychological symptoms of depression include: continuous low mood or sadness feeling hopeless and helpless having low self-esteem feeling tearful feeling guilt-ridden feeling irritable and intolerant of others having no motivation or interest in things finding it difficult to make decisions not getting any enjoyment out of life feeling anxious or worried having suicidal thoughts or thoughts of harming yourself. Physical symptoms The physical symptoms of depression include: moving or speaking more slowly than usual changes in appetite or weight (usually decreased, but sometimes increased) constipation unexplained aches and pains lack of energy low sex drive ( loss of libido ) disturbed sleep – for example, finding it difficult to fall asleep at night or waking up very early in the morning. Social symptoms The social symptoms of depression include: avoiding contact with friends and taking part in fewer social activities neglecting your hobbies and interests having difficulties in your home, work or family life. Severities of feelings of stress, anxiety or low mood during difficult times. A low mood may improve after a short period of time, rather than being a sign of depression. When to see a doctor It's important to seek help from a GP if you think you may be depressed. Many people wait a long time before seeking help for depression, but it's best not to delay. The sooner you see a doctor, the sooner you can be on the way to recovery. What causes depression? Sometimes there's a trigger for depression. Life-changing events, such as bereavement, losing your job or giving birth, can bring it on. People with a family history of depression are more likely to experience it themselves. But you can also become depressed for no obvious reason. Treating depression Treatment for depression can involve a combination of lifestyle changes, talking therapies and medicine. Your recommended treatment will be based on how severe your depression is. If you have mild depression, your doctor may suggest waiting to see whether it improves on its own, while monitoring your progress. This is known as \"watchful waiting\". They may also suggest lifestyle measures such as exercise and guided self-help. Talking therapies, such as cognitive behavioural therapy (CBT) , may also be used for mild depression. For moderate to severe depression, a combination of talking therapy and antidepressants is often recommended. If you have severe depression, you may be referred to a specialist mental health team for intensive specialist\n",
      "\n",
      "\n"
     ]
    },
    {
     "name": "stderr",
     "output_type": "stream",
     "text": [
      "Token indices sequence length is longer than the specified maximum sequence length for this model (1262 > 512). Running this sequence through the model will result in indexing errors\n"
     ]
    },
    {
     "name": "stdout",
     "output_type": "stream",
     "text": [
      "====================================================================================================\n",
      "LLM Response\n",
      "Depression is more than simply feeling unhappy or fed up for a few days. Most people go through periods of feeling down, but when you're depressed you feel persistently sad for weeks or months, rather than just a few days.\n",
      "====================================================================================================\n",
      "Collection name: mind_collection\n",
      "\u001b[1;35mLoad pretrained SentenceTransformer: hkunlp/instructor-base\u001b[0m\n",
      "load INSTRUCTOR_Transformer\n",
      "max_seq_length  512\n",
      "====================================================================================================\n",
      "LLM prompt\n",
      "Question: What lifestyle changes are suggested for depression?\n",
      "\n",
      "Context: treatment. How might depression affect my day-to-day life? If you have depression, you might find that it interferes with different aspects of your life. For example, it might affect your ability to work, your relationships, or managing your finances. This can add extra stress to an already difficult experience. It may also feel hard to explain your thoughts and feelings to others. You might want to cut yourself off from other people instead. This could lead to you feeling isolated and lonely. It feels like I'm stuck under a huge grey-black cloud. It's dark and isolating, smothering me at every opportunity. Can depression be a symptom of other mental health problems? Symptoms of depression can also be part of other mental health problems, such as: Bipolar disorder, Borderline personality disorder (BPD) and other personality disorders, Schizoaffective disorder. If you experience low mood or suicidal thoughts, this might be the reason you first speak to your doctor about your mental health. And your doctor might offer you treatment for depression without realising that you also experience other symptoms. If you think you're experiencing other symptoms, you can talk to your doctor about this to make sure you're getting the right treatment. severe’. This describes how your symptoms are affecting you, and what treatment you're likely to be offered. You may find that the severity of your depression changes over time.  Sometimes you might hear depression being called ‘major depressive disorder’. There are some other types of depression too:  Persistent depressive disorder (PDD). PDD is continuous depression that lasts for two years or more. You may also hear it called dysthymia or chronic depression. Seasonal affective disorder (SAD). SAD is depression that occurs at a particular time of year, or during a particular season. See our page on SAD for more information. Antenatal depression. This is depression that occurs while you are pregnant. It is sometimes called prenatal depression. Postnatal depression (PND). This is depression that occurs in the first year after having a baby. This can include affecting dads and partners. Premenstrual dysphoric disorder (PMDD). This is a hormone-related disorder that affects your body but also how you feel. This can involve experiencing depression. So your doctor may describe this as a mental health problem. Depression Learn about depression, its symptoms and possible causes, and how you can access treatment and support. Find tips on caring for yourself, and guidance for friends and family.  What is depression? Depression is a mental health problem that involves having a low mood or losing interest and enjoyment in things. It can also cause a range of other changes to how you feel or behave.  The symptoms you experience may vary. How intense they are, how long they last, and how much they affect your daily life can also vary.  If you experience milder depression, you might have low mood but still be able to carry on with your daily life. But things may feel harder and less worthwhile.  If you have more severe depression, you might find day-to-day life much more difficult. You may also experience suicidal feelings.  It starts as sadness then I feel myself shutting down, becoming less capable of coping. Eventually, I just feel numb and empty.  When does low mood become depression? We all have times when our mood is low, and we feel sad or fed up. Often these feelings happen for a reason and pass on their own.  But it might be depression if the feelings become so bad that they interfere with our daily life. Or if they last for several weeks or months.  Are there different types of depression? If you're diagnosed with depression, you might also be told that it is ‘less severe’ or ‘more severe’. This describes how your symptoms are affecting you, and what treatment you're likely to be Common signs and symptoms of depression These are some common signs of depression that you may experience:  How you might feel Down, upset or tearful Restless, agitated or irritable Guilty, worthless and down on yourself Empty and numb Isolated and unable to relate to other people Finding no pleasure in life or things you usually enjoy Angry or frustrated over minor things A sense of unreality No self-confidence or self-esteem Hopeless and despairing Feeling tired all the time How you might act Avoiding social events and activities you usually enjoy Self-harming or suicidal behaviour Difficulty speaking, thinking clearly or making decisions Losing interest in sex Difficulty remembering or concentrating on things Using more tobacco, alcohol or other drugs than usual Difficulty sleeping, or sleeping too much No appetite and losing weight, or eating more than usual and gaining weight Physical aches and pains with no obvious physical cause Moving very slowly, or being restless and agitated It felt like I was really tired, all the time. I had no energy or emotion about anything. Anxiety It's very common to experience depression and anxiety together. Some symptoms of depression can also be symptoms of anxiety, for example: Feeling restless, Finding it difficult to concentrate, Struggling to sleep I flit between states of anxiety and depression. At times, each seems to fuel the other. Self-harm and suicidal feelings If you're feeling low, you might self-harm to cope with difficult\n",
      "\n",
      "\n"
     ]
    },
    {
     "name": "stderr",
     "output_type": "stream",
     "text": [
      "Token indices sequence length is longer than the specified maximum sequence length for this model (1187 > 512). Running this sequence through the model will result in indexing errors\n"
     ]
    },
    {
     "name": "stdout",
     "output_type": "stream",
     "text": [
      "====================================================================================================\n",
      "LLM Response\n",
      "Cut yourself off from other people\n",
      "====================================================================================================\n",
      "Collection name: nhs_collection\n",
      "\u001b[1;35mLoad pretrained SentenceTransformer: hkunlp/instructor-base\u001b[0m\n",
      "load INSTRUCTOR_Transformer\n",
      "max_seq_length  512\n",
      "====================================================================================================\n",
      "LLM prompt\n",
      "Question: What lifestyle changes are suggested for depression?\n",
      "\n",
      "Context: severe depression, you may be referred to a specialist mental health team for intensive specialist talking treatments and prescribed medicine. Living with depression Many people with depression benefit by making lifestyle changes, such as getting more exercise , cutting down on alcohol , giving up smoking and eating healthily . Reading a self-help book or joining a support group are also worthwhile. They can help you gain a better understanding about what causes you to feel depressed. Sharing your experiences with others in a similar situation can also be very supportive. Information: Social care and support guide If you: need help with day-to-day living because of illness or disability care for someone regularly because they're ill or disabled, or because of their age – including family members Our social care and support guide explains your options and where you can get support. feelings of stress, anxiety or low mood during difficult times. A low mood may improve after a short period of time, rather than being a sign of depression. When to see a doctor It's important to seek help from a GP if you think you may be depressed. Many people wait a long time before seeking help for depression, but it's best not to delay. The sooner you see a doctor, the sooner you can be on the way to recovery. What causes depression? Sometimes there's a trigger for depression. Life-changing events, such as bereavement, losing your job or giving birth, can bring it on. People with a family history of depression are more likely to experience it themselves. But you can also become depressed for no obvious reason. Treating depression Treatment for depression can involve a combination of lifestyle changes, talking therapies and medicine. Your recommended treatment will be based on how severe your depression is. If you have mild depression, your doctor may suggest waiting to see whether it improves on its own, while monitoring your progress. This is known as \"watchful waiting\". They may also suggest lifestyle measures such as exercise and guided self-help. Talking therapies, such as cognitive behavioural therapy (CBT) , may also be used for mild depression. For moderate to severe depression, a combination of talking therapy and antidepressants is often recommended. If you have severe depression, you may be referred to a specialist mental health team for intensive specialist Symptoms - Depression in adults The symptoms of depression can be complex and vary widely between people. If you're depressed, you may feel sad, hopeless and lose interest in things you used to enjoy. The symptoms persist for weeks or months and are bad enough to interfere with your work, social life and family life. There are many other symptoms of depression and you're unlikely to have all of those listed on this page. Psychological symptoms The psychological symptoms of depression include: continuous low mood or sadness feeling hopeless and helpless having low self-esteem feeling tearful feeling guilt-ridden feeling irritable and intolerant of others having no motivation or interest in things finding it difficult to make decisions not getting any enjoyment out of life feeling anxious or worried having suicidal thoughts or thoughts of harming yourself. Physical symptoms The physical symptoms of depression include: moving or speaking more slowly than usual changes in appetite or weight (usually decreased, but sometimes increased) constipation unexplained aches and pains lack of energy low sex drive ( loss of libido ) disturbed sleep – for example, finding it difficult to fall asleep at night or waking up very early in the morning. Social symptoms The social symptoms of depression include: avoiding contact with friends and taking part in fewer social activities neglecting your hobbies and interests having difficulties in your home, work or family life. Severities of Overview - Depression in adults Depression is more than simply feeling unhappy or fed up for a few days. Most people go through periods of feeling down, but when you're depressed you feel persistently sad for weeks or months, rather than just a few days. Some people think depression is trivial and not a genuine health condition. They're wrong – it is a real illness with real symptoms. Depression is not a sign of weakness or something you can \"snap out of\" by \"pulling yourself together\". The good news is that with the right treatment and support, most people with depression can make a full recovery. These pages are about depression in adults. Read about depression in children and young people. How to tell if you have depression Depression affects people in different ways and can cause a wide variety of symptoms. They range from lasting feelings of unhappiness and hopelessness, to losing interest in the things you used to enjoy and feeling very tearful. Many people with depression also have symptoms of anxiety . There can be physical symptoms too, such as feeling constantly tired, sleeping badly, having no appetite or sex drive, and various aches and pains. The symptoms of depression range from mild to severe. At its mildest, you may simply feel persistently low in spirit, while severe depression can make you feel suicidal, that life is no longer worth living. Most people experience feelings of stress, anxiety or low mood during difficult times. A low mood may improve after a\n",
      "\n",
      "\n"
     ]
    },
    {
     "name": "stderr",
     "output_type": "stream",
     "text": [
      "Token indices sequence length is longer than the specified maximum sequence length for this model (1126 > 512). Running this sequence through the model will result in indexing errors\n"
     ]
    },
    {
     "name": "stdout",
     "output_type": "stream",
     "text": [
      "====================================================================================================\n",
      "LLM Response\n",
      "getting more exercise , cutting down on alcohol , giving up smoking and eating healthily\n",
      "====================================================================================================\n",
      "Collection name: mind_collection\n",
      "\u001b[1;35mLoad pretrained SentenceTransformer: hkunlp/instructor-base\u001b[0m\n",
      "load INSTRUCTOR_Transformer\n",
      "max_seq_length  512\n",
      "====================================================================================================\n",
      "LLM prompt\n",
      "Question: Are there different types of depressions?\n",
      "\n",
      "Context: severe’. This describes how your symptoms are affecting you, and what treatment you're likely to be offered. You may find that the severity of your depression changes over time.  Sometimes you might hear depression being called ‘major depressive disorder’. There are some other types of depression too:  Persistent depressive disorder (PDD). PDD is continuous depression that lasts for two years or more. You may also hear it called dysthymia or chronic depression. Seasonal affective disorder (SAD). SAD is depression that occurs at a particular time of year, or during a particular season. See our page on SAD for more information. Antenatal depression. This is depression that occurs while you are pregnant. It is sometimes called prenatal depression. Postnatal depression (PND). This is depression that occurs in the first year after having a baby. This can include affecting dads and partners. Premenstrual dysphoric disorder (PMDD). This is a hormone-related disorder that affects your body but also how you feel. This can involve experiencing depression. So your doctor may describe this as a mental health problem. Depression Learn about depression, its symptoms and possible causes, and how you can access treatment and support. Find tips on caring for yourself, and guidance for friends and family.  What is depression? Depression is a mental health problem that involves having a low mood or losing interest and enjoyment in things. It can also cause a range of other changes to how you feel or behave.  The symptoms you experience may vary. How intense they are, how long they last, and how much they affect your daily life can also vary.  If you experience milder depression, you might have low mood but still be able to carry on with your daily life. But things may feel harder and less worthwhile.  If you have more severe depression, you might find day-to-day life much more difficult. You may also experience suicidal feelings.  It starts as sadness then I feel myself shutting down, becoming less capable of coping. Eventually, I just feel numb and empty.  When does low mood become depression? We all have times when our mood is low, and we feel sad or fed up. Often these feelings happen for a reason and pass on their own.  But it might be depression if the feelings become so bad that they interfere with our daily life. Or if they last for several weeks or months.  Are there different types of depression? If you're diagnosed with depression, you might also be told that it is ‘less severe’ or ‘more severe’. This describes how your symptoms are affecting you, and what treatment you're likely to be treatment. How might depression affect my day-to-day life? If you have depression, you might find that it interferes with different aspects of your life. For example, it might affect your ability to work, your relationships, or managing your finances. This can add extra stress to an already difficult experience. It may also feel hard to explain your thoughts and feelings to others. You might want to cut yourself off from other people instead. This could lead to you feeling isolated and lonely. It feels like I'm stuck under a huge grey-black cloud. It's dark and isolating, smothering me at every opportunity. Can depression be a symptom of other mental health problems? Symptoms of depression can also be part of other mental health problems, such as: Bipolar disorder, Borderline personality disorder (BPD) and other personality disorders, Schizoaffective disorder. If you experience low mood or suicidal thoughts, this might be the reason you first speak to your doctor about your mental health. And your doctor might offer you treatment for depression without realising that you also experience other symptoms. If you think you're experiencing other symptoms, you can talk to your doctor about this to make sure you're getting the right treatment. Common signs and symptoms of depression These are some common signs of depression that you may experience:  How you might feel Down, upset or tearful Restless, agitated or irritable Guilty, worthless and down on yourself Empty and numb Isolated and unable to relate to other people Finding no pleasure in life or things you usually enjoy Angry or frustrated over minor things A sense of unreality No self-confidence or self-esteem Hopeless and despairing Feeling tired all the time How you might act Avoiding social events and activities you usually enjoy Self-harming or suicidal behaviour Difficulty speaking, thinking clearly or making decisions Losing interest in sex Difficulty remembering or concentrating on things Using more tobacco, alcohol or other drugs than usual Difficulty sleeping, or sleeping too much No appetite and losing weight, or eating more than usual and gaining weight Physical aches and pains with no obvious physical cause Moving very slowly, or being restless and agitated It felt like I was really tired, all the time. I had no energy or emotion about anything. Anxiety It's very common to experience depression and anxiety together. Some symptoms of depression can also be symptoms of anxiety, for example: Feeling restless, Finding it difficult to concentrate, Struggling to sleep I flit between states of anxiety and depression. At times, each seems to fuel the other. Self-harm and suicidal feelings If you're feeling low, you might self-harm to cope with difficult\n",
      "\n",
      "\n"
     ]
    },
    {
     "name": "stderr",
     "output_type": "stream",
     "text": [
      "Token indices sequence length is longer than the specified maximum sequence length for this model (1187 > 512). Running this sequence through the model will result in indexing errors\n"
     ]
    },
    {
     "name": "stdout",
     "output_type": "stream",
     "text": [
      "====================================================================================================\n",
      "LLM Response\n",
      "There are some other types too: Persistent depressive disorder (PDD). PDD is continuous depression that lasts for two years or more. You may also hear it called ‘Dysthymia or chronic depression.\n",
      "====================================================================================================\n",
      "Collection name: nhs_collection\n",
      "\u001b[1;35mLoad pretrained SentenceTransformer: hkunlp/instructor-base\u001b[0m\n",
      "load INSTRUCTOR_Transformer\n",
      "max_seq_length  512\n",
      "====================================================================================================\n",
      "LLM prompt\n",
      "Question: Are there different types of depressions?\n",
      "\n",
      "Context: Other types of depression There are different types of depression, and some conditions where depression may be one of the symptoms. These include: postnatal depression – sometimes new mothers, fathers or partners develop depression after they have a baby; this is known as postnatal depression and it's treated in a similar way to other types of depression, with talking therapies and antidepressant medicines bipolar disorder – also known as \"manic depression\", in bipolar disorder there are spells of both depression and excessively high mood (mania); the depression symptoms are similar to depression, but the bouts of mania can include harmful behaviour, such as gambling, going on spending sprees and having unsafe sex seasonal affective disorder (SAD) – also known as \"winter depression\", SAD is a type of depression with a seasonal pattern usually related to winter premenstrual dysphoric disorder (PMDD) – a severe type of premenstrual syndrome (PMS) where you have symptoms including feelings of depression and anxiety in the weeks before your period. When to seek help See a GP if you experience symptoms of depression for most of the day, every day, for more than 2 weeks. A low mood may improve after a short time. your hobbies and interests having difficulties in your home, work or family life. Severities of depression Depression can often come on gradually, so it can be difficult to notice something is wrong. Many people try to cope with their symptoms without realising they're unwell. It can sometimes take a friend or family member to suggest something is wrong. Doctors describe depression in adults as either less severe (mild) or more severe (moderate or severe), based on: the symptoms, including how often you get symptoms and how bad they are how long depression lasts the impact on your daily life A few people with severe depression may have symptoms of psychosis . You'll usually be asked to answer a set of questions to help doctors assess how severe your condition is. Grief and depression It can be difficult to distinguish between grief and depression. They share many of the same characteristics, but there are important differences between them. Grief is an entirely natural response to a loss, while depression is an illness. People who are grieving may have symptoms of depression, but they usually improve with time. For some people, bereavement can lead to depression. If you're grieving it's normal to have feelings of sadness. Some other symptoms of depression are rare with grief and bereavement, such as having suicidal thoughts, symptoms of psychosis and feeling hopeless or guilt-ridden. Other types of depression There are different types of depression, and some conditions where Overview - Depression in adults Depression is more than simply feeling unhappy or fed up for a few days. Most people go through periods of feeling down, but when you're depressed you feel persistently sad for weeks or months, rather than just a few days. Some people think depression is trivial and not a genuine health condition. They're wrong – it is a real illness with real symptoms. Depression is not a sign of weakness or something you can \"snap out of\" by \"pulling yourself together\". The good news is that with the right treatment and support, most people with depression can make a full recovery. These pages are about depression in adults. Read about depression in children and young people. How to tell if you have depression Depression affects people in different ways and can cause a wide variety of symptoms. They range from lasting feelings of unhappiness and hopelessness, to losing interest in the things you used to enjoy and feeling very tearful. Many people with depression also have symptoms of anxiety . There can be physical symptoms too, such as feeling constantly tired, sleeping badly, having no appetite or sex drive, and various aches and pains. The symptoms of depression range from mild to severe. At its mildest, you may simply feel persistently low in spirit, while severe depression can make you feel suicidal, that life is no longer worth living. Most people experience feelings of stress, anxiety or low mood during difficult times. A low mood may improve after a feelings of stress, anxiety or low mood during difficult times. A low mood may improve after a short period of time, rather than being a sign of depression. When to see a doctor It's important to seek help from a GP if you think you may be depressed. Many people wait a long time before seeking help for depression, but it's best not to delay. The sooner you see a doctor, the sooner you can be on the way to recovery. What causes depression? Sometimes there's a trigger for depression. Life-changing events, such as bereavement, losing your job or giving birth, can bring it on. People with a family history of depression are more likely to experience it themselves. But you can also become depressed for no obvious reason. Treating depression Treatment for depression can involve a combination of lifestyle changes, talking therapies and medicine. Your recommended treatment will be based on how severe your depression is. If you have mild depression, your doctor may suggest waiting to see whether it improves on its own, while monitoring your progress. This is known as \"watchful waiting\". They may also suggest lifestyle measures such as exercise and guided self-help. Talking therapies, such as cognitive behavioural therapy (CBT) , may also be used for mild depression. For moderate to severe depression, a combination of talking therapy and antidepressants is often recommended. If you have severe depression, you may be referred to a specialist mental health team for intensive specialist\n",
      "\n",
      "\n"
     ]
    },
    {
     "name": "stderr",
     "output_type": "stream",
     "text": [
      "Token indices sequence length is longer than the specified maximum sequence length for this model (1236 > 512). Running this sequence through the model will result in indexing errors\n"
     ]
    },
    {
     "name": "stdout",
     "output_type": "stream",
     "text": [
      "====================================================================================================\n",
      "LLM Response\n",
      "There are different types of depression, and some conditions where depression may be one of the symptoms. These include: postnatal depression – sometimes new mothers, fathers or partners develop depression after they have a baby; this is known as postnatal depression and it's treated in a similar way to other types of depression, with talking therapies and antidepressant medicines bipolar disorder – also known as \"manic depression\", in bipolar disorder there are spells of both depression and excessively high mood (mania); the depression symptoms are similar to depression, but the bouts of mania can include harmful behaviour, such as gambling, going on spending sprees and having unsafe sex seasonal affective disorder (SAD) – also known as \"winter depression\", SAD is a severe type of premenstrual syndrome (PMS) where you have symptoms including feelings of depression and anxiety in the weeks before your period. When to seek\n",
      "====================================================================================================\n"
     ]
    }
   ],
   "source": [
    "results_df = get_llm_prompt_response(QUESTIONS, enable_chunking = True, is_new_experiment = True, chunk_size = 1500, chunk_overlap = 100)"
   ]
  },
  {
   "cell_type": "code",
   "execution_count": 49,
   "id": "3754eead-f144-4293-824c-55971c6b11c5",
   "metadata": {},
   "outputs": [
    {
     "data": {
      "text/html": [
       "<div>\n",
       "<style scoped>\n",
       "    .dataframe tbody tr th:only-of-type {\n",
       "        vertical-align: middle;\n",
       "    }\n",
       "\n",
       "    .dataframe tbody tr th {\n",
       "        vertical-align: top;\n",
       "    }\n",
       "\n",
       "    .dataframe thead th {\n",
       "        text-align: right;\n",
       "    }\n",
       "</style>\n",
       "<table border=\"1\" class=\"dataframe\">\n",
       "  <thead>\n",
       "    <tr style=\"text-align: right;\">\n",
       "      <th></th>\n",
       "      <th>mind_response</th>\n",
       "      <th>nhs_response</th>\n",
       "      <th>question</th>\n",
       "    </tr>\n",
       "  </thead>\n",
       "  <tbody>\n",
       "    <tr>\n",
       "      <th>0</th>\n",
       "      <td>It can affect your daily life.</td>\n",
       "      <td>Depression is more than simply feeling unhappy or fed up for a few days. Most people go through periods of feeling down, but when you're depressed you feel persistently sad for weeks or months, rather than just a few days.</td>\n",
       "      <td>Can you tell me about depression?</td>\n",
       "    </tr>\n",
       "    <tr>\n",
       "      <th>1</th>\n",
       "      <td>Cut yourself off from other people</td>\n",
       "      <td>getting more exercise , cutting down on alcohol , giving up smoking and eating healthily</td>\n",
       "      <td>What lifestyle changes are suggested for depression?</td>\n",
       "    </tr>\n",
       "    <tr>\n",
       "      <th>2</th>\n",
       "      <td>There are some other types too: Persistent depressive disorder (PDD). PDD is continuous depression that lasts for two years or more. You may also hear it called ‘Dysthymia or chronic depression.</td>\n",
       "      <td>There are different types of depression, and some conditions where depression may be one of the symptoms. These include: postnatal depression – sometimes new mothers, fathers or partners develop depression after they have a baby; this is known as postnatal depression and it's treated in a similar way to other types of depression, with talking therapies and antidepressant medicines bipolar disorder – also known as \"manic depression\", in bipolar disorder there are spells of both depression and excessively high mood (mania); the depression symptoms are similar to depression, but the bouts of mania can include harmful behaviour, such as gambling, going on spending sprees and having unsafe sex seasonal affective disorder (SAD) – also known as \"winter depression\", SAD is a severe type of pre...</td>\n",
       "      <td>Are there different types of depressions?</td>\n",
       "    </tr>\n",
       "  </tbody>\n",
       "</table>\n",
       "</div>"
      ],
      "text/plain": [
       "                                                                                                                                                                                        mind_response  \\\n",
       "0                                                                                                                                                                      It can affect your daily life.   \n",
       "1                                                                                                                                                                  Cut yourself off from other people   \n",
       "2  There are some other types too: Persistent depressive disorder (PDD). PDD is continuous depression that lasts for two years or more. You may also hear it called ‘Dysthymia or chronic depression.   \n",
       "\n",
       "                                                                                                                                                                                                                                                                                                                                                                                                                                                                                                                                                                                                                                                                                                                                                                                                                      nhs_response  \\\n",
       "0                                                                                                                                                                                                                                                                                                                                                                                                                                                                                                                                                                                                   Depression is more than simply feeling unhappy or fed up for a few days. Most people go through periods of feeling down, but when you're depressed you feel persistently sad for weeks or months, rather than just a few days.   \n",
       "1                                                                                                                                                                                                                                                                                                                                                                                                                                                                                                                                                                                                                                                                                                                                         getting more exercise , cutting down on alcohol , giving up smoking and eating healthily   \n",
       "2  There are different types of depression, and some conditions where depression may be one of the symptoms. These include: postnatal depression – sometimes new mothers, fathers or partners develop depression after they have a baby; this is known as postnatal depression and it's treated in a similar way to other types of depression, with talking therapies and antidepressant medicines bipolar disorder – also known as \"manic depression\", in bipolar disorder there are spells of both depression and excessively high mood (mania); the depression symptoms are similar to depression, but the bouts of mania can include harmful behaviour, such as gambling, going on spending sprees and having unsafe sex seasonal affective disorder (SAD) – also known as \"winter depression\", SAD is a severe type of pre...   \n",
       "\n",
       "                                               question  \n",
       "0                     Can you tell me about depression?  \n",
       "1  What lifestyle changes are suggested for depression?  \n",
       "2             Are there different types of depressions?  "
      ]
     },
     "execution_count": 49,
     "metadata": {},
     "output_type": "execute_result"
    }
   ],
   "source": [
    "results_df"
   ]
  },
  {
   "cell_type": "markdown",
   "id": "ab26f537-2452-4c24-9300-f834b6b0795a",
   "metadata": {},
   "source": [
    "### chunk_size = 2000 and chunk_overlap = 100"
   ]
  },
  {
   "cell_type": "code",
   "execution_count": 51,
   "id": "13455b09-d435-48e3-b648-cb15494bb1b0",
   "metadata": {},
   "outputs": [
    {
     "name": "stdout",
     "output_type": "stream",
     "text": [
      "Found 2 collections\n",
      "\u001b[1;35mLoad pretrained SentenceTransformer: hkunlp/instructor-base\u001b[0m\n",
      "load INSTRUCTOR_Transformer\n",
      "max_seq_length  512\n",
      "Inserting data into collection nhs_collection\n",
      "Chunking enabled = True\n",
      "Using chunk_size=2000 and chunk_overlap=100\n",
      "Inserting data into collection mind_collection\n",
      "Chunking enabled = True\n",
      "Using chunk_size=2000 and chunk_overlap=100\n",
      "Time taken to insert data in chroma store 3.924305820000882 sec\n",
      "Collection name: mind_collection\n",
      "\u001b[1;35mLoad pretrained SentenceTransformer: hkunlp/instructor-base\u001b[0m\n",
      "load INSTRUCTOR_Transformer\n",
      "max_seq_length  512\n",
      "====================================================================================================\n",
      "LLM prompt\n",
      "Question: Can you tell me about depression?\n",
      "\n",
      "Context: Depression Learn about depression, its symptoms and possible causes, and how you can access treatment and support. Find tips on caring for yourself, and guidance for friends and family.  What is depression? Depression is a mental health problem that involves having a low mood or losing interest and enjoyment in things. It can also cause a range of other changes to how you feel or behave.  The symptoms you experience may vary. How intense they are, how long they last, and how much they affect your daily life can also vary.  If you experience milder depression, you might have low mood but still be able to carry on with your daily life. But things may feel harder and less worthwhile.  If you have more severe depression, you might find day-to-day life much more difficult. You may also experience suicidal feelings.  It starts as sadness then I feel myself shutting down, becoming less capable of coping. Eventually, I just feel numb and empty.  When does low mood become depression? We all have times when our mood is low, and we feel sad or fed up. Often these feelings happen for a reason and pass on their own.  But it might be depression if the feelings become so bad that they interfere with our daily life. Or if they last for several weeks or months.  Are there different types of depression? If you're diagnosed with depression, you might also be told that it is ‘less severe’ or ‘more severe’. This describes how your symptoms are affecting you, and what treatment you're likely to be offered. You may find that the severity of your depression changes over time.  Sometimes you might hear depression being called ‘major depressive disorder’. There are some other types of depression too:  Persistent depressive disorder (PDD). PDD is continuous depression that lasts for two years or more. You may also hear it called dysthymia or chronic depression. Seasonal affective disorder (SAD). SAD is depression that occurs at a particular time of year, or during a particular season. See our Common signs and symptoms of depression These are some common signs of depression that you may experience:  How you might feel Down, upset or tearful Restless, agitated or irritable Guilty, worthless and down on yourself Empty and numb Isolated and unable to relate to other people Finding no pleasure in life or things you usually enjoy Angry or frustrated over minor things A sense of unreality No self-confidence or self-esteem Hopeless and despairing Feeling tired all the time How you might act Avoiding social events and activities you usually enjoy Self-harming or suicidal behaviour Difficulty speaking, thinking clearly or making decisions Losing interest in sex Difficulty remembering or concentrating on things Using more tobacco, alcohol or other drugs than usual Difficulty sleeping, or sleeping too much No appetite and losing weight, or eating more than usual and gaining weight Physical aches and pains with no obvious physical cause Moving very slowly, or being restless and agitated It felt like I was really tired, all the time. I had no energy or emotion about anything. Anxiety It's very common to experience depression and anxiety together. Some symptoms of depression can also be symptoms of anxiety, for example: Feeling restless, Finding it difficult to concentrate, Struggling to sleep I flit between states of anxiety and depression. At times, each seems to fuel the other. Self-harm and suicidal feelings If you're feeling low, you might self-harm to cope with difficult feelings. Although this might make you feel better in the short term, self-harm can be very dangerous. When you're feeling really low and hopeless, you may also find yourself thinking about suicide. This could be thinking about the idea of suicide, or considering a plan to end your life. These thoughts can feel difficult to control, and can be very frightening. Psychotic symptoms If you experience depression, you might also experience some psychotic symptoms. These may include delusions, such as depression, you might also experience some psychotic symptoms. These may include delusions, such as paranoia. Or they may be hallucinations, such as hearing voices. If you experience psychotic symptoms as part of depression, they're likely to be linked to your depressed thoughts and feelings. This may include experiencing delusions relating to feelings of guilt. For example, you might become convinced that you've committed a crime. These kinds of experiences can feel very real at the time. This might make it hard to understand that these experiences are also symptoms of your depression. And they can be frightening or upsetting, so it's important to seek treatment and support. You might worry that experiencing psychotic symptoms could mean you’re given a diagnosis that doesn’t feel right for you. But discussing all of your symptoms with your doctor can help you get the right support and treatment. How might depression affect my day-to-day life? If you have depression, you might find that it interferes with different aspects of your life. For example, it might affect your ability to work, your relationships, or managing your finances. This can add extra stress to an already difficult experience. It may also feel hard to explain your thoughts and feelings to others. You might want to cut yourself off from other people instead. This could lead to you feeling isolated and lonely. It feels like I'm stuck under a huge grey-black cloud. It's dark and isolating, smothering me at every opportunity. Can depression be a symptom of other mental health problems? Symptoms of depression can also be part of other mental health problems, such as: Bipolar disorder, Borderline personality disorder (BPD) and other personality disorders, Schizoaffective disorder. If you experience low mood or suicidal thoughts, this might be the reason you first speak to your doctor about your mental health. And your doctor might offer you treatment for depression without realising that you also health. And your doctor might offer you treatment for depression without realising that you also experience other symptoms. If you think you're experiencing other symptoms, you can talk to your doctor about this to make sure you're getting the right treatment.\n",
      "\n",
      "\n"
     ]
    },
    {
     "name": "stderr",
     "output_type": "stream",
     "text": [
      "Token indices sequence length is longer than the specified maximum sequence length for this model (1356 > 512). Running this sequence through the model will result in indexing errors\n"
     ]
    },
    {
     "name": "stdout",
     "output_type": "stream",
     "text": [
      "====================================================================================================\n",
      "LLM Response\n",
      "It's a mental health problem that involves having a low mood or losing interest and enjoyment in things.\n",
      "====================================================================================================\n",
      "Collection name: nhs_collection\n",
      "\u001b[1;35mLoad pretrained SentenceTransformer: hkunlp/instructor-base\u001b[0m\n",
      "load INSTRUCTOR_Transformer\n",
      "max_seq_length  512\n",
      "====================================================================================================\n",
      "LLM prompt\n",
      "Question: Can you tell me about depression?\n",
      "\n",
      "Context: Overview - Depression in adults Depression is more than simply feeling unhappy or fed up for a few days. Most people go through periods of feeling down, but when you're depressed you feel persistently sad for weeks or months, rather than just a few days. Some people think depression is trivial and not a genuine health condition. They're wrong – it is a real illness with real symptoms. Depression is not a sign of weakness or something you can \"snap out of\" by \"pulling yourself together\". The good news is that with the right treatment and support, most people with depression can make a full recovery. These pages are about depression in adults. Read about depression in children and young people. How to tell if you have depression Depression affects people in different ways and can cause a wide variety of symptoms. They range from lasting feelings of unhappiness and hopelessness, to losing interest in the things you used to enjoy and feeling very tearful. Many people with depression also have symptoms of anxiety . There can be physical symptoms too, such as feeling constantly tired, sleeping badly, having no appetite or sex drive, and various aches and pains. The symptoms of depression range from mild to severe. At its mildest, you may simply feel persistently low in spirit, while severe depression can make you feel suicidal, that life is no longer worth living. Most people experience feelings of stress, anxiety or low mood during difficult times. A low mood may improve after a short period of time, rather than being a sign of depression. When to see a doctor It's important to seek help from a GP if you think you may be depressed. Many people wait a long time before seeking help for depression, but it's best not to delay. The sooner you see a doctor, the sooner you can be on the way to recovery. What causes depression? Sometimes there's a trigger for depression. Life-changing events, such as bereavement, losing your job or giving birth, can bring it on. People with a Symptoms - Depression in adults The symptoms of depression can be complex and vary widely between people. If you're depressed, you may feel sad, hopeless and lose interest in things you used to enjoy. The symptoms persist for weeks or months and are bad enough to interfere with your work, social life and family life. There are many other symptoms of depression and you're unlikely to have all of those listed on this page. Psychological symptoms The psychological symptoms of depression include: continuous low mood or sadness feeling hopeless and helpless having low self-esteem feeling tearful feeling guilt-ridden feeling irritable and intolerant of others having no motivation or interest in things finding it difficult to make decisions not getting any enjoyment out of life feeling anxious or worried having suicidal thoughts or thoughts of harming yourself. Physical symptoms The physical symptoms of depression include: moving or speaking more slowly than usual changes in appetite or weight (usually decreased, but sometimes increased) constipation unexplained aches and pains lack of energy low sex drive ( loss of libido ) disturbed sleep – for example, finding it difficult to fall asleep at night or waking up very early in the morning. Social symptoms The social symptoms of depression include: avoiding contact with friends and taking part in fewer social activities neglecting your hobbies and interests having difficulties in your home, work or family life. Severities of depression Depression can often come on gradually, so it can be difficult to notice something is wrong. Many people try to cope with their symptoms without realising they're unwell. It can sometimes take a friend or family member to suggest something is wrong. Doctors describe depression in adults as either less severe (mild) or more severe (moderate or severe), based on: the symptoms, including how often you get symptoms and how bad they are how long depression lasts the impact on your daily life A few you get symptoms and how bad they are how long depression lasts the impact on your daily life A few people with severe depression may have symptoms of psychosis . You'll usually be asked to answer a set of questions to help doctors assess how severe your condition is. Grief and depression It can be difficult to distinguish between grief and depression. They share many of the same characteristics, but there are important differences between them. Grief is an entirely natural response to a loss, while depression is an illness. People who are grieving may have symptoms of depression, but they usually improve with time. For some people, bereavement can lead to depression. If you're grieving it's normal to have feelings of sadness. Some other symptoms of depression are rare with grief and bereavement, such as having suicidal thoughts, symptoms of psychosis and feeling hopeless or guilt-ridden. Other types of depression There are different types of depression, and some conditions where depression may be one of the symptoms. These include: postnatal depression – sometimes new mothers, fathers or partners develop depression after they have a baby; this is known as postnatal depression and it's treated in a similar way to other types of depression, with talking therapies and antidepressant medicines bipolar disorder – also known as \"manic depression\", in bipolar disorder there are spells of both depression and excessively high mood (mania); the depression symptoms are similar to depression, but the bouts of mania can include harmful behaviour, such as gambling, going on spending sprees and having unsafe sex seasonal affective disorder (SAD) – also known as \"winter depression\", SAD is a type of depression with a seasonal pattern usually related to winter premenstrual dysphoric disorder (PMDD) – a severe type of premenstrual syndrome (PMS) where you have symptoms including feelings of depression and anxiety in the weeks before your period. When to seek help See a GP if you events, such as bereavement, losing your job or giving birth, can bring it on. People with a family history of depression are more likely to experience it themselves. But you can also become depressed for no obvious reason. Treating depression Treatment for depression can involve a combination of lifestyle changes, talking therapies and medicine. Your recommended treatment will be based on how severe your depression is. If you have mild depression, your doctor may suggest waiting to see whether it improves on its own, while monitoring your progress. This is known as \"watchful waiting\". They may also suggest lifestyle measures such as exercise and guided self-help. Talking therapies, such as cognitive behavioural therapy (CBT) , may also be used for mild depression. For moderate to severe depression, a combination of talking therapy and antidepressants is often recommended. If you have severe depression, you may be referred to a specialist mental health team for intensive specialist talking treatments and prescribed medicine. Living with depression Many people with depression benefit by making lifestyle changes, such as getting more exercise , cutting down on alcohol , giving up smoking and eating healthily . Reading a self-help book or joining a support group are also worthwhile. They can help you gain a better understanding about what causes you to feel depressed. Sharing your experiences with others in a similar situation can also be very supportive. Information: Social care and support guide If you: need help with day-to-day living because of illness or disability care for someone regularly because they're ill or disabled, or because of their age – including family members Our social care and support guide explains your options and where you can get support.\n",
      "\n",
      "\n"
     ]
    },
    {
     "name": "stderr",
     "output_type": "stream",
     "text": [
      "Token indices sequence length is longer than the specified maximum sequence length for this model (1650 > 512). Running this sequence through the model will result in indexing errors\n"
     ]
    },
    {
     "name": "stdout",
     "output_type": "stream",
     "text": [
      "====================================================================================================\n",
      "LLM Response\n",
      "Depression is more than simply feeling unhappy or fed up for a few days. Most people go through periods of feeling down, but when you're depressed you feel persistently sad for weeks or months, rather than just a few days. Some people think depression is trivial and not a genuine health condition. They're wrong – it is a real illness with real symptoms. Depression is not a sign of weakness or something you can \"snap out of\" by \"pulling yourself together\".\n",
      "====================================================================================================\n",
      "Collection name: mind_collection\n",
      "\u001b[1;35mLoad pretrained SentenceTransformer: hkunlp/instructor-base\u001b[0m\n",
      "load INSTRUCTOR_Transformer\n",
      "max_seq_length  512\n",
      "====================================================================================================\n",
      "LLM prompt\n",
      "Question: What lifestyle changes are suggested for depression?\n",
      "\n",
      "Context: health. And your doctor might offer you treatment for depression without realising that you also experience other symptoms. If you think you're experiencing other symptoms, you can talk to your doctor about this to make sure you're getting the right treatment. Depression Learn about depression, its symptoms and possible causes, and how you can access treatment and support. Find tips on caring for yourself, and guidance for friends and family.  What is depression? Depression is a mental health problem that involves having a low mood or losing interest and enjoyment in things. It can also cause a range of other changes to how you feel or behave.  The symptoms you experience may vary. How intense they are, how long they last, and how much they affect your daily life can also vary.  If you experience milder depression, you might have low mood but still be able to carry on with your daily life. But things may feel harder and less worthwhile.  If you have more severe depression, you might find day-to-day life much more difficult. You may also experience suicidal feelings.  It starts as sadness then I feel myself shutting down, becoming less capable of coping. Eventually, I just feel numb and empty.  When does low mood become depression? We all have times when our mood is low, and we feel sad or fed up. Often these feelings happen for a reason and pass on their own.  But it might be depression if the feelings become so bad that they interfere with our daily life. Or if they last for several weeks or months.  Are there different types of depression? If you're diagnosed with depression, you might also be told that it is ‘less severe’ or ‘more severe’. This describes how your symptoms are affecting you, and what treatment you're likely to be offered. You may find that the severity of your depression changes over time.  Sometimes you might hear depression being called ‘major depressive disorder’. There are some other types of depression too:  Persistent depressive disorder (PDD). PDD is continuous depression that lasts for two years or more. You may also hear it called dysthymia or chronic depression. Seasonal affective disorder (SAD). SAD is depression that occurs at a particular time of year, or during a particular season. See our Common signs and symptoms of depression These are some common signs of depression that you may experience:  How you might feel Down, upset or tearful Restless, agitated or irritable Guilty, worthless and down on yourself Empty and numb Isolated and unable to relate to other people Finding no pleasure in life or things you usually enjoy Angry or frustrated over minor things A sense of unreality No self-confidence or self-esteem Hopeless and despairing Feeling tired all the time How you might act Avoiding social events and activities you usually enjoy Self-harming or suicidal behaviour Difficulty speaking, thinking clearly or making decisions Losing interest in sex Difficulty remembering or concentrating on things Using more tobacco, alcohol or other drugs than usual Difficulty sleeping, or sleeping too much No appetite and losing weight, or eating more than usual and gaining weight Physical aches and pains with no obvious physical cause Moving very slowly, or being restless and agitated It felt like I was really tired, all the time. I had no energy or emotion about anything. Anxiety It's very common to experience depression and anxiety together. Some symptoms of depression can also be symptoms of anxiety, for example: Feeling restless, Finding it difficult to concentrate, Struggling to sleep I flit between states of anxiety and depression. At times, each seems to fuel the other. Self-harm and suicidal feelings If you're feeling low, you might self-harm to cope with difficult feelings. Although this might make you feel better in the short term, self-harm can be very dangerous. When you're feeling really low and hopeless, you may also find yourself thinking about suicide. This could be thinking about the idea of suicide, or considering a plan to end your life. These thoughts can feel difficult to control, and can be very frightening. Psychotic symptoms If you experience depression, you might also experience some psychotic symptoms. These may include delusions, such as depression, you might also experience some psychotic symptoms. These may include delusions, such as paranoia. Or they may be hallucinations, such as hearing voices. If you experience psychotic symptoms as part of depression, they're likely to be linked to your depressed thoughts and feelings. This may include experiencing delusions relating to feelings of guilt. For example, you might become convinced that you've committed a crime. These kinds of experiences can feel very real at the time. This might make it hard to understand that these experiences are also symptoms of your depression. And they can be frightening or upsetting, so it's important to seek treatment and support. You might worry that experiencing psychotic symptoms could mean you’re given a diagnosis that doesn’t feel right for you. But discussing all of your symptoms with your doctor can help you get the right support and treatment. How might depression affect my day-to-day life? If you have depression, you might find that it interferes with different aspects of your life. For example, it might affect your ability to work, your relationships, or managing your finances. This can add extra stress to an already difficult experience. It may also feel hard to explain your thoughts and feelings to others. You might want to cut yourself off from other people instead. This could lead to you feeling isolated and lonely. It feels like I'm stuck under a huge grey-black cloud. It's dark and isolating, smothering me at every opportunity. Can depression be a symptom of other mental health problems? Symptoms of depression can also be part of other mental health problems, such as: Bipolar disorder, Borderline personality disorder (BPD) and other personality disorders, Schizoaffective disorder. If you experience low mood or suicidal thoughts, this might be the reason you first speak to your doctor about your mental health. And your doctor might offer you treatment for depression without realising that you also\n",
      "\n",
      "\n"
     ]
    },
    {
     "name": "stderr",
     "output_type": "stream",
     "text": [
      "Token indices sequence length is longer than the specified maximum sequence length for this model (1357 > 512). Running this sequence through the model will result in indexing errors\n"
     ]
    },
    {
     "name": "stdout",
     "output_type": "stream",
     "text": [
      "====================================================================================================\n",
      "LLM Response\n",
      "other symptoms. If you think you're experiencing other symptoms, you can talk to your doctor about this to make sure you're getting the right treatment.\n",
      "====================================================================================================\n",
      "Collection name: nhs_collection\n",
      "\u001b[1;35mLoad pretrained SentenceTransformer: hkunlp/instructor-base\u001b[0m\n",
      "load INSTRUCTOR_Transformer\n",
      "max_seq_length  512\n",
      "====================================================================================================\n",
      "LLM prompt\n",
      "Question: What lifestyle changes are suggested for depression?\n",
      "\n",
      "Context: events, such as bereavement, losing your job or giving birth, can bring it on. People with a family history of depression are more likely to experience it themselves. But you can also become depressed for no obvious reason. Treating depression Treatment for depression can involve a combination of lifestyle changes, talking therapies and medicine. Your recommended treatment will be based on how severe your depression is. If you have mild depression, your doctor may suggest waiting to see whether it improves on its own, while monitoring your progress. This is known as \"watchful waiting\". They may also suggest lifestyle measures such as exercise and guided self-help. Talking therapies, such as cognitive behavioural therapy (CBT) , may also be used for mild depression. For moderate to severe depression, a combination of talking therapy and antidepressants is often recommended. If you have severe depression, you may be referred to a specialist mental health team for intensive specialist talking treatments and prescribed medicine. Living with depression Many people with depression benefit by making lifestyle changes, such as getting more exercise , cutting down on alcohol , giving up smoking and eating healthily . Reading a self-help book or joining a support group are also worthwhile. They can help you gain a better understanding about what causes you to feel depressed. Sharing your experiences with others in a similar situation can also be very supportive. Information: Social care and support guide If you: need help with day-to-day living because of illness or disability care for someone regularly because they're ill or disabled, or because of their age – including family members Our social care and support guide explains your options and where you can get support. Symptoms - Depression in adults The symptoms of depression can be complex and vary widely between people. If you're depressed, you may feel sad, hopeless and lose interest in things you used to enjoy. The symptoms persist for weeks or months and are bad enough to interfere with your work, social life and family life. There are many other symptoms of depression and you're unlikely to have all of those listed on this page. Psychological symptoms The psychological symptoms of depression include: continuous low mood or sadness feeling hopeless and helpless having low self-esteem feeling tearful feeling guilt-ridden feeling irritable and intolerant of others having no motivation or interest in things finding it difficult to make decisions not getting any enjoyment out of life feeling anxious or worried having suicidal thoughts or thoughts of harming yourself. Physical symptoms The physical symptoms of depression include: moving or speaking more slowly than usual changes in appetite or weight (usually decreased, but sometimes increased) constipation unexplained aches and pains lack of energy low sex drive ( loss of libido ) disturbed sleep – for example, finding it difficult to fall asleep at night or waking up very early in the morning. Social symptoms The social symptoms of depression include: avoiding contact with friends and taking part in fewer social activities neglecting your hobbies and interests having difficulties in your home, work or family life. Severities of depression Depression can often come on gradually, so it can be difficult to notice something is wrong. Many people try to cope with their symptoms without realising they're unwell. It can sometimes take a friend or family member to suggest something is wrong. Doctors describe depression in adults as either less severe (mild) or more severe (moderate or severe), based on: the symptoms, including how often you get symptoms and how bad they are how long depression lasts the impact on your daily life A few Overview - Depression in adults Depression is more than simply feeling unhappy or fed up for a few days. Most people go through periods of feeling down, but when you're depressed you feel persistently sad for weeks or months, rather than just a few days. Some people think depression is trivial and not a genuine health condition. They're wrong – it is a real illness with real symptoms. Depression is not a sign of weakness or something you can \"snap out of\" by \"pulling yourself together\". The good news is that with the right treatment and support, most people with depression can make a full recovery. These pages are about depression in adults. Read about depression in children and young people. How to tell if you have depression Depression affects people in different ways and can cause a wide variety of symptoms. They range from lasting feelings of unhappiness and hopelessness, to losing interest in the things you used to enjoy and feeling very tearful. Many people with depression also have symptoms of anxiety . There can be physical symptoms too, such as feeling constantly tired, sleeping badly, having no appetite or sex drive, and various aches and pains. The symptoms of depression range from mild to severe. At its mildest, you may simply feel persistently low in spirit, while severe depression can make you feel suicidal, that life is no longer worth living. Most people experience feelings of stress, anxiety or low mood during difficult times. A low mood may improve after a short period of time, rather than being a sign of depression. When to see a doctor It's important to seek help from a GP if you think you may be depressed. Many people wait a long time before seeking help for depression, but it's best not to delay. The sooner you see a doctor, the sooner you can be on the way to recovery. What causes depression? Sometimes there's a trigger for depression. Life-changing events, such as bereavement, losing your job or giving birth, can bring it on. People with a you get symptoms and how bad they are how long depression lasts the impact on your daily life A few people with severe depression may have symptoms of psychosis . You'll usually be asked to answer a set of questions to help doctors assess how severe your condition is. Grief and depression It can be difficult to distinguish between grief and depression. They share many of the same characteristics, but there are important differences between them. Grief is an entirely natural response to a loss, while depression is an illness. People who are grieving may have symptoms of depression, but they usually improve with time. For some people, bereavement can lead to depression. If you're grieving it's normal to have feelings of sadness. Some other symptoms of depression are rare with grief and bereavement, such as having suicidal thoughts, symptoms of psychosis and feeling hopeless or guilt-ridden. Other types of depression There are different types of depression, and some conditions where depression may be one of the symptoms. These include: postnatal depression – sometimes new mothers, fathers or partners develop depression after they have a baby; this is known as postnatal depression and it's treated in a similar way to other types of depression, with talking therapies and antidepressant medicines bipolar disorder – also known as \"manic depression\", in bipolar disorder there are spells of both depression and excessively high mood (mania); the depression symptoms are similar to depression, but the bouts of mania can include harmful behaviour, such as gambling, going on spending sprees and having unsafe sex seasonal affective disorder (SAD) – also known as \"winter depression\", SAD is a type of depression with a seasonal pattern usually related to winter premenstrual dysphoric disorder (PMDD) – a severe type of premenstrual syndrome (PMS) where you have symptoms including feelings of depression and anxiety in the weeks before your period. When to seek help See a GP if you\n",
      "\n",
      "\n"
     ]
    },
    {
     "name": "stderr",
     "output_type": "stream",
     "text": [
      "Token indices sequence length is longer than the specified maximum sequence length for this model (1651 > 512). Running this sequence through the model will result in indexing errors\n"
     ]
    },
    {
     "name": "stdout",
     "output_type": "stream",
     "text": [
      "====================================================================================================\n",
      "LLM Response\n",
      "Get more exercise and cut down on alcohol\n",
      "====================================================================================================\n",
      "Collection name: mind_collection\n",
      "\u001b[1;35mLoad pretrained SentenceTransformer: hkunlp/instructor-base\u001b[0m\n",
      "load INSTRUCTOR_Transformer\n",
      "max_seq_length  512\n",
      "====================================================================================================\n",
      "LLM prompt\n",
      "Question: Are there different types of depressions?\n",
      "\n",
      "Context: Depression Learn about depression, its symptoms and possible causes, and how you can access treatment and support. Find tips on caring for yourself, and guidance for friends and family.  What is depression? Depression is a mental health problem that involves having a low mood or losing interest and enjoyment in things. It can also cause a range of other changes to how you feel or behave.  The symptoms you experience may vary. How intense they are, how long they last, and how much they affect your daily life can also vary.  If you experience milder depression, you might have low mood but still be able to carry on with your daily life. But things may feel harder and less worthwhile.  If you have more severe depression, you might find day-to-day life much more difficult. You may also experience suicidal feelings.  It starts as sadness then I feel myself shutting down, becoming less capable of coping. Eventually, I just feel numb and empty.  When does low mood become depression? We all have times when our mood is low, and we feel sad or fed up. Often these feelings happen for a reason and pass on their own.  But it might be depression if the feelings become so bad that they interfere with our daily life. Or if they last for several weeks or months.  Are there different types of depression? If you're diagnosed with depression, you might also be told that it is ‘less severe’ or ‘more severe’. This describes how your symptoms are affecting you, and what treatment you're likely to be offered. You may find that the severity of your depression changes over time.  Sometimes you might hear depression being called ‘major depressive disorder’. There are some other types of depression too:  Persistent depressive disorder (PDD). PDD is continuous depression that lasts for two years or more. You may also hear it called dysthymia or chronic depression. Seasonal affective disorder (SAD). SAD is depression that occurs at a particular time of year, or during a particular season. See our SAD is depression that occurs at a particular time of year, or during a particular season. See our page on SAD for more information. Antenatal depression. This is depression that occurs while you are pregnant. It is sometimes called prenatal depression. Postnatal depression (PND). This is depression that occurs in the first year after having a baby. This can include affecting dads and partners. Premenstrual dysphoric disorder (PMDD). This is a hormone-related disorder that affects your body but also how you feel. This can involve experiencing depression. So your doctor may describe this as a mental health problem. depression, you might also experience some psychotic symptoms. These may include delusions, such as paranoia. Or they may be hallucinations, such as hearing voices. If you experience psychotic symptoms as part of depression, they're likely to be linked to your depressed thoughts and feelings. This may include experiencing delusions relating to feelings of guilt. For example, you might become convinced that you've committed a crime. These kinds of experiences can feel very real at the time. This might make it hard to understand that these experiences are also symptoms of your depression. And they can be frightening or upsetting, so it's important to seek treatment and support. You might worry that experiencing psychotic symptoms could mean you’re given a diagnosis that doesn’t feel right for you. But discussing all of your symptoms with your doctor can help you get the right support and treatment. How might depression affect my day-to-day life? If you have depression, you might find that it interferes with different aspects of your life. For example, it might affect your ability to work, your relationships, or managing your finances. This can add extra stress to an already difficult experience. It may also feel hard to explain your thoughts and feelings to others. You might want to cut yourself off from other people instead. This could lead to you feeling isolated and lonely. It feels like I'm stuck under a huge grey-black cloud. It's dark and isolating, smothering me at every opportunity. Can depression be a symptom of other mental health problems? Symptoms of depression can also be part of other mental health problems, such as: Bipolar disorder, Borderline personality disorder (BPD) and other personality disorders, Schizoaffective disorder. If you experience low mood or suicidal thoughts, this might be the reason you first speak to your doctor about your mental health. And your doctor might offer you treatment for depression without realising that you also health. And your doctor might offer you treatment for depression without realising that you also experience other symptoms. If you think you're experiencing other symptoms, you can talk to your doctor about this to make sure you're getting the right treatment.\n",
      "\n",
      "\n"
     ]
    },
    {
     "name": "stderr",
     "output_type": "stream",
     "text": [
      "Token indices sequence length is longer than the specified maximum sequence length for this model (1055 > 512). Running this sequence through the model will result in indexing errors\n"
     ]
    },
    {
     "name": "stdout",
     "output_type": "stream",
     "text": [
      "====================================================================================================\n",
      "LLM Response\n",
      "Persistent depressive disorder\n",
      "====================================================================================================\n",
      "Collection name: nhs_collection\n",
      "\u001b[1;35mLoad pretrained SentenceTransformer: hkunlp/instructor-base\u001b[0m\n",
      "load INSTRUCTOR_Transformer\n",
      "max_seq_length  512\n",
      "====================================================================================================\n",
      "LLM prompt\n",
      "Question: Are there different types of depressions?\n",
      "\n",
      "Context: you get symptoms and how bad they are how long depression lasts the impact on your daily life A few people with severe depression may have symptoms of psychosis . You'll usually be asked to answer a set of questions to help doctors assess how severe your condition is. Grief and depression It can be difficult to distinguish between grief and depression. They share many of the same characteristics, but there are important differences between them. Grief is an entirely natural response to a loss, while depression is an illness. People who are grieving may have symptoms of depression, but they usually improve with time. For some people, bereavement can lead to depression. If you're grieving it's normal to have feelings of sadness. Some other symptoms of depression are rare with grief and bereavement, such as having suicidal thoughts, symptoms of psychosis and feeling hopeless or guilt-ridden. Other types of depression There are different types of depression, and some conditions where depression may be one of the symptoms. These include: postnatal depression – sometimes new mothers, fathers or partners develop depression after they have a baby; this is known as postnatal depression and it's treated in a similar way to other types of depression, with talking therapies and antidepressant medicines bipolar disorder – also known as \"manic depression\", in bipolar disorder there are spells of both depression and excessively high mood (mania); the depression symptoms are similar to depression, but the bouts of mania can include harmful behaviour, such as gambling, going on spending sprees and having unsafe sex seasonal affective disorder (SAD) – also known as \"winter depression\", SAD is a type of depression with a seasonal pattern usually related to winter premenstrual dysphoric disorder (PMDD) – a severe type of premenstrual syndrome (PMS) where you have symptoms including feelings of depression and anxiety in the weeks before your period. When to seek help See a GP if you Overview - Depression in adults Depression is more than simply feeling unhappy or fed up for a few days. Most people go through periods of feeling down, but when you're depressed you feel persistently sad for weeks or months, rather than just a few days. Some people think depression is trivial and not a genuine health condition. They're wrong – it is a real illness with real symptoms. Depression is not a sign of weakness or something you can \"snap out of\" by \"pulling yourself together\". The good news is that with the right treatment and support, most people with depression can make a full recovery. These pages are about depression in adults. Read about depression in children and young people. How to tell if you have depression Depression affects people in different ways and can cause a wide variety of symptoms. They range from lasting feelings of unhappiness and hopelessness, to losing interest in the things you used to enjoy and feeling very tearful. Many people with depression also have symptoms of anxiety . There can be physical symptoms too, such as feeling constantly tired, sleeping badly, having no appetite or sex drive, and various aches and pains. The symptoms of depression range from mild to severe. At its mildest, you may simply feel persistently low in spirit, while severe depression can make you feel suicidal, that life is no longer worth living. Most people experience feelings of stress, anxiety or low mood during difficult times. A low mood may improve after a short period of time, rather than being a sign of depression. When to see a doctor It's important to seek help from a GP if you think you may be depressed. Many people wait a long time before seeking help for depression, but it's best not to delay. The sooner you see a doctor, the sooner you can be on the way to recovery. What causes depression? Sometimes there's a trigger for depression. Life-changing events, such as bereavement, losing your job or giving birth, can bring it on. People with a events, such as bereavement, losing your job or giving birth, can bring it on. People with a family history of depression are more likely to experience it themselves. But you can also become depressed for no obvious reason. Treating depression Treatment for depression can involve a combination of lifestyle changes, talking therapies and medicine. Your recommended treatment will be based on how severe your depression is. If you have mild depression, your doctor may suggest waiting to see whether it improves on its own, while monitoring your progress. This is known as \"watchful waiting\". They may also suggest lifestyle measures such as exercise and guided self-help. Talking therapies, such as cognitive behavioural therapy (CBT) , may also be used for mild depression. For moderate to severe depression, a combination of talking therapy and antidepressants is often recommended. If you have severe depression, you may be referred to a specialist mental health team for intensive specialist talking treatments and prescribed medicine. Living with depression Many people with depression benefit by making lifestyle changes, such as getting more exercise , cutting down on alcohol , giving up smoking and eating healthily . Reading a self-help book or joining a support group are also worthwhile. They can help you gain a better understanding about what causes you to feel depressed. Sharing your experiences with others in a similar situation can also be very supportive. Information: Social care and support guide If you: need help with day-to-day living because of illness or disability care for someone regularly because they're ill or disabled, or because of their age – including family members Our social care and support guide explains your options and where you can get support. Symptoms - Depression in adults The symptoms of depression can be complex and vary widely between people. If you're depressed, you may feel sad, hopeless and lose interest in things you used to enjoy. The symptoms persist for weeks or months and are bad enough to interfere with your work, social life and family life. There are many other symptoms of depression and you're unlikely to have all of those listed on this page. Psychological symptoms The psychological symptoms of depression include: continuous low mood or sadness feeling hopeless and helpless having low self-esteem feeling tearful feeling guilt-ridden feeling irritable and intolerant of others having no motivation or interest in things finding it difficult to make decisions not getting any enjoyment out of life feeling anxious or worried having suicidal thoughts or thoughts of harming yourself. Physical symptoms The physical symptoms of depression include: moving or speaking more slowly than usual changes in appetite or weight (usually decreased, but sometimes increased) constipation unexplained aches and pains lack of energy low sex drive ( loss of libido ) disturbed sleep – for example, finding it difficult to fall asleep at night or waking up very early in the morning. Social symptoms The social symptoms of depression include: avoiding contact with friends and taking part in fewer social activities neglecting your hobbies and interests having difficulties in your home, work or family life. Severities of depression Depression can often come on gradually, so it can be difficult to notice something is wrong. Many people try to cope with their symptoms without realising they're unwell. It can sometimes take a friend or family member to suggest something is wrong. Doctors describe depression in adults as either less severe (mild) or more severe (moderate or severe), based on: the symptoms, including how often you get symptoms and how bad they are how long depression lasts the impact on your daily life A few\n",
      "\n",
      "\n"
     ]
    },
    {
     "name": "stderr",
     "output_type": "stream",
     "text": [
      "Token indices sequence length is longer than the specified maximum sequence length for this model (1651 > 512). Running this sequence through the model will result in indexing errors\n"
     ]
    },
    {
     "name": "stdout",
     "output_type": "stream",
     "text": [
      "====================================================================================================\n",
      "LLM Response\n",
      "There are different types of depression, and some conditions where depression may be one of the symptoms. These include: postnatal depression – sometimes new mothers, fathers or partners develop depression after they have a baby; this is known as postnatal depression and it's treated in a similar way to other types of depression, with talking therapies and antidepressant medicines bipolar disorder – also known as \"manic depression\", in bipolar disorder there are spells of both depression and excessively high mood (mania); the depression symptoms are similar to depression, but the bouts of mania can include harmful behaviour, such as gambling, going on spending sprees and having unsafe sex seasonal affective disorder (SAD) – also known as \"winter depression\", SAD is a severe type of premenstrual syndrome (PMS) where you have symptoms including feelings of stress, anxiety or low mood during difficult times.\n",
      "====================================================================================================\n"
     ]
    }
   ],
   "source": [
    "results_df = get_llm_prompt_response(QUESTIONS, enable_chunking = True, is_new_experiment = True, chunk_size = 2000, chunk_overlap = 100)"
   ]
  },
  {
   "cell_type": "code",
   "execution_count": 52,
   "id": "0d97f1db-62df-4805-9201-68d248029c3c",
   "metadata": {},
   "outputs": [
    {
     "data": {
      "text/html": [
       "<div>\n",
       "<style scoped>\n",
       "    .dataframe tbody tr th:only-of-type {\n",
       "        vertical-align: middle;\n",
       "    }\n",
       "\n",
       "    .dataframe tbody tr th {\n",
       "        vertical-align: top;\n",
       "    }\n",
       "\n",
       "    .dataframe thead th {\n",
       "        text-align: right;\n",
       "    }\n",
       "</style>\n",
       "<table border=\"1\" class=\"dataframe\">\n",
       "  <thead>\n",
       "    <tr style=\"text-align: right;\">\n",
       "      <th></th>\n",
       "      <th>mind_response</th>\n",
       "      <th>nhs_response</th>\n",
       "      <th>question</th>\n",
       "    </tr>\n",
       "  </thead>\n",
       "  <tbody>\n",
       "    <tr>\n",
       "      <th>0</th>\n",
       "      <td>It's a mental health problem that involves having a low mood or losing interest and enjoyment in things.</td>\n",
       "      <td>Depression is more than simply feeling unhappy or fed up for a few days. Most people go through periods of feeling down, but when you're depressed you feel persistently sad for weeks or months, rather than just a few days. Some people think depression is trivial and not a genuine health condition. They're wrong – it is a real illness with real symptoms. Depression is not a sign of weakness or something you can \"snap out of\" by \"pulling yourself together\".</td>\n",
       "      <td>Can you tell me about depression?</td>\n",
       "    </tr>\n",
       "    <tr>\n",
       "      <th>1</th>\n",
       "      <td>other symptoms. If you think you're experiencing other symptoms, you can talk to your doctor about this to make sure you're getting the right treatment.</td>\n",
       "      <td>Get more exercise and cut down on alcohol</td>\n",
       "      <td>What lifestyle changes are suggested for depression?</td>\n",
       "    </tr>\n",
       "    <tr>\n",
       "      <th>2</th>\n",
       "      <td>Persistent depressive disorder</td>\n",
       "      <td>There are different types of depression, and some conditions where depression may be one of the symptoms. These include: postnatal depression – sometimes new mothers, fathers or partners develop depression after they have a baby; this is known as postnatal depression and it's treated in a similar way to other types of depression, with talking therapies and antidepressant medicines bipolar disorder – also known as \"manic depression\", in bipolar disorder there are spells of both depression and excessively high mood (mania); the depression symptoms are similar to depression, but the bouts of mania can include harmful behaviour, such as gambling, going on spending sprees and having unsafe sex seasonal affective disorder (SAD) – also known as \"winter depression\", SAD is a severe type of pre...</td>\n",
       "      <td>Are there different types of depressions?</td>\n",
       "    </tr>\n",
       "  </tbody>\n",
       "</table>\n",
       "</div>"
      ],
      "text/plain": [
       "                                                                                                                                              mind_response  \\\n",
       "0                                                  It's a mental health problem that involves having a low mood or losing interest and enjoyment in things.   \n",
       "1  other symptoms. If you think you're experiencing other symptoms, you can talk to your doctor about this to make sure you're getting the right treatment.   \n",
       "2                                                                                                                            Persistent depressive disorder   \n",
       "\n",
       "                                                                                                                                                                                                                                                                                                                                                                                                                                                                                                                                                                                                                                                                                                                                                                                                                      nhs_response  \\\n",
       "0                                                                                                                                                                                                                                                                                                                                                      Depression is more than simply feeling unhappy or fed up for a few days. Most people go through periods of feeling down, but when you're depressed you feel persistently sad for weeks or months, rather than just a few days. Some people think depression is trivial and not a genuine health condition. They're wrong – it is a real illness with real symptoms. Depression is not a sign of weakness or something you can \"snap out of\" by \"pulling yourself together\".   \n",
       "1                                                                                                                                                                                                                                                                                                                                                                                                                                                                                                                                                                                                                                                                                                                                                                                        Get more exercise and cut down on alcohol   \n",
       "2  There are different types of depression, and some conditions where depression may be one of the symptoms. These include: postnatal depression – sometimes new mothers, fathers or partners develop depression after they have a baby; this is known as postnatal depression and it's treated in a similar way to other types of depression, with talking therapies and antidepressant medicines bipolar disorder – also known as \"manic depression\", in bipolar disorder there are spells of both depression and excessively high mood (mania); the depression symptoms are similar to depression, but the bouts of mania can include harmful behaviour, such as gambling, going on spending sprees and having unsafe sex seasonal affective disorder (SAD) – also known as \"winter depression\", SAD is a severe type of pre...   \n",
       "\n",
       "                                               question  \n",
       "0                     Can you tell me about depression?  \n",
       "1  What lifestyle changes are suggested for depression?  \n",
       "2             Are there different types of depressions?  "
      ]
     },
     "execution_count": 52,
     "metadata": {},
     "output_type": "execute_result"
    }
   ],
   "source": [
    "results_df"
   ]
  },
  {
   "cell_type": "code",
   "execution_count": null,
   "id": "6d92ad14-7235-4aff-82e7-db62789c3dac",
   "metadata": {},
   "outputs": [],
   "source": []
  },
  {
   "cell_type": "code",
   "execution_count": 12,
   "id": "e8e5e25c-f2dd-4b6d-adb7-db1559863b0c",
   "metadata": {},
   "outputs": [
    {
     "name": "stdout",
     "output_type": "stream",
     "text": [
      "Found 2 collections\n",
      "\u001b[1;35mLoad pretrained SentenceTransformer: hkunlp/instructor-base\u001b[0m\n",
      "load INSTRUCTOR_Transformer\n",
      "max_seq_length  512\n",
      "Inserting data into collection nhs_collection\n",
      "Chunking enabled = True\n",
      "Using chunk_size=700 and chunk_overlap=50\n",
      "Inserting data into collection mind_collection\n",
      "Chunking enabled = True\n",
      "Using chunk_size=700 and chunk_overlap=50\n",
      "Time taken to insert data in chroma store 2.5272354089993314 sec\n",
      "Collection name: mind_collection\n",
      "\u001b[1;35mLoad pretrained SentenceTransformer: hkunlp/instructor-base\u001b[0m\n",
      "load INSTRUCTOR_Transformer\n",
      "max_seq_length  512\n",
      "====================================================================================================\n",
      "LLM prompt\n",
      "Question: Can you tell me about depression?\n",
      "\n",
      "Context: Depression Learn about depression, its symptoms and possible causes, and how you can access treatment and support. Find tips on caring for yourself, and guidance for friends and family.  What is depression? Depression is a mental health problem that involves having a low mood or losing interest and enjoyment in things. It can also cause a range of other changes to how you feel or behave.  The symptoms you experience may vary. How intense they are, how long they last, and how much they affect your daily life can also vary.  If you experience milder depression, you might have low mood but still be able to carry on with your daily life. But things may feel harder and less worthwhile.  If you could lead to you feeling isolated and lonely. It feels like I'm stuck under a huge grey-black cloud. It's dark and isolating, smothering me at every opportunity. Can depression be a symptom of other mental health problems? Symptoms of depression can also be part of other mental health problems, such as: Bipolar disorder, Borderline personality disorder (BPD) and other personality disorders, Schizoaffective disorder. If you experience low mood or suicidal thoughts, this might be the reason you first speak to your doctor about your mental health. And your doctor might offer you treatment for depression without realising that you also experience other symptoms. If you think you're Common signs and symptoms of depression These are some common signs of depression that you may experience:  How you might feel Down, upset or tearful Restless, agitated or irritable Guilty, worthless and down on yourself Empty and numb Isolated and unable to relate to other people Finding no pleasure in life or things you usually enjoy Angry or frustrated over minor things A sense of unreality No self-confidence or self-esteem Hopeless and despairing Feeling tired all the time How you might act Avoiding social events and activities you usually enjoy Self-harming or suicidal behaviour Difficulty speaking, thinking clearly or making decisions Losing interest in sex Difficulty remembering or that experiencing psychotic symptoms could mean you’re given a diagnosis that doesn’t feel right for you. But discussing all of your symptoms with your doctor can help you get the right support and treatment. How might depression affect my day-to-day life? If you have depression, you might find that it interferes with different aspects of your life. For example, it might affect your ability to work, your relationships, or managing your finances. This can add extra stress to an already difficult experience. It may also feel hard to explain your thoughts and feelings to others. You might want to cut yourself off from other people instead. This could lead to you feeling isolated and lonely. It\n",
      "\n",
      "\n"
     ]
    },
    {
     "name": "stderr",
     "output_type": "stream",
     "text": [
      "Token indices sequence length is longer than the specified maximum sequence length for this model (608 > 512). Running this sequence through the model will result in indexing errors\n"
     ]
    },
    {
     "name": "stdout",
     "output_type": "stream",
     "text": [
      "====================================================================================================\n",
      "LLM Response\n",
      "It's dark and isolating, smothering me at every opportunity.\n",
      "====================================================================================================\n",
      "Collection name: nhs_collection\n",
      "\u001b[1;35mLoad pretrained SentenceTransformer: hkunlp/instructor-base\u001b[0m\n",
      "load INSTRUCTOR_Transformer\n",
      "max_seq_length  512\n",
      "====================================================================================================\n",
      "LLM prompt\n",
      "Question: Can you tell me about depression?\n",
      "\n",
      "Context: Read about depression in children and young people. How to tell if you have depression Depression affects people in different ways and can cause a wide variety of symptoms. They range from lasting feelings of unhappiness and hopelessness, to losing interest in the things you used to enjoy and feeling very tearful. Many people with depression also have symptoms of anxiety . There can be physical symptoms too, such as feeling constantly tired, sleeping badly, having no appetite or sex drive, and various aches and pains. The symptoms of depression range from mild to severe. At its mildest, you may simply feel persistently low in spirit, while severe depression can make you feel suicidal, that of others having no motivation or interest in things finding it difficult to make decisions not getting any enjoyment out of life feeling anxious or worried having suicidal thoughts or thoughts of harming yourself. Physical symptoms The physical symptoms of depression include: moving or speaking more slowly than usual changes in appetite or weight (usually decreased, but sometimes increased) constipation unexplained aches and pains lack of energy low sex drive ( loss of libido ) disturbed sleep – for example, finding it difficult to fall asleep at night or waking up very early in the morning. Social symptoms The social symptoms of depression include: avoiding contact with friends and taking Overview - Depression in adults Depression is more than simply feeling unhappy or fed up for a few days. Most people go through periods of feeling down, but when you're depressed you feel persistently sad for weeks or months, rather than just a few days. Some people think depression is trivial and not a genuine health condition. They're wrong – it is a real illness with real symptoms. Depression is not a sign of weakness or something you can \"snap out of\" by \"pulling yourself together\". The good news is that with the right treatment and support, most people with depression can make a full recovery. These pages are about depression in adults. Read about depression in children and young lasts the impact on your daily life A few people with severe depression may have symptoms of psychosis . You'll usually be asked to answer a set of questions to help doctors assess how severe your condition is. Grief and depression It can be difficult to distinguish between grief and depression. They share many of the same characteristics, but there are important differences between them. Grief is an entirely natural response to a loss, while depression is an illness. People who are grieving may have symptoms of depression, but they usually improve with time. For some people, bereavement can lead to depression. If you're grieving it's normal to have feelings of sadness. Some other symptoms\n",
      "\n",
      "\n"
     ]
    },
    {
     "name": "stderr",
     "output_type": "stream",
     "text": [
      "Token indices sequence length is longer than the specified maximum sequence length for this model (597 > 512). Running this sequence through the model will result in indexing errors\n"
     ]
    },
    {
     "name": "stdout",
     "output_type": "stream",
     "text": [
      "====================================================================================================\n",
      "LLM Response\n",
      "Depression affects people in different ways and can cause a wide variety of symptoms. They range from lasting feelings of unhappiness and hopelessness, to losing interest in the things you used to enjoy and feeling very tearful.\n",
      "====================================================================================================\n",
      "Collection name: mind_collection\n",
      "\u001b[1;35mLoad pretrained SentenceTransformer: hkunlp/instructor-base\u001b[0m\n",
      "load INSTRUCTOR_Transformer\n",
      "max_seq_length  512\n",
      "====================================================================================================\n",
      "LLM prompt\n",
      "Question: What lifestyle changes are suggested for depression?\n",
      "\n",
      "Context: Losing interest in sex Difficulty remembering or concentrating on things Using more tobacco, alcohol or other drugs than usual Difficulty sleeping, or sleeping too much No appetite and losing weight, or eating more than usual and gaining weight Physical aches and pains with no obvious physical cause Moving very slowly, or being restless and agitated It felt like I was really tired, all the time. I had no energy or emotion about anything. Anxiety It's very common to experience depression and anxiety together. Some symptoms of depression can also be symptoms of anxiety, for example: Feeling restless, Finding it difficult to concentrate, Struggling to sleep I flit between states of anxiety and could lead to you feeling isolated and lonely. It feels like I'm stuck under a huge grey-black cloud. It's dark and isolating, smothering me at every opportunity. Can depression be a symptom of other mental health problems? Symptoms of depression can also be part of other mental health problems, such as: Bipolar disorder, Borderline personality disorder (BPD) and other personality disorders, Schizoaffective disorder. If you experience low mood or suicidal thoughts, this might be the reason you first speak to your doctor about your mental health. And your doctor might offer you treatment for depression without realising that you also experience other symptoms. If you think you're Depression Learn about depression, its symptoms and possible causes, and how you can access treatment and support. Find tips on caring for yourself, and guidance for friends and family.  What is depression? Depression is a mental health problem that involves having a low mood or losing interest and enjoyment in things. It can also cause a range of other changes to how you feel or behave.  The symptoms you experience may vary. How intense they are, how long they last, and how much they affect your daily life can also vary.  If you experience milder depression, you might have low mood but still be able to carry on with your daily life. But things may feel harder and less worthwhile.  If you that experiencing psychotic symptoms could mean you’re given a diagnosis that doesn’t feel right for you. But discussing all of your symptoms with your doctor can help you get the right support and treatment. How might depression affect my day-to-day life? If you have depression, you might find that it interferes with different aspects of your life. For example, it might affect your ability to work, your relationships, or managing your finances. This can add extra stress to an already difficult experience. It may also feel hard to explain your thoughts and feelings to others. You might want to cut yourself off from other people instead. This could lead to you feeling isolated and lonely. It\n",
      "\n",
      "\n"
     ]
    },
    {
     "name": "stderr",
     "output_type": "stream",
     "text": [
      "Token indices sequence length is longer than the specified maximum sequence length for this model (603 > 512). Running this sequence through the model will result in indexing errors\n"
     ]
    },
    {
     "name": "stdout",
     "output_type": "stream",
     "text": [
      "====================================================================================================\n",
      "LLM Response\n",
      "Using more tobacco, alcohol or other drugs than usual Difficulty sleeping, or sleeping too much No appetite and losing weight, or eating more than usual and gaining weight Physical aches and pains with no obvious physical cause Moving very slowly, or being restless and agitated It felt like I was really tired, all the time. I had no energy or emotion about anything. Anxiety It's very common to experience depression and anxiety together.\n",
      "====================================================================================================\n",
      "Collection name: nhs_collection\n",
      "\u001b[1;35mLoad pretrained SentenceTransformer: hkunlp/instructor-base\u001b[0m\n",
      "load INSTRUCTOR_Transformer\n",
      "max_seq_length  512\n",
      "====================================================================================================\n",
      "LLM prompt\n",
      "Question: What lifestyle changes are suggested for depression?\n",
      "\n",
      "Context: behavioural therapy (CBT) , may also be used for mild depression. For moderate to severe depression, a combination of talking therapy and antidepressants is often recommended. If you have severe depression, you may be referred to a specialist mental health team for intensive specialist talking treatments and prescribed medicine. Living with depression Many people with depression benefit by making lifestyle changes, such as getting more exercise , cutting down on alcohol , giving up smoking and eating healthily . Reading a self-help book or joining a support group are also worthwhile. They can help you gain a better understanding about what causes you to feel depressed. Sharing your of others having no motivation or interest in things finding it difficult to make decisions not getting any enjoyment out of life feeling anxious or worried having suicidal thoughts or thoughts of harming yourself. Physical symptoms The physical symptoms of depression include: moving or speaking more slowly than usual changes in appetite or weight (usually decreased, but sometimes increased) constipation unexplained aches and pains lack of energy low sex drive ( loss of libido ) disturbed sleep – for example, finding it difficult to fall asleep at night or waking up very early in the morning. Social symptoms The social symptoms of depression include: avoiding contact with friends and taking birth, can bring it on. People with a family history of depression are more likely to experience it themselves. But you can also become depressed for no obvious reason. Treating depression Treatment for depression can involve a combination of lifestyle changes, talking therapies and medicine. Your recommended treatment will be based on how severe your depression is. If you have mild depression, your doctor may suggest waiting to see whether it improves on its own, while monitoring your progress. This is known as \"watchful waiting\". They may also suggest lifestyle measures such as exercise and guided self-help. Talking therapies, such as cognitive behavioural therapy (CBT) , may also be used include: avoiding contact with friends and taking part in fewer social activities neglecting your hobbies and interests having difficulties in your home, work or family life. Severities of depression Depression can often come on gradually, so it can be difficult to notice something is wrong. Many people try to cope with their symptoms without realising they're unwell. It can sometimes take a friend or family member to suggest something is wrong. Doctors describe depression in adults as either less severe (mild) or more severe (moderate or severe), based on: the symptoms, including how often you get symptoms and how bad they are how long depression lasts the impact on your daily life A few\n",
      "\n",
      "\n"
     ]
    },
    {
     "name": "stderr",
     "output_type": "stream",
     "text": [
      "Token indices sequence length is longer than the specified maximum sequence length for this model (574 > 512). Running this sequence through the model will result in indexing errors\n"
     ]
    },
    {
     "name": "stdout",
     "output_type": "stream",
     "text": [
      "====================================================================================================\n",
      "LLM Response\n",
      "getting more exercise , cutting down on alcohol , giving up smoking and eating healthily\n",
      "====================================================================================================\n",
      "Collection name: mind_collection\n",
      "\u001b[1;35mLoad pretrained SentenceTransformer: hkunlp/instructor-base\u001b[0m\n",
      "load INSTRUCTOR_Transformer\n",
      "max_seq_length  512\n",
      "====================================================================================================\n",
      "LLM prompt\n",
      "Question: Are there different types of depressions?\n",
      "\n",
      "Context: If you're diagnosed with depression, you might also be told that it is ‘less severe’ or ‘more severe’. This describes how your symptoms are affecting you, and what treatment you're likely to be offered. You may find that the severity of your depression changes over time.  Sometimes you might hear depression being called ‘major depressive disorder’. There are some other types of depression too:  Persistent depressive disorder (PDD). PDD is continuous depression that lasts for two years or more. You may also hear it called dysthymia or chronic depression. Seasonal affective disorder (SAD). SAD is depression that occurs at a particular time of year, or during a particular season. See our page may feel harder and less worthwhile.  If you have more severe depression, you might find day-to-day life much more difficult. You may also experience suicidal feelings.  It starts as sadness then I feel myself shutting down, becoming less capable of coping. Eventually, I just feel numb and empty.  When does low mood become depression? We all have times when our mood is low, and we feel sad or fed up. Often these feelings happen for a reason and pass on their own.  But it might be depression if the feelings become so bad that they interfere with our daily life. Or if they last for several weeks or months.  Are there different types of depression? If you're diagnosed with depression, you could lead to you feeling isolated and lonely. It feels like I'm stuck under a huge grey-black cloud. It's dark and isolating, smothering me at every opportunity. Can depression be a symptom of other mental health problems? Symptoms of depression can also be part of other mental health problems, such as: Bipolar disorder, Borderline personality disorder (BPD) and other personality disorders, Schizoaffective disorder. If you experience low mood or suicidal thoughts, this might be the reason you first speak to your doctor about your mental health. And your doctor might offer you treatment for depression without realising that you also experience other symptoms. If you think you're year, or during a particular season. See our page on SAD for more information. Antenatal depression. This is depression that occurs while you are pregnant. It is sometimes called prenatal depression. Postnatal depression (PND). This is depression that occurs in the first year after having a baby. This can include affecting dads and partners. Premenstrual dysphoric disorder (PMDD). This is a hormone-related disorder that affects your body but also how you feel. This can involve experiencing depression. So your doctor may describe this as a mental health problem.\n",
      "\n",
      "\n"
     ]
    },
    {
     "name": "stderr",
     "output_type": "stream",
     "text": [
      "Token indices sequence length is longer than the specified maximum sequence length for this model (604 > 512). Running this sequence through the model will result in indexing errors\n"
     ]
    },
    {
     "name": "stdout",
     "output_type": "stream",
     "text": [
      "====================================================================================================\n",
      "LLM Response\n",
      "There are some other types of depression too: Persistent depressive disorder (PDD). PDD is continuous depression that lasts for two years or more. You may also hear it called dysthymia or chronic depression.\n",
      "====================================================================================================\n",
      "Collection name: nhs_collection\n",
      "\u001b[1;35mLoad pretrained SentenceTransformer: hkunlp/instructor-base\u001b[0m\n",
      "load INSTRUCTOR_Transformer\n",
      "max_seq_length  512\n",
      "====================================================================================================\n",
      "LLM prompt\n",
      "Question: Are there different types of depressions?\n",
      "\n",
      "Context: to have feelings of sadness. Some other symptoms of depression are rare with grief and bereavement, such as having suicidal thoughts, symptoms of psychosis and feeling hopeless or guilt-ridden. Other types of depression There are different types of depression, and some conditions where depression may be one of the symptoms. These include: postnatal depression – sometimes new mothers, fathers or partners develop depression after they have a baby; this is known as postnatal depression and it's treated in a similar way to other types of depression, with talking therapies and antidepressant medicines bipolar disorder – also known as \"manic depression\", in bipolar disorder there are spells of in bipolar disorder there are spells of both depression and excessively high mood (mania); the depression symptoms are similar to depression, but the bouts of mania can include harmful behaviour, such as gambling, going on spending sprees and having unsafe sex seasonal affective disorder (SAD) – also known as \"winter depression\", SAD is a type of depression with a seasonal pattern usually related to winter premenstrual dysphoric disorder (PMDD) – a severe type of premenstrual syndrome (PMS) where you have symptoms including feelings of depression and anxiety in the weeks before your period. When to seek help See a GP if you experience symptoms of depression for most of the day, every day, lasts the impact on your daily life A few people with severe depression may have symptoms of psychosis . You'll usually be asked to answer a set of questions to help doctors assess how severe your condition is. Grief and depression It can be difficult to distinguish between grief and depression. They share many of the same characteristics, but there are important differences between them. Grief is an entirely natural response to a loss, while depression is an illness. People who are grieving may have symptoms of depression, but they usually improve with time. For some people, bereavement can lead to depression. If you're grieving it's normal to have feelings of sadness. Some other symptoms Read about depression in children and young people. How to tell if you have depression Depression affects people in different ways and can cause a wide variety of symptoms. They range from lasting feelings of unhappiness and hopelessness, to losing interest in the things you used to enjoy and feeling very tearful. Many people with depression also have symptoms of anxiety . There can be physical symptoms too, such as feeling constantly tired, sleeping badly, having no appetite or sex drive, and various aches and pains. The symptoms of depression range from mild to severe. At its mildest, you may simply feel persistently low in spirit, while severe depression can make you feel suicidal, that\n",
      "\n",
      "\n"
     ]
    },
    {
     "name": "stderr",
     "output_type": "stream",
     "text": [
      "Token indices sequence length is longer than the specified maximum sequence length for this model (612 > 512). Running this sequence through the model will result in indexing errors\n"
     ]
    },
    {
     "name": "stdout",
     "output_type": "stream",
     "text": [
      "====================================================================================================\n",
      "LLM Response\n",
      "There are different types of depression, and some conditions where depression may be one of the symptoms. These include:\n",
      "====================================================================================================\n"
     ]
    }
   ],
   "source": [
    "results_df = get_llm_prompt_response(QUESTIONS, enable_chunking = True, is_new_experiment = True, chunk_size = 700, chunk_overlap = 50)"
   ]
  },
  {
   "cell_type": "code",
   "execution_count": 13,
   "id": "a58a3c87-3f84-499c-b159-961aa73a9bea",
   "metadata": {},
   "outputs": [
    {
     "data": {
      "text/html": [
       "<div>\n",
       "<style scoped>\n",
       "    .dataframe tbody tr th:only-of-type {\n",
       "        vertical-align: middle;\n",
       "    }\n",
       "\n",
       "    .dataframe tbody tr th {\n",
       "        vertical-align: top;\n",
       "    }\n",
       "\n",
       "    .dataframe thead th {\n",
       "        text-align: right;\n",
       "    }\n",
       "</style>\n",
       "<table border=\"1\" class=\"dataframe\">\n",
       "  <thead>\n",
       "    <tr style=\"text-align: right;\">\n",
       "      <th></th>\n",
       "      <th>mind_response</th>\n",
       "      <th>nhs_response</th>\n",
       "      <th>question</th>\n",
       "    </tr>\n",
       "  </thead>\n",
       "  <tbody>\n",
       "    <tr>\n",
       "      <th>0</th>\n",
       "      <td>It's dark and isolating, smothering me at every opportunity.</td>\n",
       "      <td>Depression affects people in different ways and can cause a wide variety of symptoms. They range from lasting feelings of unhappiness and hopelessness, to losing interest in the things you used to enjoy and feeling very tearful.</td>\n",
       "      <td>Can you tell me about depression?</td>\n",
       "    </tr>\n",
       "    <tr>\n",
       "      <th>1</th>\n",
       "      <td>Using more tobacco, alcohol or other drugs than usual Difficulty sleeping, or sleeping too much No appetite and losing weight, or eating more than usual and gaining weight Physical aches and pains with no obvious physical cause Moving very slowly, or being restless and agitated It felt like I was really tired, all the time. I had no energy or emotion about anything. Anxiety It's very common to experience depression and anxiety together.</td>\n",
       "      <td>getting more exercise , cutting down on alcohol , giving up smoking and eating healthily</td>\n",
       "      <td>What lifestyle changes are suggested for depression?</td>\n",
       "    </tr>\n",
       "    <tr>\n",
       "      <th>2</th>\n",
       "      <td>There are some other types of depression too: Persistent depressive disorder (PDD). PDD is continuous depression that lasts for two years or more. You may also hear it called dysthymia or chronic depression.</td>\n",
       "      <td>There are different types of depression, and some conditions where depression may be one of the symptoms. These include:</td>\n",
       "      <td>Are there different types of depressions?</td>\n",
       "    </tr>\n",
       "  </tbody>\n",
       "</table>\n",
       "</div>"
      ],
      "text/plain": [
       "                                                                                                                                                                                                                                                                                                                                                                                                                                              mind_response  \\\n",
       "0                                                                                                                                                                                                                                                                                                                                                                                              It's dark and isolating, smothering me at every opportunity.   \n",
       "1  Using more tobacco, alcohol or other drugs than usual Difficulty sleeping, or sleeping too much No appetite and losing weight, or eating more than usual and gaining weight Physical aches and pains with no obvious physical cause Moving very slowly, or being restless and agitated It felt like I was really tired, all the time. I had no energy or emotion about anything. Anxiety It's very common to experience depression and anxiety together.   \n",
       "2                                                                                                                                                                                                                                           There are some other types of depression too: Persistent depressive disorder (PDD). PDD is continuous depression that lasts for two years or more. You may also hear it called dysthymia or chronic depression.   \n",
       "\n",
       "                                                                                                                                                                                                                           nhs_response  \\\n",
       "0  Depression affects people in different ways and can cause a wide variety of symptoms. They range from lasting feelings of unhappiness and hopelessness, to losing interest in the things you used to enjoy and feeling very tearful.   \n",
       "1                                                                                                                                              getting more exercise , cutting down on alcohol , giving up smoking and eating healthily   \n",
       "2                                                                                                              There are different types of depression, and some conditions where depression may be one of the symptoms. These include:   \n",
       "\n",
       "                                               question  \n",
       "0                     Can you tell me about depression?  \n",
       "1  What lifestyle changes are suggested for depression?  \n",
       "2             Are there different types of depressions?  "
      ]
     },
     "execution_count": 13,
     "metadata": {},
     "output_type": "execute_result"
    }
   ],
   "source": [
    "results_df"
   ]
  },
  {
   "cell_type": "code",
   "execution_count": 31,
   "id": "c08a63fe-64ae-4f16-9d0a-87c3d9896acb",
   "metadata": {},
   "outputs": [
    {
     "name": "stdout",
     "output_type": "stream",
     "text": [
      "Found 2 collections\n",
      "\u001b[1;35mLoad pretrained SentenceTransformer: hkunlp/instructor-base\u001b[0m\n",
      "load INSTRUCTOR_Transformer\n",
      "max_seq_length  512\n",
      "Inserting data into collection nhs_collection\n",
      "Chunking enabled = True\n",
      "Using chunk_size=780 and chunk_overlap=50\n",
      "Inserting data into collection mind_collection\n",
      "Chunking enabled = True\n",
      "Using chunk_size=780 and chunk_overlap=50\n",
      "Time taken to insert data in chroma store 2.3054386250005336 sec\n",
      "Collection name: mind_collection\n",
      "\u001b[1;35mLoad pretrained SentenceTransformer: hkunlp/instructor-base\u001b[0m\n",
      "load INSTRUCTOR_Transformer\n",
      "max_seq_length  512\n",
      "====================================================================================================\n",
      "LLM prompt\n",
      "Question: Can you tell me about depression?\n",
      "\n",
      "Context: with different aspects of your life. For example, it might affect your ability to work, your relationships, or managing your finances. This can add extra stress to an already difficult experience. It may also feel hard to explain your thoughts and feelings to others. You might want to cut yourself off from other people instead. This could lead to you feeling isolated and lonely. It feels like I'm stuck under a huge grey-black cloud. It's dark and isolating, smothering me at every opportunity. Can depression be a symptom of other mental health problems? Symptoms of depression can also be part of other mental health problems, such as: Bipolar disorder, Borderline personality disorder (BPD) and other personality disorders, Schizoaffective disorder. If you experience low Depression Learn about depression, its symptoms and possible causes, and how you can access treatment and support. Find tips on caring for yourself, and guidance for friends and family.  What is depression? Depression is a mental health problem that involves having a low mood or losing interest and enjoyment in things. It can also cause a range of other changes to how you feel or behave.  The symptoms you experience may vary. How intense they are, how long they last, and how much they affect your daily life can also vary.  If you experience milder depression, you might have low mood but still be able to carry on with your daily life. But things may feel harder and less worthwhile.  If you have more severe depression, you might find day-to-day life much more difficult. and feelings. This may include experiencing delusions relating to feelings of guilt. For example, you might become convinced that you've committed a crime. These kinds of experiences can feel very real at the time. This might make it hard to understand that these experiences are also symptoms of your depression. And they can be frightening or upsetting, so it's important to seek treatment and support. You might worry that experiencing psychotic symptoms could mean you’re given a diagnosis that doesn’t feel right for you. But discussing all of your symptoms with your doctor can help you get the right support and treatment. How might depression affect my day-to-day life? If you have depression, you might find that it interferes with different aspects of your life. For might find day-to-day life much more difficult. You may also experience suicidal feelings.  It starts as sadness then I feel myself shutting down, becoming less capable of coping. Eventually, I just feel numb and empty.  When does low mood become depression? We all have times when our mood is low, and we feel sad or fed up. Often these feelings happen for a reason and pass on their own.  But it might be depression if the feelings become so bad that they interfere with our daily life. Or if they last for several weeks or months.  Are there different types of depression? If you're diagnosed with depression, you might also be told that it is ‘less severe’ or ‘more severe’. This describes how your symptoms are affecting you, and what treatment you're likely to be offered.\n",
      "\n",
      "\n"
     ]
    },
    {
     "name": "stderr",
     "output_type": "stream",
     "text": [
      "Token indices sequence length is longer than the specified maximum sequence length for this model (678 > 512). Running this sequence through the model will result in indexing errors\n"
     ]
    },
    {
     "name": "stdout",
     "output_type": "stream",
     "text": [
      "====================================================================================================\n",
      "LLM Response\n",
      "It can also cause other mental health problems, such as: Bipolar disorder, Borderline personality disorder (BPD) and other personality disorders, Schizoaffective disorder.\n",
      "====================================================================================================\n",
      "Collection name: nhs_collection\n",
      "\u001b[1;35mLoad pretrained SentenceTransformer: hkunlp/instructor-base\u001b[0m\n",
      "load INSTRUCTOR_Transformer\n",
      "max_seq_length  512\n",
      "====================================================================================================\n",
      "LLM prompt\n",
      "Question: Can you tell me about depression?\n",
      "\n",
      "Context: Depression affects people in different ways and can cause a wide variety of symptoms. They range from lasting feelings of unhappiness and hopelessness, to losing interest in the things you used to enjoy and feeling very tearful. Many people with depression also have symptoms of anxiety . There can be physical symptoms too, such as feeling constantly tired, sleeping badly, having no appetite or sex drive, and various aches and pains. The symptoms of depression range from mild to severe. At its mildest, you may simply feel persistently low in spirit, while severe depression can make you feel suicidal, that life is no longer worth living. Most people experience feelings of stress, anxiety or low mood during difficult times. A low mood may improve after a short period of Overview - Depression in adults Depression is more than simply feeling unhappy or fed up for a few days. Most people go through periods of feeling down, but when you're depressed you feel persistently sad for weeks or months, rather than just a few days. Some people think depression is trivial and not a genuine health condition. They're wrong – it is a real illness with real symptoms. Depression is not a sign of weakness or something you can \"snap out of\" by \"pulling yourself together\". The good news is that with the right treatment and support, most people with depression can make a full recovery. These pages are about depression in adults. Read about depression in children and young people. How to tell if you have depression Depression affects people in different ways make decisions not getting any enjoyment out of life feeling anxious or worried having suicidal thoughts or thoughts of harming yourself. Physical symptoms The physical symptoms of depression include: moving or speaking more slowly than usual changes in appetite or weight (usually decreased, but sometimes increased) constipation unexplained aches and pains lack of energy low sex drive ( loss of libido ) disturbed sleep – for example, finding it difficult to fall asleep at night or waking up very early in the morning. Social symptoms The social symptoms of depression include: avoiding contact with friends and taking part in fewer social activities neglecting your hobbies and interests having difficulties in your home, work or family life. Severities of depression work or family life. Severities of depression Depression can often come on gradually, so it can be difficult to notice something is wrong. Many people try to cope with their symptoms without realising they're unwell. It can sometimes take a friend or family member to suggest something is wrong. Doctors describe depression in adults as either less severe (mild) or more severe (moderate or severe), based on: the symptoms, including how often you get symptoms and how bad they are how long depression lasts the impact on your daily life A few people with severe depression may have symptoms of psychosis . You'll usually be asked to answer a set of questions to help doctors assess how severe your condition is. Grief and depression It can be difficult to distinguish between\n",
      "\n",
      "\n"
     ]
    },
    {
     "name": "stderr",
     "output_type": "stream",
     "text": [
      "Token indices sequence length is longer than the specified maximum sequence length for this model (663 > 512). Running this sequence through the model will result in indexing errors\n"
     ]
    },
    {
     "name": "stdout",
     "output_type": "stream",
     "text": [
      "====================================================================================================\n",
      "LLM Response\n",
      "depression and grief\n",
      "====================================================================================================\n",
      "Collection name: mind_collection\n",
      "\u001b[1;35mLoad pretrained SentenceTransformer: hkunlp/instructor-base\u001b[0m\n",
      "load INSTRUCTOR_Transformer\n",
      "max_seq_length  512\n",
      "====================================================================================================\n",
      "LLM prompt\n",
      "Question: What lifestyle changes are suggested for depression?\n",
      "\n",
      "Context: with different aspects of your life. For example, it might affect your ability to work, your relationships, or managing your finances. This can add extra stress to an already difficult experience. It may also feel hard to explain your thoughts and feelings to others. You might want to cut yourself off from other people instead. This could lead to you feeling isolated and lonely. It feels like I'm stuck under a huge grey-black cloud. It's dark and isolating, smothering me at every opportunity. Can depression be a symptom of other mental health problems? Symptoms of depression can also be part of other mental health problems, such as: Bipolar disorder, Borderline personality disorder (BPD) and other personality disorders, Schizoaffective disorder. If you experience low more tobacco, alcohol or other drugs than usual Difficulty sleeping, or sleeping too much No appetite and losing weight, or eating more than usual and gaining weight Physical aches and pains with no obvious physical cause Moving very slowly, or being restless and agitated It felt like I was really tired, all the time. I had no energy or emotion about anything. Anxiety It's very common to experience depression and anxiety together. Some symptoms of depression can also be symptoms of anxiety, for example: Feeling restless, Finding it difficult to concentrate, Struggling to sleep I flit between states of anxiety and depression. At times, each seems to fuel the other. Self-harm and suicidal feelings If you're feeling low, you might self-harm to cope with difficult and what treatment you're likely to be offered. You may find that the severity of your depression changes over time.  Sometimes you might hear depression being called ‘major depressive disorder’. There are some other types of depression too:  Persistent depressive disorder (PDD). PDD is continuous depression that lasts for two years or more. You may also hear it called dysthymia or chronic depression. Seasonal affective disorder (SAD). SAD is depression that occurs at a particular time of year, or during a particular season. See our page on SAD for more information. Antenatal depression. This is depression that occurs while you are pregnant. It is sometimes called prenatal depression. Postnatal depression (PND). This is depression that occurs in the first year after Depression Learn about depression, its symptoms and possible causes, and how you can access treatment and support. Find tips on caring for yourself, and guidance for friends and family.  What is depression? Depression is a mental health problem that involves having a low mood or losing interest and enjoyment in things. It can also cause a range of other changes to how you feel or behave.  The symptoms you experience may vary. How intense they are, how long they last, and how much they affect your daily life can also vary.  If you experience milder depression, you might have low mood but still be able to carry on with your daily life. But things may feel harder and less worthwhile.  If you have more severe depression, you might find day-to-day life much more difficult.\n",
      "\n",
      "\n"
     ]
    },
    {
     "name": "stderr",
     "output_type": "stream",
     "text": [
      "Token indices sequence length is longer than the specified maximum sequence length for this model (681 > 512). Running this sequence through the model will result in indexing errors\n"
     ]
    },
    {
     "name": "stdout",
     "output_type": "stream",
     "text": [
      "====================================================================================================\n",
      "LLM Response\n",
      "cut yourself off from other people\n",
      "====================================================================================================\n",
      "Collection name: nhs_collection\n",
      "\u001b[1;35mLoad pretrained SentenceTransformer: hkunlp/instructor-base\u001b[0m\n",
      "load INSTRUCTOR_Transformer\n",
      "max_seq_length  512\n",
      "====================================================================================================\n",
      "LLM prompt\n",
      "Question: What lifestyle changes are suggested for depression?\n",
      "\n",
      "Context: of lifestyle changes, talking therapies and medicine. Your recommended treatment will be based on how severe your depression is. If you have mild depression, your doctor may suggest waiting to see whether it improves on its own, while monitoring your progress. This is known as \"watchful waiting\". They may also suggest lifestyle measures such as exercise and guided self-help. Talking therapies, such as cognitive behavioural therapy (CBT) , may also be used for mild depression. For moderate to severe depression, a combination of talking therapy and antidepressants is often recommended. If you have severe depression, you may be referred to a specialist mental health team for intensive specialist talking treatments and prescribed medicine. Living with depression Many prescribed medicine. Living with depression Many people with depression benefit by making lifestyle changes, such as getting more exercise , cutting down on alcohol , giving up smoking and eating healthily . Reading a self-help book or joining a support group are also worthwhile. They can help you gain a better understanding about what causes you to feel depressed. Sharing your experiences with others in a similar situation can also be very supportive. Information: Social care and support guide If you: need help with day-to-day living because of illness or disability care for someone regularly because they're ill or disabled, or because of their age – including family members Our social care and support guide explains your options and where you can get support. make decisions not getting any enjoyment out of life feeling anxious or worried having suicidal thoughts or thoughts of harming yourself. Physical symptoms The physical symptoms of depression include: moving or speaking more slowly than usual changes in appetite or weight (usually decreased, but sometimes increased) constipation unexplained aches and pains lack of energy low sex drive ( loss of libido ) disturbed sleep – for example, finding it difficult to fall asleep at night or waking up very early in the morning. Social symptoms The social symptoms of depression include: avoiding contact with friends and taking part in fewer social activities neglecting your hobbies and interests having difficulties in your home, work or family life. Severities of depression A low mood may improve after a short period of time, rather than being a sign of depression. When to see a doctor It's important to seek help from a GP if you think you may be depressed. Many people wait a long time before seeking help for depression, but it's best not to delay. The sooner you see a doctor, the sooner you can be on the way to recovery. What causes depression? Sometimes there's a trigger for depression. Life-changing events, such as bereavement, losing your job or giving birth, can bring it on. People with a family history of depression are more likely to experience it themselves. But you can also become depressed for no obvious reason. Treating depression Treatment for depression can involve a combination of lifestyle changes, talking therapies and\n",
      "\n",
      "\n"
     ]
    },
    {
     "name": "stderr",
     "output_type": "stream",
     "text": [
      "Token indices sequence length is longer than the specified maximum sequence length for this model (647 > 512). Running this sequence through the model will result in indexing errors\n"
     ]
    },
    {
     "name": "stdout",
     "output_type": "stream",
     "text": [
      "====================================================================================================\n",
      "LLM Response\n",
      "getting more exercise , cutting down on alcohol , giving up smoking and eating healthily\n",
      "====================================================================================================\n",
      "Collection name: mind_collection\n",
      "\u001b[1;35mLoad pretrained SentenceTransformer: hkunlp/instructor-base\u001b[0m\n",
      "load INSTRUCTOR_Transformer\n",
      "max_seq_length  512\n",
      "====================================================================================================\n",
      "LLM prompt\n",
      "Question: Are there different types of depressions?\n",
      "\n",
      "Context: and what treatment you're likely to be offered. You may find that the severity of your depression changes over time.  Sometimes you might hear depression being called ‘major depressive disorder’. There are some other types of depression too:  Persistent depressive disorder (PDD). PDD is continuous depression that lasts for two years or more. You may also hear it called dysthymia or chronic depression. Seasonal affective disorder (SAD). SAD is depression that occurs at a particular time of year, or during a particular season. See our page on SAD for more information. Antenatal depression. This is depression that occurs while you are pregnant. It is sometimes called prenatal depression. Postnatal depression (PND). This is depression that occurs in the first year after might find day-to-day life much more difficult. You may also experience suicidal feelings.  It starts as sadness then I feel myself shutting down, becoming less capable of coping. Eventually, I just feel numb and empty.  When does low mood become depression? We all have times when our mood is low, and we feel sad or fed up. Often these feelings happen for a reason and pass on their own.  But it might be depression if the feelings become so bad that they interfere with our daily life. Or if they last for several weeks or months.  Are there different types of depression? If you're diagnosed with depression, you might also be told that it is ‘less severe’ or ‘more severe’. This describes how your symptoms are affecting you, and what treatment you're likely to be offered. with different aspects of your life. For example, it might affect your ability to work, your relationships, or managing your finances. This can add extra stress to an already difficult experience. It may also feel hard to explain your thoughts and feelings to others. You might want to cut yourself off from other people instead. This could lead to you feeling isolated and lonely. It feels like I'm stuck under a huge grey-black cloud. It's dark and isolating, smothering me at every opportunity. Can depression be a symptom of other mental health problems? Symptoms of depression can also be part of other mental health problems, such as: Bipolar disorder, Borderline personality disorder (BPD) and other personality disorders, Schizoaffective disorder. If you experience low Depression Learn about depression, its symptoms and possible causes, and how you can access treatment and support. Find tips on caring for yourself, and guidance for friends and family.  What is depression? Depression is a mental health problem that involves having a low mood or losing interest and enjoyment in things. It can also cause a range of other changes to how you feel or behave.  The symptoms you experience may vary. How intense they are, how long they last, and how much they affect your daily life can also vary.  If you experience milder depression, you might have low mood but still be able to carry on with your daily life. But things may feel harder and less worthwhile.  If you have more severe depression, you might find day-to-day life much more difficult.\n",
      "\n",
      "\n"
     ]
    },
    {
     "name": "stderr",
     "output_type": "stream",
     "text": [
      "Token indices sequence length is longer than the specified maximum sequence length for this model (689 > 512). Running this sequence through the model will result in indexing errors\n"
     ]
    },
    {
     "name": "stdout",
     "output_type": "stream",
     "text": [
      "====================================================================================================\n",
      "LLM Response\n",
      "There are some other types of depression too: Persistent depressive disorder (PDD). PDD is continuous depression that lasts for two years or more. You may also hear it called dysthymia or chronic depression.\n",
      "====================================================================================================\n",
      "Collection name: nhs_collection\n",
      "\u001b[1;35mLoad pretrained SentenceTransformer: hkunlp/instructor-base\u001b[0m\n",
      "load INSTRUCTOR_Transformer\n",
      "max_seq_length  512\n",
      "====================================================================================================\n",
      "LLM prompt\n",
      "Question: Are there different types of depressions?\n",
      "\n",
      "Context: It can be difficult to distinguish between grief and depression. They share many of the same characteristics, but there are important differences between them. Grief is an entirely natural response to a loss, while depression is an illness. People who are grieving may have symptoms of depression, but they usually improve with time. For some people, bereavement can lead to depression. If you're grieving it's normal to have feelings of sadness. Some other symptoms of depression are rare with grief and bereavement, such as having suicidal thoughts, symptoms of psychosis and feeling hopeless or guilt-ridden. Other types of depression There are different types of depression, and some conditions where depression may be one of the symptoms. These include: postnatal depression the symptoms. These include: postnatal depression – sometimes new mothers, fathers or partners develop depression after they have a baby; this is known as postnatal depression and it's treated in a similar way to other types of depression, with talking therapies and antidepressant medicines bipolar disorder – also known as \"manic depression\", in bipolar disorder there are spells of both depression and excessively high mood (mania); the depression symptoms are similar to depression, but the bouts of mania can include harmful behaviour, such as gambling, going on spending sprees and having unsafe sex seasonal affective disorder (SAD) – also known as \"winter depression\", SAD is a type of depression with a seasonal pattern usually related to winter premenstrual dysphoric work or family life. Severities of depression Depression can often come on gradually, so it can be difficult to notice something is wrong. Many people try to cope with their symptoms without realising they're unwell. It can sometimes take a friend or family member to suggest something is wrong. Doctors describe depression in adults as either less severe (mild) or more severe (moderate or severe), based on: the symptoms, including how often you get symptoms and how bad they are how long depression lasts the impact on your daily life A few people with severe depression may have symptoms of psychosis . You'll usually be asked to answer a set of questions to help doctors assess how severe your condition is. Grief and depression It can be difficult to distinguish between Depression affects people in different ways and can cause a wide variety of symptoms. They range from lasting feelings of unhappiness and hopelessness, to losing interest in the things you used to enjoy and feeling very tearful. Many people with depression also have symptoms of anxiety . There can be physical symptoms too, such as feeling constantly tired, sleeping badly, having no appetite or sex drive, and various aches and pains. The symptoms of depression range from mild to severe. At its mildest, you may simply feel persistently low in spirit, while severe depression can make you feel suicidal, that life is no longer worth living. Most people experience feelings of stress, anxiety or low mood during difficult times. A low mood may improve after a short period of\n",
      "\n",
      "\n"
     ]
    },
    {
     "name": "stderr",
     "output_type": "stream",
     "text": [
      "Token indices sequence length is longer than the specified maximum sequence length for this model (669 > 512). Running this sequence through the model will result in indexing errors\n"
     ]
    },
    {
     "name": "stdout",
     "output_type": "stream",
     "text": [
      "====================================================================================================\n",
      "LLM Response\n",
      "Grief\n",
      "====================================================================================================\n"
     ]
    }
   ],
   "source": [
    "results_df = get_llm_prompt_response(QUESTIONS, enable_chunking = True, is_new_experiment = True, chunk_size = 780, chunk_overlap = 50)"
   ]
  },
  {
   "cell_type": "code",
   "execution_count": 32,
   "id": "6ff5a776-c472-40a3-ab67-7363b8c592e5",
   "metadata": {},
   "outputs": [
    {
     "data": {
      "text/html": [
       "<div>\n",
       "<style scoped>\n",
       "    .dataframe tbody tr th:only-of-type {\n",
       "        vertical-align: middle;\n",
       "    }\n",
       "\n",
       "    .dataframe tbody tr th {\n",
       "        vertical-align: top;\n",
       "    }\n",
       "\n",
       "    .dataframe thead th {\n",
       "        text-align: right;\n",
       "    }\n",
       "</style>\n",
       "<table border=\"1\" class=\"dataframe\">\n",
       "  <thead>\n",
       "    <tr style=\"text-align: right;\">\n",
       "      <th></th>\n",
       "      <th>mind_response</th>\n",
       "      <th>nhs_response</th>\n",
       "      <th>question</th>\n",
       "    </tr>\n",
       "  </thead>\n",
       "  <tbody>\n",
       "    <tr>\n",
       "      <th>0</th>\n",
       "      <td>It can also cause other mental health problems, such as: Bipolar disorder, Borderline personality disorder (BPD) and other personality disorders, Schizoaffective disorder.</td>\n",
       "      <td>depression and grief</td>\n",
       "      <td>Can you tell me about depression?</td>\n",
       "    </tr>\n",
       "    <tr>\n",
       "      <th>1</th>\n",
       "      <td>cut yourself off from other people</td>\n",
       "      <td>getting more exercise , cutting down on alcohol , giving up smoking and eating healthily</td>\n",
       "      <td>What lifestyle changes are suggested for depression?</td>\n",
       "    </tr>\n",
       "    <tr>\n",
       "      <th>2</th>\n",
       "      <td>There are some other types of depression too: Persistent depressive disorder (PDD). PDD is continuous depression that lasts for two years or more. You may also hear it called dysthymia or chronic depression.</td>\n",
       "      <td>Grief</td>\n",
       "      <td>Are there different types of depressions?</td>\n",
       "    </tr>\n",
       "  </tbody>\n",
       "</table>\n",
       "</div>"
      ],
      "text/plain": [
       "                                                                                                                                                                                                     mind_response  \\\n",
       "0                                      It can also cause other mental health problems, such as: Bipolar disorder, Borderline personality disorder (BPD) and other personality disorders, Schizoaffective disorder.   \n",
       "1                                                                                                                                                                               cut yourself off from other people   \n",
       "2  There are some other types of depression too: Persistent depressive disorder (PDD). PDD is continuous depression that lasts for two years or more. You may also hear it called dysthymia or chronic depression.   \n",
       "\n",
       "                                                                               nhs_response  \\\n",
       "0                                                                      depression and grief   \n",
       "1  getting more exercise , cutting down on alcohol , giving up smoking and eating healthily   \n",
       "2                                                                                     Grief   \n",
       "\n",
       "                                               question  \n",
       "0                     Can you tell me about depression?  \n",
       "1  What lifestyle changes are suggested for depression?  \n",
       "2             Are there different types of depressions?  "
      ]
     },
     "execution_count": 32,
     "metadata": {},
     "output_type": "execute_result"
    }
   ],
   "source": [
    "results_df"
   ]
  },
  {
   "cell_type": "code",
   "execution_count": 24,
   "id": "9a6f2dea-ac0f-475b-86f0-e95d61ae34ef",
   "metadata": {},
   "outputs": [
    {
     "name": "stdout",
     "output_type": "stream",
     "text": [
      "Found 2 collections\n",
      "\u001b[1;35mLoad pretrained SentenceTransformer: hkunlp/instructor-base\u001b[0m\n",
      "load INSTRUCTOR_Transformer\n",
      "max_seq_length  512\n",
      "Inserting data into collection nhs_collection\n",
      "Chunking enabled = True\n",
      "Using chunk_size=500 and chunk_overlap=50\n",
      "Inserting data into collection mind_collection\n",
      "Chunking enabled = True\n",
      "Using chunk_size=500 and chunk_overlap=50\n",
      "Time taken to insert data in chroma store 2.406398352000906 sec\n",
      "Collection name: mind_collection\n",
      "\u001b[1;35mLoad pretrained SentenceTransformer: hkunlp/instructor-base\u001b[0m\n",
      "load INSTRUCTOR_Transformer\n",
      "max_seq_length  512\n",
      "====================================================================================================\n",
      "LLM prompt\n",
      "Question: Can you tell me about depression?\n",
      "\n",
      "Context: Depression Learn about depression, its symptoms and possible causes, and how you can access treatment and support. Find tips on caring for yourself, and guidance for friends and family.  What is depression? Depression is a mental health problem that involves having a low mood or losing interest and enjoyment in things. It can also cause a range of other changes to how you feel or behave.  The symptoms you experience may vary. How intense they are, how long they last, and how much they affect your thoughts and feelings to others. You might want to cut yourself off from other people instead. This could lead to you feeling isolated and lonely. It feels like I'm stuck under a huge grey-black cloud. It's dark and isolating, smothering me at every opportunity. Can depression be a symptom of other mental health problems? Symptoms of depression can also be part of other mental health problems, such as: Bipolar disorder, Borderline personality disorder (BPD) and other personality disorders, are, how long they last, and how much they affect your daily life can also vary.  If you experience milder depression, you might have low mood but still be able to carry on with your daily life. But things may feel harder and less worthwhile.  If you have more severe depression, you might find day-to-day life much more difficult. You may also experience suicidal feelings.  It starts as sadness then I feel myself shutting down, becoming less capable of coping. Eventually, I just feel numb and for you. But discussing all of your symptoms with your doctor can help you get the right support and treatment. How might depression affect my day-to-day life? If you have depression, you might find that it interferes with different aspects of your life. For example, it might affect your ability to work, your relationships, or managing your finances. This can add extra stress to an already difficult experience. It may also feel hard to explain your thoughts and feelings to others. You might\n",
      "\n",
      "\n",
      "====================================================================================================\n",
      "LLM Response\n",
      "It can interfere with your ability to work, your relationships, or managing your finances.\n",
      "====================================================================================================\n",
      "Collection name: nhs_collection\n",
      "\u001b[1;35mLoad pretrained SentenceTransformer: hkunlp/instructor-base\u001b[0m\n",
      "load INSTRUCTOR_Transformer\n",
      "max_seq_length  512\n",
      "====================================================================================================\n",
      "LLM prompt\n",
      "Question: Can you tell me about depression?\n",
      "\n",
      "Context: The psychological symptoms of depression include: continuous low mood or sadness feeling hopeless and helpless having low self-esteem feeling tearful feeling guilt-ridden feeling irritable and intolerant of others having no motivation or interest in things finding it difficult to make decisions not getting any enjoyment out of life feeling anxious or worried having suicidal thoughts or thoughts of harming yourself. Physical symptoms The physical symptoms of depression include: moving or in the things you used to enjoy and feeling very tearful. Many people with depression also have symptoms of anxiety . There can be physical symptoms too, such as feeling constantly tired, sleeping badly, having no appetite or sex drive, and various aches and pains. The symptoms of depression range from mild to severe. At its mildest, you may simply feel persistently low in spirit, while severe depression can make you feel suicidal, that life is no longer worth living. Most people experience Overview - Depression in adults Depression is more than simply feeling unhappy or fed up for a few days. Most people go through periods of feeling down, but when you're depressed you feel persistently sad for weeks or months, rather than just a few days. Some people think depression is trivial and not a genuine health condition. They're wrong – it is a real illness with real symptoms. Depression is not a sign of weakness or something you can \"snap out of\" by \"pulling yourself together\". The good on the way to recovery. What causes depression? Sometimes there's a trigger for depression. Life-changing events, such as bereavement, losing your job or giving birth, can bring it on. People with a family history of depression are more likely to experience it themselves. But you can also become depressed for no obvious reason. Treating depression Treatment for depression can involve a combination of lifestyle changes, talking therapies and medicine. Your recommended treatment will be based on\n",
      "\n",
      "\n",
      "====================================================================================================\n",
      "LLM Response\n",
      "The psychological symptoms of depression include: continuous low mood or sadness feeling hopeless and helpless having low self-esteem feeling tearful feeling guilt-ridden feeling irritable and intolerant of others having no motivation or interest in things finding it difficult to make decisions not getting any enjoyment out of life feeling anxious or worried having suicidal thoughts or thoughts of harming yourself\n",
      "====================================================================================================\n",
      "Collection name: mind_collection\n",
      "\u001b[1;35mLoad pretrained SentenceTransformer: hkunlp/instructor-base\u001b[0m\n",
      "load INSTRUCTOR_Transformer\n",
      "max_seq_length  512\n",
      "====================================================================================================\n",
      "LLM prompt\n",
      "Question: What lifestyle changes are suggested for depression?\n",
      "\n",
      "Context: your thoughts and feelings to others. You might want to cut yourself off from other people instead. This could lead to you feeling isolated and lonely. It feels like I'm stuck under a huge grey-black cloud. It's dark and isolating, smothering me at every opportunity. Can depression be a symptom of other mental health problems? Symptoms of depression can also be part of other mental health problems, such as: Bipolar disorder, Borderline personality disorder (BPD) and other personality disorders, Feeling tired all the time How you might act Avoiding social events and activities you usually enjoy Self-harming or suicidal behaviour Difficulty speaking, thinking clearly or making decisions Losing interest in sex Difficulty remembering or concentrating on things Using more tobacco, alcohol or other drugs than usual Difficulty sleeping, or sleeping too much No appetite and losing weight, or eating more than usual and gaining weight Physical aches and pains with no obvious physical cause Depression Learn about depression, its symptoms and possible causes, and how you can access treatment and support. Find tips on caring for yourself, and guidance for friends and family.  What is depression? Depression is a mental health problem that involves having a low mood or losing interest and enjoyment in things. It can also cause a range of other changes to how you feel or behave.  The symptoms you experience may vary. How intense they are, how long they last, and how much they affect for you. But discussing all of your symptoms with your doctor can help you get the right support and treatment. How might depression affect my day-to-day life? If you have depression, you might find that it interferes with different aspects of your life. For example, it might affect your ability to work, your relationships, or managing your finances. This can add extra stress to an already difficult experience. It may also feel hard to explain your thoughts and feelings to others. You might\n",
      "\n",
      "\n",
      "====================================================================================================\n",
      "LLM Response\n",
      "Cut yourself off from other people instead\n",
      "====================================================================================================\n",
      "Collection name: nhs_collection\n",
      "\u001b[1;35mLoad pretrained SentenceTransformer: hkunlp/instructor-base\u001b[0m\n",
      "load INSTRUCTOR_Transformer\n",
      "max_seq_length  512\n",
      "====================================================================================================\n",
      "LLM prompt\n",
      "Question: What lifestyle changes are suggested for depression?\n",
      "\n",
      "Context: depression, a combination of talking therapy and antidepressants is often recommended. If you have severe depression, you may be referred to a specialist mental health team for intensive specialist talking treatments and prescribed medicine. Living with depression Many people with depression benefit by making lifestyle changes, such as getting more exercise , cutting down on alcohol , giving up smoking and eating healthily . Reading a self-help book or joining a support group are also on the way to recovery. What causes depression? Sometimes there's a trigger for depression. Life-changing events, such as bereavement, losing your job or giving birth, can bring it on. People with a family history of depression are more likely to experience it themselves. But you can also become depressed for no obvious reason. Treating depression Treatment for depression can involve a combination of lifestyle changes, talking therapies and medicine. Your recommended treatment will be based on Your recommended treatment will be based on how severe your depression is. If you have mild depression, your doctor may suggest waiting to see whether it improves on its own, while monitoring your progress. This is known as \"watchful waiting\". They may also suggest lifestyle measures such as exercise and guided self-help. Talking therapies, such as cognitive behavioural therapy (CBT) , may also be used for mild depression. For moderate to severe depression, a combination of talking therapy and book or joining a support group are also worthwhile. They can help you gain a better understanding about what causes you to feel depressed. Sharing your experiences with others in a similar situation can also be very supportive. Information: Social care and support guide If you: need help with day-to-day living because of illness or disability care for someone regularly because they're ill or disabled, or because of their age – including family members Our social care and support guide explains\n",
      "\n",
      "\n",
      "====================================================================================================\n",
      "LLM Response\n",
      "getting more exercise , cutting down on alcohol , giving up smoking and eating healthily\n",
      "====================================================================================================\n",
      "Collection name: mind_collection\n",
      "\u001b[1;35mLoad pretrained SentenceTransformer: hkunlp/instructor-base\u001b[0m\n",
      "load INSTRUCTOR_Transformer\n",
      "max_seq_length  512\n",
      "====================================================================================================\n",
      "LLM prompt\n",
      "Question: Are there different types of depressions?\n",
      "\n",
      "Context: are, how long they last, and how much they affect your daily life can also vary.  If you experience milder depression, you might have low mood but still be able to carry on with your daily life. But things may feel harder and less worthwhile.  If you have more severe depression, you might find day-to-day life much more difficult. You may also experience suicidal feelings.  It starts as sadness then I feel myself shutting down, becoming less capable of coping. Eventually, I just feel numb and might also be told that it is ‘less severe’ or ‘more severe’. This describes how your symptoms are affecting you, and what treatment you're likely to be offered. You may find that the severity of your depression changes over time.  Sometimes you might hear depression being called ‘major depressive disorder’. There are some other types of depression too:  Persistent depressive disorder (PDD). PDD is continuous depression that lasts for two years or more. You may also hear it called dysthymia or or more. You may also hear it called dysthymia or chronic depression. Seasonal affective disorder (SAD). SAD is depression that occurs at a particular time of year, or during a particular season. See our page on SAD for more information. Antenatal depression. This is depression that occurs while you are pregnant. It is sometimes called prenatal depression. Postnatal depression (PND). This is depression that occurs in the first year after having a baby. This can include affecting dads and of coping. Eventually, I just feel numb and empty.  When does low mood become depression? We all have times when our mood is low, and we feel sad or fed up. Often these feelings happen for a reason and pass on their own.  But it might be depression if the feelings become so bad that they interfere with our daily life. Or if they last for several weeks or months.  Are there different types of depression? If you're diagnosed with depression, you might also be told that it is ‘less severe’ or\n",
      "\n",
      "\n",
      "====================================================================================================\n",
      "LLM Response\n",
      "more severe\n",
      "====================================================================================================\n",
      "Collection name: nhs_collection\n",
      "\u001b[1;35mLoad pretrained SentenceTransformer: hkunlp/instructor-base\u001b[0m\n",
      "load INSTRUCTOR_Transformer\n",
      "max_seq_length  512\n",
      "====================================================================================================\n",
      "LLM prompt\n",
      "Question: Are there different types of depressions?\n",
      "\n",
      "Context: such as having suicidal thoughts, symptoms of psychosis and feeling hopeless or guilt-ridden. Other types of depression There are different types of depression, and some conditions where depression may be one of the symptoms. These include: postnatal depression – sometimes new mothers, fathers or partners develop depression after they have a baby; this is known as postnatal depression and it's treated in a similar way to other types of depression, with talking therapies and antidepressant with talking therapies and antidepressant medicines bipolar disorder – also known as \"manic depression\", in bipolar disorder there are spells of both depression and excessively high mood (mania); the depression symptoms are similar to depression, but the bouts of mania can include harmful behaviour, such as gambling, going on spending sprees and having unsafe sex seasonal affective disorder (SAD) – also known as \"winter depression\", SAD is a type of depression with a seasonal pattern usually less severe (mild) or more severe (moderate or severe), based on: the symptoms, including how often you get symptoms and how bad they are how long depression lasts the impact on your daily life A few people with severe depression may have symptoms of psychosis . You'll usually be asked to answer a set of questions to help doctors assess how severe your condition is. Grief and depression It can be difficult to distinguish between grief and depression. They share many of the same characteristics, taking part in fewer social activities neglecting your hobbies and interests having difficulties in your home, work or family life. Severities of depression Depression can often come on gradually, so it can be difficult to notice something is wrong. Many people try to cope with their symptoms without realising they're unwell. It can sometimes take a friend or family member to suggest something is wrong. Doctors describe depression in adults as either less severe (mild) or more severe (moderate\n",
      "\n",
      "\n",
      "====================================================================================================\n",
      "LLM Response\n",
      "There are different types of depression, and some conditions where depression may be one of the symptoms. These include:\n",
      "====================================================================================================\n"
     ]
    }
   ],
   "source": [
    "results_df = get_llm_prompt_response(QUESTIONS, enable_chunking = True, is_new_experiment = True, chunk_size = 500, chunk_overlap = 50)"
   ]
  },
  {
   "cell_type": "code",
   "execution_count": 25,
   "id": "dce113c6-05a5-4744-aef7-4a7dc7dd358a",
   "metadata": {},
   "outputs": [
    {
     "data": {
      "text/html": [
       "<div>\n",
       "<style scoped>\n",
       "    .dataframe tbody tr th:only-of-type {\n",
       "        vertical-align: middle;\n",
       "    }\n",
       "\n",
       "    .dataframe tbody tr th {\n",
       "        vertical-align: top;\n",
       "    }\n",
       "\n",
       "    .dataframe thead th {\n",
       "        text-align: right;\n",
       "    }\n",
       "</style>\n",
       "<table border=\"1\" class=\"dataframe\">\n",
       "  <thead>\n",
       "    <tr style=\"text-align: right;\">\n",
       "      <th></th>\n",
       "      <th>mind_response</th>\n",
       "      <th>nhs_response</th>\n",
       "      <th>question</th>\n",
       "    </tr>\n",
       "  </thead>\n",
       "  <tbody>\n",
       "    <tr>\n",
       "      <th>0</th>\n",
       "      <td>It can interfere with your ability to work, your relationships, or managing your finances.</td>\n",
       "      <td>The psychological symptoms of depression include: continuous low mood or sadness feeling hopeless and helpless having low self-esteem feeling tearful feeling guilt-ridden feeling irritable and intolerant of others having no motivation or interest in things finding it difficult to make decisions not getting any enjoyment out of life feeling anxious or worried having suicidal thoughts or thoughts of harming yourself</td>\n",
       "      <td>Can you tell me about depression?</td>\n",
       "    </tr>\n",
       "    <tr>\n",
       "      <th>1</th>\n",
       "      <td>Cut yourself off from other people instead</td>\n",
       "      <td>getting more exercise , cutting down on alcohol , giving up smoking and eating healthily</td>\n",
       "      <td>What lifestyle changes are suggested for depression?</td>\n",
       "    </tr>\n",
       "    <tr>\n",
       "      <th>2</th>\n",
       "      <td>more severe</td>\n",
       "      <td>There are different types of depression, and some conditions where depression may be one of the symptoms. These include:</td>\n",
       "      <td>Are there different types of depressions?</td>\n",
       "    </tr>\n",
       "  </tbody>\n",
       "</table>\n",
       "</div>"
      ],
      "text/plain": [
       "                                                                                mind_response  \\\n",
       "0  It can interfere with your ability to work, your relationships, or managing your finances.   \n",
       "1                                                  Cut yourself off from other people instead   \n",
       "2                                                                                 more severe   \n",
       "\n",
       "                                                                                                                                                                                                                                                                                                                                                                                                                        nhs_response  \\\n",
       "0  The psychological symptoms of depression include: continuous low mood or sadness feeling hopeless and helpless having low self-esteem feeling tearful feeling guilt-ridden feeling irritable and intolerant of others having no motivation or interest in things finding it difficult to make decisions not getting any enjoyment out of life feeling anxious or worried having suicidal thoughts or thoughts of harming yourself   \n",
       "1                                                                                                                                                                                                                                                                                                                                           getting more exercise , cutting down on alcohol , giving up smoking and eating healthily   \n",
       "2                                                                                                                                                                                                                                                                                                           There are different types of depression, and some conditions where depression may be one of the symptoms. These include:   \n",
       "\n",
       "                                               question  \n",
       "0                     Can you tell me about depression?  \n",
       "1  What lifestyle changes are suggested for depression?  \n",
       "2             Are there different types of depressions?  "
      ]
     },
     "execution_count": 25,
     "metadata": {},
     "output_type": "execute_result"
    }
   ],
   "source": [
    "results_df"
   ]
  },
  {
   "cell_type": "code",
   "execution_count": null,
   "id": "88820f1c-1c9b-4b51-a370-77047c2aa088",
   "metadata": {},
   "outputs": [],
   "source": []
  }
 ],
 "metadata": {
  "celltoolbar": "Edit Metadata",
  "kernelspec": {
   "display_name": "Python 3 (ipykernel)",
   "language": "python",
   "name": "python3"
  },
  "language_info": {
   "codemirror_mode": {
    "name": "ipython",
    "version": 3
   },
   "file_extension": ".py",
   "mimetype": "text/x-python",
   "name": "python",
   "nbconvert_exporter": "python",
   "pygments_lexer": "ipython3",
   "version": "3.10.5"
  }
 },
 "nbformat": 4,
 "nbformat_minor": 5
}
