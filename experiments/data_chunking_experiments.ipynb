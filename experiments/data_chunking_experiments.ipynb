{
 "cells": [
  {
   "cell_type": "code",
   "execution_count": 2,
   "id": "17827c32-758b-4ddf-88c0-f9101f467381",
   "metadata": {},
   "outputs": [],
   "source": [
    "import sys\n",
    "sys.path.append(\"../\")"
   ]
  },
  {
   "cell_type": "code",
   "execution_count": 3,
   "id": "84108c24-b698-4a91-8f52-4c335498224c",
   "metadata": {},
   "outputs": [
    {
     "ename": "ModuleNotFoundError",
     "evalue": "No module named 'pygit2'",
     "output_type": "error",
     "traceback": [
      "\u001b[0;31m---------------------------------------------------------------------------\u001b[0m",
      "\u001b[0;31mModuleNotFoundError\u001b[0m                       Traceback (most recent call last)",
      "Input \u001b[0;32mIn [3]\u001b[0m, in \u001b[0;36m<cell line: 1>\u001b[0;34m()\u001b[0m\n\u001b[0;32m----> 1\u001b[0m \u001b[38;5;28;01mfrom\u001b[39;00m \u001b[38;5;21;01mutils\u001b[39;00m\u001b[38;5;21;01m.\u001b[39;00m\u001b[38;5;21;01mtext_splitter\u001b[39;00m \u001b[38;5;28;01mimport\u001b[39;00m TextSplitter\n\u001b[1;32m      2\u001b[0m \u001b[38;5;28;01mfrom\u001b[39;00m \u001b[38;5;21;01mutils\u001b[39;00m\u001b[38;5;21;01m.\u001b[39;00m\u001b[38;5;21;01mchroma_store\u001b[39;00m \u001b[38;5;28;01mimport\u001b[39;00m ChromaStore\n\u001b[1;32m      3\u001b[0m \u001b[38;5;28;01mimport\u001b[39;00m \u001b[38;5;21;01mpandas\u001b[39;00m \u001b[38;5;28;01mas\u001b[39;00m \u001b[38;5;21;01mpd\u001b[39;00m\n",
      "File \u001b[0;32m~/MindGPT/experiments/../utils/__init__.py:3\u001b[0m, in \u001b[0;36m<module>\u001b[0;34m\u001b[0m\n\u001b[1;32m      1\u001b[0m \u001b[38;5;124;03m\"\"\"Utils module.\"\"\"\u001b[39;00m\n\u001b[0;32m----> 3\u001b[0m \u001b[38;5;28;01mfrom\u001b[39;00m \u001b[38;5;21;01m.\u001b[39;00m\u001b[38;5;21;01mdata_version_control\u001b[39;00m \u001b[38;5;28;01mimport\u001b[39;00m (\n\u001b[1;32m      4\u001b[0m     add_and_commit_dvc_files_to_git,\n\u001b[1;32m      5\u001b[0m     add_csv_files_to_dvc,\n\u001b[1;32m      6\u001b[0m     checkout_data_files,\n\u001b[1;32m      7\u001b[0m     get_active_branch_name,\n\u001b[1;32m      8\u001b[0m     git_checkout_folder,\n\u001b[1;32m      9\u001b[0m     pull_data,\n\u001b[1;32m     10\u001b[0m     push_and_tag_dvc_changes_to_git,\n\u001b[1;32m     11\u001b[0m     push_data,\n\u001b[1;32m     12\u001b[0m     version_new_data,\n\u001b[1;32m     13\u001b[0m )\n\u001b[1;32m     14\u001b[0m \u001b[38;5;28;01mfrom\u001b[39;00m \u001b[38;5;21;01m.\u001b[39;00m\u001b[38;5;21;01mmetric_database\u001b[39;00m \u001b[38;5;28;01mimport\u001b[39;00m DatabaseCredentials, DatabaseInterface, SQLQueries\n\u001b[1;32m     16\u001b[0m __all__ \u001b[38;5;241m=\u001b[39m [\n\u001b[1;32m     17\u001b[0m     \u001b[38;5;124m\"\u001b[39m\u001b[38;5;124mpull_data\u001b[39m\u001b[38;5;124m\"\u001b[39m,\n\u001b[1;32m     18\u001b[0m     \u001b[38;5;124m\"\u001b[39m\u001b[38;5;124mpush_data\u001b[39m\u001b[38;5;124m\"\u001b[39m,\n\u001b[0;32m   (...)\u001b[0m\n\u001b[1;32m     28\u001b[0m     \u001b[38;5;124m\"\u001b[39m\u001b[38;5;124mSQLQueries\u001b[39m\u001b[38;5;124m\"\u001b[39m,\n\u001b[1;32m     29\u001b[0m ]\n",
      "File \u001b[0;32m~/MindGPT/experiments/../utils/data_version_control.py:8\u001b[0m, in \u001b[0;36m<module>\u001b[0;34m\u001b[0m\n\u001b[1;32m      6\u001b[0m \u001b[38;5;28;01mimport\u001b[39;00m \u001b[38;5;21;01mgit\u001b[39;00m\n\u001b[1;32m      7\u001b[0m \u001b[38;5;28;01mfrom\u001b[39;00m \u001b[38;5;21;01mconfig\u001b[39;00m \u001b[38;5;28;01mimport\u001b[39;00m DATA_DIR, PROJECT_ROOT_DIR\n\u001b[0;32m----> 8\u001b[0m \u001b[38;5;28;01mfrom\u001b[39;00m \u001b[38;5;21;01mpygit2\u001b[39;00m \u001b[38;5;28;01mimport\u001b[39;00m Repository  \u001b[38;5;66;03m# type: ignore\u001b[39;00m\n\u001b[1;32m      9\u001b[0m \u001b[38;5;28;01mfrom\u001b[39;00m \u001b[38;5;21;01mzenml\u001b[39;00m\u001b[38;5;21;01m.\u001b[39;00m\u001b[38;5;21;01mlogger\u001b[39;00m \u001b[38;5;28;01mimport\u001b[39;00m get_logger\n\u001b[1;32m     11\u001b[0m logger \u001b[38;5;241m=\u001b[39m get_logger(\u001b[38;5;18m__name__\u001b[39m)\n",
      "\u001b[0;31mModuleNotFoundError\u001b[0m: No module named 'pygit2'"
     ]
    }
   ],
   "source": [
    "from utils.text_splitter import TextSplitter\n",
    "from utils.chroma_store import ChromaStore\n",
    "import pandas as pd\n",
    "import matplotlib.pyplot as plt"
   ]
  },
  {
   "cell_type": "code",
   "execution_count": null,
   "id": "10e8f885-2e9b-4257-bd0d-042c727ae453",
   "metadata": {},
   "outputs": [],
   "source": [
    "### Parameters\n",
    "USE_FULL_DATASET = False\n",
    "DEFAULT_EMBED_INSTRUCTION = \"Represent the document for retrieval: \"\n",
    "DEFAULT_QUERY_INSTRUCTION = (\n",
    "    \"Represent the question for retrieving supporting documents: \"\n",
    ")\n",
    "\n",
    "chroma_client = ChromaStore(chroma_server_hostname=\"localhost\", chroma_server_port=8000)\n",
    "\n",
    "EMBED_MODEL = \"hkunlp/instructor-base\"\n",
    "LLM_MODEL = \"google/flan-t5-base\"\n",
    "N_RESULTS = 4"
   ]
  },
  {
   "cell_type": "code",
   "execution_count": null,
   "id": "bc16acf4",
   "metadata": {},
   "outputs": [],
   "source": [
    "nhs_depression_cleaned_content=\"\"\"Overview - Depression in adults Depression is more than simply feeling unhappy or fed up for a few days. Most people go through periods of feeling down, but when you're depressed you feel persistently sad for weeks or months, rather than just a few days. Some people think depression is trivial and not a genuine health condition. They're wrong – it is a real illness with real symptoms. Depression is not a sign of weakness or something you can \"snap out of\" by \"pulling yourself together\". The good news is that with the right treatment and support, most people with depression can make a full recovery. These pages are about depression in adults. Read about depression in children and young people .\n",
    "\n",
    "How to tell if you have depression Depression affects people in different ways and can cause a wide variety of symptoms. They range from lasting feelings of unhappiness and hopelessness, to losing interest in the things you used to enjoy and feeling very tearful. Many people with depression also have symptoms of anxiety . There can be physical symptoms too, such as feeling constantly tired, sleeping badly, having no appetite or sex drive, and various aches and pains. The symptoms of depression range from mild to severe. At its mildest, you may simply feel persistently low in spirit, while severe depression can make you feel suicidal, that life is no longer worth living. Most people experience feelings of stress, anxiety or low mood during difficult times. A low mood may improve after a short period of time, rather than being a sign of depression.\n",
    "\n",
    "When to see a doctor It's important to seek help from a GP if you think you may be depressed. Many people wait a long time before seeking help for depression, but it's best not to delay. The sooner you see a doctor, the sooner you can be on the way to recovery.\n",
    "\n",
    "What causes depression? Sometimes there's a trigger for depression. Life-changing events, such as bereavement, losing your job or giving birth, can bring it on. People with a family history of depression are more likely to experience it themselves. But you can also become depressed for no obvious reason.\n",
    "\n",
    "Treating depression Treatment for depression can involve a combination of lifestyle changes, talking therapies and medicine. Your recommended treatment will be based on how severe your depression is. If you have mild depression, your doctor may suggest waiting to see whether it improves on its own, while monitoring your progress. This is known as \"watchful waiting\". They may also suggest lifestyle measures such as exercise and guided self-help. Talking therapies, such as cognitive behavioural therapy (CBT) , may also be used for mild depression. For moderate to severe depression, a combination of talking therapy and antidepressants is often recommended. If you have severe depression, you may be referred to a specialist mental health team for intensive specialist talking treatments and prescribed medicine.\n",
    "\n",
    "Living with depression Many people with depression benefit by making lifestyle changes, such as getting more exercise , cutting down on alcohol , giving up smoking and eating healthily . Reading a self-help book or joining a support group are also worthwhile. They can help you gain a better understanding about what causes you to feel depressed. Sharing your experiences with others in a similar situation can also be very supportive.\n",
    "\n",
    "Information: Social care and support guide If you:\n",
    "need help with day-to-day living because of illness or\n",
    "disability care for someone regularly because they're ill or disabled, or because of their age – including family members\n",
    "Our social care and support guide explains your options and where you can get support.\n",
    "\n",
    "Symptoms - Depression in adults The symptoms of depression can be complex and vary widely between people. If you're depressed, you may feel sad, hopeless and lose interest in things you used to enjoy. The symptoms persist for weeks or months and are bad enough to interfere with your work, social life and family life. There are many other symptoms of depression and you're unlikely to have all of those listed on this page.\n",
    "\n",
    "Psychological symptoms The psychological symptoms of depression include: continuous low mood or sadness feeling hopeless and helpless having low self-esteem feeling tearful feeling guilt-ridden feeling irritable and intolerant of others having no motivation or interest in things finding it difficult to make decisions not getting any enjoyment out of life feeling anxious or worried having suicidal thoughts or thoughts of harming yourself\n",
    "\n",
    "Physical symptoms The physical symptoms of depression include: moving or speaking more slowly than usual changes in appetite or weight (usually decreased, but sometimes increased) constipation unexplained aches and pains lack of energy low sex drive ( loss of libido ) disturbed sleep – for example, finding it difficult to fall asleep at night or waking up very early in the morning\n",
    "\n",
    "Social symptoms The social symptoms of depression include: avoiding contact with friends and taking part in fewer social activities neglecting your hobbies and interests having difficulties in your home, work or family life\n",
    "\n",
    "Severities of depression Depression can often come on gradually, so it can be difficult to notice something is wrong. Many people try to cope with their symptoms without realising they're unwell. It can sometimes take a friend or family member to suggest something is wrong. Doctors describe depression in adults as either less severe (mild) or more severe (moderate or severe), based on: the symptoms, including how often you get symptoms and how bad they are how long depression lasts the impact on your daily life A few people with severe depression may have symptoms of psychosis . You'll usually be asked to answer a set of questions to help doctors assess how severe your condition is.\n",
    "\n",
    "Grief and depression It can be difficult to distinguish between grief and depression. They share many of the same characteristics, but there are important differences between them. Grief is an entirely natural response to a loss, while depression is an illness. People who are grieving may have symptoms of depression, but they usually improve with time. For some people, bereavement can lead to depression. If you're grieving it's normal to have feelings of sadness. Some other symptoms of depression are rare with grief and bereavement, such as having suicidal thoughts, symptoms of psychosis and feeling hopeless or guilt-ridden.\n",
    "\n",
    "Other types of depression There are different types of depression, and some conditions where depression may be one of the symptoms. These include: postnatal depression – sometimes new mothers, fathers or partners develop depression after they have a baby; this is known as postnatal depression and it's treated in a similar way to other types of depression, with talking therapies and antidepressant medicines bipolar disorder – also known as \"manic depression\", in bipolar disorder there are spells of both depression and excessively high mood (mania); the depression symptoms are similar to depression, but the bouts of mania can include harmful behaviour, such as gambling, going on spending sprees and having unsafe sex seasonal affective disorder (SAD) – also known as \"winter depression\", SAD is a type of depression with a seasonal pattern usually related to winter premenstrual dysphoric disorder (PMDD) – a severe type of premenstrual syndrome (PMS) where you have symptoms including feelings of depression and anxiety in the weeks before your period\n",
    "\n",
    "When to seek help See a GP if you experience symptoms of depression for most of the day, every day, for more than 2 weeks. A low mood may improve after a short time.\n",
    "\"\"\"\n",
    "\n",
    "mind_depression_cleaned_content=\"\"\"Depression\n",
    "Learn about depression, its symptoms and possible causes, and how you can access treatment and support. Find tips on caring for yourself, and guidance for friends and family.\n",
    "\n",
    "What is depression?\n",
    "Depression is a mental health problem that involves having a low mood or losing interest and enjoyment in things. It can also cause a range of other changes to how you feel or behave.\n",
    "\n",
    "The symptoms you experience may vary. How intense they are, how long they last, and how much they affect your daily life can also vary.\n",
    "\n",
    "If you experience milder depression, you might have low mood but still be able to carry on with your daily life. But things may feel harder and less worthwhile.\n",
    "\n",
    "If you have more severe depression, you might find day-to-day life much more difficult. You may also experience suicidal feelings.\n",
    "\n",
    "It starts as sadness then I feel myself shutting down, becoming less capable of coping. Eventually, I just feel numb and empty.\n",
    "\n",
    "When does low mood become depression?\n",
    "We all have times when our mood is low, and we feel sad or fed up. Often these feelings happen for a reason and pass on their own.\n",
    "\n",
    "But it might be depression if the feelings become so bad that they interfere with our daily life. Or if they last for several weeks or months.\n",
    "\n",
    "Are there different types of depression?\n",
    "If you're diagnosed with depression, you might also be told that it is ‘less severe’ or ‘more severe’. This describes how your symptoms are affecting you, and what treatment you're likely to be offered. You may find that the severity of your depression changes over time.\n",
    "\n",
    "Sometimes you might hear depression being called ‘major depressive disorder’. There are some other types of depression too:\n",
    "\n",
    "Persistent depressive disorder (PDD). PDD is continuous depression that lasts for two years or more. You may also hear it called dysthymia or chronic depression.\n",
    "Seasonal affective disorder (SAD). SAD is depression that occurs at a particular time of year, or during a particular season. See our page on SAD for more information.\n",
    "Antenatal depression. This is depression that occurs while you are pregnant. It is sometimes called prenatal depression.\n",
    "Postnatal depression (PND). This is depression that occurs in the first year after having a baby. This can include affecting dads and partners.\n",
    "Premenstrual dysphoric disorder (PMDD). This is a hormone-related disorder that affects your body but also how you feel. This can involve experiencing depression. So your doctor may describe this as a mental health problem.\n",
    "\n",
    "\n",
    "Common signs and symptoms of depression\n",
    "These are some common signs of depression that you may experience:\n",
    "\n",
    "How you might feel\n",
    "Down, upset or tearful\n",
    "Restless, agitated or irritable\n",
    "Guilty, worthless and down on yourself\n",
    "Empty and numb\n",
    "Isolated and unable to relate to other people\n",
    "Finding no pleasure in life or things you usually enjoy\n",
    "Angry or frustrated over minor things\n",
    "A sense of unreality\n",
    "No self-confidence or self-esteem\n",
    "Hopeless and despairing\n",
    "Feeling tired all the time\n",
    "How you might act\n",
    "Avoiding social events and activities you usually enjoy\n",
    "Self-harming or suicidal behaviour\n",
    "Difficulty speaking, thinking clearly or making decisions\n",
    "Losing interest in sex\n",
    "Difficulty remembering or concentrating on things\n",
    "Using more tobacco, alcohol or other drugs than usual\n",
    "Difficulty sleeping, or sleeping too much\n",
    "No appetite and losing weight, or eating more than usual and gaining weight\n",
    "Physical aches and pains with no obvious physical cause\n",
    "Moving very slowly, or being restless and agitated\n",
    "It felt like I was really tired, all the time. I had no energy or emotion about anything.\n",
    "\n",
    "Anxiety\n",
    "It's very common to experience depression and anxiety together. Some symptoms of depression can also be symptoms of anxiety, for example:\n",
    "\n",
    "Feeling restless\n",
    "Finding it difficult to concentrate\n",
    "Struggling to sleep\n",
    "\n",
    "I flit between states of anxiety and depression. At times, each seems to fuel the other.\n",
    "\n",
    "Self-harm and suicidal feelings\n",
    "If you're feeling low, you might self-harm to cope with difficult feelings. Although this might make you feel better in the short term, self-harm can be very dangerous.\n",
    "\n",
    "When you're feeling really low and hopeless, you may also find yourself thinking about suicide. This could be thinking about the idea of suicide, or considering a plan to end your life. These thoughts can feel difficult to control, and can be very frightening.\n",
    "\n",
    "Psychotic symptoms\n",
    "If you experience depression, you might also experience some psychotic symptoms. These may include delusions, such as paranoia. Or they may be hallucinations, such as hearing voices.\n",
    "\n",
    "If you experience psychotic symptoms as part of depression, they're likely to be linked to your depressed thoughts and feelings. This may include experiencing delusions relating to feelings of guilt. For example, you might become convinced that you've committed a crime.\n",
    "\n",
    "These kinds of experiences can feel very real at the time. This might make it hard to understand that these experiences are also symptoms of your depression. And they can be frightening or upsetting, so it's important to seek treatment and support.\n",
    "\n",
    "You might worry that experiencing psychotic symptoms could mean you’re given a diagnosis that doesn’t feel right for you. But discussing all of your symptoms with your doctor can help you get the right support and treatment.\n",
    "\n",
    "How might depression affect my day-to-day life?\n",
    "If you have depression, you might find that it interferes with different aspects of your life. For example, it might affect your ability to work, your relationships, or managing your finances. This can add extra stress to an already difficult experience.\n",
    "\n",
    "It may also feel hard to explain your thoughts and feelings to others. You might want to cut yourself off from other people instead. This could lead to you feeling isolated and lonely.\n",
    "\n",
    "It feels like I'm stuck under a huge grey-black cloud. It's dark and isolating, smothering me at every opportunity.\n",
    "\n",
    "Can depression be a symptom of other mental health problems?\n",
    "Symptoms of depression can also be part of other mental health problems, such as:\n",
    "\n",
    "Bipolar disorder\n",
    "Borderline personality disorder (BPD) and other personality disorders\n",
    "Schizoaffective disorder\n",
    "\n",
    "If you experience low mood or suicidal thoughts, this might be the reason you first speak to your doctor about your mental health. And your doctor might offer you treatment for depression without realising that you also experience other symptoms.\n",
    "\n",
    "If you think you're experiencing other symptoms, you can talk to your doctor about this to make sure you're getting the right treatment.\n",
    "\"\"\"\n",
    "\n",
    "nhs_row = ['2576149a-d0a0-48bb-a7b4-03da36697900', nhs_depression_cleaned_content, '2023-07-21 14:42:40.264910', 'https://www.nhs.uk/mental-health/conditions/depression-in-adults/overview/']\n",
    "           \n",
    "mind_row = ['8531c8d9-9427-4844-9a50-ac3fe2479c67', mind_depression_cleaned_content, '2023-07-21 14:42:38.491223', 'https://www.mind.org.uk/information-support/types-of-mental-health-problems/depression/about-depression/']"
   ]
  },
  {
   "cell_type": "code",
   "execution_count": null,
   "id": "055730af-4c82-4c7e-881c-111a493848c4",
   "metadata": {},
   "outputs": [],
   "source": [
    "if USE_FULL_DATASET:\n",
    "    nhs_data = pd.read_csv('../data/nhs_data_validated.csv')\n",
    "    mind_data = pd.read_csv('../data/mind_data_validated.csv')\n",
    "else:\n",
    "    nhs_data =  pd.DataFrame([nhs_row], columns=['uuid', 'text_scraped', 'timestamp', 'url'])\n",
    "    mind_data =  pd.DataFrame([mind_row], columns=['uuid', 'text_scraped', 'timestamp', 'url'])\n",
    "    \n",
    "print(f\"Length of NHS dataset: {len(nhs_data)}\")\n",
    "print(f\"Length of Mind dataset: {len(mind_data)}\")"
   ]
  },
  {
   "cell_type": "code",
   "execution_count": 19,
   "id": "1f41656c-0cb6-4c49-885e-17be8fbfea70",
   "metadata": {},
   "outputs": [],
   "source": [
    "def add_chroma(use_embed_instruction: bool = False):\n",
    "    if use_embed_instruction:\n",
    "        ef_embed = embedding_functions.InstructorEmbeddingFunction(model_name=model_name, instruction=DEFAULT_EMBED_INSTRUCTION)\n",
    "    else:\n",
    "         ef_embed = embedding_functions.InstructorEmbeddingFunction(model_name=model_name, instruction=None)\n",
    "\n",
    "\n",
    "\n",
    "def query_chroma(query_text: str, use_query_instruction: bool = False):\n",
    "    if use_query_instruction:\n",
    "        ef_query = embedding_functions.InstructorEmbeddingFunction(model_name=model_name, instruction=DEFAULT_EMBED_INSTRUCTION)\n",
    "    else:\n",
    "        ef_query = embedding_functions.InstructorEmbeddingFunction(model_name=model_name, instruction=None)\n",
    "\n",
    "    result_dict = chroma_client.query_collection(\n",
    "        collection_name=collection_name,\n",
    "        query_texts=query_text,\n",
    "        n_results=N_RESULTS,\n",
    "        embedding_function=ef_query,\n",
    "    )\n",
    "    documents = \" \".join(result_dict[\"documents\"][0])\n",
    "\n",
    "\n",
    "def get_llm_prompt(query_text: str, enable_chunking: bool = False, is_new_experiment: bool = False):\n",
    "    pass"
   ]
  },
  {
   "cell_type": "markdown",
   "id": "45250dfd-4315-46dd-b19e-37b70967c8c2",
   "metadata": {},
   "source": [
    "## Distribution for lengths\n",
    "\n",
    "Run the following cells only if `USE_FULL_DATASET` is set to `True`."
   ]
  },
  {
   "cell_type": "markdown",
   "id": "c16ddb7b-ec29-4290-bc67-dd9c7bad3b83",
   "metadata": {},
   "source": [
    "### NHS dataset\n",
    "\n",
    "Average length of text in NHS dataset is 3751 words. Considering all texts are of the same length, we add these texts in vector store and get 4 nearest neighbours for query question. This puts length of context = 15004 words (3751 x 4)."
   ]
  },
  {
   "cell_type": "code",
   "execution_count": 11,
   "id": "78287143-9da5-44f9-9a8d-f97955b41a0b",
   "metadata": {},
   "outputs": [
    {
     "data": {
      "text/plain": [
       "Text(0.5, 0.98, 'Histogram for length distribution NHS data')"
      ]
     },
     "execution_count": 11,
     "metadata": {},
     "output_type": "execute_result"
    },
    {
     "data": {
      "image/png": "[encoded data removed]",
      "text/plain": [
       "<Figure size 640x480 with 1 Axes>"
      ]
     },
     "metadata": {},
     "output_type": "display_data"
    }
   ],
   "source": [
    "nhs_data['text_scraped'].apply(len).hist(grid=False)\n",
    "plt.suptitle(\"Histogram for length distribution NHS data\")"
   ]
  },
  {
   "cell_type": "code",
   "execution_count": 16,
   "id": "61c35131-f913-4a27-b24a-f66d43b9eaf8",
   "metadata": {},
   "outputs": [
    {
     "data": {
      "text/plain": [
       "count      222.000000\n",
       "mean      3751.572072\n",
       "std       2843.689290\n",
       "min         57.000000\n",
       "25%       1454.250000\n",
       "50%       3572.500000\n",
       "75%       5277.500000\n",
       "max      14656.000000\n",
       "Name: text_scraped, dtype: float64"
      ]
     },
     "execution_count": 16,
     "metadata": {},
     "output_type": "execute_result"
    }
   ],
   "source": [
    "nhs_data['text_scraped'].str.len().describe()"
   ]
  },
  {
   "cell_type": "markdown",
   "id": "cb1194d9-1a9a-4f66-add1-a4b9ab000607",
   "metadata": {},
   "source": [
    "### Mind dataset\n",
    "\n",
    "Average length of text in Mind dataset is 4965 words. Considering all texts are of the same length, we add these texts in vector store and get 4 nearest neighbours for query question. This puts length of context = 19860 words (4965 x 4)."
   ]
  },
  {
   "cell_type": "code",
   "execution_count": 12,
   "id": "d8628a3e-821f-4d02-bc82-bad2e559ae80",
   "metadata": {},
   "outputs": [
    {
     "data": {
      "text/plain": [
       "Text(0.5, 0.98, 'Histogram for length distribution Mind data')"
      ]
     },
     "execution_count": 12,
     "metadata": {},
     "output_type": "execute_result"
    },
    {
     "data": {
      "image/png": "[encoded data removed]",
      "text/plain": [
       "<Figure size 640x480 with 1 Axes>"
      ]
     },
     "metadata": {},
     "output_type": "display_data"
    }
   ],
   "source": [
    "mind_data['text_scraped'].apply(len).hist(grid=False)\n",
    "plt.suptitle(\"Histogram for length distribution Mind data\")"
   ]
  },
  {
   "cell_type": "code",
   "execution_count": 17,
   "id": "32e6416a-4cca-4192-b791-11e8311fb2c2",
   "metadata": {},
   "outputs": [
    {
     "data": {
      "text/plain": [
       "count      400.000000\n",
       "mean      4965.332500\n",
       "std       2633.483565\n",
       "min        415.000000\n",
       "25%       3190.250000\n",
       "50%       4307.000000\n",
       "75%       6111.000000\n",
       "max      25110.000000\n",
       "Name: text_scraped, dtype: float64"
      ]
     },
     "execution_count": 17,
     "metadata": {},
     "output_type": "execute_result"
    }
   ],
   "source": [
    "mind_data['text_scraped'].str.len().describe()"
   ]
  },
  {
   "cell_type": "code",
   "execution_count": null,
   "id": "dbcc0fcf-d9e9-43e7-94e3-01d72b405f74",
   "metadata": {},
   "outputs": [],
   "source": []
  },
  {
   "cell_type": "code",
   "execution_count": null,
   "id": "6ccfdc11-55ec-4d46-a9f2-e93c3bf7ca59",
   "metadata": {},
   "outputs": [],
   "source": []
  },
  {
   "cell_type": "code",
   "execution_count": null,
   "id": "6d7cd2dd-020d-46e1-8bd5-5a82dc2e927c",
   "metadata": {},
   "outputs": [],
   "source": []
  }
 ],
 "metadata": {
  "kernelspec": {
   "display_name": "Python 3 (ipykernel)",
   "language": "python",
   "name": "python3"
  },
  "language_info": {
   "codemirror_mode": {
    "name": "ipython",
    "version": 3
   },
   "file_extension": ".py",
   "mimetype": "text/x-python",
   "name": "python",
   "nbconvert_exporter": "python",
   "pygments_lexer": "ipython3",
   "version": "3.9.13"
  }
 },
 "nbformat": 4,
 "nbformat_minor": 5
}
