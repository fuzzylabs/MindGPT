{
 "cells": [
  {
   "cell_type": "code",
   "execution_count": 1,
   "metadata": {},
   "outputs": [],
   "source": [
    "import requests"
   ]
  },
  {
   "cell_type": "code",
   "execution_count": 14,
   "id": "dc771835",
   "metadata": {},
   "outputs": [],
   "source": [
    "METRIC_SERVICE_HOST = \"20.254.190.42\"\n",
    "METRIC_SERVICE_PORT = \"5000\"\n",
    "QUERY_READABILITY_ENDPOINT = \"/query_readability\"\n",
    "QUERY_EMBEDDING_DRIFT_ENDPOINT = \"/query_embedding_drift\""
   ]
  },
  {
   "cell_type": "code",
   "execution_count": 11,
   "id": "5994fcb4",
   "metadata": {},
   "outputs": [
    {
     "name": "stdout",
     "output_type": "stream",
     "text": [
      "Hello world from the metric service.\n"
     ]
    }
   ],
   "source": [
    "response = requests.get(f\"http://{METRIC_SERVICE_HOST}:{METRIC_SERVICE_PORT}\")\n",
    "print(response.text)"
   ]
  },
  {
   "cell_type": "code",
   "execution_count": 12,
   "id": "5f8684ca",
   "metadata": {},
   "outputs": [],
   "source": [
    "import pandas"
   ]
  },
  {
   "cell_type": "code",
   "execution_count": 18,
   "id": "83cf4f07",
   "metadata": {},
   "outputs": [
    {
     "name": "stdout",
     "output_type": "stream",
     "text": [
      "[[1,\"Fri, 11 Aug 2023 09:23:36 GMT\",93.81],[2,\"Fri, 11 Aug 2023 09:23:49 GMT\",116.15],[3,\"Fri, 11 Aug 2023 09:24:36 GMT\",104.64],[4,\"Fri, 11 Aug 2023 09:25:13 GMT\",82.65],[5,\"Fri, 11 Aug 2023 09:25:28 GMT\",119.19],[6,\"Fri, 11 Aug 2023 09:25:58 GMT\",69.28],[7,\"Fri, 11 Aug 2023 09:26:26 GMT\",66.33]]\n",
      "\n"
     ]
    }
   ],
   "source": [
    "response = requests.get(f\"http://{METRIC_SERVICE_HOST}:{METRIC_SERVICE_PORT}/{QUERY_READABILITY_ENDPOINT}\")\n",
    "readability_data = response.text"
   ]
  }
 ],
 "metadata": {
  "kernelspec": {
   "display_name": "mindgpt-JiFggUPm-py3.10",
   "language": "python",
   "name": "python3"
  },
  "language_info": {
   "codemirror_mode": {
    "name": "ipython",
    "version": 3
   },
   "file_extension": ".py",
   "mimetype": "text/x-python",
   "name": "python",
   "nbconvert_exporter": "python",
   "pygments_lexer": "ipython3",
   "version": "3.10.7"
  }
 },
 "nbformat": 4,
 "nbformat_minor": 5
}
